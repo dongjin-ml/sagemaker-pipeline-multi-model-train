{
 "cells": [
  {
   "cell_type": "markdown",
   "id": "d0e04914-d05e-47a9-ad6a-20df38074df8",
   "metadata": {},
   "source": [
    "# Cleanup"
   ]
  },
  {
   "cell_type": "markdown",
   "id": "419abdb7-9cd4-4ee5-9489-b5b0c01a82ef",
   "metadata": {},
   "source": [
    "## AutoReload"
   ]
  },
  {
   "cell_type": "code",
   "execution_count": 24,
   "id": "0f69ab15-f406-4484-895f-fd9ed5ec8b25",
   "metadata": {},
   "outputs": [],
   "source": [
    "%load_ext autoreload\n",
    "%autoreload 2"
   ]
  },
  {
   "cell_type": "code",
   "execution_count": 55,
   "id": "9b4851c5-3dbd-4619-89e8-a320cde83e91",
   "metadata": {},
   "outputs": [],
   "source": [
    "import os\n",
    "import time\n",
    "import boto3\n",
    "from utils.s3 import s3_handler\n",
    "from utils.ssm import parameter_store"
   ]
  },
  {
   "cell_type": "code",
   "execution_count": 33,
   "id": "bbba70c5-4079-4185-8ad8-d95aadf1b0fa",
   "metadata": {},
   "outputs": [],
   "source": [
    "strRegionName=boto3.Session().region_name\n",
    "pm = parameter_store(strRegionName)\n",
    "strPrefix = pm.get_params(key=\"PREFIX\")"
   ]
  },
  {
   "cell_type": "markdown",
   "id": "db284ccd-5cdb-49ee-94a0-027b3a285dec",
   "metadata": {},
   "source": [
    "## S3"
   ]
  },
  {
   "cell_type": "code",
   "execution_count": 34,
   "id": "955bdb72-e89a-4c2c-958e-a55f5e4dd396",
   "metadata": {},
   "outputs": [
    {
     "name": "stdout",
     "output_type": "stream",
     "text": [
      "This is a S3 handler with [ap-northeast-2] region.\n"
     ]
    }
   ],
   "source": [
    "s3 = s3_handler(region_name=pm.get_params(key=strPrefix + \"REGION\"))"
   ]
  },
  {
   "cell_type": "code",
   "execution_count": 42,
   "id": "6f470204-581f-4419-bf1d-a99321e56ebc",
   "metadata": {},
   "outputs": [],
   "source": [
    "strDataBucketName = \"sagemaker-ap-northeast-2-419974056037\""
   ]
  },
  {
   "cell_type": "code",
   "execution_count": 43,
   "id": "12c8985d-7a12-4dde-9fbe-6229e88fc5fb",
   "metadata": {},
   "outputs": [
    {
     "name": "stdout",
     "output_type": "stream",
     "text": [
      "DELETE: [sagemaker-ap-northeast-2-419974056037] Bucket was deleted successfully\n"
     ]
    },
    {
     "data": {
      "text/plain": [
       "True"
      ]
     },
     "execution_count": 43,
     "metadata": {},
     "output_type": "execute_result"
    }
   ],
   "source": [
    "s3.delete_bucket(bucket_name=strDataBucketName) ## delete bucket as well as objects"
   ]
  },
  {
   "cell_type": "markdown",
   "id": "a4625d3a-9c48-40b7-a03e-8a827b22541a",
   "metadata": {},
   "source": [
    "## pipeline"
   ]
  },
  {
   "cell_type": "code",
   "execution_count": 45,
   "id": "c23105e6-be6f-4ecf-8bfc-6cb949c66b0e",
   "metadata": {},
   "outputs": [],
   "source": [
    "nModels = 30"
   ]
  },
  {
   "cell_type": "code",
   "execution_count": 47,
   "id": "b20e3f5e-bdbe-4b75-93e9-56761cb8272c",
   "metadata": {
    "collapsed": true,
    "jupyter": {
     "outputs_hidden": true
    },
    "tags": []
   },
   "outputs": [
    {
     "name": "stdout",
     "output_type": "stream",
     "text": [
      "\n",
      "An error occurred (ResourceNotFound) when calling the DeletePipeline operation: Pipeline 'arn:aws:sagemaker:ap-northeast-2:419974056037:pipeline/train-pipeline-model-1' does not exist.\n",
      "\n",
      "An error occurred (ResourceNotFound) when calling the DeletePipeline operation: Pipeline 'arn:aws:sagemaker:ap-northeast-2:419974056037:pipeline/train-pipeline-model-2' does not exist.\n",
      "\n",
      "An error occurred (ResourceNotFound) when calling the DeletePipeline operation: Pipeline 'arn:aws:sagemaker:ap-northeast-2:419974056037:pipeline/train-pipeline-model-3' does not exist.\n",
      "\n",
      "An error occurred (ResourceNotFound) when calling the DeletePipeline operation: Pipeline 'arn:aws:sagemaker:ap-northeast-2:419974056037:pipeline/train-pipeline-model-4' does not exist.\n",
      "\n",
      "An error occurred (ResourceNotFound) when calling the DeletePipeline operation: Pipeline 'arn:aws:sagemaker:ap-northeast-2:419974056037:pipeline/train-pipeline-model-5' does not exist.\n",
      "\n",
      "An error occurred (ResourceNotFound) when calling the DeletePipeline operation: Pipeline 'arn:aws:sagemaker:ap-northeast-2:419974056037:pipeline/train-pipeline-model-6' does not exist.\n",
      "\n",
      "An error occurred (ResourceNotFound) when calling the DeletePipeline operation: Pipeline 'arn:aws:sagemaker:ap-northeast-2:419974056037:pipeline/train-pipeline-model-7' does not exist.\n",
      "\n",
      "An error occurred (ResourceNotFound) when calling the DeletePipeline operation: Pipeline 'arn:aws:sagemaker:ap-northeast-2:419974056037:pipeline/train-pipeline-model-8' does not exist.\n",
      "\n",
      "An error occurred (ResourceNotFound) when calling the DeletePipeline operation: Pipeline 'arn:aws:sagemaker:ap-northeast-2:419974056037:pipeline/train-pipeline-model-9' does not exist.\n",
      "\n",
      "An error occurred (ResourceNotFound) when calling the DeletePipeline operation: Pipeline 'arn:aws:sagemaker:ap-northeast-2:419974056037:pipeline/train-pipeline-model-10' does not exist.\n",
      "\n",
      "An error occurred (ResourceNotFound) when calling the DeletePipeline operation: Pipeline 'arn:aws:sagemaker:ap-northeast-2:419974056037:pipeline/train-pipeline-model-11' does not exist.\n",
      "\n",
      "An error occurred (ResourceNotFound) when calling the DeletePipeline operation: Pipeline 'arn:aws:sagemaker:ap-northeast-2:419974056037:pipeline/train-pipeline-model-12' does not exist.\n",
      "\n",
      "An error occurred (ResourceNotFound) when calling the DeletePipeline operation: Pipeline 'arn:aws:sagemaker:ap-northeast-2:419974056037:pipeline/train-pipeline-model-13' does not exist.\n",
      "\n",
      "An error occurred (ResourceNotFound) when calling the DeletePipeline operation: Pipeline 'arn:aws:sagemaker:ap-northeast-2:419974056037:pipeline/train-pipeline-model-14' does not exist.\n",
      "\n",
      "An error occurred (ResourceNotFound) when calling the DeletePipeline operation: Pipeline 'arn:aws:sagemaker:ap-northeast-2:419974056037:pipeline/train-pipeline-model-15' does not exist.\n",
      "\n",
      "An error occurred (ResourceNotFound) when calling the DeletePipeline operation: Pipeline 'arn:aws:sagemaker:ap-northeast-2:419974056037:pipeline/train-pipeline-model-16' does not exist.\n",
      "\n",
      "An error occurred (ResourceNotFound) when calling the DeletePipeline operation: Pipeline 'arn:aws:sagemaker:ap-northeast-2:419974056037:pipeline/train-pipeline-model-17' does not exist.\n",
      "\n",
      "An error occurred (ResourceNotFound) when calling the DeletePipeline operation: Pipeline 'arn:aws:sagemaker:ap-northeast-2:419974056037:pipeline/train-pipeline-model-18' does not exist.\n",
      "\n",
      "An error occurred (ResourceNotFound) when calling the DeletePipeline operation: Pipeline 'arn:aws:sagemaker:ap-northeast-2:419974056037:pipeline/train-pipeline-model-19' does not exist.\n",
      "\n",
      "An error occurred (ResourceNotFound) when calling the DeletePipeline operation: Pipeline 'arn:aws:sagemaker:ap-northeast-2:419974056037:pipeline/train-pipeline-model-20' does not exist.\n",
      "\n",
      "An error occurred (ResourceNotFound) when calling the DeletePipeline operation: Pipeline 'arn:aws:sagemaker:ap-northeast-2:419974056037:pipeline/train-pipeline-model-21' does not exist.\n",
      "\n",
      "An error occurred (ResourceNotFound) when calling the DeletePipeline operation: Pipeline 'arn:aws:sagemaker:ap-northeast-2:419974056037:pipeline/train-pipeline-model-22' does not exist.\n",
      "\n",
      "An error occurred (ResourceNotFound) when calling the DeletePipeline operation: Pipeline 'arn:aws:sagemaker:ap-northeast-2:419974056037:pipeline/train-pipeline-model-23' does not exist.\n",
      "\n",
      "An error occurred (ResourceNotFound) when calling the DeletePipeline operation: Pipeline 'arn:aws:sagemaker:ap-northeast-2:419974056037:pipeline/train-pipeline-model-24' does not exist.\n",
      "\n",
      "An error occurred (ResourceNotFound) when calling the DeletePipeline operation: Pipeline 'arn:aws:sagemaker:ap-northeast-2:419974056037:pipeline/train-pipeline-model-25' does not exist.\n",
      "\n",
      "An error occurred (ResourceNotFound) when calling the DeletePipeline operation: Pipeline 'arn:aws:sagemaker:ap-northeast-2:419974056037:pipeline/train-pipeline-model-26' does not exist.\n",
      "\n",
      "An error occurred (ResourceNotFound) when calling the DeletePipeline operation: Pipeline 'arn:aws:sagemaker:ap-northeast-2:419974056037:pipeline/train-pipeline-model-27' does not exist.\n",
      "\n",
      "An error occurred (ResourceNotFound) when calling the DeletePipeline operation: Pipeline 'arn:aws:sagemaker:ap-northeast-2:419974056037:pipeline/train-pipeline-model-28' does not exist.\n",
      "\n",
      "An error occurred (ResourceNotFound) when calling the DeletePipeline operation: Pipeline 'arn:aws:sagemaker:ap-northeast-2:419974056037:pipeline/train-pipeline-model-29' does not exist.\n",
      "{\n",
      "    \"PipelineArn\": \"arn:aws:sagemaker:ap-northeast-2:419974056037:pipeline/train-pipeline-model-30\"\n",
      "}\n"
     ]
    }
   ],
   "source": [
    "for nIdx in range(nModels):\n",
    "    strPipelineName = f\"train-pipeline-model-{nIdx+1}\"\n",
    "    !aws sagemaker delete-pipeline --pipeline-name $strPipelineName "
   ]
  },
  {
   "cell_type": "markdown",
   "id": "3435e1a0-68de-4750-a5b0-dd826d98d7a8",
   "metadata": {},
   "source": [
    "## Model registry"
   ]
  },
  {
   "cell_type": "code",
   "execution_count": 49,
   "id": "bbb44cfd-5c83-4f93-9754-552b7b1ee195",
   "metadata": {},
   "outputs": [],
   "source": [
    "sagemaker_client = boto3.client('sagemaker')"
   ]
  },
  {
   "cell_type": "code",
   "execution_count": 56,
   "id": "58f5960b-60c9-4315-8aea-da962a594f72",
   "metadata": {},
   "outputs": [],
   "source": [
    "def empty_and_delete_model_package(sagemaker_client, mpg_name):\n",
    "    mpg = sagemaker_client.list_model_packages(\n",
    "        ModelPackageGroupName=mpg_name,\n",
    "    )\n",
    "    \n",
    "    # Delete model packages if Group not empty\n",
    "    model_packages = mpg.get('ModelPackageSummaryList')\n",
    "    if model_packages:\n",
    "        for mp in model_packages:\n",
    "            sagemaker_client.delete_model_package(\n",
    "                ModelPackageName=mp['ModelPackageArn']\n",
    "            )\n",
    "            time.sleep(1)\n",
    "\n",
    "    # Delete model package group\n",
    "    sagemaker_client.delete_model_package_group(\n",
    "        ModelPackageGroupName=mpg_name\n",
    "    )"
   ]
  },
  {
   "cell_type": "code",
   "execution_count": 57,
   "id": "29144761-9a7b-4410-bf5d-9a369c97ef64",
   "metadata": {},
   "outputs": [],
   "source": [
    "nModels = 30"
   ]
  },
  {
   "cell_type": "code",
   "execution_count": 58,
   "id": "0b1bdc81-80bb-4595-9678-510cc44506c2",
   "metadata": {},
   "outputs": [],
   "source": [
    "for nIdx in range(nModels):\n",
    "    DeleteModelGroupName = f\"model-{nIdx+1}\"\n",
    "    empty_and_delete_model_package(sagemaker_client, DeleteModelGroupName)"
   ]
  },
  {
   "cell_type": "markdown",
   "id": "5fece63f-929b-4f2b-857a-73750f9d38f0",
   "metadata": {},
   "source": [
    "## Parameter store"
   ]
  },
  {
   "cell_type": "code",
   "execution_count": 59,
   "id": "c5694c76-8c88-46ee-acb9-2f82445d9cd7",
   "metadata": {},
   "outputs": [
    {
     "name": "stdout",
     "output_type": "stream",
     "text": [
      "  parameters: ['SM-PIPELINE-MULTI-MODELS-ACCOUNT-ID', 'SM-PIPELINE-MULTI-MODELS-DEFAULT-BUCKET', 'SM-PIPELINE-MULTI-MODELS-REGION', 'SM-PIPELINE-MULTI-MODELS-SAGEMAKER-ROLE-ARN', 'PREFIX'] is deleted successfully\n"
     ]
    }
   ],
   "source": [
    "listParams = pm.get_all_params()\n",
    "listParams = [strParam for strParam in listParams if strPrefix in strParam] + [\"PREFIX\"]\n",
    "pm.delete_param(listParams)"
   ]
  },
  {
   "cell_type": "code",
   "execution_count": null,
   "id": "c77669f6-e024-47ea-936e-525a3da72408",
   "metadata": {},
   "outputs": [],
   "source": []
  }
 ],
 "metadata": {
  "kernelspec": {
   "display_name": "conda_python3",
   "language": "python",
   "name": "conda_python3"
  },
  "language_info": {
   "codemirror_mode": {
    "name": "ipython",
    "version": 3
   },
   "file_extension": ".py",
   "mimetype": "text/x-python",
   "name": "python",
   "nbconvert_exporter": "python",
   "pygments_lexer": "ipython3",
   "version": "3.8.12"
  }
 },
 "nbformat": 4,
 "nbformat_minor": 5
}
