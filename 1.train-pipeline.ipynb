{
 "cells": [
  {
   "cell_type": "markdown",
   "id": "0fcce69a-2498-4a14-a0fa-0f6db2a141ce",
   "metadata": {},
   "source": [
    "# Train pipeline"
   ]
  },
  {
   "cell_type": "markdown",
   "id": "bc577894-780d-4f38-8b42-766ad6021a85",
   "metadata": {},
   "source": [
    "## AutoReload"
   ]
  },
  {
   "cell_type": "code",
   "execution_count": 1,
   "id": "37639da5-1033-45f8-8e49-9eb7037e6f4e",
   "metadata": {},
   "outputs": [],
   "source": [
    "%load_ext autoreload\n",
    "%autoreload 2"
   ]
  },
  {
   "cell_type": "markdown",
   "id": "60c58c84-7fa6-42f5-bb20-3a8a81d5925c",
   "metadata": {},
   "source": [
    "## 1. parameter store 셋팅"
   ]
  },
  {
   "cell_type": "code",
   "execution_count": 2,
   "id": "6a2cbc8e-3fac-4602-9bf8-513a73e865b6",
   "metadata": {},
   "outputs": [],
   "source": [
    "import boto3\n",
    "from utils.ssm import parameter_store"
   ]
  },
  {
   "cell_type": "code",
   "execution_count": 3,
   "id": "89a4021c-be4c-4ae3-b17b-b69a6c00ec55",
   "metadata": {},
   "outputs": [],
   "source": [
    "strRegionName=boto3.Session().region_name\n",
    "pm = parameter_store(strRegionName)\n",
    "strPrefix = pm.get_params(key=\"PREFIX\")"
   ]
  },
  {
   "cell_type": "markdown",
   "id": "86520421-cd0b-481b-b3d3-cb5f5e1e48bb",
   "metadata": {
    "tags": []
   },
   "source": [
    "## 2. training pipeline 만들기\n",
    "### Pipeline:\n",
    "* https://sagemaker-examples.readthedocs.io/en/latest/sagemaker-pipelines/index.html \n",
    "* https://sagemaker-examples.readthedocs.io/en/latest/sagemaker-pipeline-parameterization/parameterized-pipeline.html \n",
    "* https://sagemaker.readthedocs.io/en/stable/amazon_sagemaker_model_building_pipeline.html#id2\n",
    "\n",
    "### Increase quotas for ResourceLimitExceeded Error\n",
    "* https://aws.amazon.com/ko/premiumsupport/knowledge-center/sagemaker-resource-limit-exceeded-error/\n",
    "\n",
    "### Retry Policy\n",
    "* https://docs.aws.amazon.com/sagemaker/latest/dg/pipelines-retry-policy.html\n",
    "* parameters <br>\n",
    "    * *expire_after_mins:* <br>\n",
    "         - A positive integer that represents the maximum timespan of retry. <BR>\n",
    "         - If the error recurs after ExpireAfterMin minutes counting from the step gets executed, retries cease and normal error handling resumes. <BR>\n",
    "         - A value of 0 specifies that errors are never retried. ExpireAfterMin has a maximum value of 14,400 minutes (10 days) <BR>\n",
    "    * *interval_seconds:* <br>\n",
    "        - (optional)The number of seconds before the first retry attempt (1 by default). IntervalSeconds has a maximum value of 43200 seconds (12 hours). <BR>\n",
    "    * *backoff_rate:* <br>\n",
    "        - (optional): The multiplier by which the retry interval increases during each attempt (2.0 by default)."
   ]
  },
  {
   "cell_type": "code",
   "execution_count": 4,
   "id": "b65671dc-597b-4cec-9604-fdaac168a6d5",
   "metadata": {},
   "outputs": [],
   "source": [
    "import sagemaker\n",
    "from pprint import pprint\n",
    "from sagemaker.estimator import Estimator\n",
    "from sagemaker.inputs import TrainingInput\n",
    "from sagemaker.workflow.functions import Join\n",
    "from sagemaker.workflow.pipeline import Pipeline\n",
    "from sagemaker.tensorflow import TensorFlowProcessor\n",
    "from sagemaker.workflow.properties import PropertyFile\n",
    "from sagemaker.sklearn.processing import SKLearnProcessor\n",
    "from sagemaker.pytorch.processing import PyTorchProcessor\n",
    "from sagemaker.workflow.parameters import ParameterString\n",
    "from sagemaker.workflow.step_collections import RegisterModel\n",
    "from sagemaker.model_metrics import MetricsSource, ModelMetrics \n",
    "from sagemaker.workflow.pipeline_context import PipelineSession\n",
    "from sagemaker.processing import ProcessingInput, ProcessingOutput\n",
    "from sagemaker.workflow.execution_variables import ExecutionVariables\n",
    "from sagemaker.workflow.steps import CacheConfig, ProcessingStep, TrainingStep\n",
    "from sagemaker.tuner import IntegerParameter, CategoricalParameter, ContinuousParameter, HyperparameterTuner\n",
    "from sagemaker.workflow.retry import StepRetryPolicy, StepExceptionTypeEnum, SageMakerJobExceptionTypeEnum, SageMakerJobStepRetryPolicy"
   ]
  },
  {
   "cell_type": "code",
   "execution_count": 11,
   "id": "fa373371-c444-48aa-90cd-fc9d1bb027db",
   "metadata": {},
   "outputs": [],
   "source": [
    "class train_pipeline():\n",
    "    \n",
    "    def __init__(self, model_name): \n",
    "        \n",
    "        self.strModelName = model_name\n",
    "        self.strRegionName = boto3.Session().region_name\n",
    "        self.pm = parameter_store(self.strRegionName)\n",
    "        strPrefix = pm.get_params(key=\"PREFIX\")\n",
    "        \n",
    "        self.account_id = pm.get_params(key=strPrefix + \"ACCOUNT-ID\")\n",
    "        self.default_bucket = self.pm.get_params(key=strPrefix + \"DEFAULT-BUCKET\") # sagemaker.Session().default_bucket()\n",
    "        self.role = self.pm.get_params(key=strPrefix + \"SAGEMAKER-ROLE-ARN\")#self.args.config.get_value(\"ROLE\", \"sagemaker_execution_role\")\n",
    "        self.strInOutPrefix = '/opt/ml/processing' \n",
    "        self.pipeline_session = PipelineSession()\n",
    "        self.cache_config = CacheConfig(\n",
    "            enable_caching=False,\n",
    "            expire_after=\"T48H\"\n",
    "        )\n",
    "        self.pipeline_name = f\"train-pipeline-{self.strModelName}\"\n",
    "        self.model_image_uri = sagemaker.image_uris.retrieve(\"blazingtext\", self.strRegionName)\n",
    "        \n",
    "        print (f\"MODEL-NAME: {self.strModelName}\")\n",
    "        print (f'  Account-ID: {self.account_id}, \\n  Region: {self.strRegionName}, \\n  Role: {self.role}, \\n  Default_bucket: {self.default_bucket}')\n",
    "        print (f'  pipeline_session: {self.pipeline_session}')\n",
    "         \n",
    "    def _step_preprocessing(self, ):\n",
    "        \n",
    "        sklearn_processor = SKLearnProcessor(\n",
    "            framework_version=\"0.20.0\",\n",
    "            role=self.role,\n",
    "            instance_type=\"ml.m5.xlarge\",\n",
    "            instance_count=1,\n",
    "            base_job_name=\"preprocessing\", # bucket에 보이는 이름 (pipeline으로 묶으면 pipeline에서 정의한 이름으로 bucket에 보임)\n",
    "            sagemaker_session=self.pipeline_session ## Add\n",
    "        )\n",
    "        \n",
    "        step_args = sklearn_processor.run(\n",
    "            code='./sources/preprocessing/preprocessing.py',\n",
    "            inputs=[\n",
    "                ProcessingInput(\n",
    "                    source=f\"s3://{pm.get_params(key=strPrefix + 'DATA-BUCKET')}/{self.strModelName}/amazon_reviews_us_Electronics_v1_00.tsv.gz\",\n",
    "                    destination='/opt/ml/processing/input'\n",
    "                ),\n",
    "                ProcessingInput(\n",
    "                    input_name=\"requirements\",\n",
    "                    source='./sources/preprocessing/requirements.txt',\n",
    "                    destination=\"/opt/ml/processing/input/requirements\"\n",
    "                ),\n",
    "            ],\n",
    "            outputs=[\n",
    "                ProcessingOutput(\n",
    "                    output_name=\"train_data\",\n",
    "                    source='/opt/ml/processing/output/train',\n",
    "                    destination=Join(\n",
    "                        on=\"/\",\n",
    "                        values=[\n",
    "                            \"s3://{}\".format(self.default_bucket),\n",
    "                            self.pipeline_name,\n",
    "                            ExecutionVariables.PROCESSING_JOB_NAME,\n",
    "                            \"train_data\",\n",
    "                        ],\n",
    "                    ),\n",
    "                ),\n",
    "                ProcessingOutput(\n",
    "                    output_name=\"validation_data\",\n",
    "                    source='/opt/ml/processing/output/validation',\\\n",
    "                    destination=Join(\n",
    "                        on=\"/\",\n",
    "                        values=[\n",
    "                            \"s3://{}\".format(self.default_bucket),\n",
    "                            self.pipeline_name,\n",
    "                            ExecutionVariables.PROCESSING_JOB_NAME,\n",
    "                            \"validation_data\",\n",
    "                        ],\n",
    "                    ),\n",
    "                ),\n",
    "                ProcessingOutput(\n",
    "                    output_name=\"test_data\",\n",
    "                    source='/opt/ml/processing/output/test',\n",
    "                    destination=Join(\n",
    "                        on=\"/\",\n",
    "                        values=[\n",
    "                            \"s3://{}\".format(self.default_bucket),\n",
    "                            self.pipeline_name,\n",
    "                            ExecutionVariables.PROCESSING_JOB_NAME,\n",
    "                            \"test_data\",\n",
    "                        ],\n",
    "                    ),\n",
    "                )\n",
    "            ],\n",
    "            arguments=[\"--input_name\", \"amazon_reviews_us_Electronics_v1_00.tsv.gz\", \"--region\", strRegionName],\n",
    "            job_name=f\"preprocessing-{self.strModelName}\",\n",
    "        )\n",
    "        \n",
    "        self.preprocessing_process = ProcessingStep(\n",
    "            name=\"PreprocessingProcess\", ## Processing job이름\n",
    "            step_args=step_args,\n",
    "            cache_config=self.cache_config,\n",
    "            retry_policies=[                \n",
    "                # retry when resource limit quota gets exceeded\n",
    "                SageMakerJobStepRetryPolicy(\n",
    "                    exception_types=[SageMakerJobExceptionTypeEnum.RESOURCE_LIMIT],\n",
    "                    expire_after_mins=180,\n",
    "                    interval_seconds=600,\n",
    "                    backoff_rate=1.0\n",
    "                ),\n",
    "            ]\n",
    "        )\n",
    "        \n",
    "        print (\"  \\n== Preprocessing Step ==\")\n",
    "        print (\"   \\nArgs: \", self.preprocessing_process.arguments.items())\n",
    "        \n",
    "    def _step_training(self, ):\n",
    "        \n",
    "        max_jobs = 6\n",
    "        max_parallel_jobs = 3\n",
    "        objective_name = \"validation:accuracy\"\n",
    "        \n",
    "        self.estimator=Estimator(\n",
    "            image_uri=self.model_image_uri,\n",
    "            role=self.role, \n",
    "            instance_count=1,\n",
    "            instance_type=\"ml.m5.xlarge\",\n",
    "            volume_size=30,\n",
    "            max_run=360000,\n",
    "            input_mode= 'File',\n",
    "            output_path=Join(\n",
    "                on=\"/\",\n",
    "                values=[\n",
    "                    \"s3://{}\".format(self.default_bucket),\n",
    "                    self.pipeline_name,\n",
    "                ],\n",
    "            ),\n",
    "            sagemaker_session=self.pipeline_session ## add\n",
    "        )\n",
    "\n",
    "        self.estimator.set_hyperparameters(\n",
    "            mode=\"supervised\",\n",
    "            epochs=10,\n",
    "            min_epochs=5, # Min epochs before early stopping is introduced\n",
    "            early_stopping=True,\n",
    "            patience=2,\n",
    "            learning_rate=0.01,\n",
    "            min_count=2, # words that appear less than min_count are discarded \n",
    "            word_ngrams=2, # the number of word n-gram features to use.\n",
    "            vector_dim=16, # dimensions of embedding layer\n",
    "        ) \n",
    "        \n",
    "        step_training_args = self.estimator.fit(\n",
    "            inputs={\n",
    "                \"train\": TrainingInput(\n",
    "                    s3_data=self.preprocessing_process.properties.ProcessingOutputConfig.Outputs[\"train_data\"].S3Output.S3Uri,\n",
    "                    content_type=\"text/csv\"\n",
    "                ),\n",
    "                \"validation\": TrainingInput(\n",
    "                    s3_data=self.preprocessing_process.properties.ProcessingOutputConfig.Outputs[\"validation_data\"].S3Output.S3Uri,\n",
    "                    content_type=\"text/csv\"\n",
    "                )\n",
    "            },\n",
    "            logs=\"All\",\n",
    "        )\n",
    "          \n",
    "        self.training_process = TrainingStep(\n",
    "            name=f\"TrainingProcess\",\n",
    "            step_args=step_training_args,\n",
    "            cache_config=self.cache_config,\n",
    "            depends_on=[self.preprocessing_process],\n",
    "            retry_policies=[                \n",
    "                # retry when resource limit quota gets exceeded\n",
    "                SageMakerJobStepRetryPolicy(\n",
    "                    exception_types=[SageMakerJobExceptionTypeEnum.RESOURCE_LIMIT],\n",
    "                    expire_after_mins=180,\n",
    "                    interval_seconds=600,\n",
    "                    backoff_rate=1.0\n",
    "                ),\n",
    "            ]\n",
    "        )\n",
    "        \n",
    "        print (\"  \\n== Training Step ==\")\n",
    "        print (\"   \\nArgs: \", self.training_process.arguments.items())\n",
    "        \n",
    "    def _step_evaluation(self, ):\n",
    "        \n",
    "        eval_processor = TensorFlowProcessor(\n",
    "            framework_version='2.3',\n",
    "            role=self.role,\n",
    "            instance_type=\"ml.g4dn.xlarge\", \n",
    "            instance_count=1,\n",
    "            base_job_name='evaluation',\n",
    "            py_version='py37',\n",
    "            sagemaker_session=self.pipeline_session\n",
    "        )\n",
    "        \n",
    "        step_args = eval_processor.run(\n",
    "            job_name=\"evaluation\", # Evaluation job name. If not specified, the processor generates a default job name, based on the base job name and current timestamp.\n",
    "                                   # 이걸 넣어야 캐시가 작동함, 안그러면 프로세서의 base_job_name 이름뒤에 날짜 시간이 붙어서 캐시 동작 안함\n",
    "            code='./evaluation/evaluation.py', #소스 디렉토리 안에서 파일 path\n",
    "            source_dir=\"./sources/\", #현재 파일에서 소스 디렉토리 상대경로 # add script.py and requirements.txt here\n",
    "            \n",
    "            inputs=[\n",
    "                ProcessingInput(\n",
    "                    source=self.training_process.properties.ModelArtifacts.S3ModelArtifacts,\n",
    "                    destination=\"/opt/ml/processing/model\"\n",
    "                ), ## 모델을 \n",
    "                ProcessingInput(\n",
    "                    source=self.preprocessing_process.properties.ProcessingOutputConfig.Outputs[\"test_data\"].S3Output.S3Uri,\n",
    "                    destination=\"/opt/ml/processing/test\"\n",
    "                )\n",
    "            ],\n",
    "            outputs=[\n",
    "                ProcessingOutput(\n",
    "                    output_name=\"evaluation-metrics\",\n",
    "                    source=\"/opt/ml/processing/evaluation\",\n",
    "                    destination=Join(\n",
    "                        on=\"/\",\n",
    "                        values=[\n",
    "                            \"s3://{}\".format(self.default_bucket),\n",
    "                            self.pipeline_name,\n",
    "                            ExecutionVariables.PROCESSING_JOB_NAME,\n",
    "                            \"evaluation-metrics\",\n",
    "                        ],\n",
    "                    ),\n",
    "                )\n",
    "            ],\n",
    "            arguments=[\"--s3_model_path\", self.training_process.properties.ModelArtifacts.S3ModelArtifacts, \"--region\", self.strRegionName, \"--model_name\", self.strModelName]\n",
    "        )\n",
    "\n",
    "        self.evaluation_process = ProcessingStep(\n",
    "            name=\"EvaluationProcess\", ## Processing job이름\n",
    "            step_args=step_args,\n",
    "            cache_config=self.cache_config,\n",
    "            depends_on=[self.preprocessing_process, self.training_process],\n",
    "            retry_policies=[                \n",
    "                # retry when resource limit quota gets exceeded\n",
    "                SageMakerJobStepRetryPolicy(\n",
    "                    exception_types=[SageMakerJobExceptionTypeEnum.RESOURCE_LIMIT],\n",
    "                    expire_after_mins=180,\n",
    "                    interval_seconds=600,\n",
    "                    backoff_rate=1.0\n",
    "                ),\n",
    "            ]\n",
    "        )\n",
    "        \n",
    "        print (\"  \\n== Evaluation Step ==\")\n",
    "        print (\"   \\nArgs: \", self.evaluation_process.arguments.items())\n",
    "        \n",
    "    def _step_model_registration(self, ):\n",
    "      \n",
    "        self.model_package_group_name = self.strModelName\n",
    "                                                                              \n",
    "        model_metrics = ModelMetrics(\n",
    "            model_statistics=MetricsSource(\n",
    "                s3_uri=Join(\n",
    "                    on=\"/\",\n",
    "                    values=[\n",
    "                        self.evaluation_process.properties.ProcessingOutputConfig.Outputs[\"evaluation-metrics\"].S3Output.S3Uri, #print (self.evaluation_process.arguments.items())로 확인가능\n",
    "                        f\"evaluation-{self.strModelName}.json\"\n",
    "                    ],\n",
    "                ),\n",
    "                content_type=\"application/json\")\n",
    "        )\n",
    "                                       \n",
    "        self.register_process = RegisterModel(\n",
    "            name=\"ModelRegisterProcess\", ## Processing job이름\n",
    "            estimator=self.estimator,\n",
    "            image_uri=self.evaluation_process.properties.AppSpecification.ImageUri, #self.model_image_uri, \n",
    "            model_data=self.training_process.properties.ModelArtifacts.S3ModelArtifacts,\n",
    "            content_types=[\"text/csv\"],\n",
    "            response_types=[\"text/csv\"],\n",
    "            inference_instances=[\"ml.g4dn.xlarge\"],\n",
    "            transform_instances=[\"ml.g4dn.xlarge\"],\n",
    "            model_package_group_name=self.model_package_group_name,\n",
    "            approval_status=\"PendingManualApproval\", ## “Approved”, “Rejected”, or “PendingManualApproval” (default: “PendingManualApproval”).\n",
    "            model_metrics=model_metrics,\n",
    "            depends_on=[self.evaluation_process]\n",
    "        )\n",
    "        \n",
    "        print (\"  \\n== Registration Step ==\")\n",
    "        \n",
    "    def _get_pipeline(self, ):\n",
    "        \n",
    "        pipeline = Pipeline(\n",
    "            name=self.pipeline_name,\n",
    "            steps=[self.preprocessing_process, self.training_process, self.evaluation_process, self.register_process],\n",
    "            sagemaker_session=self.pipeline_session\n",
    "        )\n",
    "\n",
    "        return pipeline\n",
    "                            \n",
    "    def execution(self, ):\n",
    "        \n",
    "        self._step_preprocessing()\n",
    "        self._step_training()\n",
    "        self._step_evaluation()\n",
    "        self._step_model_registration()\n",
    "        \n",
    "        pipeline = self._get_pipeline()\n",
    "        pipeline.upsert(role_arn=self.role) ## Submit the pipeline definition to the SageMaker Pipelines service \n",
    "        execution = pipeline.start()\n",
    "        print (\"  \\n== PipeLine Execution info.==\")\n",
    "        print (execution.describe())\n",
    "        \n",
    "        print (\"========================== \\n\")"
   ]
  },
  {
   "cell_type": "markdown",
   "id": "704ee734-1333-4398-9f78-a97983070719",
   "metadata": {},
   "source": [
    "## 3. training pipeline 수행하기"
   ]
  },
  {
   "cell_type": "code",
   "execution_count": 12,
   "id": "9902b7c2-f992-46c6-be2b-5887010b9689",
   "metadata": {},
   "outputs": [],
   "source": [
    "nModels = 30"
   ]
  },
  {
   "cell_type": "code",
   "execution_count": 13,
   "id": "ba4b75fd-04b1-4694-a71c-cba94bd8048c",
   "metadata": {
    "collapsed": true,
    "jupyter": {
     "outputs_hidden": true
    },
    "tags": []
   },
   "outputs": [
    {
     "name": "stderr",
     "output_type": "stream",
     "text": [
      "INFO:sagemaker.image_uris:Same images used for training and inference. Defaulting to image scope: inference.\n",
      "INFO:sagemaker.image_uris:Defaulting to the only supported framework/algorithm version: 1.\n",
      "INFO:sagemaker.image_uris:Ignoring unnecessary instance type: None.\n",
      "INFO:sagemaker.image_uris:Defaulting to only available Python version: py3\n"
     ]
    },
    {
     "name": "stdout",
     "output_type": "stream",
     "text": [
      "MODEL-NAME: model-1\n",
      "  Account-ID: 419974056037, \n",
      "  Region: ap-northeast-2, \n",
      "  Role: arn:aws:iam::419974056037:role/service-role/AmazonSageMaker-ExecutionRole-20221004T162466, \n",
      "  Default_bucket: sagemaker-ap-northeast-2-419974056037\n",
      "  pipeline_session: <sagemaker.workflow.pipeline_context.PipelineSession object at 0x7f518571e340>\n",
      "  \n",
      "== Preprocessing Step ==\n"
     ]
    },
    {
     "name": "stderr",
     "output_type": "stream",
     "text": [
      "INFO:sagemaker.image_uris:image_uri is not presented, retrieving image_uri based on instance_type, framework etc.\n",
      "INFO:sagemaker.processing:Uploaded ./sources/ to s3://sagemaker-ap-northeast-2-419974056037/evaluation/source/sourcedir.tar.gz\n",
      "INFO:sagemaker.processing:runproc.sh uploaded to s3://sagemaker-ap-northeast-2-419974056037/evaluation/source/runproc.sh\n"
     ]
    },
    {
     "name": "stdout",
     "output_type": "stream",
     "text": [
      "\n",
      "Job Name:  preprocessing-model-1\n",
      "Inputs:  [{'InputName': 'input-1', 'AppManaged': False, 'S3Input': {'S3Uri': 's3://sm-pipeline-multi-models-datasets/model-1/amazon_reviews_us_Electronics_v1_00.tsv.gz', 'LocalPath': '/opt/ml/processing/input', 'S3DataType': 'S3Prefix', 'S3InputMode': 'File', 'S3DataDistributionType': 'FullyReplicated', 'S3CompressionType': 'None'}}, {'InputName': 'requirements', 'AppManaged': False, 'S3Input': {'S3Uri': 's3://sagemaker-ap-northeast-2-419974056037/preprocessing-model-1/input/requirements/requirements.txt', 'LocalPath': '/opt/ml/processing/input/requirements', 'S3DataType': 'S3Prefix', 'S3InputMode': 'File', 'S3DataDistributionType': 'FullyReplicated', 'S3CompressionType': 'None'}}, {'InputName': 'code', 'AppManaged': False, 'S3Input': {'S3Uri': 's3://sagemaker-ap-northeast-2-419974056037/preprocessing-model-1/input/code/preprocessing.py', 'LocalPath': '/opt/ml/processing/input/code', 'S3DataType': 'S3Prefix', 'S3InputMode': 'File', 'S3DataDistributionType': 'FullyReplicated', 'S3CompressionType': 'None'}}]\n",
      "Outputs:  [{'OutputName': 'train_data', 'AppManaged': False, 'S3Output': {'S3Uri': Join(on='/', values=['s3://sagemaker-ap-northeast-2-419974056037', 'train-pipeline-model-1', <sagemaker.workflow.execution_variables.ExecutionVariable object at 0x7f518847a3a0>, 'train_data']), 'LocalPath': '/opt/ml/processing/output/train', 'S3UploadMode': 'EndOfJob'}}, {'OutputName': 'validation_data', 'AppManaged': False, 'S3Output': {'S3Uri': Join(on='/', values=['s3://sagemaker-ap-northeast-2-419974056037', 'train-pipeline-model-1', <sagemaker.workflow.execution_variables.ExecutionVariable object at 0x7f518847a3a0>, 'validation_data']), 'LocalPath': '/opt/ml/processing/output/validation', 'S3UploadMode': 'EndOfJob'}}, {'OutputName': 'test_data', 'AppManaged': False, 'S3Output': {'S3Uri': Join(on='/', values=['s3://sagemaker-ap-northeast-2-419974056037', 'train-pipeline-model-1', <sagemaker.workflow.execution_variables.ExecutionVariable object at 0x7f518847a3a0>, 'test_data']), 'LocalPath': '/opt/ml/processing/output/test', 'S3UploadMode': 'EndOfJob'}}]\n",
      "   \n",
      "Args:  dict_items([('ProcessingResources', {'ClusterConfig': {'InstanceType': 'ml.m5.xlarge', 'InstanceCount': 1, 'VolumeSizeInGB': 30}}), ('AppSpecification', {'ImageUri': '366743142698.dkr.ecr.ap-northeast-2.amazonaws.com/sagemaker-scikit-learn:0.20.0-cpu-py3', 'ContainerArguments': ['--input_name', 'amazon_reviews_us_Electronics_v1_00.tsv.gz', '--region', 'ap-northeast-2'], 'ContainerEntrypoint': ['python3', '/opt/ml/processing/input/code/preprocessing.py']}), ('RoleArn', 'arn:aws:iam::419974056037:role/service-role/AmazonSageMaker-ExecutionRole-20221004T162466'), ('ProcessingInputs', [{'InputName': 'input-1', 'AppManaged': False, 'S3Input': {'S3Uri': 's3://sm-pipeline-multi-models-datasets/model-1/amazon_reviews_us_Electronics_v1_00.tsv.gz', 'LocalPath': '/opt/ml/processing/input', 'S3DataType': 'S3Prefix', 'S3InputMode': 'File', 'S3DataDistributionType': 'FullyReplicated', 'S3CompressionType': 'None'}}, {'InputName': 'requirements', 'AppManaged': False, 'S3Input': {'S3Uri': 's3://sagemaker-ap-northeast-2-419974056037/preprocessing-model-1/input/requirements/requirements.txt', 'LocalPath': '/opt/ml/processing/input/requirements', 'S3DataType': 'S3Prefix', 'S3InputMode': 'File', 'S3DataDistributionType': 'FullyReplicated', 'S3CompressionType': 'None'}}, {'InputName': 'code', 'AppManaged': False, 'S3Input': {'S3Uri': 's3://sagemaker-ap-northeast-2-419974056037/preprocessing-model-1/input/code/preprocessing.py', 'LocalPath': '/opt/ml/processing/input/code', 'S3DataType': 'S3Prefix', 'S3InputMode': 'File', 'S3DataDistributionType': 'FullyReplicated', 'S3CompressionType': 'None'}}]), ('ProcessingOutputConfig', {'Outputs': [{'OutputName': 'train_data', 'AppManaged': False, 'S3Output': {'S3Uri': Join(on='/', values=['s3://sagemaker-ap-northeast-2-419974056037', 'train-pipeline-model-1', <sagemaker.workflow.execution_variables.ExecutionVariable object at 0x7f518847a3a0>, 'train_data']), 'LocalPath': '/opt/ml/processing/output/train', 'S3UploadMode': 'EndOfJob'}}, {'OutputName': 'validation_data', 'AppManaged': False, 'S3Output': {'S3Uri': Join(on='/', values=['s3://sagemaker-ap-northeast-2-419974056037', 'train-pipeline-model-1', <sagemaker.workflow.execution_variables.ExecutionVariable object at 0x7f518847a3a0>, 'validation_data']), 'LocalPath': '/opt/ml/processing/output/validation', 'S3UploadMode': 'EndOfJob'}}, {'OutputName': 'test_data', 'AppManaged': False, 'S3Output': {'S3Uri': Join(on='/', values=['s3://sagemaker-ap-northeast-2-419974056037', 'train-pipeline-model-1', <sagemaker.workflow.execution_variables.ExecutionVariable object at 0x7f518847a3a0>, 'test_data']), 'LocalPath': '/opt/ml/processing/output/test', 'S3UploadMode': 'EndOfJob'}}]})])\n",
      "  \n",
      "== Training Step ==\n",
      "   \n",
      "Args:  dict_items([('AlgorithmSpecification', {'TrainingInputMode': 'File', 'TrainingImage': '306986355934.dkr.ecr.ap-northeast-2.amazonaws.com/blazingtext:1'}), ('OutputDataConfig', {'S3OutputPath': Join(on='/', values=['s3://sagemaker-ap-northeast-2-419974056037', 'train-pipeline-model-1'])}), ('StoppingCondition', {'MaxRuntimeInSeconds': 360000}), ('ResourceConfig', {'VolumeSizeInGB': 30, 'InstanceCount': 1, 'InstanceType': 'ml.m5.xlarge'}), ('RoleArn', 'arn:aws:iam::419974056037:role/service-role/AmazonSageMaker-ExecutionRole-20221004T162466'), ('InputDataConfig', [{'DataSource': {'S3DataSource': {'S3DataType': 'S3Prefix', 'S3Uri': <sagemaker.workflow.properties.Properties object at 0x7f518549a4c0>, 'S3DataDistributionType': 'FullyReplicated'}}, 'ContentType': 'text/csv', 'ChannelName': 'train'}, {'DataSource': {'S3DataSource': {'S3DataType': 'S3Prefix', 'S3Uri': <sagemaker.workflow.properties.Properties object at 0x7f518549a7f0>, 'S3DataDistributionType': 'FullyReplicated'}}, 'ContentType': 'text/csv', 'ChannelName': 'validation'}]), ('HyperParameters', {'mode': 'supervised', 'epochs': '10', 'min_epochs': '5', 'early_stopping': 'True', 'patience': '2', 'learning_rate': '0.01', 'min_count': '2', 'word_ngrams': '2', 'vector_dim': '16'}), ('DebugHookConfig', {'S3OutputPath': Join(on='/', values=['s3://sagemaker-ap-northeast-2-419974056037', 'train-pipeline-model-1']), 'CollectionConfigurations': []}), ('ProfilerConfig', {'S3OutputPath': Join(on='/', values=['s3://sagemaker-ap-northeast-2-419974056037', 'train-pipeline-model-1']), 'DisableProfiler': False})])\n",
      "  \n",
      "== Evaluation Step ==\n",
      "\n",
      "Job Name:  evaluation\n",
      "Inputs:  [{'InputName': 'input-1', 'AppManaged': False, 'S3Input': {'S3Uri': <sagemaker.workflow.properties.Properties object at 0x7f51874fb970>, 'LocalPath': '/opt/ml/processing/model', 'S3DataType': 'S3Prefix', 'S3InputMode': 'File', 'S3DataDistributionType': 'FullyReplicated', 'S3CompressionType': 'None'}}, {'InputName': 'input-2', 'AppManaged': False, 'S3Input': {'S3Uri': <sagemaker.workflow.properties.Properties object at 0x7f5187480f40>, 'LocalPath': '/opt/ml/processing/test', 'S3DataType': 'S3Prefix', 'S3InputMode': 'File', 'S3DataDistributionType': 'FullyReplicated', 'S3CompressionType': 'None'}}, {'InputName': 'code', 'AppManaged': False, 'S3Input': {'S3Uri': 's3://sagemaker-ap-northeast-2-419974056037/evaluation/source/sourcedir.tar.gz', 'LocalPath': '/opt/ml/processing/input/code/', 'S3DataType': 'S3Prefix', 'S3InputMode': 'File', 'S3DataDistributionType': 'FullyReplicated', 'S3CompressionType': 'None'}}, {'InputName': 'entrypoint', 'AppManaged': False, 'S3Input': {'S3Uri': 's3://sagemaker-ap-northeast-2-419974056037/evaluation/source/runproc.sh', 'LocalPath': '/opt/ml/processing/input/entrypoint', 'S3DataType': 'S3Prefix', 'S3InputMode': 'File', 'S3DataDistributionType': 'FullyReplicated', 'S3CompressionType': 'None'}}]\n",
      "Outputs:  [{'OutputName': 'evaluation-metrics', 'AppManaged': False, 'S3Output': {'S3Uri': Join(on='/', values=['s3://sagemaker-ap-northeast-2-419974056037', 'train-pipeline-model-1', <sagemaker.workflow.execution_variables.ExecutionVariable object at 0x7f518847a3a0>, 'evaluation-metrics']), 'LocalPath': '/opt/ml/processing/evaluation', 'S3UploadMode': 'EndOfJob'}}]\n",
      "   \n",
      "Args:  dict_items([('ProcessingResources', {'ClusterConfig': {'InstanceType': 'ml.g4dn.xlarge', 'InstanceCount': 1, 'VolumeSizeInGB': 30}}), ('AppSpecification', {'ImageUri': '763104351884.dkr.ecr.ap-northeast-2.amazonaws.com/tensorflow-training:2.3-gpu-py37', 'ContainerArguments': ['--s3_model_path', <sagemaker.workflow.properties.Properties object at 0x7f51874fb970>, '--region', 'ap-northeast-2', '--model_name', 'model-1'], 'ContainerEntrypoint': ['/bin/bash', '/opt/ml/processing/input/entrypoint/runproc.sh']}), ('RoleArn', 'arn:aws:iam::419974056037:role/service-role/AmazonSageMaker-ExecutionRole-20221004T162466'), ('ProcessingInputs', [{'InputName': 'input-1', 'AppManaged': False, 'S3Input': {'S3Uri': <sagemaker.workflow.properties.Properties object at 0x7f51874fb970>, 'LocalPath': '/opt/ml/processing/model', 'S3DataType': 'S3Prefix', 'S3InputMode': 'File', 'S3DataDistributionType': 'FullyReplicated', 'S3CompressionType': 'None'}}, {'InputName': 'input-2', 'AppManaged': False, 'S3Input': {'S3Uri': <sagemaker.workflow.properties.Properties object at 0x7f5187480f40>, 'LocalPath': '/opt/ml/processing/test', 'S3DataType': 'S3Prefix', 'S3InputMode': 'File', 'S3DataDistributionType': 'FullyReplicated', 'S3CompressionType': 'None'}}, {'InputName': 'code', 'AppManaged': False, 'S3Input': {'S3Uri': 's3://sagemaker-ap-northeast-2-419974056037/evaluation/source/sourcedir.tar.gz', 'LocalPath': '/opt/ml/processing/input/code/', 'S3DataType': 'S3Prefix', 'S3InputMode': 'File', 'S3DataDistributionType': 'FullyReplicated', 'S3CompressionType': 'None'}}, {'InputName': 'entrypoint', 'AppManaged': False, 'S3Input': {'S3Uri': 's3://sagemaker-ap-northeast-2-419974056037/evaluation/source/runproc.sh', 'LocalPath': '/opt/ml/processing/input/entrypoint', 'S3DataType': 'S3Prefix', 'S3InputMode': 'File', 'S3DataDistributionType': 'FullyReplicated', 'S3CompressionType': 'None'}}]), ('ProcessingOutputConfig', {'Outputs': [{'OutputName': 'evaluation-metrics', 'AppManaged': False, 'S3Output': {'S3Uri': Join(on='/', values=['s3://sagemaker-ap-northeast-2-419974056037', 'train-pipeline-model-1', <sagemaker.workflow.execution_variables.ExecutionVariable object at 0x7f518847a3a0>, 'evaluation-metrics']), 'LocalPath': '/opt/ml/processing/evaluation', 'S3UploadMode': 'EndOfJob'}}]})])\n",
      "  \n",
      "== Registration Step ==\n"
     ]
    },
    {
     "name": "stderr",
     "output_type": "stream",
     "text": [
      "INFO:sagemaker.processing:Uploaded ./sources/ to s3://sagemaker-ap-northeast-2-419974056037/train-pipeline-model-1/code/eabace17c9345271cf901107138b46a8/sourcedir.tar.gz\n"
     ]
    },
    {
     "name": "stdout",
     "output_type": "stream",
     "text": [
      "\n",
      "Job Name:  preprocessing-model-1\n",
      "Inputs:  [{'InputName': 'input-1', 'AppManaged': False, 'S3Input': {'S3Uri': 's3://sm-pipeline-multi-models-datasets/model-1/amazon_reviews_us_Electronics_v1_00.tsv.gz', 'LocalPath': '/opt/ml/processing/input', 'S3DataType': 'S3Prefix', 'S3InputMode': 'File', 'S3DataDistributionType': 'FullyReplicated', 'S3CompressionType': 'None'}}, {'InputName': 'requirements', 'AppManaged': False, 'S3Input': {'S3Uri': 's3://sagemaker-ap-northeast-2-419974056037/preprocessing-model-1/input/requirements/requirements.txt', 'LocalPath': '/opt/ml/processing/input/requirements', 'S3DataType': 'S3Prefix', 'S3InputMode': 'File', 'S3DataDistributionType': 'FullyReplicated', 'S3CompressionType': 'None'}}, {'InputName': 'code', 'AppManaged': False, 'S3Input': {'S3Uri': 's3://sagemaker-ap-northeast-2-419974056037/train-pipeline-model-1/code/2b3c51df48188408561910efa21ddc30/preprocessing.py', 'LocalPath': '/opt/ml/processing/input/code', 'S3DataType': 'S3Prefix', 'S3InputMode': 'File', 'S3DataDistributionType': 'FullyReplicated', 'S3CompressionType': 'None'}}]\n",
      "Outputs:  [{'OutputName': 'train_data', 'AppManaged': False, 'S3Output': {'S3Uri': Join(on='/', values=['s3://sagemaker-ap-northeast-2-419974056037', 'train-pipeline-model-1', <sagemaker.workflow.execution_variables.ExecutionVariable object at 0x7f518847a3a0>, 'train_data']), 'LocalPath': '/opt/ml/processing/output/train', 'S3UploadMode': 'EndOfJob'}}, {'OutputName': 'validation_data', 'AppManaged': False, 'S3Output': {'S3Uri': Join(on='/', values=['s3://sagemaker-ap-northeast-2-419974056037', 'train-pipeline-model-1', <sagemaker.workflow.execution_variables.ExecutionVariable object at 0x7f518847a3a0>, 'validation_data']), 'LocalPath': '/opt/ml/processing/output/validation', 'S3UploadMode': 'EndOfJob'}}, {'OutputName': 'test_data', 'AppManaged': False, 'S3Output': {'S3Uri': Join(on='/', values=['s3://sagemaker-ap-northeast-2-419974056037', 'train-pipeline-model-1', <sagemaker.workflow.execution_variables.ExecutionVariable object at 0x7f518847a3a0>, 'test_data']), 'LocalPath': '/opt/ml/processing/output/test', 'S3UploadMode': 'EndOfJob'}}]\n"
     ]
    },
    {
     "name": "stderr",
     "output_type": "stream",
     "text": [
      "INFO:sagemaker.processing:runproc.sh uploaded to s3://sagemaker-ap-northeast-2-419974056037/train-pipeline-model-1/code/1071dadab36d48ed1fba97e2ff137bdf/runproc.sh\n",
      "WARNING:sagemaker.estimator:No finished training job found associated with this estimator. Please make sure this estimator is only used for building workflow config\n",
      "WARNING:sagemaker.workflow._utils:Popping out 'CertifyForMarketplace' from the pipeline definition since it will be overridden in pipeline execution time.\n"
     ]
    },
    {
     "name": "stdout",
     "output_type": "stream",
     "text": [
      "\n",
      "Job Name:  evaluation\n",
      "Inputs:  [{'InputName': 'input-1', 'AppManaged': False, 'S3Input': {'S3Uri': <sagemaker.workflow.properties.Properties object at 0x7f51874fb970>, 'LocalPath': '/opt/ml/processing/model', 'S3DataType': 'S3Prefix', 'S3InputMode': 'File', 'S3DataDistributionType': 'FullyReplicated', 'S3CompressionType': 'None'}}, {'InputName': 'input-2', 'AppManaged': False, 'S3Input': {'S3Uri': <sagemaker.workflow.properties.Properties object at 0x7f5187480f40>, 'LocalPath': '/opt/ml/processing/test', 'S3DataType': 'S3Prefix', 'S3InputMode': 'File', 'S3DataDistributionType': 'FullyReplicated', 'S3CompressionType': 'None'}}, {'InputName': 'code', 'AppManaged': False, 'S3Input': {'S3Uri': 's3://sagemaker-ap-northeast-2-419974056037/train-pipeline-model-1/code/eabace17c9345271cf901107138b46a8/sourcedir.tar.gz', 'LocalPath': '/opt/ml/processing/input/code/', 'S3DataType': 'S3Prefix', 'S3InputMode': 'File', 'S3DataDistributionType': 'FullyReplicated', 'S3CompressionType': 'None'}}, {'InputName': 'entrypoint', 'AppManaged': False, 'S3Input': {'S3Uri': 's3://sagemaker-ap-northeast-2-419974056037/train-pipeline-model-1/code/1071dadab36d48ed1fba97e2ff137bdf/runproc.sh', 'LocalPath': '/opt/ml/processing/input/entrypoint', 'S3DataType': 'S3Prefix', 'S3InputMode': 'File', 'S3DataDistributionType': 'FullyReplicated', 'S3CompressionType': 'None'}}]\n",
      "Outputs:  [{'OutputName': 'evaluation-metrics', 'AppManaged': False, 'S3Output': {'S3Uri': Join(on='/', values=['s3://sagemaker-ap-northeast-2-419974056037', 'train-pipeline-model-1', <sagemaker.workflow.execution_variables.ExecutionVariable object at 0x7f518847a3a0>, 'evaluation-metrics']), 'LocalPath': '/opt/ml/processing/evaluation', 'S3UploadMode': 'EndOfJob'}}]\n",
      "  \n",
      "== PipeLine Execution info.==\n",
      "{'PipelineArn': 'arn:aws:sagemaker:ap-northeast-2:419974056037:pipeline/train-pipeline-model-1', 'PipelineExecutionArn': 'arn:aws:sagemaker:ap-northeast-2:419974056037:pipeline/train-pipeline-model-1/execution/cobbbksnxg35', 'PipelineExecutionDisplayName': 'execution-1674699078674', 'PipelineExecutionStatus': 'Executing', 'CreationTime': datetime.datetime(2023, 1, 26, 2, 11, 18, 569000, tzinfo=tzlocal()), 'LastModifiedTime': datetime.datetime(2023, 1, 26, 2, 11, 18, 569000, tzinfo=tzlocal()), 'CreatedBy': {}, 'LastModifiedBy': {}, 'ResponseMetadata': {'RequestId': 'f4dca149-40aa-4192-992b-f33c412b3406', 'HTTPStatusCode': 200, 'HTTPHeaders': {'x-amzn-requestid': 'f4dca149-40aa-4192-992b-f33c412b3406', 'content-type': 'application/x-amz-json-1.1', 'content-length': '419', 'date': 'Thu, 26 Jan 2023 02:11:18 GMT'}, 'RetryAttempts': 0}}\n",
      "========================== \n",
      "\n"
     ]
    },
    {
     "name": "stderr",
     "output_type": "stream",
     "text": [
      "INFO:sagemaker.image_uris:Same images used for training and inference. Defaulting to image scope: inference.\n",
      "INFO:sagemaker.image_uris:Defaulting to the only supported framework/algorithm version: 1.\n",
      "INFO:sagemaker.image_uris:Ignoring unnecessary instance type: None.\n",
      "INFO:sagemaker.image_uris:Defaulting to only available Python version: py3\n"
     ]
    },
    {
     "name": "stdout",
     "output_type": "stream",
     "text": [
      "MODEL-NAME: model-2\n",
      "  Account-ID: 419974056037, \n",
      "  Region: ap-northeast-2, \n",
      "  Role: arn:aws:iam::419974056037:role/service-role/AmazonSageMaker-ExecutionRole-20221004T162466, \n",
      "  Default_bucket: sagemaker-ap-northeast-2-419974056037\n",
      "  pipeline_session: <sagemaker.workflow.pipeline_context.PipelineSession object at 0x7f5187ba22e0>\n",
      "  \n",
      "== Preprocessing Step ==\n"
     ]
    },
    {
     "name": "stderr",
     "output_type": "stream",
     "text": [
      "INFO:sagemaker.image_uris:image_uri is not presented, retrieving image_uri based on instance_type, framework etc.\n",
      "INFO:sagemaker.processing:Uploaded ./sources/ to s3://sagemaker-ap-northeast-2-419974056037/evaluation/source/sourcedir.tar.gz\n"
     ]
    },
    {
     "name": "stdout",
     "output_type": "stream",
     "text": [
      "\n",
      "Job Name:  preprocessing-model-2\n",
      "Inputs:  [{'InputName': 'input-1', 'AppManaged': False, 'S3Input': {'S3Uri': 's3://sm-pipeline-multi-models-datasets/model-2/amazon_reviews_us_Electronics_v1_00.tsv.gz', 'LocalPath': '/opt/ml/processing/input', 'S3DataType': 'S3Prefix', 'S3InputMode': 'File', 'S3DataDistributionType': 'FullyReplicated', 'S3CompressionType': 'None'}}, {'InputName': 'requirements', 'AppManaged': False, 'S3Input': {'S3Uri': 's3://sagemaker-ap-northeast-2-419974056037/preprocessing-model-2/input/requirements/requirements.txt', 'LocalPath': '/opt/ml/processing/input/requirements', 'S3DataType': 'S3Prefix', 'S3InputMode': 'File', 'S3DataDistributionType': 'FullyReplicated', 'S3CompressionType': 'None'}}, {'InputName': 'code', 'AppManaged': False, 'S3Input': {'S3Uri': 's3://sagemaker-ap-northeast-2-419974056037/preprocessing-model-2/input/code/preprocessing.py', 'LocalPath': '/opt/ml/processing/input/code', 'S3DataType': 'S3Prefix', 'S3InputMode': 'File', 'S3DataDistributionType': 'FullyReplicated', 'S3CompressionType': 'None'}}]\n",
      "Outputs:  [{'OutputName': 'train_data', 'AppManaged': False, 'S3Output': {'S3Uri': Join(on='/', values=['s3://sagemaker-ap-northeast-2-419974056037', 'train-pipeline-model-2', <sagemaker.workflow.execution_variables.ExecutionVariable object at 0x7f518847a3a0>, 'train_data']), 'LocalPath': '/opt/ml/processing/output/train', 'S3UploadMode': 'EndOfJob'}}, {'OutputName': 'validation_data', 'AppManaged': False, 'S3Output': {'S3Uri': Join(on='/', values=['s3://sagemaker-ap-northeast-2-419974056037', 'train-pipeline-model-2', <sagemaker.workflow.execution_variables.ExecutionVariable object at 0x7f518847a3a0>, 'validation_data']), 'LocalPath': '/opt/ml/processing/output/validation', 'S3UploadMode': 'EndOfJob'}}, {'OutputName': 'test_data', 'AppManaged': False, 'S3Output': {'S3Uri': Join(on='/', values=['s3://sagemaker-ap-northeast-2-419974056037', 'train-pipeline-model-2', <sagemaker.workflow.execution_variables.ExecutionVariable object at 0x7f518847a3a0>, 'test_data']), 'LocalPath': '/opt/ml/processing/output/test', 'S3UploadMode': 'EndOfJob'}}]\n",
      "   \n",
      "Args:  dict_items([('ProcessingResources', {'ClusterConfig': {'InstanceType': 'ml.m5.xlarge', 'InstanceCount': 1, 'VolumeSizeInGB': 30}}), ('AppSpecification', {'ImageUri': '366743142698.dkr.ecr.ap-northeast-2.amazonaws.com/sagemaker-scikit-learn:0.20.0-cpu-py3', 'ContainerArguments': ['--input_name', 'amazon_reviews_us_Electronics_v1_00.tsv.gz', '--region', 'ap-northeast-2'], 'ContainerEntrypoint': ['python3', '/opt/ml/processing/input/code/preprocessing.py']}), ('RoleArn', 'arn:aws:iam::419974056037:role/service-role/AmazonSageMaker-ExecutionRole-20221004T162466'), ('ProcessingInputs', [{'InputName': 'input-1', 'AppManaged': False, 'S3Input': {'S3Uri': 's3://sm-pipeline-multi-models-datasets/model-2/amazon_reviews_us_Electronics_v1_00.tsv.gz', 'LocalPath': '/opt/ml/processing/input', 'S3DataType': 'S3Prefix', 'S3InputMode': 'File', 'S3DataDistributionType': 'FullyReplicated', 'S3CompressionType': 'None'}}, {'InputName': 'requirements', 'AppManaged': False, 'S3Input': {'S3Uri': 's3://sagemaker-ap-northeast-2-419974056037/preprocessing-model-2/input/requirements/requirements.txt', 'LocalPath': '/opt/ml/processing/input/requirements', 'S3DataType': 'S3Prefix', 'S3InputMode': 'File', 'S3DataDistributionType': 'FullyReplicated', 'S3CompressionType': 'None'}}, {'InputName': 'code', 'AppManaged': False, 'S3Input': {'S3Uri': 's3://sagemaker-ap-northeast-2-419974056037/preprocessing-model-2/input/code/preprocessing.py', 'LocalPath': '/opt/ml/processing/input/code', 'S3DataType': 'S3Prefix', 'S3InputMode': 'File', 'S3DataDistributionType': 'FullyReplicated', 'S3CompressionType': 'None'}}]), ('ProcessingOutputConfig', {'Outputs': [{'OutputName': 'train_data', 'AppManaged': False, 'S3Output': {'S3Uri': Join(on='/', values=['s3://sagemaker-ap-northeast-2-419974056037', 'train-pipeline-model-2', <sagemaker.workflow.execution_variables.ExecutionVariable object at 0x7f518847a3a0>, 'train_data']), 'LocalPath': '/opt/ml/processing/output/train', 'S3UploadMode': 'EndOfJob'}}, {'OutputName': 'validation_data', 'AppManaged': False, 'S3Output': {'S3Uri': Join(on='/', values=['s3://sagemaker-ap-northeast-2-419974056037', 'train-pipeline-model-2', <sagemaker.workflow.execution_variables.ExecutionVariable object at 0x7f518847a3a0>, 'validation_data']), 'LocalPath': '/opt/ml/processing/output/validation', 'S3UploadMode': 'EndOfJob'}}, {'OutputName': 'test_data', 'AppManaged': False, 'S3Output': {'S3Uri': Join(on='/', values=['s3://sagemaker-ap-northeast-2-419974056037', 'train-pipeline-model-2', <sagemaker.workflow.execution_variables.ExecutionVariable object at 0x7f518847a3a0>, 'test_data']), 'LocalPath': '/opt/ml/processing/output/test', 'S3UploadMode': 'EndOfJob'}}]})])\n",
      "  \n",
      "== Training Step ==\n",
      "   \n",
      "Args:  dict_items([('AlgorithmSpecification', {'TrainingInputMode': 'File', 'TrainingImage': '306986355934.dkr.ecr.ap-northeast-2.amazonaws.com/blazingtext:1'}), ('OutputDataConfig', {'S3OutputPath': Join(on='/', values=['s3://sagemaker-ap-northeast-2-419974056037', 'train-pipeline-model-2'])}), ('StoppingCondition', {'MaxRuntimeInSeconds': 360000}), ('ResourceConfig', {'VolumeSizeInGB': 30, 'InstanceCount': 1, 'InstanceType': 'ml.m5.xlarge'}), ('RoleArn', 'arn:aws:iam::419974056037:role/service-role/AmazonSageMaker-ExecutionRole-20221004T162466'), ('InputDataConfig', [{'DataSource': {'S3DataSource': {'S3DataType': 'S3Prefix', 'S3Uri': <sagemaker.workflow.properties.Properties object at 0x7f51852bf640>, 'S3DataDistributionType': 'FullyReplicated'}}, 'ContentType': 'text/csv', 'ChannelName': 'train'}, {'DataSource': {'S3DataSource': {'S3DataType': 'S3Prefix', 'S3Uri': <sagemaker.workflow.properties.Properties object at 0x7f51852bf340>, 'S3DataDistributionType': 'FullyReplicated'}}, 'ContentType': 'text/csv', 'ChannelName': 'validation'}]), ('HyperParameters', {'mode': 'supervised', 'epochs': '10', 'min_epochs': '5', 'early_stopping': 'True', 'patience': '2', 'learning_rate': '0.01', 'min_count': '2', 'word_ngrams': '2', 'vector_dim': '16'}), ('DebugHookConfig', {'S3OutputPath': Join(on='/', values=['s3://sagemaker-ap-northeast-2-419974056037', 'train-pipeline-model-2']), 'CollectionConfigurations': []}), ('ProfilerConfig', {'S3OutputPath': Join(on='/', values=['s3://sagemaker-ap-northeast-2-419974056037', 'train-pipeline-model-2']), 'DisableProfiler': False})])\n",
      "  \n",
      "== Evaluation Step ==\n"
     ]
    },
    {
     "name": "stderr",
     "output_type": "stream",
     "text": [
      "INFO:sagemaker.processing:runproc.sh uploaded to s3://sagemaker-ap-northeast-2-419974056037/evaluation/source/runproc.sh\n"
     ]
    },
    {
     "name": "stdout",
     "output_type": "stream",
     "text": [
      "\n",
      "Job Name:  evaluation\n",
      "Inputs:  [{'InputName': 'input-1', 'AppManaged': False, 'S3Input': {'S3Uri': <sagemaker.workflow.properties.Properties object at 0x7f51853601c0>, 'LocalPath': '/opt/ml/processing/model', 'S3DataType': 'S3Prefix', 'S3InputMode': 'File', 'S3DataDistributionType': 'FullyReplicated', 'S3CompressionType': 'None'}}, {'InputName': 'input-2', 'AppManaged': False, 'S3Input': {'S3Uri': <sagemaker.workflow.properties.Properties object at 0x7f5185360310>, 'LocalPath': '/opt/ml/processing/test', 'S3DataType': 'S3Prefix', 'S3InputMode': 'File', 'S3DataDistributionType': 'FullyReplicated', 'S3CompressionType': 'None'}}, {'InputName': 'code', 'AppManaged': False, 'S3Input': {'S3Uri': 's3://sagemaker-ap-northeast-2-419974056037/evaluation/source/sourcedir.tar.gz', 'LocalPath': '/opt/ml/processing/input/code/', 'S3DataType': 'S3Prefix', 'S3InputMode': 'File', 'S3DataDistributionType': 'FullyReplicated', 'S3CompressionType': 'None'}}, {'InputName': 'entrypoint', 'AppManaged': False, 'S3Input': {'S3Uri': 's3://sagemaker-ap-northeast-2-419974056037/evaluation/source/runproc.sh', 'LocalPath': '/opt/ml/processing/input/entrypoint', 'S3DataType': 'S3Prefix', 'S3InputMode': 'File', 'S3DataDistributionType': 'FullyReplicated', 'S3CompressionType': 'None'}}]\n",
      "Outputs:  [{'OutputName': 'evaluation-metrics', 'AppManaged': False, 'S3Output': {'S3Uri': Join(on='/', values=['s3://sagemaker-ap-northeast-2-419974056037', 'train-pipeline-model-2', <sagemaker.workflow.execution_variables.ExecutionVariable object at 0x7f518847a3a0>, 'evaluation-metrics']), 'LocalPath': '/opt/ml/processing/evaluation', 'S3UploadMode': 'EndOfJob'}}]\n",
      "   \n",
      "Args:  dict_items([('ProcessingResources', {'ClusterConfig': {'InstanceType': 'ml.g4dn.xlarge', 'InstanceCount': 1, 'VolumeSizeInGB': 30}}), ('AppSpecification', {'ImageUri': '763104351884.dkr.ecr.ap-northeast-2.amazonaws.com/tensorflow-training:2.3-gpu-py37', 'ContainerArguments': ['--s3_model_path', <sagemaker.workflow.properties.Properties object at 0x7f51853601c0>, '--region', 'ap-northeast-2', '--model_name', 'model-2'], 'ContainerEntrypoint': ['/bin/bash', '/opt/ml/processing/input/entrypoint/runproc.sh']}), ('RoleArn', 'arn:aws:iam::419974056037:role/service-role/AmazonSageMaker-ExecutionRole-20221004T162466'), ('ProcessingInputs', [{'InputName': 'input-1', 'AppManaged': False, 'S3Input': {'S3Uri': <sagemaker.workflow.properties.Properties object at 0x7f51853601c0>, 'LocalPath': '/opt/ml/processing/model', 'S3DataType': 'S3Prefix', 'S3InputMode': 'File', 'S3DataDistributionType': 'FullyReplicated', 'S3CompressionType': 'None'}}, {'InputName': 'input-2', 'AppManaged': False, 'S3Input': {'S3Uri': <sagemaker.workflow.properties.Properties object at 0x7f5185360310>, 'LocalPath': '/opt/ml/processing/test', 'S3DataType': 'S3Prefix', 'S3InputMode': 'File', 'S3DataDistributionType': 'FullyReplicated', 'S3CompressionType': 'None'}}, {'InputName': 'code', 'AppManaged': False, 'S3Input': {'S3Uri': 's3://sagemaker-ap-northeast-2-419974056037/evaluation/source/sourcedir.tar.gz', 'LocalPath': '/opt/ml/processing/input/code/', 'S3DataType': 'S3Prefix', 'S3InputMode': 'File', 'S3DataDistributionType': 'FullyReplicated', 'S3CompressionType': 'None'}}, {'InputName': 'entrypoint', 'AppManaged': False, 'S3Input': {'S3Uri': 's3://sagemaker-ap-northeast-2-419974056037/evaluation/source/runproc.sh', 'LocalPath': '/opt/ml/processing/input/entrypoint', 'S3DataType': 'S3Prefix', 'S3InputMode': 'File', 'S3DataDistributionType': 'FullyReplicated', 'S3CompressionType': 'None'}}]), ('ProcessingOutputConfig', {'Outputs': [{'OutputName': 'evaluation-metrics', 'AppManaged': False, 'S3Output': {'S3Uri': Join(on='/', values=['s3://sagemaker-ap-northeast-2-419974056037', 'train-pipeline-model-2', <sagemaker.workflow.execution_variables.ExecutionVariable object at 0x7f518847a3a0>, 'evaluation-metrics']), 'LocalPath': '/opt/ml/processing/evaluation', 'S3UploadMode': 'EndOfJob'}}]})])\n",
      "  \n",
      "== Registration Step ==\n"
     ]
    },
    {
     "name": "stderr",
     "output_type": "stream",
     "text": [
      "INFO:sagemaker.processing:Uploaded ./sources/ to s3://sagemaker-ap-northeast-2-419974056037/train-pipeline-model-2/code/eabace17c9345271cf901107138b46a8/sourcedir.tar.gz\n",
      "INFO:sagemaker.processing:runproc.sh uploaded to s3://sagemaker-ap-northeast-2-419974056037/train-pipeline-model-2/code/1071dadab36d48ed1fba97e2ff137bdf/runproc.sh\n",
      "WARNING:sagemaker.estimator:No finished training job found associated with this estimator. Please make sure this estimator is only used for building workflow config\n",
      "WARNING:sagemaker.workflow._utils:Popping out 'CertifyForMarketplace' from the pipeline definition since it will be overridden in pipeline execution time.\n"
     ]
    },
    {
     "name": "stdout",
     "output_type": "stream",
     "text": [
      "\n",
      "Job Name:  preprocessing-model-2\n",
      "Inputs:  [{'InputName': 'input-1', 'AppManaged': False, 'S3Input': {'S3Uri': 's3://sm-pipeline-multi-models-datasets/model-2/amazon_reviews_us_Electronics_v1_00.tsv.gz', 'LocalPath': '/opt/ml/processing/input', 'S3DataType': 'S3Prefix', 'S3InputMode': 'File', 'S3DataDistributionType': 'FullyReplicated', 'S3CompressionType': 'None'}}, {'InputName': 'requirements', 'AppManaged': False, 'S3Input': {'S3Uri': 's3://sagemaker-ap-northeast-2-419974056037/preprocessing-model-2/input/requirements/requirements.txt', 'LocalPath': '/opt/ml/processing/input/requirements', 'S3DataType': 'S3Prefix', 'S3InputMode': 'File', 'S3DataDistributionType': 'FullyReplicated', 'S3CompressionType': 'None'}}, {'InputName': 'code', 'AppManaged': False, 'S3Input': {'S3Uri': 's3://sagemaker-ap-northeast-2-419974056037/train-pipeline-model-2/code/2b3c51df48188408561910efa21ddc30/preprocessing.py', 'LocalPath': '/opt/ml/processing/input/code', 'S3DataType': 'S3Prefix', 'S3InputMode': 'File', 'S3DataDistributionType': 'FullyReplicated', 'S3CompressionType': 'None'}}]\n",
      "Outputs:  [{'OutputName': 'train_data', 'AppManaged': False, 'S3Output': {'S3Uri': Join(on='/', values=['s3://sagemaker-ap-northeast-2-419974056037', 'train-pipeline-model-2', <sagemaker.workflow.execution_variables.ExecutionVariable object at 0x7f518847a3a0>, 'train_data']), 'LocalPath': '/opt/ml/processing/output/train', 'S3UploadMode': 'EndOfJob'}}, {'OutputName': 'validation_data', 'AppManaged': False, 'S3Output': {'S3Uri': Join(on='/', values=['s3://sagemaker-ap-northeast-2-419974056037', 'train-pipeline-model-2', <sagemaker.workflow.execution_variables.ExecutionVariable object at 0x7f518847a3a0>, 'validation_data']), 'LocalPath': '/opt/ml/processing/output/validation', 'S3UploadMode': 'EndOfJob'}}, {'OutputName': 'test_data', 'AppManaged': False, 'S3Output': {'S3Uri': Join(on='/', values=['s3://sagemaker-ap-northeast-2-419974056037', 'train-pipeline-model-2', <sagemaker.workflow.execution_variables.ExecutionVariable object at 0x7f518847a3a0>, 'test_data']), 'LocalPath': '/opt/ml/processing/output/test', 'S3UploadMode': 'EndOfJob'}}]\n",
      "\n",
      "Job Name:  evaluation\n",
      "Inputs:  [{'InputName': 'input-1', 'AppManaged': False, 'S3Input': {'S3Uri': <sagemaker.workflow.properties.Properties object at 0x7f51853601c0>, 'LocalPath': '/opt/ml/processing/model', 'S3DataType': 'S3Prefix', 'S3InputMode': 'File', 'S3DataDistributionType': 'FullyReplicated', 'S3CompressionType': 'None'}}, {'InputName': 'input-2', 'AppManaged': False, 'S3Input': {'S3Uri': <sagemaker.workflow.properties.Properties object at 0x7f5185360310>, 'LocalPath': '/opt/ml/processing/test', 'S3DataType': 'S3Prefix', 'S3InputMode': 'File', 'S3DataDistributionType': 'FullyReplicated', 'S3CompressionType': 'None'}}, {'InputName': 'code', 'AppManaged': False, 'S3Input': {'S3Uri': 's3://sagemaker-ap-northeast-2-419974056037/train-pipeline-model-2/code/eabace17c9345271cf901107138b46a8/sourcedir.tar.gz', 'LocalPath': '/opt/ml/processing/input/code/', 'S3DataType': 'S3Prefix', 'S3InputMode': 'File', 'S3DataDistributionType': 'FullyReplicated', 'S3CompressionType': 'None'}}, {'InputName': 'entrypoint', 'AppManaged': False, 'S3Input': {'S3Uri': 's3://sagemaker-ap-northeast-2-419974056037/train-pipeline-model-2/code/1071dadab36d48ed1fba97e2ff137bdf/runproc.sh', 'LocalPath': '/opt/ml/processing/input/entrypoint', 'S3DataType': 'S3Prefix', 'S3InputMode': 'File', 'S3DataDistributionType': 'FullyReplicated', 'S3CompressionType': 'None'}}]\n",
      "Outputs:  [{'OutputName': 'evaluation-metrics', 'AppManaged': False, 'S3Output': {'S3Uri': Join(on='/', values=['s3://sagemaker-ap-northeast-2-419974056037', 'train-pipeline-model-2', <sagemaker.workflow.execution_variables.ExecutionVariable object at 0x7f518847a3a0>, 'evaluation-metrics']), 'LocalPath': '/opt/ml/processing/evaluation', 'S3UploadMode': 'EndOfJob'}}]\n",
      "  \n",
      "== PipeLine Execution info.==\n",
      "{'PipelineArn': 'arn:aws:sagemaker:ap-northeast-2:419974056037:pipeline/train-pipeline-model-2', 'PipelineExecutionArn': 'arn:aws:sagemaker:ap-northeast-2:419974056037:pipeline/train-pipeline-model-2/execution/7bfgo0qad98o', 'PipelineExecutionDisplayName': 'execution-1674699080379', 'PipelineExecutionStatus': 'Executing', 'CreationTime': datetime.datetime(2023, 1, 26, 2, 11, 20, 317000, tzinfo=tzlocal()), 'LastModifiedTime': datetime.datetime(2023, 1, 26, 2, 11, 20, 317000, tzinfo=tzlocal()), 'CreatedBy': {}, 'LastModifiedBy': {}, 'ResponseMetadata': {'RequestId': '657e7d87-c295-4a5f-8457-d98ff9a19ea2', 'HTTPStatusCode': 200, 'HTTPHeaders': {'x-amzn-requestid': '657e7d87-c295-4a5f-8457-d98ff9a19ea2', 'content-type': 'application/x-amz-json-1.1', 'content-length': '419', 'date': 'Thu, 26 Jan 2023 02:11:19 GMT'}, 'RetryAttempts': 0}}\n",
      "========================== \n",
      "\n"
     ]
    },
    {
     "name": "stderr",
     "output_type": "stream",
     "text": [
      "INFO:sagemaker.image_uris:Same images used for training and inference. Defaulting to image scope: inference.\n",
      "INFO:sagemaker.image_uris:Defaulting to the only supported framework/algorithm version: 1.\n",
      "INFO:sagemaker.image_uris:Ignoring unnecessary instance type: None.\n",
      "INFO:sagemaker.image_uris:Defaulting to only available Python version: py3\n"
     ]
    },
    {
     "name": "stdout",
     "output_type": "stream",
     "text": [
      "MODEL-NAME: model-3\n",
      "  Account-ID: 419974056037, \n",
      "  Region: ap-northeast-2, \n",
      "  Role: arn:aws:iam::419974056037:role/service-role/AmazonSageMaker-ExecutionRole-20221004T162466, \n",
      "  Default_bucket: sagemaker-ap-northeast-2-419974056037\n",
      "  pipeline_session: <sagemaker.workflow.pipeline_context.PipelineSession object at 0x7f51854dfac0>\n",
      "  \n",
      "== Preprocessing Step ==\n"
     ]
    },
    {
     "name": "stderr",
     "output_type": "stream",
     "text": [
      "INFO:sagemaker.image_uris:image_uri is not presented, retrieving image_uri based on instance_type, framework etc.\n",
      "INFO:sagemaker.processing:Uploaded ./sources/ to s3://sagemaker-ap-northeast-2-419974056037/evaluation/source/sourcedir.tar.gz\n",
      "INFO:sagemaker.processing:runproc.sh uploaded to s3://sagemaker-ap-northeast-2-419974056037/evaluation/source/runproc.sh\n"
     ]
    },
    {
     "name": "stdout",
     "output_type": "stream",
     "text": [
      "\n",
      "Job Name:  preprocessing-model-3\n",
      "Inputs:  [{'InputName': 'input-1', 'AppManaged': False, 'S3Input': {'S3Uri': 's3://sm-pipeline-multi-models-datasets/model-3/amazon_reviews_us_Electronics_v1_00.tsv.gz', 'LocalPath': '/opt/ml/processing/input', 'S3DataType': 'S3Prefix', 'S3InputMode': 'File', 'S3DataDistributionType': 'FullyReplicated', 'S3CompressionType': 'None'}}, {'InputName': 'requirements', 'AppManaged': False, 'S3Input': {'S3Uri': 's3://sagemaker-ap-northeast-2-419974056037/preprocessing-model-3/input/requirements/requirements.txt', 'LocalPath': '/opt/ml/processing/input/requirements', 'S3DataType': 'S3Prefix', 'S3InputMode': 'File', 'S3DataDistributionType': 'FullyReplicated', 'S3CompressionType': 'None'}}, {'InputName': 'code', 'AppManaged': False, 'S3Input': {'S3Uri': 's3://sagemaker-ap-northeast-2-419974056037/preprocessing-model-3/input/code/preprocessing.py', 'LocalPath': '/opt/ml/processing/input/code', 'S3DataType': 'S3Prefix', 'S3InputMode': 'File', 'S3DataDistributionType': 'FullyReplicated', 'S3CompressionType': 'None'}}]\n",
      "Outputs:  [{'OutputName': 'train_data', 'AppManaged': False, 'S3Output': {'S3Uri': Join(on='/', values=['s3://sagemaker-ap-northeast-2-419974056037', 'train-pipeline-model-3', <sagemaker.workflow.execution_variables.ExecutionVariable object at 0x7f518847a3a0>, 'train_data']), 'LocalPath': '/opt/ml/processing/output/train', 'S3UploadMode': 'EndOfJob'}}, {'OutputName': 'validation_data', 'AppManaged': False, 'S3Output': {'S3Uri': Join(on='/', values=['s3://sagemaker-ap-northeast-2-419974056037', 'train-pipeline-model-3', <sagemaker.workflow.execution_variables.ExecutionVariable object at 0x7f518847a3a0>, 'validation_data']), 'LocalPath': '/opt/ml/processing/output/validation', 'S3UploadMode': 'EndOfJob'}}, {'OutputName': 'test_data', 'AppManaged': False, 'S3Output': {'S3Uri': Join(on='/', values=['s3://sagemaker-ap-northeast-2-419974056037', 'train-pipeline-model-3', <sagemaker.workflow.execution_variables.ExecutionVariable object at 0x7f518847a3a0>, 'test_data']), 'LocalPath': '/opt/ml/processing/output/test', 'S3UploadMode': 'EndOfJob'}}]\n",
      "   \n",
      "Args:  dict_items([('ProcessingResources', {'ClusterConfig': {'InstanceType': 'ml.m5.xlarge', 'InstanceCount': 1, 'VolumeSizeInGB': 30}}), ('AppSpecification', {'ImageUri': '366743142698.dkr.ecr.ap-northeast-2.amazonaws.com/sagemaker-scikit-learn:0.20.0-cpu-py3', 'ContainerArguments': ['--input_name', 'amazon_reviews_us_Electronics_v1_00.tsv.gz', '--region', 'ap-northeast-2'], 'ContainerEntrypoint': ['python3', '/opt/ml/processing/input/code/preprocessing.py']}), ('RoleArn', 'arn:aws:iam::419974056037:role/service-role/AmazonSageMaker-ExecutionRole-20221004T162466'), ('ProcessingInputs', [{'InputName': 'input-1', 'AppManaged': False, 'S3Input': {'S3Uri': 's3://sm-pipeline-multi-models-datasets/model-3/amazon_reviews_us_Electronics_v1_00.tsv.gz', 'LocalPath': '/opt/ml/processing/input', 'S3DataType': 'S3Prefix', 'S3InputMode': 'File', 'S3DataDistributionType': 'FullyReplicated', 'S3CompressionType': 'None'}}, {'InputName': 'requirements', 'AppManaged': False, 'S3Input': {'S3Uri': 's3://sagemaker-ap-northeast-2-419974056037/preprocessing-model-3/input/requirements/requirements.txt', 'LocalPath': '/opt/ml/processing/input/requirements', 'S3DataType': 'S3Prefix', 'S3InputMode': 'File', 'S3DataDistributionType': 'FullyReplicated', 'S3CompressionType': 'None'}}, {'InputName': 'code', 'AppManaged': False, 'S3Input': {'S3Uri': 's3://sagemaker-ap-northeast-2-419974056037/preprocessing-model-3/input/code/preprocessing.py', 'LocalPath': '/opt/ml/processing/input/code', 'S3DataType': 'S3Prefix', 'S3InputMode': 'File', 'S3DataDistributionType': 'FullyReplicated', 'S3CompressionType': 'None'}}]), ('ProcessingOutputConfig', {'Outputs': [{'OutputName': 'train_data', 'AppManaged': False, 'S3Output': {'S3Uri': Join(on='/', values=['s3://sagemaker-ap-northeast-2-419974056037', 'train-pipeline-model-3', <sagemaker.workflow.execution_variables.ExecutionVariable object at 0x7f518847a3a0>, 'train_data']), 'LocalPath': '/opt/ml/processing/output/train', 'S3UploadMode': 'EndOfJob'}}, {'OutputName': 'validation_data', 'AppManaged': False, 'S3Output': {'S3Uri': Join(on='/', values=['s3://sagemaker-ap-northeast-2-419974056037', 'train-pipeline-model-3', <sagemaker.workflow.execution_variables.ExecutionVariable object at 0x7f518847a3a0>, 'validation_data']), 'LocalPath': '/opt/ml/processing/output/validation', 'S3UploadMode': 'EndOfJob'}}, {'OutputName': 'test_data', 'AppManaged': False, 'S3Output': {'S3Uri': Join(on='/', values=['s3://sagemaker-ap-northeast-2-419974056037', 'train-pipeline-model-3', <sagemaker.workflow.execution_variables.ExecutionVariable object at 0x7f518847a3a0>, 'test_data']), 'LocalPath': '/opt/ml/processing/output/test', 'S3UploadMode': 'EndOfJob'}}]})])\n",
      "  \n",
      "== Training Step ==\n",
      "   \n",
      "Args:  dict_items([('AlgorithmSpecification', {'TrainingInputMode': 'File', 'TrainingImage': '306986355934.dkr.ecr.ap-northeast-2.amazonaws.com/blazingtext:1'}), ('OutputDataConfig', {'S3OutputPath': Join(on='/', values=['s3://sagemaker-ap-northeast-2-419974056037', 'train-pipeline-model-3'])}), ('StoppingCondition', {'MaxRuntimeInSeconds': 360000}), ('ResourceConfig', {'VolumeSizeInGB': 30, 'InstanceCount': 1, 'InstanceType': 'ml.m5.xlarge'}), ('RoleArn', 'arn:aws:iam::419974056037:role/service-role/AmazonSageMaker-ExecutionRole-20221004T162466'), ('InputDataConfig', [{'DataSource': {'S3DataSource': {'S3DataType': 'S3Prefix', 'S3Uri': <sagemaker.workflow.properties.Properties object at 0x7f5187b646a0>, 'S3DataDistributionType': 'FullyReplicated'}}, 'ContentType': 'text/csv', 'ChannelName': 'train'}, {'DataSource': {'S3DataSource': {'S3DataType': 'S3Prefix', 'S3Uri': <sagemaker.workflow.properties.Properties object at 0x7f5187b64a00>, 'S3DataDistributionType': 'FullyReplicated'}}, 'ContentType': 'text/csv', 'ChannelName': 'validation'}]), ('HyperParameters', {'mode': 'supervised', 'epochs': '10', 'min_epochs': '5', 'early_stopping': 'True', 'patience': '2', 'learning_rate': '0.01', 'min_count': '2', 'word_ngrams': '2', 'vector_dim': '16'}), ('DebugHookConfig', {'S3OutputPath': Join(on='/', values=['s3://sagemaker-ap-northeast-2-419974056037', 'train-pipeline-model-3']), 'CollectionConfigurations': []}), ('ProfilerConfig', {'S3OutputPath': Join(on='/', values=['s3://sagemaker-ap-northeast-2-419974056037', 'train-pipeline-model-3']), 'DisableProfiler': False})])\n",
      "  \n",
      "== Evaluation Step ==\n",
      "\n",
      "Job Name:  evaluation\n",
      "Inputs:  [{'InputName': 'input-1', 'AppManaged': False, 'S3Input': {'S3Uri': <sagemaker.workflow.properties.Properties object at 0x7f51875712e0>, 'LocalPath': '/opt/ml/processing/model', 'S3DataType': 'S3Prefix', 'S3InputMode': 'File', 'S3DataDistributionType': 'FullyReplicated', 'S3CompressionType': 'None'}}, {'InputName': 'input-2', 'AppManaged': False, 'S3Input': {'S3Uri': <sagemaker.workflow.properties.Properties object at 0x7f51cc948610>, 'LocalPath': '/opt/ml/processing/test', 'S3DataType': 'S3Prefix', 'S3InputMode': 'File', 'S3DataDistributionType': 'FullyReplicated', 'S3CompressionType': 'None'}}, {'InputName': 'code', 'AppManaged': False, 'S3Input': {'S3Uri': 's3://sagemaker-ap-northeast-2-419974056037/evaluation/source/sourcedir.tar.gz', 'LocalPath': '/opt/ml/processing/input/code/', 'S3DataType': 'S3Prefix', 'S3InputMode': 'File', 'S3DataDistributionType': 'FullyReplicated', 'S3CompressionType': 'None'}}, {'InputName': 'entrypoint', 'AppManaged': False, 'S3Input': {'S3Uri': 's3://sagemaker-ap-northeast-2-419974056037/evaluation/source/runproc.sh', 'LocalPath': '/opt/ml/processing/input/entrypoint', 'S3DataType': 'S3Prefix', 'S3InputMode': 'File', 'S3DataDistributionType': 'FullyReplicated', 'S3CompressionType': 'None'}}]\n",
      "Outputs:  [{'OutputName': 'evaluation-metrics', 'AppManaged': False, 'S3Output': {'S3Uri': Join(on='/', values=['s3://sagemaker-ap-northeast-2-419974056037', 'train-pipeline-model-3', <sagemaker.workflow.execution_variables.ExecutionVariable object at 0x7f518847a3a0>, 'evaluation-metrics']), 'LocalPath': '/opt/ml/processing/evaluation', 'S3UploadMode': 'EndOfJob'}}]\n",
      "   \n",
      "Args:  dict_items([('ProcessingResources', {'ClusterConfig': {'InstanceType': 'ml.g4dn.xlarge', 'InstanceCount': 1, 'VolumeSizeInGB': 30}}), ('AppSpecification', {'ImageUri': '763104351884.dkr.ecr.ap-northeast-2.amazonaws.com/tensorflow-training:2.3-gpu-py37', 'ContainerArguments': ['--s3_model_path', <sagemaker.workflow.properties.Properties object at 0x7f51875712e0>, '--region', 'ap-northeast-2', '--model_name', 'model-3'], 'ContainerEntrypoint': ['/bin/bash', '/opt/ml/processing/input/entrypoint/runproc.sh']}), ('RoleArn', 'arn:aws:iam::419974056037:role/service-role/AmazonSageMaker-ExecutionRole-20221004T162466'), ('ProcessingInputs', [{'InputName': 'input-1', 'AppManaged': False, 'S3Input': {'S3Uri': <sagemaker.workflow.properties.Properties object at 0x7f51875712e0>, 'LocalPath': '/opt/ml/processing/model', 'S3DataType': 'S3Prefix', 'S3InputMode': 'File', 'S3DataDistributionType': 'FullyReplicated', 'S3CompressionType': 'None'}}, {'InputName': 'input-2', 'AppManaged': False, 'S3Input': {'S3Uri': <sagemaker.workflow.properties.Properties object at 0x7f51cc948610>, 'LocalPath': '/opt/ml/processing/test', 'S3DataType': 'S3Prefix', 'S3InputMode': 'File', 'S3DataDistributionType': 'FullyReplicated', 'S3CompressionType': 'None'}}, {'InputName': 'code', 'AppManaged': False, 'S3Input': {'S3Uri': 's3://sagemaker-ap-northeast-2-419974056037/evaluation/source/sourcedir.tar.gz', 'LocalPath': '/opt/ml/processing/input/code/', 'S3DataType': 'S3Prefix', 'S3InputMode': 'File', 'S3DataDistributionType': 'FullyReplicated', 'S3CompressionType': 'None'}}, {'InputName': 'entrypoint', 'AppManaged': False, 'S3Input': {'S3Uri': 's3://sagemaker-ap-northeast-2-419974056037/evaluation/source/runproc.sh', 'LocalPath': '/opt/ml/processing/input/entrypoint', 'S3DataType': 'S3Prefix', 'S3InputMode': 'File', 'S3DataDistributionType': 'FullyReplicated', 'S3CompressionType': 'None'}}]), ('ProcessingOutputConfig', {'Outputs': [{'OutputName': 'evaluation-metrics', 'AppManaged': False, 'S3Output': {'S3Uri': Join(on='/', values=['s3://sagemaker-ap-northeast-2-419974056037', 'train-pipeline-model-3', <sagemaker.workflow.execution_variables.ExecutionVariable object at 0x7f518847a3a0>, 'evaluation-metrics']), 'LocalPath': '/opt/ml/processing/evaluation', 'S3UploadMode': 'EndOfJob'}}]})])\n",
      "  \n",
      "== Registration Step ==\n"
     ]
    },
    {
     "name": "stderr",
     "output_type": "stream",
     "text": [
      "INFO:sagemaker.processing:Uploaded ./sources/ to s3://sagemaker-ap-northeast-2-419974056037/train-pipeline-model-3/code/eabace17c9345271cf901107138b46a8/sourcedir.tar.gz\n",
      "INFO:sagemaker.processing:runproc.sh uploaded to s3://sagemaker-ap-northeast-2-419974056037/train-pipeline-model-3/code/1071dadab36d48ed1fba97e2ff137bdf/runproc.sh\n",
      "WARNING:sagemaker.estimator:No finished training job found associated with this estimator. Please make sure this estimator is only used for building workflow config\n",
      "WARNING:sagemaker.workflow._utils:Popping out 'CertifyForMarketplace' from the pipeline definition since it will be overridden in pipeline execution time.\n"
     ]
    },
    {
     "name": "stdout",
     "output_type": "stream",
     "text": [
      "\n",
      "Job Name:  preprocessing-model-3\n",
      "Inputs:  [{'InputName': 'input-1', 'AppManaged': False, 'S3Input': {'S3Uri': 's3://sm-pipeline-multi-models-datasets/model-3/amazon_reviews_us_Electronics_v1_00.tsv.gz', 'LocalPath': '/opt/ml/processing/input', 'S3DataType': 'S3Prefix', 'S3InputMode': 'File', 'S3DataDistributionType': 'FullyReplicated', 'S3CompressionType': 'None'}}, {'InputName': 'requirements', 'AppManaged': False, 'S3Input': {'S3Uri': 's3://sagemaker-ap-northeast-2-419974056037/preprocessing-model-3/input/requirements/requirements.txt', 'LocalPath': '/opt/ml/processing/input/requirements', 'S3DataType': 'S3Prefix', 'S3InputMode': 'File', 'S3DataDistributionType': 'FullyReplicated', 'S3CompressionType': 'None'}}, {'InputName': 'code', 'AppManaged': False, 'S3Input': {'S3Uri': 's3://sagemaker-ap-northeast-2-419974056037/train-pipeline-model-3/code/2b3c51df48188408561910efa21ddc30/preprocessing.py', 'LocalPath': '/opt/ml/processing/input/code', 'S3DataType': 'S3Prefix', 'S3InputMode': 'File', 'S3DataDistributionType': 'FullyReplicated', 'S3CompressionType': 'None'}}]\n",
      "Outputs:  [{'OutputName': 'train_data', 'AppManaged': False, 'S3Output': {'S3Uri': Join(on='/', values=['s3://sagemaker-ap-northeast-2-419974056037', 'train-pipeline-model-3', <sagemaker.workflow.execution_variables.ExecutionVariable object at 0x7f518847a3a0>, 'train_data']), 'LocalPath': '/opt/ml/processing/output/train', 'S3UploadMode': 'EndOfJob'}}, {'OutputName': 'validation_data', 'AppManaged': False, 'S3Output': {'S3Uri': Join(on='/', values=['s3://sagemaker-ap-northeast-2-419974056037', 'train-pipeline-model-3', <sagemaker.workflow.execution_variables.ExecutionVariable object at 0x7f518847a3a0>, 'validation_data']), 'LocalPath': '/opt/ml/processing/output/validation', 'S3UploadMode': 'EndOfJob'}}, {'OutputName': 'test_data', 'AppManaged': False, 'S3Output': {'S3Uri': Join(on='/', values=['s3://sagemaker-ap-northeast-2-419974056037', 'train-pipeline-model-3', <sagemaker.workflow.execution_variables.ExecutionVariable object at 0x7f518847a3a0>, 'test_data']), 'LocalPath': '/opt/ml/processing/output/test', 'S3UploadMode': 'EndOfJob'}}]\n",
      "\n",
      "Job Name:  evaluation\n",
      "Inputs:  [{'InputName': 'input-1', 'AppManaged': False, 'S3Input': {'S3Uri': <sagemaker.workflow.properties.Properties object at 0x7f51875712e0>, 'LocalPath': '/opt/ml/processing/model', 'S3DataType': 'S3Prefix', 'S3InputMode': 'File', 'S3DataDistributionType': 'FullyReplicated', 'S3CompressionType': 'None'}}, {'InputName': 'input-2', 'AppManaged': False, 'S3Input': {'S3Uri': <sagemaker.workflow.properties.Properties object at 0x7f51cc948610>, 'LocalPath': '/opt/ml/processing/test', 'S3DataType': 'S3Prefix', 'S3InputMode': 'File', 'S3DataDistributionType': 'FullyReplicated', 'S3CompressionType': 'None'}}, {'InputName': 'code', 'AppManaged': False, 'S3Input': {'S3Uri': 's3://sagemaker-ap-northeast-2-419974056037/train-pipeline-model-3/code/eabace17c9345271cf901107138b46a8/sourcedir.tar.gz', 'LocalPath': '/opt/ml/processing/input/code/', 'S3DataType': 'S3Prefix', 'S3InputMode': 'File', 'S3DataDistributionType': 'FullyReplicated', 'S3CompressionType': 'None'}}, {'InputName': 'entrypoint', 'AppManaged': False, 'S3Input': {'S3Uri': 's3://sagemaker-ap-northeast-2-419974056037/train-pipeline-model-3/code/1071dadab36d48ed1fba97e2ff137bdf/runproc.sh', 'LocalPath': '/opt/ml/processing/input/entrypoint', 'S3DataType': 'S3Prefix', 'S3InputMode': 'File', 'S3DataDistributionType': 'FullyReplicated', 'S3CompressionType': 'None'}}]\n",
      "Outputs:  [{'OutputName': 'evaluation-metrics', 'AppManaged': False, 'S3Output': {'S3Uri': Join(on='/', values=['s3://sagemaker-ap-northeast-2-419974056037', 'train-pipeline-model-3', <sagemaker.workflow.execution_variables.ExecutionVariable object at 0x7f518847a3a0>, 'evaluation-metrics']), 'LocalPath': '/opt/ml/processing/evaluation', 'S3UploadMode': 'EndOfJob'}}]\n",
      "  \n",
      "== PipeLine Execution info.==\n",
      "{'PipelineArn': 'arn:aws:sagemaker:ap-northeast-2:419974056037:pipeline/train-pipeline-model-3', 'PipelineExecutionArn': 'arn:aws:sagemaker:ap-northeast-2:419974056037:pipeline/train-pipeline-model-3/execution/dnxkk4r5vnwm', 'PipelineExecutionDisplayName': 'execution-1674699082062', 'PipelineExecutionStatus': 'Executing', 'CreationTime': datetime.datetime(2023, 1, 26, 2, 11, 21, 995000, tzinfo=tzlocal()), 'LastModifiedTime': datetime.datetime(2023, 1, 26, 2, 11, 21, 995000, tzinfo=tzlocal()), 'CreatedBy': {}, 'LastModifiedBy': {}, 'ResponseMetadata': {'RequestId': 'a3ea0202-336c-4a1b-849e-e62bcb20d10b', 'HTTPStatusCode': 200, 'HTTPHeaders': {'x-amzn-requestid': 'a3ea0202-336c-4a1b-849e-e62bcb20d10b', 'content-type': 'application/x-amz-json-1.1', 'content-length': '419', 'date': 'Thu, 26 Jan 2023 02:11:21 GMT'}, 'RetryAttempts': 0}}\n",
      "========================== \n",
      "\n"
     ]
    },
    {
     "name": "stderr",
     "output_type": "stream",
     "text": [
      "INFO:sagemaker.image_uris:Same images used for training and inference. Defaulting to image scope: inference.\n",
      "INFO:sagemaker.image_uris:Defaulting to the only supported framework/algorithm version: 1.\n",
      "INFO:sagemaker.image_uris:Ignoring unnecessary instance type: None.\n",
      "INFO:sagemaker.image_uris:Defaulting to only available Python version: py3\n"
     ]
    },
    {
     "name": "stdout",
     "output_type": "stream",
     "text": [
      "MODEL-NAME: model-4\n",
      "  Account-ID: 419974056037, \n",
      "  Region: ap-northeast-2, \n",
      "  Role: arn:aws:iam::419974056037:role/service-role/AmazonSageMaker-ExecutionRole-20221004T162466, \n",
      "  Default_bucket: sagemaker-ap-northeast-2-419974056037\n",
      "  pipeline_session: <sagemaker.workflow.pipeline_context.PipelineSession object at 0x7f51852cc580>\n",
      "  \n",
      "== Preprocessing Step ==\n"
     ]
    },
    {
     "name": "stderr",
     "output_type": "stream",
     "text": [
      "INFO:sagemaker.image_uris:image_uri is not presented, retrieving image_uri based on instance_type, framework etc.\n",
      "INFO:sagemaker.processing:Uploaded ./sources/ to s3://sagemaker-ap-northeast-2-419974056037/evaluation/source/sourcedir.tar.gz\n",
      "INFO:sagemaker.processing:runproc.sh uploaded to s3://sagemaker-ap-northeast-2-419974056037/evaluation/source/runproc.sh\n"
     ]
    },
    {
     "name": "stdout",
     "output_type": "stream",
     "text": [
      "\n",
      "Job Name:  preprocessing-model-4\n",
      "Inputs:  [{'InputName': 'input-1', 'AppManaged': False, 'S3Input': {'S3Uri': 's3://sm-pipeline-multi-models-datasets/model-4/amazon_reviews_us_Electronics_v1_00.tsv.gz', 'LocalPath': '/opt/ml/processing/input', 'S3DataType': 'S3Prefix', 'S3InputMode': 'File', 'S3DataDistributionType': 'FullyReplicated', 'S3CompressionType': 'None'}}, {'InputName': 'requirements', 'AppManaged': False, 'S3Input': {'S3Uri': 's3://sagemaker-ap-northeast-2-419974056037/preprocessing-model-4/input/requirements/requirements.txt', 'LocalPath': '/opt/ml/processing/input/requirements', 'S3DataType': 'S3Prefix', 'S3InputMode': 'File', 'S3DataDistributionType': 'FullyReplicated', 'S3CompressionType': 'None'}}, {'InputName': 'code', 'AppManaged': False, 'S3Input': {'S3Uri': 's3://sagemaker-ap-northeast-2-419974056037/preprocessing-model-4/input/code/preprocessing.py', 'LocalPath': '/opt/ml/processing/input/code', 'S3DataType': 'S3Prefix', 'S3InputMode': 'File', 'S3DataDistributionType': 'FullyReplicated', 'S3CompressionType': 'None'}}]\n",
      "Outputs:  [{'OutputName': 'train_data', 'AppManaged': False, 'S3Output': {'S3Uri': Join(on='/', values=['s3://sagemaker-ap-northeast-2-419974056037', 'train-pipeline-model-4', <sagemaker.workflow.execution_variables.ExecutionVariable object at 0x7f518847a3a0>, 'train_data']), 'LocalPath': '/opt/ml/processing/output/train', 'S3UploadMode': 'EndOfJob'}}, {'OutputName': 'validation_data', 'AppManaged': False, 'S3Output': {'S3Uri': Join(on='/', values=['s3://sagemaker-ap-northeast-2-419974056037', 'train-pipeline-model-4', <sagemaker.workflow.execution_variables.ExecutionVariable object at 0x7f518847a3a0>, 'validation_data']), 'LocalPath': '/opt/ml/processing/output/validation', 'S3UploadMode': 'EndOfJob'}}, {'OutputName': 'test_data', 'AppManaged': False, 'S3Output': {'S3Uri': Join(on='/', values=['s3://sagemaker-ap-northeast-2-419974056037', 'train-pipeline-model-4', <sagemaker.workflow.execution_variables.ExecutionVariable object at 0x7f518847a3a0>, 'test_data']), 'LocalPath': '/opt/ml/processing/output/test', 'S3UploadMode': 'EndOfJob'}}]\n",
      "   \n",
      "Args:  dict_items([('ProcessingResources', {'ClusterConfig': {'InstanceType': 'ml.m5.xlarge', 'InstanceCount': 1, 'VolumeSizeInGB': 30}}), ('AppSpecification', {'ImageUri': '366743142698.dkr.ecr.ap-northeast-2.amazonaws.com/sagemaker-scikit-learn:0.20.0-cpu-py3', 'ContainerArguments': ['--input_name', 'amazon_reviews_us_Electronics_v1_00.tsv.gz', '--region', 'ap-northeast-2'], 'ContainerEntrypoint': ['python3', '/opt/ml/processing/input/code/preprocessing.py']}), ('RoleArn', 'arn:aws:iam::419974056037:role/service-role/AmazonSageMaker-ExecutionRole-20221004T162466'), ('ProcessingInputs', [{'InputName': 'input-1', 'AppManaged': False, 'S3Input': {'S3Uri': 's3://sm-pipeline-multi-models-datasets/model-4/amazon_reviews_us_Electronics_v1_00.tsv.gz', 'LocalPath': '/opt/ml/processing/input', 'S3DataType': 'S3Prefix', 'S3InputMode': 'File', 'S3DataDistributionType': 'FullyReplicated', 'S3CompressionType': 'None'}}, {'InputName': 'requirements', 'AppManaged': False, 'S3Input': {'S3Uri': 's3://sagemaker-ap-northeast-2-419974056037/preprocessing-model-4/input/requirements/requirements.txt', 'LocalPath': '/opt/ml/processing/input/requirements', 'S3DataType': 'S3Prefix', 'S3InputMode': 'File', 'S3DataDistributionType': 'FullyReplicated', 'S3CompressionType': 'None'}}, {'InputName': 'code', 'AppManaged': False, 'S3Input': {'S3Uri': 's3://sagemaker-ap-northeast-2-419974056037/preprocessing-model-4/input/code/preprocessing.py', 'LocalPath': '/opt/ml/processing/input/code', 'S3DataType': 'S3Prefix', 'S3InputMode': 'File', 'S3DataDistributionType': 'FullyReplicated', 'S3CompressionType': 'None'}}]), ('ProcessingOutputConfig', {'Outputs': [{'OutputName': 'train_data', 'AppManaged': False, 'S3Output': {'S3Uri': Join(on='/', values=['s3://sagemaker-ap-northeast-2-419974056037', 'train-pipeline-model-4', <sagemaker.workflow.execution_variables.ExecutionVariable object at 0x7f518847a3a0>, 'train_data']), 'LocalPath': '/opt/ml/processing/output/train', 'S3UploadMode': 'EndOfJob'}}, {'OutputName': 'validation_data', 'AppManaged': False, 'S3Output': {'S3Uri': Join(on='/', values=['s3://sagemaker-ap-northeast-2-419974056037', 'train-pipeline-model-4', <sagemaker.workflow.execution_variables.ExecutionVariable object at 0x7f518847a3a0>, 'validation_data']), 'LocalPath': '/opt/ml/processing/output/validation', 'S3UploadMode': 'EndOfJob'}}, {'OutputName': 'test_data', 'AppManaged': False, 'S3Output': {'S3Uri': Join(on='/', values=['s3://sagemaker-ap-northeast-2-419974056037', 'train-pipeline-model-4', <sagemaker.workflow.execution_variables.ExecutionVariable object at 0x7f518847a3a0>, 'test_data']), 'LocalPath': '/opt/ml/processing/output/test', 'S3UploadMode': 'EndOfJob'}}]})])\n",
      "  \n",
      "== Training Step ==\n",
      "   \n",
      "Args:  dict_items([('AlgorithmSpecification', {'TrainingInputMode': 'File', 'TrainingImage': '306986355934.dkr.ecr.ap-northeast-2.amazonaws.com/blazingtext:1'}), ('OutputDataConfig', {'S3OutputPath': Join(on='/', values=['s3://sagemaker-ap-northeast-2-419974056037', 'train-pipeline-model-4'])}), ('StoppingCondition', {'MaxRuntimeInSeconds': 360000}), ('ResourceConfig', {'VolumeSizeInGB': 30, 'InstanceCount': 1, 'InstanceType': 'ml.m5.xlarge'}), ('RoleArn', 'arn:aws:iam::419974056037:role/service-role/AmazonSageMaker-ExecutionRole-20221004T162466'), ('InputDataConfig', [{'DataSource': {'S3DataSource': {'S3DataType': 'S3Prefix', 'S3Uri': <sagemaker.workflow.properties.Properties object at 0x7f5185227fd0>, 'S3DataDistributionType': 'FullyReplicated'}}, 'ContentType': 'text/csv', 'ChannelName': 'train'}, {'DataSource': {'S3DataSource': {'S3DataType': 'S3Prefix', 'S3Uri': <sagemaker.workflow.properties.Properties object at 0x7f51854df370>, 'S3DataDistributionType': 'FullyReplicated'}}, 'ContentType': 'text/csv', 'ChannelName': 'validation'}]), ('HyperParameters', {'mode': 'supervised', 'epochs': '10', 'min_epochs': '5', 'early_stopping': 'True', 'patience': '2', 'learning_rate': '0.01', 'min_count': '2', 'word_ngrams': '2', 'vector_dim': '16'}), ('DebugHookConfig', {'S3OutputPath': Join(on='/', values=['s3://sagemaker-ap-northeast-2-419974056037', 'train-pipeline-model-4']), 'CollectionConfigurations': []}), ('ProfilerConfig', {'S3OutputPath': Join(on='/', values=['s3://sagemaker-ap-northeast-2-419974056037', 'train-pipeline-model-4']), 'DisableProfiler': False})])\n",
      "  \n",
      "== Evaluation Step ==\n",
      "\n",
      "Job Name:  evaluation\n",
      "Inputs:  [{'InputName': 'input-1', 'AppManaged': False, 'S3Input': {'S3Uri': <sagemaker.workflow.properties.Properties object at 0x7f51850642b0>, 'LocalPath': '/opt/ml/processing/model', 'S3DataType': 'S3Prefix', 'S3InputMode': 'File', 'S3DataDistributionType': 'FullyReplicated', 'S3CompressionType': 'None'}}, {'InputName': 'input-2', 'AppManaged': False, 'S3Input': {'S3Uri': <sagemaker.workflow.properties.Properties object at 0x7f51851355b0>, 'LocalPath': '/opt/ml/processing/test', 'S3DataType': 'S3Prefix', 'S3InputMode': 'File', 'S3DataDistributionType': 'FullyReplicated', 'S3CompressionType': 'None'}}, {'InputName': 'code', 'AppManaged': False, 'S3Input': {'S3Uri': 's3://sagemaker-ap-northeast-2-419974056037/evaluation/source/sourcedir.tar.gz', 'LocalPath': '/opt/ml/processing/input/code/', 'S3DataType': 'S3Prefix', 'S3InputMode': 'File', 'S3DataDistributionType': 'FullyReplicated', 'S3CompressionType': 'None'}}, {'InputName': 'entrypoint', 'AppManaged': False, 'S3Input': {'S3Uri': 's3://sagemaker-ap-northeast-2-419974056037/evaluation/source/runproc.sh', 'LocalPath': '/opt/ml/processing/input/entrypoint', 'S3DataType': 'S3Prefix', 'S3InputMode': 'File', 'S3DataDistributionType': 'FullyReplicated', 'S3CompressionType': 'None'}}]\n",
      "Outputs:  [{'OutputName': 'evaluation-metrics', 'AppManaged': False, 'S3Output': {'S3Uri': Join(on='/', values=['s3://sagemaker-ap-northeast-2-419974056037', 'train-pipeline-model-4', <sagemaker.workflow.execution_variables.ExecutionVariable object at 0x7f518847a3a0>, 'evaluation-metrics']), 'LocalPath': '/opt/ml/processing/evaluation', 'S3UploadMode': 'EndOfJob'}}]\n",
      "   \n",
      "Args:  dict_items([('ProcessingResources', {'ClusterConfig': {'InstanceType': 'ml.g4dn.xlarge', 'InstanceCount': 1, 'VolumeSizeInGB': 30}}), ('AppSpecification', {'ImageUri': '763104351884.dkr.ecr.ap-northeast-2.amazonaws.com/tensorflow-training:2.3-gpu-py37', 'ContainerArguments': ['--s3_model_path', <sagemaker.workflow.properties.Properties object at 0x7f51850642b0>, '--region', 'ap-northeast-2', '--model_name', 'model-4'], 'ContainerEntrypoint': ['/bin/bash', '/opt/ml/processing/input/entrypoint/runproc.sh']}), ('RoleArn', 'arn:aws:iam::419974056037:role/service-role/AmazonSageMaker-ExecutionRole-20221004T162466'), ('ProcessingInputs', [{'InputName': 'input-1', 'AppManaged': False, 'S3Input': {'S3Uri': <sagemaker.workflow.properties.Properties object at 0x7f51850642b0>, 'LocalPath': '/opt/ml/processing/model', 'S3DataType': 'S3Prefix', 'S3InputMode': 'File', 'S3DataDistributionType': 'FullyReplicated', 'S3CompressionType': 'None'}}, {'InputName': 'input-2', 'AppManaged': False, 'S3Input': {'S3Uri': <sagemaker.workflow.properties.Properties object at 0x7f51851355b0>, 'LocalPath': '/opt/ml/processing/test', 'S3DataType': 'S3Prefix', 'S3InputMode': 'File', 'S3DataDistributionType': 'FullyReplicated', 'S3CompressionType': 'None'}}, {'InputName': 'code', 'AppManaged': False, 'S3Input': {'S3Uri': 's3://sagemaker-ap-northeast-2-419974056037/evaluation/source/sourcedir.tar.gz', 'LocalPath': '/opt/ml/processing/input/code/', 'S3DataType': 'S3Prefix', 'S3InputMode': 'File', 'S3DataDistributionType': 'FullyReplicated', 'S3CompressionType': 'None'}}, {'InputName': 'entrypoint', 'AppManaged': False, 'S3Input': {'S3Uri': 's3://sagemaker-ap-northeast-2-419974056037/evaluation/source/runproc.sh', 'LocalPath': '/opt/ml/processing/input/entrypoint', 'S3DataType': 'S3Prefix', 'S3InputMode': 'File', 'S3DataDistributionType': 'FullyReplicated', 'S3CompressionType': 'None'}}]), ('ProcessingOutputConfig', {'Outputs': [{'OutputName': 'evaluation-metrics', 'AppManaged': False, 'S3Output': {'S3Uri': Join(on='/', values=['s3://sagemaker-ap-northeast-2-419974056037', 'train-pipeline-model-4', <sagemaker.workflow.execution_variables.ExecutionVariable object at 0x7f518847a3a0>, 'evaluation-metrics']), 'LocalPath': '/opt/ml/processing/evaluation', 'S3UploadMode': 'EndOfJob'}}]})])\n",
      "  \n",
      "== Registration Step ==\n"
     ]
    },
    {
     "name": "stderr",
     "output_type": "stream",
     "text": [
      "INFO:sagemaker.processing:Uploaded ./sources/ to s3://sagemaker-ap-northeast-2-419974056037/train-pipeline-model-4/code/eabace17c9345271cf901107138b46a8/sourcedir.tar.gz\n",
      "INFO:sagemaker.processing:runproc.sh uploaded to s3://sagemaker-ap-northeast-2-419974056037/train-pipeline-model-4/code/1071dadab36d48ed1fba97e2ff137bdf/runproc.sh\n",
      "WARNING:sagemaker.estimator:No finished training job found associated with this estimator. Please make sure this estimator is only used for building workflow config\n",
      "WARNING:sagemaker.workflow._utils:Popping out 'CertifyForMarketplace' from the pipeline definition since it will be overridden in pipeline execution time.\n"
     ]
    },
    {
     "name": "stdout",
     "output_type": "stream",
     "text": [
      "\n",
      "Job Name:  preprocessing-model-4\n",
      "Inputs:  [{'InputName': 'input-1', 'AppManaged': False, 'S3Input': {'S3Uri': 's3://sm-pipeline-multi-models-datasets/model-4/amazon_reviews_us_Electronics_v1_00.tsv.gz', 'LocalPath': '/opt/ml/processing/input', 'S3DataType': 'S3Prefix', 'S3InputMode': 'File', 'S3DataDistributionType': 'FullyReplicated', 'S3CompressionType': 'None'}}, {'InputName': 'requirements', 'AppManaged': False, 'S3Input': {'S3Uri': 's3://sagemaker-ap-northeast-2-419974056037/preprocessing-model-4/input/requirements/requirements.txt', 'LocalPath': '/opt/ml/processing/input/requirements', 'S3DataType': 'S3Prefix', 'S3InputMode': 'File', 'S3DataDistributionType': 'FullyReplicated', 'S3CompressionType': 'None'}}, {'InputName': 'code', 'AppManaged': False, 'S3Input': {'S3Uri': 's3://sagemaker-ap-northeast-2-419974056037/train-pipeline-model-4/code/2b3c51df48188408561910efa21ddc30/preprocessing.py', 'LocalPath': '/opt/ml/processing/input/code', 'S3DataType': 'S3Prefix', 'S3InputMode': 'File', 'S3DataDistributionType': 'FullyReplicated', 'S3CompressionType': 'None'}}]\n",
      "Outputs:  [{'OutputName': 'train_data', 'AppManaged': False, 'S3Output': {'S3Uri': Join(on='/', values=['s3://sagemaker-ap-northeast-2-419974056037', 'train-pipeline-model-4', <sagemaker.workflow.execution_variables.ExecutionVariable object at 0x7f518847a3a0>, 'train_data']), 'LocalPath': '/opt/ml/processing/output/train', 'S3UploadMode': 'EndOfJob'}}, {'OutputName': 'validation_data', 'AppManaged': False, 'S3Output': {'S3Uri': Join(on='/', values=['s3://sagemaker-ap-northeast-2-419974056037', 'train-pipeline-model-4', <sagemaker.workflow.execution_variables.ExecutionVariable object at 0x7f518847a3a0>, 'validation_data']), 'LocalPath': '/opt/ml/processing/output/validation', 'S3UploadMode': 'EndOfJob'}}, {'OutputName': 'test_data', 'AppManaged': False, 'S3Output': {'S3Uri': Join(on='/', values=['s3://sagemaker-ap-northeast-2-419974056037', 'train-pipeline-model-4', <sagemaker.workflow.execution_variables.ExecutionVariable object at 0x7f518847a3a0>, 'test_data']), 'LocalPath': '/opt/ml/processing/output/test', 'S3UploadMode': 'EndOfJob'}}]\n",
      "\n",
      "Job Name:  evaluation\n",
      "Inputs:  [{'InputName': 'input-1', 'AppManaged': False, 'S3Input': {'S3Uri': <sagemaker.workflow.properties.Properties object at 0x7f51850642b0>, 'LocalPath': '/opt/ml/processing/model', 'S3DataType': 'S3Prefix', 'S3InputMode': 'File', 'S3DataDistributionType': 'FullyReplicated', 'S3CompressionType': 'None'}}, {'InputName': 'input-2', 'AppManaged': False, 'S3Input': {'S3Uri': <sagemaker.workflow.properties.Properties object at 0x7f51851355b0>, 'LocalPath': '/opt/ml/processing/test', 'S3DataType': 'S3Prefix', 'S3InputMode': 'File', 'S3DataDistributionType': 'FullyReplicated', 'S3CompressionType': 'None'}}, {'InputName': 'code', 'AppManaged': False, 'S3Input': {'S3Uri': 's3://sagemaker-ap-northeast-2-419974056037/train-pipeline-model-4/code/eabace17c9345271cf901107138b46a8/sourcedir.tar.gz', 'LocalPath': '/opt/ml/processing/input/code/', 'S3DataType': 'S3Prefix', 'S3InputMode': 'File', 'S3DataDistributionType': 'FullyReplicated', 'S3CompressionType': 'None'}}, {'InputName': 'entrypoint', 'AppManaged': False, 'S3Input': {'S3Uri': 's3://sagemaker-ap-northeast-2-419974056037/train-pipeline-model-4/code/1071dadab36d48ed1fba97e2ff137bdf/runproc.sh', 'LocalPath': '/opt/ml/processing/input/entrypoint', 'S3DataType': 'S3Prefix', 'S3InputMode': 'File', 'S3DataDistributionType': 'FullyReplicated', 'S3CompressionType': 'None'}}]\n",
      "Outputs:  [{'OutputName': 'evaluation-metrics', 'AppManaged': False, 'S3Output': {'S3Uri': Join(on='/', values=['s3://sagemaker-ap-northeast-2-419974056037', 'train-pipeline-model-4', <sagemaker.workflow.execution_variables.ExecutionVariable object at 0x7f518847a3a0>, 'evaluation-metrics']), 'LocalPath': '/opt/ml/processing/evaluation', 'S3UploadMode': 'EndOfJob'}}]\n",
      "  \n",
      "== PipeLine Execution info.==\n",
      "{'PipelineArn': 'arn:aws:sagemaker:ap-northeast-2:419974056037:pipeline/train-pipeline-model-4', 'PipelineExecutionArn': 'arn:aws:sagemaker:ap-northeast-2:419974056037:pipeline/train-pipeline-model-4/execution/05ps0ykyzu3n', 'PipelineExecutionDisplayName': 'execution-1674699083719', 'PipelineExecutionStatus': 'Executing', 'CreationTime': datetime.datetime(2023, 1, 26, 2, 11, 23, 636000, tzinfo=tzlocal()), 'LastModifiedTime': datetime.datetime(2023, 1, 26, 2, 11, 23, 636000, tzinfo=tzlocal()), 'CreatedBy': {}, 'LastModifiedBy': {}, 'ResponseMetadata': {'RequestId': '934ad14b-d1e4-44d4-ad77-5d35b99dcc57', 'HTTPStatusCode': 200, 'HTTPHeaders': {'x-amzn-requestid': '934ad14b-d1e4-44d4-ad77-5d35b99dcc57', 'content-type': 'application/x-amz-json-1.1', 'content-length': '419', 'date': 'Thu, 26 Jan 2023 02:11:23 GMT'}, 'RetryAttempts': 0}}\n",
      "========================== \n",
      "\n"
     ]
    },
    {
     "name": "stderr",
     "output_type": "stream",
     "text": [
      "INFO:sagemaker.image_uris:Same images used for training and inference. Defaulting to image scope: inference.\n",
      "INFO:sagemaker.image_uris:Defaulting to the only supported framework/algorithm version: 1.\n",
      "INFO:sagemaker.image_uris:Ignoring unnecessary instance type: None.\n",
      "INFO:sagemaker.image_uris:Defaulting to only available Python version: py3\n"
     ]
    },
    {
     "name": "stdout",
     "output_type": "stream",
     "text": [
      "MODEL-NAME: model-5\n",
      "  Account-ID: 419974056037, \n",
      "  Region: ap-northeast-2, \n",
      "  Role: arn:aws:iam::419974056037:role/service-role/AmazonSageMaker-ExecutionRole-20221004T162466, \n",
      "  Default_bucket: sagemaker-ap-northeast-2-419974056037\n",
      "  pipeline_session: <sagemaker.workflow.pipeline_context.PipelineSession object at 0x7f518501bdc0>\n",
      "  \n",
      "== Preprocessing Step ==\n"
     ]
    },
    {
     "name": "stderr",
     "output_type": "stream",
     "text": [
      "INFO:sagemaker.image_uris:image_uri is not presented, retrieving image_uri based on instance_type, framework etc.\n",
      "INFO:sagemaker.processing:Uploaded ./sources/ to s3://sagemaker-ap-northeast-2-419974056037/evaluation/source/sourcedir.tar.gz\n",
      "INFO:sagemaker.processing:runproc.sh uploaded to s3://sagemaker-ap-northeast-2-419974056037/evaluation/source/runproc.sh\n"
     ]
    },
    {
     "name": "stdout",
     "output_type": "stream",
     "text": [
      "\n",
      "Job Name:  preprocessing-model-5\n",
      "Inputs:  [{'InputName': 'input-1', 'AppManaged': False, 'S3Input': {'S3Uri': 's3://sm-pipeline-multi-models-datasets/model-5/amazon_reviews_us_Electronics_v1_00.tsv.gz', 'LocalPath': '/opt/ml/processing/input', 'S3DataType': 'S3Prefix', 'S3InputMode': 'File', 'S3DataDistributionType': 'FullyReplicated', 'S3CompressionType': 'None'}}, {'InputName': 'requirements', 'AppManaged': False, 'S3Input': {'S3Uri': 's3://sagemaker-ap-northeast-2-419974056037/preprocessing-model-5/input/requirements/requirements.txt', 'LocalPath': '/opt/ml/processing/input/requirements', 'S3DataType': 'S3Prefix', 'S3InputMode': 'File', 'S3DataDistributionType': 'FullyReplicated', 'S3CompressionType': 'None'}}, {'InputName': 'code', 'AppManaged': False, 'S3Input': {'S3Uri': 's3://sagemaker-ap-northeast-2-419974056037/preprocessing-model-5/input/code/preprocessing.py', 'LocalPath': '/opt/ml/processing/input/code', 'S3DataType': 'S3Prefix', 'S3InputMode': 'File', 'S3DataDistributionType': 'FullyReplicated', 'S3CompressionType': 'None'}}]\n",
      "Outputs:  [{'OutputName': 'train_data', 'AppManaged': False, 'S3Output': {'S3Uri': Join(on='/', values=['s3://sagemaker-ap-northeast-2-419974056037', 'train-pipeline-model-5', <sagemaker.workflow.execution_variables.ExecutionVariable object at 0x7f518847a3a0>, 'train_data']), 'LocalPath': '/opt/ml/processing/output/train', 'S3UploadMode': 'EndOfJob'}}, {'OutputName': 'validation_data', 'AppManaged': False, 'S3Output': {'S3Uri': Join(on='/', values=['s3://sagemaker-ap-northeast-2-419974056037', 'train-pipeline-model-5', <sagemaker.workflow.execution_variables.ExecutionVariable object at 0x7f518847a3a0>, 'validation_data']), 'LocalPath': '/opt/ml/processing/output/validation', 'S3UploadMode': 'EndOfJob'}}, {'OutputName': 'test_data', 'AppManaged': False, 'S3Output': {'S3Uri': Join(on='/', values=['s3://sagemaker-ap-northeast-2-419974056037', 'train-pipeline-model-5', <sagemaker.workflow.execution_variables.ExecutionVariable object at 0x7f518847a3a0>, 'test_data']), 'LocalPath': '/opt/ml/processing/output/test', 'S3UploadMode': 'EndOfJob'}}]\n",
      "   \n",
      "Args:  dict_items([('ProcessingResources', {'ClusterConfig': {'InstanceType': 'ml.m5.xlarge', 'InstanceCount': 1, 'VolumeSizeInGB': 30}}), ('AppSpecification', {'ImageUri': '366743142698.dkr.ecr.ap-northeast-2.amazonaws.com/sagemaker-scikit-learn:0.20.0-cpu-py3', 'ContainerArguments': ['--input_name', 'amazon_reviews_us_Electronics_v1_00.tsv.gz', '--region', 'ap-northeast-2'], 'ContainerEntrypoint': ['python3', '/opt/ml/processing/input/code/preprocessing.py']}), ('RoleArn', 'arn:aws:iam::419974056037:role/service-role/AmazonSageMaker-ExecutionRole-20221004T162466'), ('ProcessingInputs', [{'InputName': 'input-1', 'AppManaged': False, 'S3Input': {'S3Uri': 's3://sm-pipeline-multi-models-datasets/model-5/amazon_reviews_us_Electronics_v1_00.tsv.gz', 'LocalPath': '/opt/ml/processing/input', 'S3DataType': 'S3Prefix', 'S3InputMode': 'File', 'S3DataDistributionType': 'FullyReplicated', 'S3CompressionType': 'None'}}, {'InputName': 'requirements', 'AppManaged': False, 'S3Input': {'S3Uri': 's3://sagemaker-ap-northeast-2-419974056037/preprocessing-model-5/input/requirements/requirements.txt', 'LocalPath': '/opt/ml/processing/input/requirements', 'S3DataType': 'S3Prefix', 'S3InputMode': 'File', 'S3DataDistributionType': 'FullyReplicated', 'S3CompressionType': 'None'}}, {'InputName': 'code', 'AppManaged': False, 'S3Input': {'S3Uri': 's3://sagemaker-ap-northeast-2-419974056037/preprocessing-model-5/input/code/preprocessing.py', 'LocalPath': '/opt/ml/processing/input/code', 'S3DataType': 'S3Prefix', 'S3InputMode': 'File', 'S3DataDistributionType': 'FullyReplicated', 'S3CompressionType': 'None'}}]), ('ProcessingOutputConfig', {'Outputs': [{'OutputName': 'train_data', 'AppManaged': False, 'S3Output': {'S3Uri': Join(on='/', values=['s3://sagemaker-ap-northeast-2-419974056037', 'train-pipeline-model-5', <sagemaker.workflow.execution_variables.ExecutionVariable object at 0x7f518847a3a0>, 'train_data']), 'LocalPath': '/opt/ml/processing/output/train', 'S3UploadMode': 'EndOfJob'}}, {'OutputName': 'validation_data', 'AppManaged': False, 'S3Output': {'S3Uri': Join(on='/', values=['s3://sagemaker-ap-northeast-2-419974056037', 'train-pipeline-model-5', <sagemaker.workflow.execution_variables.ExecutionVariable object at 0x7f518847a3a0>, 'validation_data']), 'LocalPath': '/opt/ml/processing/output/validation', 'S3UploadMode': 'EndOfJob'}}, {'OutputName': 'test_data', 'AppManaged': False, 'S3Output': {'S3Uri': Join(on='/', values=['s3://sagemaker-ap-northeast-2-419974056037', 'train-pipeline-model-5', <sagemaker.workflow.execution_variables.ExecutionVariable object at 0x7f518847a3a0>, 'test_data']), 'LocalPath': '/opt/ml/processing/output/test', 'S3UploadMode': 'EndOfJob'}}]})])\n",
      "  \n",
      "== Training Step ==\n",
      "   \n",
      "Args:  dict_items([('AlgorithmSpecification', {'TrainingInputMode': 'File', 'TrainingImage': '306986355934.dkr.ecr.ap-northeast-2.amazonaws.com/blazingtext:1'}), ('OutputDataConfig', {'S3OutputPath': Join(on='/', values=['s3://sagemaker-ap-northeast-2-419974056037', 'train-pipeline-model-5'])}), ('StoppingCondition', {'MaxRuntimeInSeconds': 360000}), ('ResourceConfig', {'VolumeSizeInGB': 30, 'InstanceCount': 1, 'InstanceType': 'ml.m5.xlarge'}), ('RoleArn', 'arn:aws:iam::419974056037:role/service-role/AmazonSageMaker-ExecutionRole-20221004T162466'), ('InputDataConfig', [{'DataSource': {'S3DataSource': {'S3DataType': 'S3Prefix', 'S3Uri': <sagemaker.workflow.properties.Properties object at 0x7f5185025c10>, 'S3DataDistributionType': 'FullyReplicated'}}, 'ContentType': 'text/csv', 'ChannelName': 'train'}, {'DataSource': {'S3DataSource': {'S3DataType': 'S3Prefix', 'S3Uri': <sagemaker.workflow.properties.Properties object at 0x7f5185445be0>, 'S3DataDistributionType': 'FullyReplicated'}}, 'ContentType': 'text/csv', 'ChannelName': 'validation'}]), ('HyperParameters', {'mode': 'supervised', 'epochs': '10', 'min_epochs': '5', 'early_stopping': 'True', 'patience': '2', 'learning_rate': '0.01', 'min_count': '2', 'word_ngrams': '2', 'vector_dim': '16'}), ('DebugHookConfig', {'S3OutputPath': Join(on='/', values=['s3://sagemaker-ap-northeast-2-419974056037', 'train-pipeline-model-5']), 'CollectionConfigurations': []}), ('ProfilerConfig', {'S3OutputPath': Join(on='/', values=['s3://sagemaker-ap-northeast-2-419974056037', 'train-pipeline-model-5']), 'DisableProfiler': False})])\n",
      "  \n",
      "== Evaluation Step ==\n",
      "\n",
      "Job Name:  evaluation\n",
      "Inputs:  [{'InputName': 'input-1', 'AppManaged': False, 'S3Input': {'S3Uri': <sagemaker.workflow.properties.Properties object at 0x7f5184ec56d0>, 'LocalPath': '/opt/ml/processing/model', 'S3DataType': 'S3Prefix', 'S3InputMode': 'File', 'S3DataDistributionType': 'FullyReplicated', 'S3CompressionType': 'None'}}, {'InputName': 'input-2', 'AppManaged': False, 'S3Input': {'S3Uri': <sagemaker.workflow.properties.Properties object at 0x7f5185025b50>, 'LocalPath': '/opt/ml/processing/test', 'S3DataType': 'S3Prefix', 'S3InputMode': 'File', 'S3DataDistributionType': 'FullyReplicated', 'S3CompressionType': 'None'}}, {'InputName': 'code', 'AppManaged': False, 'S3Input': {'S3Uri': 's3://sagemaker-ap-northeast-2-419974056037/evaluation/source/sourcedir.tar.gz', 'LocalPath': '/opt/ml/processing/input/code/', 'S3DataType': 'S3Prefix', 'S3InputMode': 'File', 'S3DataDistributionType': 'FullyReplicated', 'S3CompressionType': 'None'}}, {'InputName': 'entrypoint', 'AppManaged': False, 'S3Input': {'S3Uri': 's3://sagemaker-ap-northeast-2-419974056037/evaluation/source/runproc.sh', 'LocalPath': '/opt/ml/processing/input/entrypoint', 'S3DataType': 'S3Prefix', 'S3InputMode': 'File', 'S3DataDistributionType': 'FullyReplicated', 'S3CompressionType': 'None'}}]\n",
      "Outputs:  [{'OutputName': 'evaluation-metrics', 'AppManaged': False, 'S3Output': {'S3Uri': Join(on='/', values=['s3://sagemaker-ap-northeast-2-419974056037', 'train-pipeline-model-5', <sagemaker.workflow.execution_variables.ExecutionVariable object at 0x7f518847a3a0>, 'evaluation-metrics']), 'LocalPath': '/opt/ml/processing/evaluation', 'S3UploadMode': 'EndOfJob'}}]\n",
      "   \n",
      "Args:  dict_items([('ProcessingResources', {'ClusterConfig': {'InstanceType': 'ml.g4dn.xlarge', 'InstanceCount': 1, 'VolumeSizeInGB': 30}}), ('AppSpecification', {'ImageUri': '763104351884.dkr.ecr.ap-northeast-2.amazonaws.com/tensorflow-training:2.3-gpu-py37', 'ContainerArguments': ['--s3_model_path', <sagemaker.workflow.properties.Properties object at 0x7f5184ec56d0>, '--region', 'ap-northeast-2', '--model_name', 'model-5'], 'ContainerEntrypoint': ['/bin/bash', '/opt/ml/processing/input/entrypoint/runproc.sh']}), ('RoleArn', 'arn:aws:iam::419974056037:role/service-role/AmazonSageMaker-ExecutionRole-20221004T162466'), ('ProcessingInputs', [{'InputName': 'input-1', 'AppManaged': False, 'S3Input': {'S3Uri': <sagemaker.workflow.properties.Properties object at 0x7f5184ec56d0>, 'LocalPath': '/opt/ml/processing/model', 'S3DataType': 'S3Prefix', 'S3InputMode': 'File', 'S3DataDistributionType': 'FullyReplicated', 'S3CompressionType': 'None'}}, {'InputName': 'input-2', 'AppManaged': False, 'S3Input': {'S3Uri': <sagemaker.workflow.properties.Properties object at 0x7f5185025b50>, 'LocalPath': '/opt/ml/processing/test', 'S3DataType': 'S3Prefix', 'S3InputMode': 'File', 'S3DataDistributionType': 'FullyReplicated', 'S3CompressionType': 'None'}}, {'InputName': 'code', 'AppManaged': False, 'S3Input': {'S3Uri': 's3://sagemaker-ap-northeast-2-419974056037/evaluation/source/sourcedir.tar.gz', 'LocalPath': '/opt/ml/processing/input/code/', 'S3DataType': 'S3Prefix', 'S3InputMode': 'File', 'S3DataDistributionType': 'FullyReplicated', 'S3CompressionType': 'None'}}, {'InputName': 'entrypoint', 'AppManaged': False, 'S3Input': {'S3Uri': 's3://sagemaker-ap-northeast-2-419974056037/evaluation/source/runproc.sh', 'LocalPath': '/opt/ml/processing/input/entrypoint', 'S3DataType': 'S3Prefix', 'S3InputMode': 'File', 'S3DataDistributionType': 'FullyReplicated', 'S3CompressionType': 'None'}}]), ('ProcessingOutputConfig', {'Outputs': [{'OutputName': 'evaluation-metrics', 'AppManaged': False, 'S3Output': {'S3Uri': Join(on='/', values=['s3://sagemaker-ap-northeast-2-419974056037', 'train-pipeline-model-5', <sagemaker.workflow.execution_variables.ExecutionVariable object at 0x7f518847a3a0>, 'evaluation-metrics']), 'LocalPath': '/opt/ml/processing/evaluation', 'S3UploadMode': 'EndOfJob'}}]})])\n",
      "  \n",
      "== Registration Step ==\n"
     ]
    },
    {
     "name": "stderr",
     "output_type": "stream",
     "text": [
      "INFO:sagemaker.processing:Uploaded ./sources/ to s3://sagemaker-ap-northeast-2-419974056037/train-pipeline-model-5/code/eabace17c9345271cf901107138b46a8/sourcedir.tar.gz\n",
      "INFO:sagemaker.processing:runproc.sh uploaded to s3://sagemaker-ap-northeast-2-419974056037/train-pipeline-model-5/code/1071dadab36d48ed1fba97e2ff137bdf/runproc.sh\n",
      "WARNING:sagemaker.estimator:No finished training job found associated with this estimator. Please make sure this estimator is only used for building workflow config\n",
      "WARNING:sagemaker.workflow._utils:Popping out 'CertifyForMarketplace' from the pipeline definition since it will be overridden in pipeline execution time.\n"
     ]
    },
    {
     "name": "stdout",
     "output_type": "stream",
     "text": [
      "\n",
      "Job Name:  preprocessing-model-5\n",
      "Inputs:  [{'InputName': 'input-1', 'AppManaged': False, 'S3Input': {'S3Uri': 's3://sm-pipeline-multi-models-datasets/model-5/amazon_reviews_us_Electronics_v1_00.tsv.gz', 'LocalPath': '/opt/ml/processing/input', 'S3DataType': 'S3Prefix', 'S3InputMode': 'File', 'S3DataDistributionType': 'FullyReplicated', 'S3CompressionType': 'None'}}, {'InputName': 'requirements', 'AppManaged': False, 'S3Input': {'S3Uri': 's3://sagemaker-ap-northeast-2-419974056037/preprocessing-model-5/input/requirements/requirements.txt', 'LocalPath': '/opt/ml/processing/input/requirements', 'S3DataType': 'S3Prefix', 'S3InputMode': 'File', 'S3DataDistributionType': 'FullyReplicated', 'S3CompressionType': 'None'}}, {'InputName': 'code', 'AppManaged': False, 'S3Input': {'S3Uri': 's3://sagemaker-ap-northeast-2-419974056037/train-pipeline-model-5/code/2b3c51df48188408561910efa21ddc30/preprocessing.py', 'LocalPath': '/opt/ml/processing/input/code', 'S3DataType': 'S3Prefix', 'S3InputMode': 'File', 'S3DataDistributionType': 'FullyReplicated', 'S3CompressionType': 'None'}}]\n",
      "Outputs:  [{'OutputName': 'train_data', 'AppManaged': False, 'S3Output': {'S3Uri': Join(on='/', values=['s3://sagemaker-ap-northeast-2-419974056037', 'train-pipeline-model-5', <sagemaker.workflow.execution_variables.ExecutionVariable object at 0x7f518847a3a0>, 'train_data']), 'LocalPath': '/opt/ml/processing/output/train', 'S3UploadMode': 'EndOfJob'}}, {'OutputName': 'validation_data', 'AppManaged': False, 'S3Output': {'S3Uri': Join(on='/', values=['s3://sagemaker-ap-northeast-2-419974056037', 'train-pipeline-model-5', <sagemaker.workflow.execution_variables.ExecutionVariable object at 0x7f518847a3a0>, 'validation_data']), 'LocalPath': '/opt/ml/processing/output/validation', 'S3UploadMode': 'EndOfJob'}}, {'OutputName': 'test_data', 'AppManaged': False, 'S3Output': {'S3Uri': Join(on='/', values=['s3://sagemaker-ap-northeast-2-419974056037', 'train-pipeline-model-5', <sagemaker.workflow.execution_variables.ExecutionVariable object at 0x7f518847a3a0>, 'test_data']), 'LocalPath': '/opt/ml/processing/output/test', 'S3UploadMode': 'EndOfJob'}}]\n",
      "\n",
      "Job Name:  evaluation\n",
      "Inputs:  [{'InputName': 'input-1', 'AppManaged': False, 'S3Input': {'S3Uri': <sagemaker.workflow.properties.Properties object at 0x7f5184ec56d0>, 'LocalPath': '/opt/ml/processing/model', 'S3DataType': 'S3Prefix', 'S3InputMode': 'File', 'S3DataDistributionType': 'FullyReplicated', 'S3CompressionType': 'None'}}, {'InputName': 'input-2', 'AppManaged': False, 'S3Input': {'S3Uri': <sagemaker.workflow.properties.Properties object at 0x7f5185025b50>, 'LocalPath': '/opt/ml/processing/test', 'S3DataType': 'S3Prefix', 'S3InputMode': 'File', 'S3DataDistributionType': 'FullyReplicated', 'S3CompressionType': 'None'}}, {'InputName': 'code', 'AppManaged': False, 'S3Input': {'S3Uri': 's3://sagemaker-ap-northeast-2-419974056037/train-pipeline-model-5/code/eabace17c9345271cf901107138b46a8/sourcedir.tar.gz', 'LocalPath': '/opt/ml/processing/input/code/', 'S3DataType': 'S3Prefix', 'S3InputMode': 'File', 'S3DataDistributionType': 'FullyReplicated', 'S3CompressionType': 'None'}}, {'InputName': 'entrypoint', 'AppManaged': False, 'S3Input': {'S3Uri': 's3://sagemaker-ap-northeast-2-419974056037/train-pipeline-model-5/code/1071dadab36d48ed1fba97e2ff137bdf/runproc.sh', 'LocalPath': '/opt/ml/processing/input/entrypoint', 'S3DataType': 'S3Prefix', 'S3InputMode': 'File', 'S3DataDistributionType': 'FullyReplicated', 'S3CompressionType': 'None'}}]\n",
      "Outputs:  [{'OutputName': 'evaluation-metrics', 'AppManaged': False, 'S3Output': {'S3Uri': Join(on='/', values=['s3://sagemaker-ap-northeast-2-419974056037', 'train-pipeline-model-5', <sagemaker.workflow.execution_variables.ExecutionVariable object at 0x7f518847a3a0>, 'evaluation-metrics']), 'LocalPath': '/opt/ml/processing/evaluation', 'S3UploadMode': 'EndOfJob'}}]\n",
      "  \n",
      "== PipeLine Execution info.==\n",
      "{'PipelineArn': 'arn:aws:sagemaker:ap-northeast-2:419974056037:pipeline/train-pipeline-model-5', 'PipelineExecutionArn': 'arn:aws:sagemaker:ap-northeast-2:419974056037:pipeline/train-pipeline-model-5/execution/mcyunq78tgii', 'PipelineExecutionDisplayName': 'execution-1674699085308', 'PipelineExecutionStatus': 'Executing', 'CreationTime': datetime.datetime(2023, 1, 26, 2, 11, 25, 242000, tzinfo=tzlocal()), 'LastModifiedTime': datetime.datetime(2023, 1, 26, 2, 11, 25, 242000, tzinfo=tzlocal()), 'CreatedBy': {}, 'LastModifiedBy': {}, 'ResponseMetadata': {'RequestId': '0fb45378-c6cb-4b41-b57c-3050db11c005', 'HTTPStatusCode': 200, 'HTTPHeaders': {'x-amzn-requestid': '0fb45378-c6cb-4b41-b57c-3050db11c005', 'content-type': 'application/x-amz-json-1.1', 'content-length': '419', 'date': 'Thu, 26 Jan 2023 02:11:25 GMT'}, 'RetryAttempts': 0}}\n",
      "========================== \n",
      "\n"
     ]
    },
    {
     "name": "stderr",
     "output_type": "stream",
     "text": [
      "INFO:sagemaker.image_uris:Same images used for training and inference. Defaulting to image scope: inference.\n",
      "INFO:sagemaker.image_uris:Defaulting to the only supported framework/algorithm version: 1.\n",
      "INFO:sagemaker.image_uris:Ignoring unnecessary instance type: None.\n",
      "INFO:sagemaker.image_uris:Defaulting to only available Python version: py3\n"
     ]
    },
    {
     "name": "stdout",
     "output_type": "stream",
     "text": [
      "MODEL-NAME: model-6\n",
      "  Account-ID: 419974056037, \n",
      "  Region: ap-northeast-2, \n",
      "  Role: arn:aws:iam::419974056037:role/service-role/AmazonSageMaker-ExecutionRole-20221004T162466, \n",
      "  Default_bucket: sagemaker-ap-northeast-2-419974056037\n",
      "  pipeline_session: <sagemaker.workflow.pipeline_context.PipelineSession object at 0x7f51853024f0>\n",
      "  \n",
      "== Preprocessing Step ==\n"
     ]
    },
    {
     "name": "stderr",
     "output_type": "stream",
     "text": [
      "INFO:sagemaker.image_uris:image_uri is not presented, retrieving image_uri based on instance_type, framework etc.\n",
      "INFO:sagemaker.processing:Uploaded ./sources/ to s3://sagemaker-ap-northeast-2-419974056037/evaluation/source/sourcedir.tar.gz\n",
      "INFO:sagemaker.processing:runproc.sh uploaded to s3://sagemaker-ap-northeast-2-419974056037/evaluation/source/runproc.sh\n"
     ]
    },
    {
     "name": "stdout",
     "output_type": "stream",
     "text": [
      "\n",
      "Job Name:  preprocessing-model-6\n",
      "Inputs:  [{'InputName': 'input-1', 'AppManaged': False, 'S3Input': {'S3Uri': 's3://sm-pipeline-multi-models-datasets/model-6/amazon_reviews_us_Electronics_v1_00.tsv.gz', 'LocalPath': '/opt/ml/processing/input', 'S3DataType': 'S3Prefix', 'S3InputMode': 'File', 'S3DataDistributionType': 'FullyReplicated', 'S3CompressionType': 'None'}}, {'InputName': 'requirements', 'AppManaged': False, 'S3Input': {'S3Uri': 's3://sagemaker-ap-northeast-2-419974056037/preprocessing-model-6/input/requirements/requirements.txt', 'LocalPath': '/opt/ml/processing/input/requirements', 'S3DataType': 'S3Prefix', 'S3InputMode': 'File', 'S3DataDistributionType': 'FullyReplicated', 'S3CompressionType': 'None'}}, {'InputName': 'code', 'AppManaged': False, 'S3Input': {'S3Uri': 's3://sagemaker-ap-northeast-2-419974056037/preprocessing-model-6/input/code/preprocessing.py', 'LocalPath': '/opt/ml/processing/input/code', 'S3DataType': 'S3Prefix', 'S3InputMode': 'File', 'S3DataDistributionType': 'FullyReplicated', 'S3CompressionType': 'None'}}]\n",
      "Outputs:  [{'OutputName': 'train_data', 'AppManaged': False, 'S3Output': {'S3Uri': Join(on='/', values=['s3://sagemaker-ap-northeast-2-419974056037', 'train-pipeline-model-6', <sagemaker.workflow.execution_variables.ExecutionVariable object at 0x7f518847a3a0>, 'train_data']), 'LocalPath': '/opt/ml/processing/output/train', 'S3UploadMode': 'EndOfJob'}}, {'OutputName': 'validation_data', 'AppManaged': False, 'S3Output': {'S3Uri': Join(on='/', values=['s3://sagemaker-ap-northeast-2-419974056037', 'train-pipeline-model-6', <sagemaker.workflow.execution_variables.ExecutionVariable object at 0x7f518847a3a0>, 'validation_data']), 'LocalPath': '/opt/ml/processing/output/validation', 'S3UploadMode': 'EndOfJob'}}, {'OutputName': 'test_data', 'AppManaged': False, 'S3Output': {'S3Uri': Join(on='/', values=['s3://sagemaker-ap-northeast-2-419974056037', 'train-pipeline-model-6', <sagemaker.workflow.execution_variables.ExecutionVariable object at 0x7f518847a3a0>, 'test_data']), 'LocalPath': '/opt/ml/processing/output/test', 'S3UploadMode': 'EndOfJob'}}]\n",
      "   \n",
      "Args:  dict_items([('ProcessingResources', {'ClusterConfig': {'InstanceType': 'ml.m5.xlarge', 'InstanceCount': 1, 'VolumeSizeInGB': 30}}), ('AppSpecification', {'ImageUri': '366743142698.dkr.ecr.ap-northeast-2.amazonaws.com/sagemaker-scikit-learn:0.20.0-cpu-py3', 'ContainerArguments': ['--input_name', 'amazon_reviews_us_Electronics_v1_00.tsv.gz', '--region', 'ap-northeast-2'], 'ContainerEntrypoint': ['python3', '/opt/ml/processing/input/code/preprocessing.py']}), ('RoleArn', 'arn:aws:iam::419974056037:role/service-role/AmazonSageMaker-ExecutionRole-20221004T162466'), ('ProcessingInputs', [{'InputName': 'input-1', 'AppManaged': False, 'S3Input': {'S3Uri': 's3://sm-pipeline-multi-models-datasets/model-6/amazon_reviews_us_Electronics_v1_00.tsv.gz', 'LocalPath': '/opt/ml/processing/input', 'S3DataType': 'S3Prefix', 'S3InputMode': 'File', 'S3DataDistributionType': 'FullyReplicated', 'S3CompressionType': 'None'}}, {'InputName': 'requirements', 'AppManaged': False, 'S3Input': {'S3Uri': 's3://sagemaker-ap-northeast-2-419974056037/preprocessing-model-6/input/requirements/requirements.txt', 'LocalPath': '/opt/ml/processing/input/requirements', 'S3DataType': 'S3Prefix', 'S3InputMode': 'File', 'S3DataDistributionType': 'FullyReplicated', 'S3CompressionType': 'None'}}, {'InputName': 'code', 'AppManaged': False, 'S3Input': {'S3Uri': 's3://sagemaker-ap-northeast-2-419974056037/preprocessing-model-6/input/code/preprocessing.py', 'LocalPath': '/opt/ml/processing/input/code', 'S3DataType': 'S3Prefix', 'S3InputMode': 'File', 'S3DataDistributionType': 'FullyReplicated', 'S3CompressionType': 'None'}}]), ('ProcessingOutputConfig', {'Outputs': [{'OutputName': 'train_data', 'AppManaged': False, 'S3Output': {'S3Uri': Join(on='/', values=['s3://sagemaker-ap-northeast-2-419974056037', 'train-pipeline-model-6', <sagemaker.workflow.execution_variables.ExecutionVariable object at 0x7f518847a3a0>, 'train_data']), 'LocalPath': '/opt/ml/processing/output/train', 'S3UploadMode': 'EndOfJob'}}, {'OutputName': 'validation_data', 'AppManaged': False, 'S3Output': {'S3Uri': Join(on='/', values=['s3://sagemaker-ap-northeast-2-419974056037', 'train-pipeline-model-6', <sagemaker.workflow.execution_variables.ExecutionVariable object at 0x7f518847a3a0>, 'validation_data']), 'LocalPath': '/opt/ml/processing/output/validation', 'S3UploadMode': 'EndOfJob'}}, {'OutputName': 'test_data', 'AppManaged': False, 'S3Output': {'S3Uri': Join(on='/', values=['s3://sagemaker-ap-northeast-2-419974056037', 'train-pipeline-model-6', <sagemaker.workflow.execution_variables.ExecutionVariable object at 0x7f518847a3a0>, 'test_data']), 'LocalPath': '/opt/ml/processing/output/test', 'S3UploadMode': 'EndOfJob'}}]})])\n",
      "  \n",
      "== Training Step ==\n",
      "   \n",
      "Args:  dict_items([('AlgorithmSpecification', {'TrainingInputMode': 'File', 'TrainingImage': '306986355934.dkr.ecr.ap-northeast-2.amazonaws.com/blazingtext:1'}), ('OutputDataConfig', {'S3OutputPath': Join(on='/', values=['s3://sagemaker-ap-northeast-2-419974056037', 'train-pipeline-model-6'])}), ('StoppingCondition', {'MaxRuntimeInSeconds': 360000}), ('ResourceConfig', {'VolumeSizeInGB': 30, 'InstanceCount': 1, 'InstanceType': 'ml.m5.xlarge'}), ('RoleArn', 'arn:aws:iam::419974056037:role/service-role/AmazonSageMaker-ExecutionRole-20221004T162466'), ('InputDataConfig', [{'DataSource': {'S3DataSource': {'S3DataType': 'S3Prefix', 'S3Uri': <sagemaker.workflow.properties.Properties object at 0x7f51852913d0>, 'S3DataDistributionType': 'FullyReplicated'}}, 'ContentType': 'text/csv', 'ChannelName': 'train'}, {'DataSource': {'S3DataSource': {'S3DataType': 'S3Prefix', 'S3Uri': <sagemaker.workflow.properties.Properties object at 0x7f51852919a0>, 'S3DataDistributionType': 'FullyReplicated'}}, 'ContentType': 'text/csv', 'ChannelName': 'validation'}]), ('HyperParameters', {'mode': 'supervised', 'epochs': '10', 'min_epochs': '5', 'early_stopping': 'True', 'patience': '2', 'learning_rate': '0.01', 'min_count': '2', 'word_ngrams': '2', 'vector_dim': '16'}), ('DebugHookConfig', {'S3OutputPath': Join(on='/', values=['s3://sagemaker-ap-northeast-2-419974056037', 'train-pipeline-model-6']), 'CollectionConfigurations': []}), ('ProfilerConfig', {'S3OutputPath': Join(on='/', values=['s3://sagemaker-ap-northeast-2-419974056037', 'train-pipeline-model-6']), 'DisableProfiler': False})])\n",
      "  \n",
      "== Evaluation Step ==\n",
      "\n",
      "Job Name:  evaluation\n",
      "Inputs:  [{'InputName': 'input-1', 'AppManaged': False, 'S3Input': {'S3Uri': <sagemaker.workflow.properties.Properties object at 0x7f51852a7a90>, 'LocalPath': '/opt/ml/processing/model', 'S3DataType': 'S3Prefix', 'S3InputMode': 'File', 'S3DataDistributionType': 'FullyReplicated', 'S3CompressionType': 'None'}}, {'InputName': 'input-2', 'AppManaged': False, 'S3Input': {'S3Uri': <sagemaker.workflow.properties.Properties object at 0x7f51852633d0>, 'LocalPath': '/opt/ml/processing/test', 'S3DataType': 'S3Prefix', 'S3InputMode': 'File', 'S3DataDistributionType': 'FullyReplicated', 'S3CompressionType': 'None'}}, {'InputName': 'code', 'AppManaged': False, 'S3Input': {'S3Uri': 's3://sagemaker-ap-northeast-2-419974056037/evaluation/source/sourcedir.tar.gz', 'LocalPath': '/opt/ml/processing/input/code/', 'S3DataType': 'S3Prefix', 'S3InputMode': 'File', 'S3DataDistributionType': 'FullyReplicated', 'S3CompressionType': 'None'}}, {'InputName': 'entrypoint', 'AppManaged': False, 'S3Input': {'S3Uri': 's3://sagemaker-ap-northeast-2-419974056037/evaluation/source/runproc.sh', 'LocalPath': '/opt/ml/processing/input/entrypoint', 'S3DataType': 'S3Prefix', 'S3InputMode': 'File', 'S3DataDistributionType': 'FullyReplicated', 'S3CompressionType': 'None'}}]\n",
      "Outputs:  [{'OutputName': 'evaluation-metrics', 'AppManaged': False, 'S3Output': {'S3Uri': Join(on='/', values=['s3://sagemaker-ap-northeast-2-419974056037', 'train-pipeline-model-6', <sagemaker.workflow.execution_variables.ExecutionVariable object at 0x7f518847a3a0>, 'evaluation-metrics']), 'LocalPath': '/opt/ml/processing/evaluation', 'S3UploadMode': 'EndOfJob'}}]\n",
      "   \n",
      "Args:  dict_items([('ProcessingResources', {'ClusterConfig': {'InstanceType': 'ml.g4dn.xlarge', 'InstanceCount': 1, 'VolumeSizeInGB': 30}}), ('AppSpecification', {'ImageUri': '763104351884.dkr.ecr.ap-northeast-2.amazonaws.com/tensorflow-training:2.3-gpu-py37', 'ContainerArguments': ['--s3_model_path', <sagemaker.workflow.properties.Properties object at 0x7f51852a7a90>, '--region', 'ap-northeast-2', '--model_name', 'model-6'], 'ContainerEntrypoint': ['/bin/bash', '/opt/ml/processing/input/entrypoint/runproc.sh']}), ('RoleArn', 'arn:aws:iam::419974056037:role/service-role/AmazonSageMaker-ExecutionRole-20221004T162466'), ('ProcessingInputs', [{'InputName': 'input-1', 'AppManaged': False, 'S3Input': {'S3Uri': <sagemaker.workflow.properties.Properties object at 0x7f51852a7a90>, 'LocalPath': '/opt/ml/processing/model', 'S3DataType': 'S3Prefix', 'S3InputMode': 'File', 'S3DataDistributionType': 'FullyReplicated', 'S3CompressionType': 'None'}}, {'InputName': 'input-2', 'AppManaged': False, 'S3Input': {'S3Uri': <sagemaker.workflow.properties.Properties object at 0x7f51852633d0>, 'LocalPath': '/opt/ml/processing/test', 'S3DataType': 'S3Prefix', 'S3InputMode': 'File', 'S3DataDistributionType': 'FullyReplicated', 'S3CompressionType': 'None'}}, {'InputName': 'code', 'AppManaged': False, 'S3Input': {'S3Uri': 's3://sagemaker-ap-northeast-2-419974056037/evaluation/source/sourcedir.tar.gz', 'LocalPath': '/opt/ml/processing/input/code/', 'S3DataType': 'S3Prefix', 'S3InputMode': 'File', 'S3DataDistributionType': 'FullyReplicated', 'S3CompressionType': 'None'}}, {'InputName': 'entrypoint', 'AppManaged': False, 'S3Input': {'S3Uri': 's3://sagemaker-ap-northeast-2-419974056037/evaluation/source/runproc.sh', 'LocalPath': '/opt/ml/processing/input/entrypoint', 'S3DataType': 'S3Prefix', 'S3InputMode': 'File', 'S3DataDistributionType': 'FullyReplicated', 'S3CompressionType': 'None'}}]), ('ProcessingOutputConfig', {'Outputs': [{'OutputName': 'evaluation-metrics', 'AppManaged': False, 'S3Output': {'S3Uri': Join(on='/', values=['s3://sagemaker-ap-northeast-2-419974056037', 'train-pipeline-model-6', <sagemaker.workflow.execution_variables.ExecutionVariable object at 0x7f518847a3a0>, 'evaluation-metrics']), 'LocalPath': '/opt/ml/processing/evaluation', 'S3UploadMode': 'EndOfJob'}}]})])\n",
      "  \n",
      "== Registration Step ==\n"
     ]
    },
    {
     "name": "stderr",
     "output_type": "stream",
     "text": [
      "INFO:sagemaker.processing:Uploaded ./sources/ to s3://sagemaker-ap-northeast-2-419974056037/train-pipeline-model-6/code/eabace17c9345271cf901107138b46a8/sourcedir.tar.gz\n",
      "INFO:sagemaker.processing:runproc.sh uploaded to s3://sagemaker-ap-northeast-2-419974056037/train-pipeline-model-6/code/1071dadab36d48ed1fba97e2ff137bdf/runproc.sh\n",
      "WARNING:sagemaker.estimator:No finished training job found associated with this estimator. Please make sure this estimator is only used for building workflow config\n",
      "WARNING:sagemaker.workflow._utils:Popping out 'CertifyForMarketplace' from the pipeline definition since it will be overridden in pipeline execution time.\n"
     ]
    },
    {
     "name": "stdout",
     "output_type": "stream",
     "text": [
      "\n",
      "Job Name:  preprocessing-model-6\n",
      "Inputs:  [{'InputName': 'input-1', 'AppManaged': False, 'S3Input': {'S3Uri': 's3://sm-pipeline-multi-models-datasets/model-6/amazon_reviews_us_Electronics_v1_00.tsv.gz', 'LocalPath': '/opt/ml/processing/input', 'S3DataType': 'S3Prefix', 'S3InputMode': 'File', 'S3DataDistributionType': 'FullyReplicated', 'S3CompressionType': 'None'}}, {'InputName': 'requirements', 'AppManaged': False, 'S3Input': {'S3Uri': 's3://sagemaker-ap-northeast-2-419974056037/preprocessing-model-6/input/requirements/requirements.txt', 'LocalPath': '/opt/ml/processing/input/requirements', 'S3DataType': 'S3Prefix', 'S3InputMode': 'File', 'S3DataDistributionType': 'FullyReplicated', 'S3CompressionType': 'None'}}, {'InputName': 'code', 'AppManaged': False, 'S3Input': {'S3Uri': 's3://sagemaker-ap-northeast-2-419974056037/train-pipeline-model-6/code/2b3c51df48188408561910efa21ddc30/preprocessing.py', 'LocalPath': '/opt/ml/processing/input/code', 'S3DataType': 'S3Prefix', 'S3InputMode': 'File', 'S3DataDistributionType': 'FullyReplicated', 'S3CompressionType': 'None'}}]\n",
      "Outputs:  [{'OutputName': 'train_data', 'AppManaged': False, 'S3Output': {'S3Uri': Join(on='/', values=['s3://sagemaker-ap-northeast-2-419974056037', 'train-pipeline-model-6', <sagemaker.workflow.execution_variables.ExecutionVariable object at 0x7f518847a3a0>, 'train_data']), 'LocalPath': '/opt/ml/processing/output/train', 'S3UploadMode': 'EndOfJob'}}, {'OutputName': 'validation_data', 'AppManaged': False, 'S3Output': {'S3Uri': Join(on='/', values=['s3://sagemaker-ap-northeast-2-419974056037', 'train-pipeline-model-6', <sagemaker.workflow.execution_variables.ExecutionVariable object at 0x7f518847a3a0>, 'validation_data']), 'LocalPath': '/opt/ml/processing/output/validation', 'S3UploadMode': 'EndOfJob'}}, {'OutputName': 'test_data', 'AppManaged': False, 'S3Output': {'S3Uri': Join(on='/', values=['s3://sagemaker-ap-northeast-2-419974056037', 'train-pipeline-model-6', <sagemaker.workflow.execution_variables.ExecutionVariable object at 0x7f518847a3a0>, 'test_data']), 'LocalPath': '/opt/ml/processing/output/test', 'S3UploadMode': 'EndOfJob'}}]\n",
      "\n",
      "Job Name:  evaluation\n",
      "Inputs:  [{'InputName': 'input-1', 'AppManaged': False, 'S3Input': {'S3Uri': <sagemaker.workflow.properties.Properties object at 0x7f51852a7a90>, 'LocalPath': '/opt/ml/processing/model', 'S3DataType': 'S3Prefix', 'S3InputMode': 'File', 'S3DataDistributionType': 'FullyReplicated', 'S3CompressionType': 'None'}}, {'InputName': 'input-2', 'AppManaged': False, 'S3Input': {'S3Uri': <sagemaker.workflow.properties.Properties object at 0x7f51852633d0>, 'LocalPath': '/opt/ml/processing/test', 'S3DataType': 'S3Prefix', 'S3InputMode': 'File', 'S3DataDistributionType': 'FullyReplicated', 'S3CompressionType': 'None'}}, {'InputName': 'code', 'AppManaged': False, 'S3Input': {'S3Uri': 's3://sagemaker-ap-northeast-2-419974056037/train-pipeline-model-6/code/eabace17c9345271cf901107138b46a8/sourcedir.tar.gz', 'LocalPath': '/opt/ml/processing/input/code/', 'S3DataType': 'S3Prefix', 'S3InputMode': 'File', 'S3DataDistributionType': 'FullyReplicated', 'S3CompressionType': 'None'}}, {'InputName': 'entrypoint', 'AppManaged': False, 'S3Input': {'S3Uri': 's3://sagemaker-ap-northeast-2-419974056037/train-pipeline-model-6/code/1071dadab36d48ed1fba97e2ff137bdf/runproc.sh', 'LocalPath': '/opt/ml/processing/input/entrypoint', 'S3DataType': 'S3Prefix', 'S3InputMode': 'File', 'S3DataDistributionType': 'FullyReplicated', 'S3CompressionType': 'None'}}]\n",
      "Outputs:  [{'OutputName': 'evaluation-metrics', 'AppManaged': False, 'S3Output': {'S3Uri': Join(on='/', values=['s3://sagemaker-ap-northeast-2-419974056037', 'train-pipeline-model-6', <sagemaker.workflow.execution_variables.ExecutionVariable object at 0x7f518847a3a0>, 'evaluation-metrics']), 'LocalPath': '/opt/ml/processing/evaluation', 'S3UploadMode': 'EndOfJob'}}]\n",
      "  \n",
      "== PipeLine Execution info.==\n",
      "{'PipelineArn': 'arn:aws:sagemaker:ap-northeast-2:419974056037:pipeline/train-pipeline-model-6', 'PipelineExecutionArn': 'arn:aws:sagemaker:ap-northeast-2:419974056037:pipeline/train-pipeline-model-6/execution/vui25yuhaaen', 'PipelineExecutionDisplayName': 'execution-1674699086937', 'PipelineExecutionStatus': 'Executing', 'CreationTime': datetime.datetime(2023, 1, 26, 2, 11, 26, 872000, tzinfo=tzlocal()), 'LastModifiedTime': datetime.datetime(2023, 1, 26, 2, 11, 26, 872000, tzinfo=tzlocal()), 'CreatedBy': {}, 'LastModifiedBy': {}, 'ResponseMetadata': {'RequestId': '454db58d-3562-4660-8209-c24e41d13e34', 'HTTPStatusCode': 200, 'HTTPHeaders': {'x-amzn-requestid': '454db58d-3562-4660-8209-c24e41d13e34', 'content-type': 'application/x-amz-json-1.1', 'content-length': '419', 'date': 'Thu, 26 Jan 2023 02:11:26 GMT'}, 'RetryAttempts': 0}}\n",
      "========================== \n",
      "\n"
     ]
    },
    {
     "name": "stderr",
     "output_type": "stream",
     "text": [
      "INFO:sagemaker.image_uris:Same images used for training and inference. Defaulting to image scope: inference.\n",
      "INFO:sagemaker.image_uris:Defaulting to the only supported framework/algorithm version: 1.\n",
      "INFO:sagemaker.image_uris:Ignoring unnecessary instance type: None.\n",
      "INFO:sagemaker.image_uris:Defaulting to only available Python version: py3\n"
     ]
    },
    {
     "name": "stdout",
     "output_type": "stream",
     "text": [
      "MODEL-NAME: model-7\n",
      "  Account-ID: 419974056037, \n",
      "  Region: ap-northeast-2, \n",
      "  Role: arn:aws:iam::419974056037:role/service-role/AmazonSageMaker-ExecutionRole-20221004T162466, \n",
      "  Default_bucket: sagemaker-ap-northeast-2-419974056037\n",
      "  pipeline_session: <sagemaker.workflow.pipeline_context.PipelineSession object at 0x7f5185366a90>\n",
      "  \n",
      "== Preprocessing Step ==\n"
     ]
    },
    {
     "name": "stderr",
     "output_type": "stream",
     "text": [
      "INFO:sagemaker.image_uris:image_uri is not presented, retrieving image_uri based on instance_type, framework etc.\n",
      "INFO:sagemaker.processing:Uploaded ./sources/ to s3://sagemaker-ap-northeast-2-419974056037/evaluation/source/sourcedir.tar.gz\n"
     ]
    },
    {
     "name": "stdout",
     "output_type": "stream",
     "text": [
      "\n",
      "Job Name:  preprocessing-model-7\n",
      "Inputs:  [{'InputName': 'input-1', 'AppManaged': False, 'S3Input': {'S3Uri': 's3://sm-pipeline-multi-models-datasets/model-7/amazon_reviews_us_Electronics_v1_00.tsv.gz', 'LocalPath': '/opt/ml/processing/input', 'S3DataType': 'S3Prefix', 'S3InputMode': 'File', 'S3DataDistributionType': 'FullyReplicated', 'S3CompressionType': 'None'}}, {'InputName': 'requirements', 'AppManaged': False, 'S3Input': {'S3Uri': 's3://sagemaker-ap-northeast-2-419974056037/preprocessing-model-7/input/requirements/requirements.txt', 'LocalPath': '/opt/ml/processing/input/requirements', 'S3DataType': 'S3Prefix', 'S3InputMode': 'File', 'S3DataDistributionType': 'FullyReplicated', 'S3CompressionType': 'None'}}, {'InputName': 'code', 'AppManaged': False, 'S3Input': {'S3Uri': 's3://sagemaker-ap-northeast-2-419974056037/preprocessing-model-7/input/code/preprocessing.py', 'LocalPath': '/opt/ml/processing/input/code', 'S3DataType': 'S3Prefix', 'S3InputMode': 'File', 'S3DataDistributionType': 'FullyReplicated', 'S3CompressionType': 'None'}}]\n",
      "Outputs:  [{'OutputName': 'train_data', 'AppManaged': False, 'S3Output': {'S3Uri': Join(on='/', values=['s3://sagemaker-ap-northeast-2-419974056037', 'train-pipeline-model-7', <sagemaker.workflow.execution_variables.ExecutionVariable object at 0x7f518847a3a0>, 'train_data']), 'LocalPath': '/opt/ml/processing/output/train', 'S3UploadMode': 'EndOfJob'}}, {'OutputName': 'validation_data', 'AppManaged': False, 'S3Output': {'S3Uri': Join(on='/', values=['s3://sagemaker-ap-northeast-2-419974056037', 'train-pipeline-model-7', <sagemaker.workflow.execution_variables.ExecutionVariable object at 0x7f518847a3a0>, 'validation_data']), 'LocalPath': '/opt/ml/processing/output/validation', 'S3UploadMode': 'EndOfJob'}}, {'OutputName': 'test_data', 'AppManaged': False, 'S3Output': {'S3Uri': Join(on='/', values=['s3://sagemaker-ap-northeast-2-419974056037', 'train-pipeline-model-7', <sagemaker.workflow.execution_variables.ExecutionVariable object at 0x7f518847a3a0>, 'test_data']), 'LocalPath': '/opt/ml/processing/output/test', 'S3UploadMode': 'EndOfJob'}}]\n",
      "   \n",
      "Args:  dict_items([('ProcessingResources', {'ClusterConfig': {'InstanceType': 'ml.m5.xlarge', 'InstanceCount': 1, 'VolumeSizeInGB': 30}}), ('AppSpecification', {'ImageUri': '366743142698.dkr.ecr.ap-northeast-2.amazonaws.com/sagemaker-scikit-learn:0.20.0-cpu-py3', 'ContainerArguments': ['--input_name', 'amazon_reviews_us_Electronics_v1_00.tsv.gz', '--region', 'ap-northeast-2'], 'ContainerEntrypoint': ['python3', '/opt/ml/processing/input/code/preprocessing.py']}), ('RoleArn', 'arn:aws:iam::419974056037:role/service-role/AmazonSageMaker-ExecutionRole-20221004T162466'), ('ProcessingInputs', [{'InputName': 'input-1', 'AppManaged': False, 'S3Input': {'S3Uri': 's3://sm-pipeline-multi-models-datasets/model-7/amazon_reviews_us_Electronics_v1_00.tsv.gz', 'LocalPath': '/opt/ml/processing/input', 'S3DataType': 'S3Prefix', 'S3InputMode': 'File', 'S3DataDistributionType': 'FullyReplicated', 'S3CompressionType': 'None'}}, {'InputName': 'requirements', 'AppManaged': False, 'S3Input': {'S3Uri': 's3://sagemaker-ap-northeast-2-419974056037/preprocessing-model-7/input/requirements/requirements.txt', 'LocalPath': '/opt/ml/processing/input/requirements', 'S3DataType': 'S3Prefix', 'S3InputMode': 'File', 'S3DataDistributionType': 'FullyReplicated', 'S3CompressionType': 'None'}}, {'InputName': 'code', 'AppManaged': False, 'S3Input': {'S3Uri': 's3://sagemaker-ap-northeast-2-419974056037/preprocessing-model-7/input/code/preprocessing.py', 'LocalPath': '/opt/ml/processing/input/code', 'S3DataType': 'S3Prefix', 'S3InputMode': 'File', 'S3DataDistributionType': 'FullyReplicated', 'S3CompressionType': 'None'}}]), ('ProcessingOutputConfig', {'Outputs': [{'OutputName': 'train_data', 'AppManaged': False, 'S3Output': {'S3Uri': Join(on='/', values=['s3://sagemaker-ap-northeast-2-419974056037', 'train-pipeline-model-7', <sagemaker.workflow.execution_variables.ExecutionVariable object at 0x7f518847a3a0>, 'train_data']), 'LocalPath': '/opt/ml/processing/output/train', 'S3UploadMode': 'EndOfJob'}}, {'OutputName': 'validation_data', 'AppManaged': False, 'S3Output': {'S3Uri': Join(on='/', values=['s3://sagemaker-ap-northeast-2-419974056037', 'train-pipeline-model-7', <sagemaker.workflow.execution_variables.ExecutionVariable object at 0x7f518847a3a0>, 'validation_data']), 'LocalPath': '/opt/ml/processing/output/validation', 'S3UploadMode': 'EndOfJob'}}, {'OutputName': 'test_data', 'AppManaged': False, 'S3Output': {'S3Uri': Join(on='/', values=['s3://sagemaker-ap-northeast-2-419974056037', 'train-pipeline-model-7', <sagemaker.workflow.execution_variables.ExecutionVariable object at 0x7f518847a3a0>, 'test_data']), 'LocalPath': '/opt/ml/processing/output/test', 'S3UploadMode': 'EndOfJob'}}]})])\n",
      "  \n",
      "== Training Step ==\n",
      "   \n",
      "Args:  dict_items([('AlgorithmSpecification', {'TrainingInputMode': 'File', 'TrainingImage': '306986355934.dkr.ecr.ap-northeast-2.amazonaws.com/blazingtext:1'}), ('OutputDataConfig', {'S3OutputPath': Join(on='/', values=['s3://sagemaker-ap-northeast-2-419974056037', 'train-pipeline-model-7'])}), ('StoppingCondition', {'MaxRuntimeInSeconds': 360000}), ('ResourceConfig', {'VolumeSizeInGB': 30, 'InstanceCount': 1, 'InstanceType': 'ml.m5.xlarge'}), ('RoleArn', 'arn:aws:iam::419974056037:role/service-role/AmazonSageMaker-ExecutionRole-20221004T162466'), ('InputDataConfig', [{'DataSource': {'S3DataSource': {'S3DataType': 'S3Prefix', 'S3Uri': <sagemaker.workflow.properties.Properties object at 0x7f5185585bb0>, 'S3DataDistributionType': 'FullyReplicated'}}, 'ContentType': 'text/csv', 'ChannelName': 'train'}, {'DataSource': {'S3DataSource': {'S3DataType': 'S3Prefix', 'S3Uri': <sagemaker.workflow.properties.Properties object at 0x7f5185585fa0>, 'S3DataDistributionType': 'FullyReplicated'}}, 'ContentType': 'text/csv', 'ChannelName': 'validation'}]), ('HyperParameters', {'mode': 'supervised', 'epochs': '10', 'min_epochs': '5', 'early_stopping': 'True', 'patience': '2', 'learning_rate': '0.01', 'min_count': '2', 'word_ngrams': '2', 'vector_dim': '16'}), ('DebugHookConfig', {'S3OutputPath': Join(on='/', values=['s3://sagemaker-ap-northeast-2-419974056037', 'train-pipeline-model-7']), 'CollectionConfigurations': []}), ('ProfilerConfig', {'S3OutputPath': Join(on='/', values=['s3://sagemaker-ap-northeast-2-419974056037', 'train-pipeline-model-7']), 'DisableProfiler': False})])\n",
      "  \n",
      "== Evaluation Step ==\n"
     ]
    },
    {
     "name": "stderr",
     "output_type": "stream",
     "text": [
      "INFO:sagemaker.processing:runproc.sh uploaded to s3://sagemaker-ap-northeast-2-419974056037/evaluation/source/runproc.sh\n"
     ]
    },
    {
     "name": "stdout",
     "output_type": "stream",
     "text": [
      "\n",
      "Job Name:  evaluation\n",
      "Inputs:  [{'InputName': 'input-1', 'AppManaged': False, 'S3Input': {'S3Uri': <sagemaker.workflow.properties.Properties object at 0x7f5184ee70a0>, 'LocalPath': '/opt/ml/processing/model', 'S3DataType': 'S3Prefix', 'S3InputMode': 'File', 'S3DataDistributionType': 'FullyReplicated', 'S3CompressionType': 'None'}}, {'InputName': 'input-2', 'AppManaged': False, 'S3Input': {'S3Uri': <sagemaker.workflow.properties.Properties object at 0x7f51855844c0>, 'LocalPath': '/opt/ml/processing/test', 'S3DataType': 'S3Prefix', 'S3InputMode': 'File', 'S3DataDistributionType': 'FullyReplicated', 'S3CompressionType': 'None'}}, {'InputName': 'code', 'AppManaged': False, 'S3Input': {'S3Uri': 's3://sagemaker-ap-northeast-2-419974056037/evaluation/source/sourcedir.tar.gz', 'LocalPath': '/opt/ml/processing/input/code/', 'S3DataType': 'S3Prefix', 'S3InputMode': 'File', 'S3DataDistributionType': 'FullyReplicated', 'S3CompressionType': 'None'}}, {'InputName': 'entrypoint', 'AppManaged': False, 'S3Input': {'S3Uri': 's3://sagemaker-ap-northeast-2-419974056037/evaluation/source/runproc.sh', 'LocalPath': '/opt/ml/processing/input/entrypoint', 'S3DataType': 'S3Prefix', 'S3InputMode': 'File', 'S3DataDistributionType': 'FullyReplicated', 'S3CompressionType': 'None'}}]\n",
      "Outputs:  [{'OutputName': 'evaluation-metrics', 'AppManaged': False, 'S3Output': {'S3Uri': Join(on='/', values=['s3://sagemaker-ap-northeast-2-419974056037', 'train-pipeline-model-7', <sagemaker.workflow.execution_variables.ExecutionVariable object at 0x7f518847a3a0>, 'evaluation-metrics']), 'LocalPath': '/opt/ml/processing/evaluation', 'S3UploadMode': 'EndOfJob'}}]\n",
      "   \n",
      "Args:  dict_items([('ProcessingResources', {'ClusterConfig': {'InstanceType': 'ml.g4dn.xlarge', 'InstanceCount': 1, 'VolumeSizeInGB': 30}}), ('AppSpecification', {'ImageUri': '763104351884.dkr.ecr.ap-northeast-2.amazonaws.com/tensorflow-training:2.3-gpu-py37', 'ContainerArguments': ['--s3_model_path', <sagemaker.workflow.properties.Properties object at 0x7f5184ee70a0>, '--region', 'ap-northeast-2', '--model_name', 'model-7'], 'ContainerEntrypoint': ['/bin/bash', '/opt/ml/processing/input/entrypoint/runproc.sh']}), ('RoleArn', 'arn:aws:iam::419974056037:role/service-role/AmazonSageMaker-ExecutionRole-20221004T162466'), ('ProcessingInputs', [{'InputName': 'input-1', 'AppManaged': False, 'S3Input': {'S3Uri': <sagemaker.workflow.properties.Properties object at 0x7f5184ee70a0>, 'LocalPath': '/opt/ml/processing/model', 'S3DataType': 'S3Prefix', 'S3InputMode': 'File', 'S3DataDistributionType': 'FullyReplicated', 'S3CompressionType': 'None'}}, {'InputName': 'input-2', 'AppManaged': False, 'S3Input': {'S3Uri': <sagemaker.workflow.properties.Properties object at 0x7f51855844c0>, 'LocalPath': '/opt/ml/processing/test', 'S3DataType': 'S3Prefix', 'S3InputMode': 'File', 'S3DataDistributionType': 'FullyReplicated', 'S3CompressionType': 'None'}}, {'InputName': 'code', 'AppManaged': False, 'S3Input': {'S3Uri': 's3://sagemaker-ap-northeast-2-419974056037/evaluation/source/sourcedir.tar.gz', 'LocalPath': '/opt/ml/processing/input/code/', 'S3DataType': 'S3Prefix', 'S3InputMode': 'File', 'S3DataDistributionType': 'FullyReplicated', 'S3CompressionType': 'None'}}, {'InputName': 'entrypoint', 'AppManaged': False, 'S3Input': {'S3Uri': 's3://sagemaker-ap-northeast-2-419974056037/evaluation/source/runproc.sh', 'LocalPath': '/opt/ml/processing/input/entrypoint', 'S3DataType': 'S3Prefix', 'S3InputMode': 'File', 'S3DataDistributionType': 'FullyReplicated', 'S3CompressionType': 'None'}}]), ('ProcessingOutputConfig', {'Outputs': [{'OutputName': 'evaluation-metrics', 'AppManaged': False, 'S3Output': {'S3Uri': Join(on='/', values=['s3://sagemaker-ap-northeast-2-419974056037', 'train-pipeline-model-7', <sagemaker.workflow.execution_variables.ExecutionVariable object at 0x7f518847a3a0>, 'evaluation-metrics']), 'LocalPath': '/opt/ml/processing/evaluation', 'S3UploadMode': 'EndOfJob'}}]})])\n",
      "  \n",
      "== Registration Step ==\n"
     ]
    },
    {
     "name": "stderr",
     "output_type": "stream",
     "text": [
      "INFO:sagemaker.processing:Uploaded ./sources/ to s3://sagemaker-ap-northeast-2-419974056037/train-pipeline-model-7/code/eabace17c9345271cf901107138b46a8/sourcedir.tar.gz\n"
     ]
    },
    {
     "name": "stdout",
     "output_type": "stream",
     "text": [
      "\n",
      "Job Name:  preprocessing-model-7\n",
      "Inputs:  [{'InputName': 'input-1', 'AppManaged': False, 'S3Input': {'S3Uri': 's3://sm-pipeline-multi-models-datasets/model-7/amazon_reviews_us_Electronics_v1_00.tsv.gz', 'LocalPath': '/opt/ml/processing/input', 'S3DataType': 'S3Prefix', 'S3InputMode': 'File', 'S3DataDistributionType': 'FullyReplicated', 'S3CompressionType': 'None'}}, {'InputName': 'requirements', 'AppManaged': False, 'S3Input': {'S3Uri': 's3://sagemaker-ap-northeast-2-419974056037/preprocessing-model-7/input/requirements/requirements.txt', 'LocalPath': '/opt/ml/processing/input/requirements', 'S3DataType': 'S3Prefix', 'S3InputMode': 'File', 'S3DataDistributionType': 'FullyReplicated', 'S3CompressionType': 'None'}}, {'InputName': 'code', 'AppManaged': False, 'S3Input': {'S3Uri': 's3://sagemaker-ap-northeast-2-419974056037/train-pipeline-model-7/code/2b3c51df48188408561910efa21ddc30/preprocessing.py', 'LocalPath': '/opt/ml/processing/input/code', 'S3DataType': 'S3Prefix', 'S3InputMode': 'File', 'S3DataDistributionType': 'FullyReplicated', 'S3CompressionType': 'None'}}]\n",
      "Outputs:  [{'OutputName': 'train_data', 'AppManaged': False, 'S3Output': {'S3Uri': Join(on='/', values=['s3://sagemaker-ap-northeast-2-419974056037', 'train-pipeline-model-7', <sagemaker.workflow.execution_variables.ExecutionVariable object at 0x7f518847a3a0>, 'train_data']), 'LocalPath': '/opt/ml/processing/output/train', 'S3UploadMode': 'EndOfJob'}}, {'OutputName': 'validation_data', 'AppManaged': False, 'S3Output': {'S3Uri': Join(on='/', values=['s3://sagemaker-ap-northeast-2-419974056037', 'train-pipeline-model-7', <sagemaker.workflow.execution_variables.ExecutionVariable object at 0x7f518847a3a0>, 'validation_data']), 'LocalPath': '/opt/ml/processing/output/validation', 'S3UploadMode': 'EndOfJob'}}, {'OutputName': 'test_data', 'AppManaged': False, 'S3Output': {'S3Uri': Join(on='/', values=['s3://sagemaker-ap-northeast-2-419974056037', 'train-pipeline-model-7', <sagemaker.workflow.execution_variables.ExecutionVariable object at 0x7f518847a3a0>, 'test_data']), 'LocalPath': '/opt/ml/processing/output/test', 'S3UploadMode': 'EndOfJob'}}]\n"
     ]
    },
    {
     "name": "stderr",
     "output_type": "stream",
     "text": [
      "INFO:sagemaker.processing:runproc.sh uploaded to s3://sagemaker-ap-northeast-2-419974056037/train-pipeline-model-7/code/1071dadab36d48ed1fba97e2ff137bdf/runproc.sh\n",
      "WARNING:sagemaker.estimator:No finished training job found associated with this estimator. Please make sure this estimator is only used for building workflow config\n",
      "WARNING:sagemaker.workflow._utils:Popping out 'CertifyForMarketplace' from the pipeline definition since it will be overridden in pipeline execution time.\n"
     ]
    },
    {
     "name": "stdout",
     "output_type": "stream",
     "text": [
      "\n",
      "Job Name:  evaluation\n",
      "Inputs:  [{'InputName': 'input-1', 'AppManaged': False, 'S3Input': {'S3Uri': <sagemaker.workflow.properties.Properties object at 0x7f5184ee70a0>, 'LocalPath': '/opt/ml/processing/model', 'S3DataType': 'S3Prefix', 'S3InputMode': 'File', 'S3DataDistributionType': 'FullyReplicated', 'S3CompressionType': 'None'}}, {'InputName': 'input-2', 'AppManaged': False, 'S3Input': {'S3Uri': <sagemaker.workflow.properties.Properties object at 0x7f51855844c0>, 'LocalPath': '/opt/ml/processing/test', 'S3DataType': 'S3Prefix', 'S3InputMode': 'File', 'S3DataDistributionType': 'FullyReplicated', 'S3CompressionType': 'None'}}, {'InputName': 'code', 'AppManaged': False, 'S3Input': {'S3Uri': 's3://sagemaker-ap-northeast-2-419974056037/train-pipeline-model-7/code/eabace17c9345271cf901107138b46a8/sourcedir.tar.gz', 'LocalPath': '/opt/ml/processing/input/code/', 'S3DataType': 'S3Prefix', 'S3InputMode': 'File', 'S3DataDistributionType': 'FullyReplicated', 'S3CompressionType': 'None'}}, {'InputName': 'entrypoint', 'AppManaged': False, 'S3Input': {'S3Uri': 's3://sagemaker-ap-northeast-2-419974056037/train-pipeline-model-7/code/1071dadab36d48ed1fba97e2ff137bdf/runproc.sh', 'LocalPath': '/opt/ml/processing/input/entrypoint', 'S3DataType': 'S3Prefix', 'S3InputMode': 'File', 'S3DataDistributionType': 'FullyReplicated', 'S3CompressionType': 'None'}}]\n",
      "Outputs:  [{'OutputName': 'evaluation-metrics', 'AppManaged': False, 'S3Output': {'S3Uri': Join(on='/', values=['s3://sagemaker-ap-northeast-2-419974056037', 'train-pipeline-model-7', <sagemaker.workflow.execution_variables.ExecutionVariable object at 0x7f518847a3a0>, 'evaluation-metrics']), 'LocalPath': '/opt/ml/processing/evaluation', 'S3UploadMode': 'EndOfJob'}}]\n",
      "  \n",
      "== PipeLine Execution info.==\n",
      "{'PipelineArn': 'arn:aws:sagemaker:ap-northeast-2:419974056037:pipeline/train-pipeline-model-7', 'PipelineExecutionArn': 'arn:aws:sagemaker:ap-northeast-2:419974056037:pipeline/train-pipeline-model-7/execution/a37l7i7bly0w', 'PipelineExecutionDisplayName': 'execution-1674699088736', 'PipelineExecutionStatus': 'Executing', 'CreationTime': datetime.datetime(2023, 1, 26, 2, 11, 28, 670000, tzinfo=tzlocal()), 'LastModifiedTime': datetime.datetime(2023, 1, 26, 2, 11, 28, 670000, tzinfo=tzlocal()), 'CreatedBy': {}, 'LastModifiedBy': {}, 'ResponseMetadata': {'RequestId': '1fb7798d-0c3b-4924-8b03-c5e397c8c227', 'HTTPStatusCode': 200, 'HTTPHeaders': {'x-amzn-requestid': '1fb7798d-0c3b-4924-8b03-c5e397c8c227', 'content-type': 'application/x-amz-json-1.1', 'content-length': '417', 'date': 'Thu, 26 Jan 2023 02:11:28 GMT'}, 'RetryAttempts': 0}}\n",
      "========================== \n",
      "\n"
     ]
    },
    {
     "name": "stderr",
     "output_type": "stream",
     "text": [
      "INFO:sagemaker.image_uris:Same images used for training and inference. Defaulting to image scope: inference.\n",
      "INFO:sagemaker.image_uris:Defaulting to the only supported framework/algorithm version: 1.\n",
      "INFO:sagemaker.image_uris:Ignoring unnecessary instance type: None.\n",
      "INFO:sagemaker.image_uris:Defaulting to only available Python version: py3\n"
     ]
    },
    {
     "name": "stdout",
     "output_type": "stream",
     "text": [
      "MODEL-NAME: model-8\n",
      "  Account-ID: 419974056037, \n",
      "  Region: ap-northeast-2, \n",
      "  Role: arn:aws:iam::419974056037:role/service-role/AmazonSageMaker-ExecutionRole-20221004T162466, \n",
      "  Default_bucket: sagemaker-ap-northeast-2-419974056037\n",
      "  pipeline_session: <sagemaker.workflow.pipeline_context.PipelineSession object at 0x7f5187b68400>\n",
      "  \n",
      "== Preprocessing Step ==\n"
     ]
    },
    {
     "name": "stderr",
     "output_type": "stream",
     "text": [
      "INFO:sagemaker.image_uris:image_uri is not presented, retrieving image_uri based on instance_type, framework etc.\n",
      "INFO:sagemaker.processing:Uploaded ./sources/ to s3://sagemaker-ap-northeast-2-419974056037/evaluation/source/sourcedir.tar.gz\n",
      "INFO:sagemaker.processing:runproc.sh uploaded to s3://sagemaker-ap-northeast-2-419974056037/evaluation/source/runproc.sh\n"
     ]
    },
    {
     "name": "stdout",
     "output_type": "stream",
     "text": [
      "\n",
      "Job Name:  preprocessing-model-8\n",
      "Inputs:  [{'InputName': 'input-1', 'AppManaged': False, 'S3Input': {'S3Uri': 's3://sm-pipeline-multi-models-datasets/model-8/amazon_reviews_us_Electronics_v1_00.tsv.gz', 'LocalPath': '/opt/ml/processing/input', 'S3DataType': 'S3Prefix', 'S3InputMode': 'File', 'S3DataDistributionType': 'FullyReplicated', 'S3CompressionType': 'None'}}, {'InputName': 'requirements', 'AppManaged': False, 'S3Input': {'S3Uri': 's3://sagemaker-ap-northeast-2-419974056037/preprocessing-model-8/input/requirements/requirements.txt', 'LocalPath': '/opt/ml/processing/input/requirements', 'S3DataType': 'S3Prefix', 'S3InputMode': 'File', 'S3DataDistributionType': 'FullyReplicated', 'S3CompressionType': 'None'}}, {'InputName': 'code', 'AppManaged': False, 'S3Input': {'S3Uri': 's3://sagemaker-ap-northeast-2-419974056037/preprocessing-model-8/input/code/preprocessing.py', 'LocalPath': '/opt/ml/processing/input/code', 'S3DataType': 'S3Prefix', 'S3InputMode': 'File', 'S3DataDistributionType': 'FullyReplicated', 'S3CompressionType': 'None'}}]\n",
      "Outputs:  [{'OutputName': 'train_data', 'AppManaged': False, 'S3Output': {'S3Uri': Join(on='/', values=['s3://sagemaker-ap-northeast-2-419974056037', 'train-pipeline-model-8', <sagemaker.workflow.execution_variables.ExecutionVariable object at 0x7f518847a3a0>, 'train_data']), 'LocalPath': '/opt/ml/processing/output/train', 'S3UploadMode': 'EndOfJob'}}, {'OutputName': 'validation_data', 'AppManaged': False, 'S3Output': {'S3Uri': Join(on='/', values=['s3://sagemaker-ap-northeast-2-419974056037', 'train-pipeline-model-8', <sagemaker.workflow.execution_variables.ExecutionVariable object at 0x7f518847a3a0>, 'validation_data']), 'LocalPath': '/opt/ml/processing/output/validation', 'S3UploadMode': 'EndOfJob'}}, {'OutputName': 'test_data', 'AppManaged': False, 'S3Output': {'S3Uri': Join(on='/', values=['s3://sagemaker-ap-northeast-2-419974056037', 'train-pipeline-model-8', <sagemaker.workflow.execution_variables.ExecutionVariable object at 0x7f518847a3a0>, 'test_data']), 'LocalPath': '/opt/ml/processing/output/test', 'S3UploadMode': 'EndOfJob'}}]\n",
      "   \n",
      "Args:  dict_items([('ProcessingResources', {'ClusterConfig': {'InstanceType': 'ml.m5.xlarge', 'InstanceCount': 1, 'VolumeSizeInGB': 30}}), ('AppSpecification', {'ImageUri': '366743142698.dkr.ecr.ap-northeast-2.amazonaws.com/sagemaker-scikit-learn:0.20.0-cpu-py3', 'ContainerArguments': ['--input_name', 'amazon_reviews_us_Electronics_v1_00.tsv.gz', '--region', 'ap-northeast-2'], 'ContainerEntrypoint': ['python3', '/opt/ml/processing/input/code/preprocessing.py']}), ('RoleArn', 'arn:aws:iam::419974056037:role/service-role/AmazonSageMaker-ExecutionRole-20221004T162466'), ('ProcessingInputs', [{'InputName': 'input-1', 'AppManaged': False, 'S3Input': {'S3Uri': 's3://sm-pipeline-multi-models-datasets/model-8/amazon_reviews_us_Electronics_v1_00.tsv.gz', 'LocalPath': '/opt/ml/processing/input', 'S3DataType': 'S3Prefix', 'S3InputMode': 'File', 'S3DataDistributionType': 'FullyReplicated', 'S3CompressionType': 'None'}}, {'InputName': 'requirements', 'AppManaged': False, 'S3Input': {'S3Uri': 's3://sagemaker-ap-northeast-2-419974056037/preprocessing-model-8/input/requirements/requirements.txt', 'LocalPath': '/opt/ml/processing/input/requirements', 'S3DataType': 'S3Prefix', 'S3InputMode': 'File', 'S3DataDistributionType': 'FullyReplicated', 'S3CompressionType': 'None'}}, {'InputName': 'code', 'AppManaged': False, 'S3Input': {'S3Uri': 's3://sagemaker-ap-northeast-2-419974056037/preprocessing-model-8/input/code/preprocessing.py', 'LocalPath': '/opt/ml/processing/input/code', 'S3DataType': 'S3Prefix', 'S3InputMode': 'File', 'S3DataDistributionType': 'FullyReplicated', 'S3CompressionType': 'None'}}]), ('ProcessingOutputConfig', {'Outputs': [{'OutputName': 'train_data', 'AppManaged': False, 'S3Output': {'S3Uri': Join(on='/', values=['s3://sagemaker-ap-northeast-2-419974056037', 'train-pipeline-model-8', <sagemaker.workflow.execution_variables.ExecutionVariable object at 0x7f518847a3a0>, 'train_data']), 'LocalPath': '/opt/ml/processing/output/train', 'S3UploadMode': 'EndOfJob'}}, {'OutputName': 'validation_data', 'AppManaged': False, 'S3Output': {'S3Uri': Join(on='/', values=['s3://sagemaker-ap-northeast-2-419974056037', 'train-pipeline-model-8', <sagemaker.workflow.execution_variables.ExecutionVariable object at 0x7f518847a3a0>, 'validation_data']), 'LocalPath': '/opt/ml/processing/output/validation', 'S3UploadMode': 'EndOfJob'}}, {'OutputName': 'test_data', 'AppManaged': False, 'S3Output': {'S3Uri': Join(on='/', values=['s3://sagemaker-ap-northeast-2-419974056037', 'train-pipeline-model-8', <sagemaker.workflow.execution_variables.ExecutionVariable object at 0x7f518847a3a0>, 'test_data']), 'LocalPath': '/opt/ml/processing/output/test', 'S3UploadMode': 'EndOfJob'}}]})])\n",
      "  \n",
      "== Training Step ==\n",
      "   \n",
      "Args:  dict_items([('AlgorithmSpecification', {'TrainingInputMode': 'File', 'TrainingImage': '306986355934.dkr.ecr.ap-northeast-2.amazonaws.com/blazingtext:1'}), ('OutputDataConfig', {'S3OutputPath': Join(on='/', values=['s3://sagemaker-ap-northeast-2-419974056037', 'train-pipeline-model-8'])}), ('StoppingCondition', {'MaxRuntimeInSeconds': 360000}), ('ResourceConfig', {'VolumeSizeInGB': 30, 'InstanceCount': 1, 'InstanceType': 'ml.m5.xlarge'}), ('RoleArn', 'arn:aws:iam::419974056037:role/service-role/AmazonSageMaker-ExecutionRole-20221004T162466'), ('InputDataConfig', [{'DataSource': {'S3DataSource': {'S3DataType': 'S3Prefix', 'S3Uri': <sagemaker.workflow.properties.Properties object at 0x7f51855dcee0>, 'S3DataDistributionType': 'FullyReplicated'}}, 'ContentType': 'text/csv', 'ChannelName': 'train'}, {'DataSource': {'S3DataSource': {'S3DataType': 'S3Prefix', 'S3Uri': <sagemaker.workflow.properties.Properties object at 0x7f51855dcbe0>, 'S3DataDistributionType': 'FullyReplicated'}}, 'ContentType': 'text/csv', 'ChannelName': 'validation'}]), ('HyperParameters', {'mode': 'supervised', 'epochs': '10', 'min_epochs': '5', 'early_stopping': 'True', 'patience': '2', 'learning_rate': '0.01', 'min_count': '2', 'word_ngrams': '2', 'vector_dim': '16'}), ('DebugHookConfig', {'S3OutputPath': Join(on='/', values=['s3://sagemaker-ap-northeast-2-419974056037', 'train-pipeline-model-8']), 'CollectionConfigurations': []}), ('ProfilerConfig', {'S3OutputPath': Join(on='/', values=['s3://sagemaker-ap-northeast-2-419974056037', 'train-pipeline-model-8']), 'DisableProfiler': False})])\n",
      "  \n",
      "== Evaluation Step ==\n",
      "\n",
      "Job Name:  evaluation\n",
      "Inputs:  [{'InputName': 'input-1', 'AppManaged': False, 'S3Input': {'S3Uri': <sagemaker.workflow.properties.Properties object at 0x7f5185268f10>, 'LocalPath': '/opt/ml/processing/model', 'S3DataType': 'S3Prefix', 'S3InputMode': 'File', 'S3DataDistributionType': 'FullyReplicated', 'S3CompressionType': 'None'}}, {'InputName': 'input-2', 'AppManaged': False, 'S3Input': {'S3Uri': <sagemaker.workflow.properties.Properties object at 0x7f5187143880>, 'LocalPath': '/opt/ml/processing/test', 'S3DataType': 'S3Prefix', 'S3InputMode': 'File', 'S3DataDistributionType': 'FullyReplicated', 'S3CompressionType': 'None'}}, {'InputName': 'code', 'AppManaged': False, 'S3Input': {'S3Uri': 's3://sagemaker-ap-northeast-2-419974056037/evaluation/source/sourcedir.tar.gz', 'LocalPath': '/opt/ml/processing/input/code/', 'S3DataType': 'S3Prefix', 'S3InputMode': 'File', 'S3DataDistributionType': 'FullyReplicated', 'S3CompressionType': 'None'}}, {'InputName': 'entrypoint', 'AppManaged': False, 'S3Input': {'S3Uri': 's3://sagemaker-ap-northeast-2-419974056037/evaluation/source/runproc.sh', 'LocalPath': '/opt/ml/processing/input/entrypoint', 'S3DataType': 'S3Prefix', 'S3InputMode': 'File', 'S3DataDistributionType': 'FullyReplicated', 'S3CompressionType': 'None'}}]\n",
      "Outputs:  [{'OutputName': 'evaluation-metrics', 'AppManaged': False, 'S3Output': {'S3Uri': Join(on='/', values=['s3://sagemaker-ap-northeast-2-419974056037', 'train-pipeline-model-8', <sagemaker.workflow.execution_variables.ExecutionVariable object at 0x7f518847a3a0>, 'evaluation-metrics']), 'LocalPath': '/opt/ml/processing/evaluation', 'S3UploadMode': 'EndOfJob'}}]\n",
      "   \n",
      "Args:  dict_items([('ProcessingResources', {'ClusterConfig': {'InstanceType': 'ml.g4dn.xlarge', 'InstanceCount': 1, 'VolumeSizeInGB': 30}}), ('AppSpecification', {'ImageUri': '763104351884.dkr.ecr.ap-northeast-2.amazonaws.com/tensorflow-training:2.3-gpu-py37', 'ContainerArguments': ['--s3_model_path', <sagemaker.workflow.properties.Properties object at 0x7f5185268f10>, '--region', 'ap-northeast-2', '--model_name', 'model-8'], 'ContainerEntrypoint': ['/bin/bash', '/opt/ml/processing/input/entrypoint/runproc.sh']}), ('RoleArn', 'arn:aws:iam::419974056037:role/service-role/AmazonSageMaker-ExecutionRole-20221004T162466'), ('ProcessingInputs', [{'InputName': 'input-1', 'AppManaged': False, 'S3Input': {'S3Uri': <sagemaker.workflow.properties.Properties object at 0x7f5185268f10>, 'LocalPath': '/opt/ml/processing/model', 'S3DataType': 'S3Prefix', 'S3InputMode': 'File', 'S3DataDistributionType': 'FullyReplicated', 'S3CompressionType': 'None'}}, {'InputName': 'input-2', 'AppManaged': False, 'S3Input': {'S3Uri': <sagemaker.workflow.properties.Properties object at 0x7f5187143880>, 'LocalPath': '/opt/ml/processing/test', 'S3DataType': 'S3Prefix', 'S3InputMode': 'File', 'S3DataDistributionType': 'FullyReplicated', 'S3CompressionType': 'None'}}, {'InputName': 'code', 'AppManaged': False, 'S3Input': {'S3Uri': 's3://sagemaker-ap-northeast-2-419974056037/evaluation/source/sourcedir.tar.gz', 'LocalPath': '/opt/ml/processing/input/code/', 'S3DataType': 'S3Prefix', 'S3InputMode': 'File', 'S3DataDistributionType': 'FullyReplicated', 'S3CompressionType': 'None'}}, {'InputName': 'entrypoint', 'AppManaged': False, 'S3Input': {'S3Uri': 's3://sagemaker-ap-northeast-2-419974056037/evaluation/source/runproc.sh', 'LocalPath': '/opt/ml/processing/input/entrypoint', 'S3DataType': 'S3Prefix', 'S3InputMode': 'File', 'S3DataDistributionType': 'FullyReplicated', 'S3CompressionType': 'None'}}]), ('ProcessingOutputConfig', {'Outputs': [{'OutputName': 'evaluation-metrics', 'AppManaged': False, 'S3Output': {'S3Uri': Join(on='/', values=['s3://sagemaker-ap-northeast-2-419974056037', 'train-pipeline-model-8', <sagemaker.workflow.execution_variables.ExecutionVariable object at 0x7f518847a3a0>, 'evaluation-metrics']), 'LocalPath': '/opt/ml/processing/evaluation', 'S3UploadMode': 'EndOfJob'}}]})])\n",
      "  \n",
      "== Registration Step ==\n"
     ]
    },
    {
     "name": "stderr",
     "output_type": "stream",
     "text": [
      "INFO:sagemaker.processing:Uploaded ./sources/ to s3://sagemaker-ap-northeast-2-419974056037/train-pipeline-model-8/code/eabace17c9345271cf901107138b46a8/sourcedir.tar.gz\n",
      "INFO:sagemaker.processing:runproc.sh uploaded to s3://sagemaker-ap-northeast-2-419974056037/train-pipeline-model-8/code/1071dadab36d48ed1fba97e2ff137bdf/runproc.sh\n",
      "WARNING:sagemaker.estimator:No finished training job found associated with this estimator. Please make sure this estimator is only used for building workflow config\n",
      "WARNING:sagemaker.workflow._utils:Popping out 'CertifyForMarketplace' from the pipeline definition since it will be overridden in pipeline execution time.\n"
     ]
    },
    {
     "name": "stdout",
     "output_type": "stream",
     "text": [
      "\n",
      "Job Name:  preprocessing-model-8\n",
      "Inputs:  [{'InputName': 'input-1', 'AppManaged': False, 'S3Input': {'S3Uri': 's3://sm-pipeline-multi-models-datasets/model-8/amazon_reviews_us_Electronics_v1_00.tsv.gz', 'LocalPath': '/opt/ml/processing/input', 'S3DataType': 'S3Prefix', 'S3InputMode': 'File', 'S3DataDistributionType': 'FullyReplicated', 'S3CompressionType': 'None'}}, {'InputName': 'requirements', 'AppManaged': False, 'S3Input': {'S3Uri': 's3://sagemaker-ap-northeast-2-419974056037/preprocessing-model-8/input/requirements/requirements.txt', 'LocalPath': '/opt/ml/processing/input/requirements', 'S3DataType': 'S3Prefix', 'S3InputMode': 'File', 'S3DataDistributionType': 'FullyReplicated', 'S3CompressionType': 'None'}}, {'InputName': 'code', 'AppManaged': False, 'S3Input': {'S3Uri': 's3://sagemaker-ap-northeast-2-419974056037/train-pipeline-model-8/code/2b3c51df48188408561910efa21ddc30/preprocessing.py', 'LocalPath': '/opt/ml/processing/input/code', 'S3DataType': 'S3Prefix', 'S3InputMode': 'File', 'S3DataDistributionType': 'FullyReplicated', 'S3CompressionType': 'None'}}]\n",
      "Outputs:  [{'OutputName': 'train_data', 'AppManaged': False, 'S3Output': {'S3Uri': Join(on='/', values=['s3://sagemaker-ap-northeast-2-419974056037', 'train-pipeline-model-8', <sagemaker.workflow.execution_variables.ExecutionVariable object at 0x7f518847a3a0>, 'train_data']), 'LocalPath': '/opt/ml/processing/output/train', 'S3UploadMode': 'EndOfJob'}}, {'OutputName': 'validation_data', 'AppManaged': False, 'S3Output': {'S3Uri': Join(on='/', values=['s3://sagemaker-ap-northeast-2-419974056037', 'train-pipeline-model-8', <sagemaker.workflow.execution_variables.ExecutionVariable object at 0x7f518847a3a0>, 'validation_data']), 'LocalPath': '/opt/ml/processing/output/validation', 'S3UploadMode': 'EndOfJob'}}, {'OutputName': 'test_data', 'AppManaged': False, 'S3Output': {'S3Uri': Join(on='/', values=['s3://sagemaker-ap-northeast-2-419974056037', 'train-pipeline-model-8', <sagemaker.workflow.execution_variables.ExecutionVariable object at 0x7f518847a3a0>, 'test_data']), 'LocalPath': '/opt/ml/processing/output/test', 'S3UploadMode': 'EndOfJob'}}]\n",
      "\n",
      "Job Name:  evaluation\n",
      "Inputs:  [{'InputName': 'input-1', 'AppManaged': False, 'S3Input': {'S3Uri': <sagemaker.workflow.properties.Properties object at 0x7f5185268f10>, 'LocalPath': '/opt/ml/processing/model', 'S3DataType': 'S3Prefix', 'S3InputMode': 'File', 'S3DataDistributionType': 'FullyReplicated', 'S3CompressionType': 'None'}}, {'InputName': 'input-2', 'AppManaged': False, 'S3Input': {'S3Uri': <sagemaker.workflow.properties.Properties object at 0x7f5187143880>, 'LocalPath': '/opt/ml/processing/test', 'S3DataType': 'S3Prefix', 'S3InputMode': 'File', 'S3DataDistributionType': 'FullyReplicated', 'S3CompressionType': 'None'}}, {'InputName': 'code', 'AppManaged': False, 'S3Input': {'S3Uri': 's3://sagemaker-ap-northeast-2-419974056037/train-pipeline-model-8/code/eabace17c9345271cf901107138b46a8/sourcedir.tar.gz', 'LocalPath': '/opt/ml/processing/input/code/', 'S3DataType': 'S3Prefix', 'S3InputMode': 'File', 'S3DataDistributionType': 'FullyReplicated', 'S3CompressionType': 'None'}}, {'InputName': 'entrypoint', 'AppManaged': False, 'S3Input': {'S3Uri': 's3://sagemaker-ap-northeast-2-419974056037/train-pipeline-model-8/code/1071dadab36d48ed1fba97e2ff137bdf/runproc.sh', 'LocalPath': '/opt/ml/processing/input/entrypoint', 'S3DataType': 'S3Prefix', 'S3InputMode': 'File', 'S3DataDistributionType': 'FullyReplicated', 'S3CompressionType': 'None'}}]\n",
      "Outputs:  [{'OutputName': 'evaluation-metrics', 'AppManaged': False, 'S3Output': {'S3Uri': Join(on='/', values=['s3://sagemaker-ap-northeast-2-419974056037', 'train-pipeline-model-8', <sagemaker.workflow.execution_variables.ExecutionVariable object at 0x7f518847a3a0>, 'evaluation-metrics']), 'LocalPath': '/opt/ml/processing/evaluation', 'S3UploadMode': 'EndOfJob'}}]\n",
      "  \n",
      "== PipeLine Execution info.==\n",
      "{'PipelineArn': 'arn:aws:sagemaker:ap-northeast-2:419974056037:pipeline/train-pipeline-model-8', 'PipelineExecutionArn': 'arn:aws:sagemaker:ap-northeast-2:419974056037:pipeline/train-pipeline-model-8/execution/nm8lz9kyjnjd', 'PipelineExecutionDisplayName': 'execution-1674699090312', 'PipelineExecutionStatus': 'Executing', 'CreationTime': datetime.datetime(2023, 1, 26, 2, 11, 30, 210000, tzinfo=tzlocal()), 'LastModifiedTime': datetime.datetime(2023, 1, 26, 2, 11, 30, 210000, tzinfo=tzlocal()), 'CreatedBy': {}, 'LastModifiedBy': {}, 'ResponseMetadata': {'RequestId': '85fedd80-11ac-4d08-9673-a9c14b23dd4f', 'HTTPStatusCode': 200, 'HTTPHeaders': {'x-amzn-requestid': '85fedd80-11ac-4d08-9673-a9c14b23dd4f', 'content-type': 'application/x-amz-json-1.1', 'content-length': '417', 'date': 'Thu, 26 Jan 2023 02:11:29 GMT'}, 'RetryAttempts': 0}}\n",
      "========================== \n",
      "\n"
     ]
    },
    {
     "name": "stderr",
     "output_type": "stream",
     "text": [
      "INFO:sagemaker.image_uris:Same images used for training and inference. Defaulting to image scope: inference.\n",
      "INFO:sagemaker.image_uris:Defaulting to the only supported framework/algorithm version: 1.\n",
      "INFO:sagemaker.image_uris:Ignoring unnecessary instance type: None.\n",
      "INFO:sagemaker.image_uris:Defaulting to only available Python version: py3\n"
     ]
    },
    {
     "name": "stdout",
     "output_type": "stream",
     "text": [
      "MODEL-NAME: model-9\n",
      "  Account-ID: 419974056037, \n",
      "  Region: ap-northeast-2, \n",
      "  Role: arn:aws:iam::419974056037:role/service-role/AmazonSageMaker-ExecutionRole-20221004T162466, \n",
      "  Default_bucket: sagemaker-ap-northeast-2-419974056037\n",
      "  pipeline_session: <sagemaker.workflow.pipeline_context.PipelineSession object at 0x7f5184fc2850>\n",
      "  \n",
      "== Preprocessing Step ==\n"
     ]
    },
    {
     "name": "stderr",
     "output_type": "stream",
     "text": [
      "INFO:sagemaker.image_uris:image_uri is not presented, retrieving image_uri based on instance_type, framework etc.\n",
      "INFO:sagemaker.processing:Uploaded ./sources/ to s3://sagemaker-ap-northeast-2-419974056037/evaluation/source/sourcedir.tar.gz\n"
     ]
    },
    {
     "name": "stdout",
     "output_type": "stream",
     "text": [
      "\n",
      "Job Name:  preprocessing-model-9\n",
      "Inputs:  [{'InputName': 'input-1', 'AppManaged': False, 'S3Input': {'S3Uri': 's3://sm-pipeline-multi-models-datasets/model-9/amazon_reviews_us_Electronics_v1_00.tsv.gz', 'LocalPath': '/opt/ml/processing/input', 'S3DataType': 'S3Prefix', 'S3InputMode': 'File', 'S3DataDistributionType': 'FullyReplicated', 'S3CompressionType': 'None'}}, {'InputName': 'requirements', 'AppManaged': False, 'S3Input': {'S3Uri': 's3://sagemaker-ap-northeast-2-419974056037/preprocessing-model-9/input/requirements/requirements.txt', 'LocalPath': '/opt/ml/processing/input/requirements', 'S3DataType': 'S3Prefix', 'S3InputMode': 'File', 'S3DataDistributionType': 'FullyReplicated', 'S3CompressionType': 'None'}}, {'InputName': 'code', 'AppManaged': False, 'S3Input': {'S3Uri': 's3://sagemaker-ap-northeast-2-419974056037/preprocessing-model-9/input/code/preprocessing.py', 'LocalPath': '/opt/ml/processing/input/code', 'S3DataType': 'S3Prefix', 'S3InputMode': 'File', 'S3DataDistributionType': 'FullyReplicated', 'S3CompressionType': 'None'}}]\n",
      "Outputs:  [{'OutputName': 'train_data', 'AppManaged': False, 'S3Output': {'S3Uri': Join(on='/', values=['s3://sagemaker-ap-northeast-2-419974056037', 'train-pipeline-model-9', <sagemaker.workflow.execution_variables.ExecutionVariable object at 0x7f518847a3a0>, 'train_data']), 'LocalPath': '/opt/ml/processing/output/train', 'S3UploadMode': 'EndOfJob'}}, {'OutputName': 'validation_data', 'AppManaged': False, 'S3Output': {'S3Uri': Join(on='/', values=['s3://sagemaker-ap-northeast-2-419974056037', 'train-pipeline-model-9', <sagemaker.workflow.execution_variables.ExecutionVariable object at 0x7f518847a3a0>, 'validation_data']), 'LocalPath': '/opt/ml/processing/output/validation', 'S3UploadMode': 'EndOfJob'}}, {'OutputName': 'test_data', 'AppManaged': False, 'S3Output': {'S3Uri': Join(on='/', values=['s3://sagemaker-ap-northeast-2-419974056037', 'train-pipeline-model-9', <sagemaker.workflow.execution_variables.ExecutionVariable object at 0x7f518847a3a0>, 'test_data']), 'LocalPath': '/opt/ml/processing/output/test', 'S3UploadMode': 'EndOfJob'}}]\n",
      "   \n",
      "Args:  dict_items([('ProcessingResources', {'ClusterConfig': {'InstanceType': 'ml.m5.xlarge', 'InstanceCount': 1, 'VolumeSizeInGB': 30}}), ('AppSpecification', {'ImageUri': '366743142698.dkr.ecr.ap-northeast-2.amazonaws.com/sagemaker-scikit-learn:0.20.0-cpu-py3', 'ContainerArguments': ['--input_name', 'amazon_reviews_us_Electronics_v1_00.tsv.gz', '--region', 'ap-northeast-2'], 'ContainerEntrypoint': ['python3', '/opt/ml/processing/input/code/preprocessing.py']}), ('RoleArn', 'arn:aws:iam::419974056037:role/service-role/AmazonSageMaker-ExecutionRole-20221004T162466'), ('ProcessingInputs', [{'InputName': 'input-1', 'AppManaged': False, 'S3Input': {'S3Uri': 's3://sm-pipeline-multi-models-datasets/model-9/amazon_reviews_us_Electronics_v1_00.tsv.gz', 'LocalPath': '/opt/ml/processing/input', 'S3DataType': 'S3Prefix', 'S3InputMode': 'File', 'S3DataDistributionType': 'FullyReplicated', 'S3CompressionType': 'None'}}, {'InputName': 'requirements', 'AppManaged': False, 'S3Input': {'S3Uri': 's3://sagemaker-ap-northeast-2-419974056037/preprocessing-model-9/input/requirements/requirements.txt', 'LocalPath': '/opt/ml/processing/input/requirements', 'S3DataType': 'S3Prefix', 'S3InputMode': 'File', 'S3DataDistributionType': 'FullyReplicated', 'S3CompressionType': 'None'}}, {'InputName': 'code', 'AppManaged': False, 'S3Input': {'S3Uri': 's3://sagemaker-ap-northeast-2-419974056037/preprocessing-model-9/input/code/preprocessing.py', 'LocalPath': '/opt/ml/processing/input/code', 'S3DataType': 'S3Prefix', 'S3InputMode': 'File', 'S3DataDistributionType': 'FullyReplicated', 'S3CompressionType': 'None'}}]), ('ProcessingOutputConfig', {'Outputs': [{'OutputName': 'train_data', 'AppManaged': False, 'S3Output': {'S3Uri': Join(on='/', values=['s3://sagemaker-ap-northeast-2-419974056037', 'train-pipeline-model-9', <sagemaker.workflow.execution_variables.ExecutionVariable object at 0x7f518847a3a0>, 'train_data']), 'LocalPath': '/opt/ml/processing/output/train', 'S3UploadMode': 'EndOfJob'}}, {'OutputName': 'validation_data', 'AppManaged': False, 'S3Output': {'S3Uri': Join(on='/', values=['s3://sagemaker-ap-northeast-2-419974056037', 'train-pipeline-model-9', <sagemaker.workflow.execution_variables.ExecutionVariable object at 0x7f518847a3a0>, 'validation_data']), 'LocalPath': '/opt/ml/processing/output/validation', 'S3UploadMode': 'EndOfJob'}}, {'OutputName': 'test_data', 'AppManaged': False, 'S3Output': {'S3Uri': Join(on='/', values=['s3://sagemaker-ap-northeast-2-419974056037', 'train-pipeline-model-9', <sagemaker.workflow.execution_variables.ExecutionVariable object at 0x7f518847a3a0>, 'test_data']), 'LocalPath': '/opt/ml/processing/output/test', 'S3UploadMode': 'EndOfJob'}}]})])\n",
      "  \n",
      "== Training Step ==\n",
      "   \n",
      "Args:  dict_items([('AlgorithmSpecification', {'TrainingInputMode': 'File', 'TrainingImage': '306986355934.dkr.ecr.ap-northeast-2.amazonaws.com/blazingtext:1'}), ('OutputDataConfig', {'S3OutputPath': Join(on='/', values=['s3://sagemaker-ap-northeast-2-419974056037', 'train-pipeline-model-9'])}), ('StoppingCondition', {'MaxRuntimeInSeconds': 360000}), ('ResourceConfig', {'VolumeSizeInGB': 30, 'InstanceCount': 1, 'InstanceType': 'ml.m5.xlarge'}), ('RoleArn', 'arn:aws:iam::419974056037:role/service-role/AmazonSageMaker-ExecutionRole-20221004T162466'), ('InputDataConfig', [{'DataSource': {'S3DataSource': {'S3DataType': 'S3Prefix', 'S3Uri': <sagemaker.workflow.properties.Properties object at 0x7f518529baf0>, 'S3DataDistributionType': 'FullyReplicated'}}, 'ContentType': 'text/csv', 'ChannelName': 'train'}, {'DataSource': {'S3DataSource': {'S3DataType': 'S3Prefix', 'S3Uri': <sagemaker.workflow.properties.Properties object at 0x7f518529b910>, 'S3DataDistributionType': 'FullyReplicated'}}, 'ContentType': 'text/csv', 'ChannelName': 'validation'}]), ('HyperParameters', {'mode': 'supervised', 'epochs': '10', 'min_epochs': '5', 'early_stopping': 'True', 'patience': '2', 'learning_rate': '0.01', 'min_count': '2', 'word_ngrams': '2', 'vector_dim': '16'}), ('DebugHookConfig', {'S3OutputPath': Join(on='/', values=['s3://sagemaker-ap-northeast-2-419974056037', 'train-pipeline-model-9']), 'CollectionConfigurations': []}), ('ProfilerConfig', {'S3OutputPath': Join(on='/', values=['s3://sagemaker-ap-northeast-2-419974056037', 'train-pipeline-model-9']), 'DisableProfiler': False})])\n",
      "  \n",
      "== Evaluation Step ==\n"
     ]
    },
    {
     "name": "stderr",
     "output_type": "stream",
     "text": [
      "INFO:sagemaker.processing:runproc.sh uploaded to s3://sagemaker-ap-northeast-2-419974056037/evaluation/source/runproc.sh\n"
     ]
    },
    {
     "name": "stdout",
     "output_type": "stream",
     "text": [
      "\n",
      "Job Name:  evaluation\n",
      "Inputs:  [{'InputName': 'input-1', 'AppManaged': False, 'S3Input': {'S3Uri': <sagemaker.workflow.properties.Properties object at 0x7f5184e227f0>, 'LocalPath': '/opt/ml/processing/model', 'S3DataType': 'S3Prefix', 'S3InputMode': 'File', 'S3DataDistributionType': 'FullyReplicated', 'S3CompressionType': 'None'}}, {'InputName': 'input-2', 'AppManaged': False, 'S3Input': {'S3Uri': <sagemaker.workflow.properties.Properties object at 0x7f5184edc280>, 'LocalPath': '/opt/ml/processing/test', 'S3DataType': 'S3Prefix', 'S3InputMode': 'File', 'S3DataDistributionType': 'FullyReplicated', 'S3CompressionType': 'None'}}, {'InputName': 'code', 'AppManaged': False, 'S3Input': {'S3Uri': 's3://sagemaker-ap-northeast-2-419974056037/evaluation/source/sourcedir.tar.gz', 'LocalPath': '/opt/ml/processing/input/code/', 'S3DataType': 'S3Prefix', 'S3InputMode': 'File', 'S3DataDistributionType': 'FullyReplicated', 'S3CompressionType': 'None'}}, {'InputName': 'entrypoint', 'AppManaged': False, 'S3Input': {'S3Uri': 's3://sagemaker-ap-northeast-2-419974056037/evaluation/source/runproc.sh', 'LocalPath': '/opt/ml/processing/input/entrypoint', 'S3DataType': 'S3Prefix', 'S3InputMode': 'File', 'S3DataDistributionType': 'FullyReplicated', 'S3CompressionType': 'None'}}]\n",
      "Outputs:  [{'OutputName': 'evaluation-metrics', 'AppManaged': False, 'S3Output': {'S3Uri': Join(on='/', values=['s3://sagemaker-ap-northeast-2-419974056037', 'train-pipeline-model-9', <sagemaker.workflow.execution_variables.ExecutionVariable object at 0x7f518847a3a0>, 'evaluation-metrics']), 'LocalPath': '/opt/ml/processing/evaluation', 'S3UploadMode': 'EndOfJob'}}]\n",
      "   \n",
      "Args:  dict_items([('ProcessingResources', {'ClusterConfig': {'InstanceType': 'ml.g4dn.xlarge', 'InstanceCount': 1, 'VolumeSizeInGB': 30}}), ('AppSpecification', {'ImageUri': '763104351884.dkr.ecr.ap-northeast-2.amazonaws.com/tensorflow-training:2.3-gpu-py37', 'ContainerArguments': ['--s3_model_path', <sagemaker.workflow.properties.Properties object at 0x7f5184e227f0>, '--region', 'ap-northeast-2', '--model_name', 'model-9'], 'ContainerEntrypoint': ['/bin/bash', '/opt/ml/processing/input/entrypoint/runproc.sh']}), ('RoleArn', 'arn:aws:iam::419974056037:role/service-role/AmazonSageMaker-ExecutionRole-20221004T162466'), ('ProcessingInputs', [{'InputName': 'input-1', 'AppManaged': False, 'S3Input': {'S3Uri': <sagemaker.workflow.properties.Properties object at 0x7f5184e227f0>, 'LocalPath': '/opt/ml/processing/model', 'S3DataType': 'S3Prefix', 'S3InputMode': 'File', 'S3DataDistributionType': 'FullyReplicated', 'S3CompressionType': 'None'}}, {'InputName': 'input-2', 'AppManaged': False, 'S3Input': {'S3Uri': <sagemaker.workflow.properties.Properties object at 0x7f5184edc280>, 'LocalPath': '/opt/ml/processing/test', 'S3DataType': 'S3Prefix', 'S3InputMode': 'File', 'S3DataDistributionType': 'FullyReplicated', 'S3CompressionType': 'None'}}, {'InputName': 'code', 'AppManaged': False, 'S3Input': {'S3Uri': 's3://sagemaker-ap-northeast-2-419974056037/evaluation/source/sourcedir.tar.gz', 'LocalPath': '/opt/ml/processing/input/code/', 'S3DataType': 'S3Prefix', 'S3InputMode': 'File', 'S3DataDistributionType': 'FullyReplicated', 'S3CompressionType': 'None'}}, {'InputName': 'entrypoint', 'AppManaged': False, 'S3Input': {'S3Uri': 's3://sagemaker-ap-northeast-2-419974056037/evaluation/source/runproc.sh', 'LocalPath': '/opt/ml/processing/input/entrypoint', 'S3DataType': 'S3Prefix', 'S3InputMode': 'File', 'S3DataDistributionType': 'FullyReplicated', 'S3CompressionType': 'None'}}]), ('ProcessingOutputConfig', {'Outputs': [{'OutputName': 'evaluation-metrics', 'AppManaged': False, 'S3Output': {'S3Uri': Join(on='/', values=['s3://sagemaker-ap-northeast-2-419974056037', 'train-pipeline-model-9', <sagemaker.workflow.execution_variables.ExecutionVariable object at 0x7f518847a3a0>, 'evaluation-metrics']), 'LocalPath': '/opt/ml/processing/evaluation', 'S3UploadMode': 'EndOfJob'}}]})])\n",
      "  \n",
      "== Registration Step ==\n"
     ]
    },
    {
     "name": "stderr",
     "output_type": "stream",
     "text": [
      "INFO:sagemaker.processing:Uploaded ./sources/ to s3://sagemaker-ap-northeast-2-419974056037/train-pipeline-model-9/code/eabace17c9345271cf901107138b46a8/sourcedir.tar.gz\n",
      "INFO:sagemaker.processing:runproc.sh uploaded to s3://sagemaker-ap-northeast-2-419974056037/train-pipeline-model-9/code/1071dadab36d48ed1fba97e2ff137bdf/runproc.sh\n",
      "WARNING:sagemaker.estimator:No finished training job found associated with this estimator. Please make sure this estimator is only used for building workflow config\n",
      "WARNING:sagemaker.workflow._utils:Popping out 'CertifyForMarketplace' from the pipeline definition since it will be overridden in pipeline execution time.\n"
     ]
    },
    {
     "name": "stdout",
     "output_type": "stream",
     "text": [
      "\n",
      "Job Name:  preprocessing-model-9\n",
      "Inputs:  [{'InputName': 'input-1', 'AppManaged': False, 'S3Input': {'S3Uri': 's3://sm-pipeline-multi-models-datasets/model-9/amazon_reviews_us_Electronics_v1_00.tsv.gz', 'LocalPath': '/opt/ml/processing/input', 'S3DataType': 'S3Prefix', 'S3InputMode': 'File', 'S3DataDistributionType': 'FullyReplicated', 'S3CompressionType': 'None'}}, {'InputName': 'requirements', 'AppManaged': False, 'S3Input': {'S3Uri': 's3://sagemaker-ap-northeast-2-419974056037/preprocessing-model-9/input/requirements/requirements.txt', 'LocalPath': '/opt/ml/processing/input/requirements', 'S3DataType': 'S3Prefix', 'S3InputMode': 'File', 'S3DataDistributionType': 'FullyReplicated', 'S3CompressionType': 'None'}}, {'InputName': 'code', 'AppManaged': False, 'S3Input': {'S3Uri': 's3://sagemaker-ap-northeast-2-419974056037/train-pipeline-model-9/code/2b3c51df48188408561910efa21ddc30/preprocessing.py', 'LocalPath': '/opt/ml/processing/input/code', 'S3DataType': 'S3Prefix', 'S3InputMode': 'File', 'S3DataDistributionType': 'FullyReplicated', 'S3CompressionType': 'None'}}]\n",
      "Outputs:  [{'OutputName': 'train_data', 'AppManaged': False, 'S3Output': {'S3Uri': Join(on='/', values=['s3://sagemaker-ap-northeast-2-419974056037', 'train-pipeline-model-9', <sagemaker.workflow.execution_variables.ExecutionVariable object at 0x7f518847a3a0>, 'train_data']), 'LocalPath': '/opt/ml/processing/output/train', 'S3UploadMode': 'EndOfJob'}}, {'OutputName': 'validation_data', 'AppManaged': False, 'S3Output': {'S3Uri': Join(on='/', values=['s3://sagemaker-ap-northeast-2-419974056037', 'train-pipeline-model-9', <sagemaker.workflow.execution_variables.ExecutionVariable object at 0x7f518847a3a0>, 'validation_data']), 'LocalPath': '/opt/ml/processing/output/validation', 'S3UploadMode': 'EndOfJob'}}, {'OutputName': 'test_data', 'AppManaged': False, 'S3Output': {'S3Uri': Join(on='/', values=['s3://sagemaker-ap-northeast-2-419974056037', 'train-pipeline-model-9', <sagemaker.workflow.execution_variables.ExecutionVariable object at 0x7f518847a3a0>, 'test_data']), 'LocalPath': '/opt/ml/processing/output/test', 'S3UploadMode': 'EndOfJob'}}]\n",
      "\n",
      "Job Name:  evaluation\n",
      "Inputs:  [{'InputName': 'input-1', 'AppManaged': False, 'S3Input': {'S3Uri': <sagemaker.workflow.properties.Properties object at 0x7f5184e227f0>, 'LocalPath': '/opt/ml/processing/model', 'S3DataType': 'S3Prefix', 'S3InputMode': 'File', 'S3DataDistributionType': 'FullyReplicated', 'S3CompressionType': 'None'}}, {'InputName': 'input-2', 'AppManaged': False, 'S3Input': {'S3Uri': <sagemaker.workflow.properties.Properties object at 0x7f5184edc280>, 'LocalPath': '/opt/ml/processing/test', 'S3DataType': 'S3Prefix', 'S3InputMode': 'File', 'S3DataDistributionType': 'FullyReplicated', 'S3CompressionType': 'None'}}, {'InputName': 'code', 'AppManaged': False, 'S3Input': {'S3Uri': 's3://sagemaker-ap-northeast-2-419974056037/train-pipeline-model-9/code/eabace17c9345271cf901107138b46a8/sourcedir.tar.gz', 'LocalPath': '/opt/ml/processing/input/code/', 'S3DataType': 'S3Prefix', 'S3InputMode': 'File', 'S3DataDistributionType': 'FullyReplicated', 'S3CompressionType': 'None'}}, {'InputName': 'entrypoint', 'AppManaged': False, 'S3Input': {'S3Uri': 's3://sagemaker-ap-northeast-2-419974056037/train-pipeline-model-9/code/1071dadab36d48ed1fba97e2ff137bdf/runproc.sh', 'LocalPath': '/opt/ml/processing/input/entrypoint', 'S3DataType': 'S3Prefix', 'S3InputMode': 'File', 'S3DataDistributionType': 'FullyReplicated', 'S3CompressionType': 'None'}}]\n",
      "Outputs:  [{'OutputName': 'evaluation-metrics', 'AppManaged': False, 'S3Output': {'S3Uri': Join(on='/', values=['s3://sagemaker-ap-northeast-2-419974056037', 'train-pipeline-model-9', <sagemaker.workflow.execution_variables.ExecutionVariable object at 0x7f518847a3a0>, 'evaluation-metrics']), 'LocalPath': '/opt/ml/processing/evaluation', 'S3UploadMode': 'EndOfJob'}}]\n",
      "  \n",
      "== PipeLine Execution info.==\n",
      "{'PipelineArn': 'arn:aws:sagemaker:ap-northeast-2:419974056037:pipeline/train-pipeline-model-9', 'PipelineExecutionArn': 'arn:aws:sagemaker:ap-northeast-2:419974056037:pipeline/train-pipeline-model-9/execution/13mk27eh7xhe', 'PipelineExecutionDisplayName': 'execution-1674699092108', 'PipelineExecutionStatus': 'Executing', 'CreationTime': datetime.datetime(2023, 1, 26, 2, 11, 32, 39000, tzinfo=tzlocal()), 'LastModifiedTime': datetime.datetime(2023, 1, 26, 2, 11, 32, 39000, tzinfo=tzlocal()), 'CreatedBy': {}, 'LastModifiedBy': {}, 'ResponseMetadata': {'RequestId': '8c2cdc50-730d-4eb1-84c3-b7fae9afaeaf', 'HTTPStatusCode': 200, 'HTTPHeaders': {'x-amzn-requestid': '8c2cdc50-730d-4eb1-84c3-b7fae9afaeaf', 'content-type': 'application/x-amz-json-1.1', 'content-length': '419', 'date': 'Thu, 26 Jan 2023 02:11:32 GMT'}, 'RetryAttempts': 0}}\n",
      "========================== \n",
      "\n"
     ]
    },
    {
     "name": "stderr",
     "output_type": "stream",
     "text": [
      "INFO:sagemaker.image_uris:Same images used for training and inference. Defaulting to image scope: inference.\n",
      "INFO:sagemaker.image_uris:Defaulting to the only supported framework/algorithm version: 1.\n",
      "INFO:sagemaker.image_uris:Ignoring unnecessary instance type: None.\n",
      "INFO:sagemaker.image_uris:Defaulting to only available Python version: py3\n"
     ]
    },
    {
     "name": "stdout",
     "output_type": "stream",
     "text": [
      "MODEL-NAME: model-10\n",
      "  Account-ID: 419974056037, \n",
      "  Region: ap-northeast-2, \n",
      "  Role: arn:aws:iam::419974056037:role/service-role/AmazonSageMaker-ExecutionRole-20221004T162466, \n",
      "  Default_bucket: sagemaker-ap-northeast-2-419974056037\n",
      "  pipeline_session: <sagemaker.workflow.pipeline_context.PipelineSession object at 0x7f5187b68a90>\n",
      "  \n",
      "== Preprocessing Step ==\n"
     ]
    },
    {
     "name": "stderr",
     "output_type": "stream",
     "text": [
      "INFO:sagemaker.image_uris:image_uri is not presented, retrieving image_uri based on instance_type, framework etc.\n",
      "INFO:sagemaker.processing:Uploaded ./sources/ to s3://sagemaker-ap-northeast-2-419974056037/evaluation/source/sourcedir.tar.gz\n"
     ]
    },
    {
     "name": "stdout",
     "output_type": "stream",
     "text": [
      "\n",
      "Job Name:  preprocessing-model-10\n",
      "Inputs:  [{'InputName': 'input-1', 'AppManaged': False, 'S3Input': {'S3Uri': 's3://sm-pipeline-multi-models-datasets/model-10/amazon_reviews_us_Electronics_v1_00.tsv.gz', 'LocalPath': '/opt/ml/processing/input', 'S3DataType': 'S3Prefix', 'S3InputMode': 'File', 'S3DataDistributionType': 'FullyReplicated', 'S3CompressionType': 'None'}}, {'InputName': 'requirements', 'AppManaged': False, 'S3Input': {'S3Uri': 's3://sagemaker-ap-northeast-2-419974056037/preprocessing-model-10/input/requirements/requirements.txt', 'LocalPath': '/opt/ml/processing/input/requirements', 'S3DataType': 'S3Prefix', 'S3InputMode': 'File', 'S3DataDistributionType': 'FullyReplicated', 'S3CompressionType': 'None'}}, {'InputName': 'code', 'AppManaged': False, 'S3Input': {'S3Uri': 's3://sagemaker-ap-northeast-2-419974056037/preprocessing-model-10/input/code/preprocessing.py', 'LocalPath': '/opt/ml/processing/input/code', 'S3DataType': 'S3Prefix', 'S3InputMode': 'File', 'S3DataDistributionType': 'FullyReplicated', 'S3CompressionType': 'None'}}]\n",
      "Outputs:  [{'OutputName': 'train_data', 'AppManaged': False, 'S3Output': {'S3Uri': Join(on='/', values=['s3://sagemaker-ap-northeast-2-419974056037', 'train-pipeline-model-10', <sagemaker.workflow.execution_variables.ExecutionVariable object at 0x7f518847a3a0>, 'train_data']), 'LocalPath': '/opt/ml/processing/output/train', 'S3UploadMode': 'EndOfJob'}}, {'OutputName': 'validation_data', 'AppManaged': False, 'S3Output': {'S3Uri': Join(on='/', values=['s3://sagemaker-ap-northeast-2-419974056037', 'train-pipeline-model-10', <sagemaker.workflow.execution_variables.ExecutionVariable object at 0x7f518847a3a0>, 'validation_data']), 'LocalPath': '/opt/ml/processing/output/validation', 'S3UploadMode': 'EndOfJob'}}, {'OutputName': 'test_data', 'AppManaged': False, 'S3Output': {'S3Uri': Join(on='/', values=['s3://sagemaker-ap-northeast-2-419974056037', 'train-pipeline-model-10', <sagemaker.workflow.execution_variables.ExecutionVariable object at 0x7f518847a3a0>, 'test_data']), 'LocalPath': '/opt/ml/processing/output/test', 'S3UploadMode': 'EndOfJob'}}]\n",
      "   \n",
      "Args:  dict_items([('ProcessingResources', {'ClusterConfig': {'InstanceType': 'ml.m5.xlarge', 'InstanceCount': 1, 'VolumeSizeInGB': 30}}), ('AppSpecification', {'ImageUri': '366743142698.dkr.ecr.ap-northeast-2.amazonaws.com/sagemaker-scikit-learn:0.20.0-cpu-py3', 'ContainerArguments': ['--input_name', 'amazon_reviews_us_Electronics_v1_00.tsv.gz', '--region', 'ap-northeast-2'], 'ContainerEntrypoint': ['python3', '/opt/ml/processing/input/code/preprocessing.py']}), ('RoleArn', 'arn:aws:iam::419974056037:role/service-role/AmazonSageMaker-ExecutionRole-20221004T162466'), ('ProcessingInputs', [{'InputName': 'input-1', 'AppManaged': False, 'S3Input': {'S3Uri': 's3://sm-pipeline-multi-models-datasets/model-10/amazon_reviews_us_Electronics_v1_00.tsv.gz', 'LocalPath': '/opt/ml/processing/input', 'S3DataType': 'S3Prefix', 'S3InputMode': 'File', 'S3DataDistributionType': 'FullyReplicated', 'S3CompressionType': 'None'}}, {'InputName': 'requirements', 'AppManaged': False, 'S3Input': {'S3Uri': 's3://sagemaker-ap-northeast-2-419974056037/preprocessing-model-10/input/requirements/requirements.txt', 'LocalPath': '/opt/ml/processing/input/requirements', 'S3DataType': 'S3Prefix', 'S3InputMode': 'File', 'S3DataDistributionType': 'FullyReplicated', 'S3CompressionType': 'None'}}, {'InputName': 'code', 'AppManaged': False, 'S3Input': {'S3Uri': 's3://sagemaker-ap-northeast-2-419974056037/preprocessing-model-10/input/code/preprocessing.py', 'LocalPath': '/opt/ml/processing/input/code', 'S3DataType': 'S3Prefix', 'S3InputMode': 'File', 'S3DataDistributionType': 'FullyReplicated', 'S3CompressionType': 'None'}}]), ('ProcessingOutputConfig', {'Outputs': [{'OutputName': 'train_data', 'AppManaged': False, 'S3Output': {'S3Uri': Join(on='/', values=['s3://sagemaker-ap-northeast-2-419974056037', 'train-pipeline-model-10', <sagemaker.workflow.execution_variables.ExecutionVariable object at 0x7f518847a3a0>, 'train_data']), 'LocalPath': '/opt/ml/processing/output/train', 'S3UploadMode': 'EndOfJob'}}, {'OutputName': 'validation_data', 'AppManaged': False, 'S3Output': {'S3Uri': Join(on='/', values=['s3://sagemaker-ap-northeast-2-419974056037', 'train-pipeline-model-10', <sagemaker.workflow.execution_variables.ExecutionVariable object at 0x7f518847a3a0>, 'validation_data']), 'LocalPath': '/opt/ml/processing/output/validation', 'S3UploadMode': 'EndOfJob'}}, {'OutputName': 'test_data', 'AppManaged': False, 'S3Output': {'S3Uri': Join(on='/', values=['s3://sagemaker-ap-northeast-2-419974056037', 'train-pipeline-model-10', <sagemaker.workflow.execution_variables.ExecutionVariable object at 0x7f518847a3a0>, 'test_data']), 'LocalPath': '/opt/ml/processing/output/test', 'S3UploadMode': 'EndOfJob'}}]})])\n",
      "  \n",
      "== Training Step ==\n",
      "   \n",
      "Args:  dict_items([('AlgorithmSpecification', {'TrainingInputMode': 'File', 'TrainingImage': '306986355934.dkr.ecr.ap-northeast-2.amazonaws.com/blazingtext:1'}), ('OutputDataConfig', {'S3OutputPath': Join(on='/', values=['s3://sagemaker-ap-northeast-2-419974056037', 'train-pipeline-model-10'])}), ('StoppingCondition', {'MaxRuntimeInSeconds': 360000}), ('ResourceConfig', {'VolumeSizeInGB': 30, 'InstanceCount': 1, 'InstanceType': 'ml.m5.xlarge'}), ('RoleArn', 'arn:aws:iam::419974056037:role/service-role/AmazonSageMaker-ExecutionRole-20221004T162466'), ('InputDataConfig', [{'DataSource': {'S3DataSource': {'S3DataType': 'S3Prefix', 'S3Uri': <sagemaker.workflow.properties.Properties object at 0x7f5187157ac0>, 'S3DataDistributionType': 'FullyReplicated'}}, 'ContentType': 'text/csv', 'ChannelName': 'train'}, {'DataSource': {'S3DataSource': {'S3DataType': 'S3Prefix', 'S3Uri': <sagemaker.workflow.properties.Properties object at 0x7f5187157910>, 'S3DataDistributionType': 'FullyReplicated'}}, 'ContentType': 'text/csv', 'ChannelName': 'validation'}]), ('HyperParameters', {'mode': 'supervised', 'epochs': '10', 'min_epochs': '5', 'early_stopping': 'True', 'patience': '2', 'learning_rate': '0.01', 'min_count': '2', 'word_ngrams': '2', 'vector_dim': '16'}), ('DebugHookConfig', {'S3OutputPath': Join(on='/', values=['s3://sagemaker-ap-northeast-2-419974056037', 'train-pipeline-model-10']), 'CollectionConfigurations': []}), ('ProfilerConfig', {'S3OutputPath': Join(on='/', values=['s3://sagemaker-ap-northeast-2-419974056037', 'train-pipeline-model-10']), 'DisableProfiler': False})])\n",
      "  \n",
      "== Evaluation Step ==\n"
     ]
    },
    {
     "name": "stderr",
     "output_type": "stream",
     "text": [
      "INFO:sagemaker.processing:runproc.sh uploaded to s3://sagemaker-ap-northeast-2-419974056037/evaluation/source/runproc.sh\n"
     ]
    },
    {
     "name": "stdout",
     "output_type": "stream",
     "text": [
      "\n",
      "Job Name:  evaluation\n",
      "Inputs:  [{'InputName': 'input-1', 'AppManaged': False, 'S3Input': {'S3Uri': <sagemaker.workflow.properties.Properties object at 0x7f518756ce50>, 'LocalPath': '/opt/ml/processing/model', 'S3DataType': 'S3Prefix', 'S3InputMode': 'File', 'S3DataDistributionType': 'FullyReplicated', 'S3CompressionType': 'None'}}, {'InputName': 'input-2', 'AppManaged': False, 'S3Input': {'S3Uri': <sagemaker.workflow.properties.Properties object at 0x7f51851d55e0>, 'LocalPath': '/opt/ml/processing/test', 'S3DataType': 'S3Prefix', 'S3InputMode': 'File', 'S3DataDistributionType': 'FullyReplicated', 'S3CompressionType': 'None'}}, {'InputName': 'code', 'AppManaged': False, 'S3Input': {'S3Uri': 's3://sagemaker-ap-northeast-2-419974056037/evaluation/source/sourcedir.tar.gz', 'LocalPath': '/opt/ml/processing/input/code/', 'S3DataType': 'S3Prefix', 'S3InputMode': 'File', 'S3DataDistributionType': 'FullyReplicated', 'S3CompressionType': 'None'}}, {'InputName': 'entrypoint', 'AppManaged': False, 'S3Input': {'S3Uri': 's3://sagemaker-ap-northeast-2-419974056037/evaluation/source/runproc.sh', 'LocalPath': '/opt/ml/processing/input/entrypoint', 'S3DataType': 'S3Prefix', 'S3InputMode': 'File', 'S3DataDistributionType': 'FullyReplicated', 'S3CompressionType': 'None'}}]\n",
      "Outputs:  [{'OutputName': 'evaluation-metrics', 'AppManaged': False, 'S3Output': {'S3Uri': Join(on='/', values=['s3://sagemaker-ap-northeast-2-419974056037', 'train-pipeline-model-10', <sagemaker.workflow.execution_variables.ExecutionVariable object at 0x7f518847a3a0>, 'evaluation-metrics']), 'LocalPath': '/opt/ml/processing/evaluation', 'S3UploadMode': 'EndOfJob'}}]\n",
      "   \n",
      "Args:  dict_items([('ProcessingResources', {'ClusterConfig': {'InstanceType': 'ml.g4dn.xlarge', 'InstanceCount': 1, 'VolumeSizeInGB': 30}}), ('AppSpecification', {'ImageUri': '763104351884.dkr.ecr.ap-northeast-2.amazonaws.com/tensorflow-training:2.3-gpu-py37', 'ContainerArguments': ['--s3_model_path', <sagemaker.workflow.properties.Properties object at 0x7f518756ce50>, '--region', 'ap-northeast-2', '--model_name', 'model-10'], 'ContainerEntrypoint': ['/bin/bash', '/opt/ml/processing/input/entrypoint/runproc.sh']}), ('RoleArn', 'arn:aws:iam::419974056037:role/service-role/AmazonSageMaker-ExecutionRole-20221004T162466'), ('ProcessingInputs', [{'InputName': 'input-1', 'AppManaged': False, 'S3Input': {'S3Uri': <sagemaker.workflow.properties.Properties object at 0x7f518756ce50>, 'LocalPath': '/opt/ml/processing/model', 'S3DataType': 'S3Prefix', 'S3InputMode': 'File', 'S3DataDistributionType': 'FullyReplicated', 'S3CompressionType': 'None'}}, {'InputName': 'input-2', 'AppManaged': False, 'S3Input': {'S3Uri': <sagemaker.workflow.properties.Properties object at 0x7f51851d55e0>, 'LocalPath': '/opt/ml/processing/test', 'S3DataType': 'S3Prefix', 'S3InputMode': 'File', 'S3DataDistributionType': 'FullyReplicated', 'S3CompressionType': 'None'}}, {'InputName': 'code', 'AppManaged': False, 'S3Input': {'S3Uri': 's3://sagemaker-ap-northeast-2-419974056037/evaluation/source/sourcedir.tar.gz', 'LocalPath': '/opt/ml/processing/input/code/', 'S3DataType': 'S3Prefix', 'S3InputMode': 'File', 'S3DataDistributionType': 'FullyReplicated', 'S3CompressionType': 'None'}}, {'InputName': 'entrypoint', 'AppManaged': False, 'S3Input': {'S3Uri': 's3://sagemaker-ap-northeast-2-419974056037/evaluation/source/runproc.sh', 'LocalPath': '/opt/ml/processing/input/entrypoint', 'S3DataType': 'S3Prefix', 'S3InputMode': 'File', 'S3DataDistributionType': 'FullyReplicated', 'S3CompressionType': 'None'}}]), ('ProcessingOutputConfig', {'Outputs': [{'OutputName': 'evaluation-metrics', 'AppManaged': False, 'S3Output': {'S3Uri': Join(on='/', values=['s3://sagemaker-ap-northeast-2-419974056037', 'train-pipeline-model-10', <sagemaker.workflow.execution_variables.ExecutionVariable object at 0x7f518847a3a0>, 'evaluation-metrics']), 'LocalPath': '/opt/ml/processing/evaluation', 'S3UploadMode': 'EndOfJob'}}]})])\n",
      "  \n",
      "== Registration Step ==\n"
     ]
    },
    {
     "name": "stderr",
     "output_type": "stream",
     "text": [
      "INFO:sagemaker.processing:Uploaded ./sources/ to s3://sagemaker-ap-northeast-2-419974056037/train-pipeline-model-10/code/eabace17c9345271cf901107138b46a8/sourcedir.tar.gz\n",
      "INFO:sagemaker.processing:runproc.sh uploaded to s3://sagemaker-ap-northeast-2-419974056037/train-pipeline-model-10/code/1071dadab36d48ed1fba97e2ff137bdf/runproc.sh\n",
      "WARNING:sagemaker.estimator:No finished training job found associated with this estimator. Please make sure this estimator is only used for building workflow config\n",
      "WARNING:sagemaker.workflow._utils:Popping out 'CertifyForMarketplace' from the pipeline definition since it will be overridden in pipeline execution time.\n"
     ]
    },
    {
     "name": "stdout",
     "output_type": "stream",
     "text": [
      "\n",
      "Job Name:  preprocessing-model-10\n",
      "Inputs:  [{'InputName': 'input-1', 'AppManaged': False, 'S3Input': {'S3Uri': 's3://sm-pipeline-multi-models-datasets/model-10/amazon_reviews_us_Electronics_v1_00.tsv.gz', 'LocalPath': '/opt/ml/processing/input', 'S3DataType': 'S3Prefix', 'S3InputMode': 'File', 'S3DataDistributionType': 'FullyReplicated', 'S3CompressionType': 'None'}}, {'InputName': 'requirements', 'AppManaged': False, 'S3Input': {'S3Uri': 's3://sagemaker-ap-northeast-2-419974056037/preprocessing-model-10/input/requirements/requirements.txt', 'LocalPath': '/opt/ml/processing/input/requirements', 'S3DataType': 'S3Prefix', 'S3InputMode': 'File', 'S3DataDistributionType': 'FullyReplicated', 'S3CompressionType': 'None'}}, {'InputName': 'code', 'AppManaged': False, 'S3Input': {'S3Uri': 's3://sagemaker-ap-northeast-2-419974056037/train-pipeline-model-10/code/2b3c51df48188408561910efa21ddc30/preprocessing.py', 'LocalPath': '/opt/ml/processing/input/code', 'S3DataType': 'S3Prefix', 'S3InputMode': 'File', 'S3DataDistributionType': 'FullyReplicated', 'S3CompressionType': 'None'}}]\n",
      "Outputs:  [{'OutputName': 'train_data', 'AppManaged': False, 'S3Output': {'S3Uri': Join(on='/', values=['s3://sagemaker-ap-northeast-2-419974056037', 'train-pipeline-model-10', <sagemaker.workflow.execution_variables.ExecutionVariable object at 0x7f518847a3a0>, 'train_data']), 'LocalPath': '/opt/ml/processing/output/train', 'S3UploadMode': 'EndOfJob'}}, {'OutputName': 'validation_data', 'AppManaged': False, 'S3Output': {'S3Uri': Join(on='/', values=['s3://sagemaker-ap-northeast-2-419974056037', 'train-pipeline-model-10', <sagemaker.workflow.execution_variables.ExecutionVariable object at 0x7f518847a3a0>, 'validation_data']), 'LocalPath': '/opt/ml/processing/output/validation', 'S3UploadMode': 'EndOfJob'}}, {'OutputName': 'test_data', 'AppManaged': False, 'S3Output': {'S3Uri': Join(on='/', values=['s3://sagemaker-ap-northeast-2-419974056037', 'train-pipeline-model-10', <sagemaker.workflow.execution_variables.ExecutionVariable object at 0x7f518847a3a0>, 'test_data']), 'LocalPath': '/opt/ml/processing/output/test', 'S3UploadMode': 'EndOfJob'}}]\n",
      "\n",
      "Job Name:  evaluation\n",
      "Inputs:  [{'InputName': 'input-1', 'AppManaged': False, 'S3Input': {'S3Uri': <sagemaker.workflow.properties.Properties object at 0x7f518756ce50>, 'LocalPath': '/opt/ml/processing/model', 'S3DataType': 'S3Prefix', 'S3InputMode': 'File', 'S3DataDistributionType': 'FullyReplicated', 'S3CompressionType': 'None'}}, {'InputName': 'input-2', 'AppManaged': False, 'S3Input': {'S3Uri': <sagemaker.workflow.properties.Properties object at 0x7f51851d55e0>, 'LocalPath': '/opt/ml/processing/test', 'S3DataType': 'S3Prefix', 'S3InputMode': 'File', 'S3DataDistributionType': 'FullyReplicated', 'S3CompressionType': 'None'}}, {'InputName': 'code', 'AppManaged': False, 'S3Input': {'S3Uri': 's3://sagemaker-ap-northeast-2-419974056037/train-pipeline-model-10/code/eabace17c9345271cf901107138b46a8/sourcedir.tar.gz', 'LocalPath': '/opt/ml/processing/input/code/', 'S3DataType': 'S3Prefix', 'S3InputMode': 'File', 'S3DataDistributionType': 'FullyReplicated', 'S3CompressionType': 'None'}}, {'InputName': 'entrypoint', 'AppManaged': False, 'S3Input': {'S3Uri': 's3://sagemaker-ap-northeast-2-419974056037/train-pipeline-model-10/code/1071dadab36d48ed1fba97e2ff137bdf/runproc.sh', 'LocalPath': '/opt/ml/processing/input/entrypoint', 'S3DataType': 'S3Prefix', 'S3InputMode': 'File', 'S3DataDistributionType': 'FullyReplicated', 'S3CompressionType': 'None'}}]\n",
      "Outputs:  [{'OutputName': 'evaluation-metrics', 'AppManaged': False, 'S3Output': {'S3Uri': Join(on='/', values=['s3://sagemaker-ap-northeast-2-419974056037', 'train-pipeline-model-10', <sagemaker.workflow.execution_variables.ExecutionVariable object at 0x7f518847a3a0>, 'evaluation-metrics']), 'LocalPath': '/opt/ml/processing/evaluation', 'S3UploadMode': 'EndOfJob'}}]\n",
      "  \n",
      "== PipeLine Execution info.==\n",
      "{'PipelineArn': 'arn:aws:sagemaker:ap-northeast-2:419974056037:pipeline/train-pipeline-model-10', 'PipelineExecutionArn': 'arn:aws:sagemaker:ap-northeast-2:419974056037:pipeline/train-pipeline-model-10/execution/n5dwlvlrkocw', 'PipelineExecutionDisplayName': 'execution-1674699093977', 'PipelineExecutionStatus': 'Executing', 'CreationTime': datetime.datetime(2023, 1, 26, 2, 11, 33, 873000, tzinfo=tzlocal()), 'LastModifiedTime': datetime.datetime(2023, 1, 26, 2, 11, 33, 873000, tzinfo=tzlocal()), 'CreatedBy': {}, 'LastModifiedBy': {}, 'ResponseMetadata': {'RequestId': 'e9dd3b97-fdd2-4963-8f57-2ee0106b59e8', 'HTTPStatusCode': 200, 'HTTPHeaders': {'x-amzn-requestid': 'e9dd3b97-fdd2-4963-8f57-2ee0106b59e8', 'content-type': 'application/x-amz-json-1.1', 'content-length': '421', 'date': 'Thu, 26 Jan 2023 02:11:33 GMT'}, 'RetryAttempts': 0}}\n",
      "========================== \n",
      "\n"
     ]
    },
    {
     "name": "stderr",
     "output_type": "stream",
     "text": [
      "INFO:sagemaker.image_uris:Same images used for training and inference. Defaulting to image scope: inference.\n",
      "INFO:sagemaker.image_uris:Defaulting to the only supported framework/algorithm version: 1.\n",
      "INFO:sagemaker.image_uris:Ignoring unnecessary instance type: None.\n",
      "INFO:sagemaker.image_uris:Defaulting to only available Python version: py3\n"
     ]
    },
    {
     "name": "stdout",
     "output_type": "stream",
     "text": [
      "MODEL-NAME: model-11\n",
      "  Account-ID: 419974056037, \n",
      "  Region: ap-northeast-2, \n",
      "  Role: arn:aws:iam::419974056037:role/service-role/AmazonSageMaker-ExecutionRole-20221004T162466, \n",
      "  Default_bucket: sagemaker-ap-northeast-2-419974056037\n",
      "  pipeline_session: <sagemaker.workflow.pipeline_context.PipelineSession object at 0x7f5187ba2ac0>\n",
      "  \n",
      "== Preprocessing Step ==\n"
     ]
    },
    {
     "name": "stderr",
     "output_type": "stream",
     "text": [
      "INFO:sagemaker.image_uris:image_uri is not presented, retrieving image_uri based on instance_type, framework etc.\n",
      "INFO:sagemaker.processing:Uploaded ./sources/ to s3://sagemaker-ap-northeast-2-419974056037/evaluation/source/sourcedir.tar.gz\n"
     ]
    },
    {
     "name": "stdout",
     "output_type": "stream",
     "text": [
      "\n",
      "Job Name:  preprocessing-model-11\n",
      "Inputs:  [{'InputName': 'input-1', 'AppManaged': False, 'S3Input': {'S3Uri': 's3://sm-pipeline-multi-models-datasets/model-11/amazon_reviews_us_Electronics_v1_00.tsv.gz', 'LocalPath': '/opt/ml/processing/input', 'S3DataType': 'S3Prefix', 'S3InputMode': 'File', 'S3DataDistributionType': 'FullyReplicated', 'S3CompressionType': 'None'}}, {'InputName': 'requirements', 'AppManaged': False, 'S3Input': {'S3Uri': 's3://sagemaker-ap-northeast-2-419974056037/preprocessing-model-11/input/requirements/requirements.txt', 'LocalPath': '/opt/ml/processing/input/requirements', 'S3DataType': 'S3Prefix', 'S3InputMode': 'File', 'S3DataDistributionType': 'FullyReplicated', 'S3CompressionType': 'None'}}, {'InputName': 'code', 'AppManaged': False, 'S3Input': {'S3Uri': 's3://sagemaker-ap-northeast-2-419974056037/preprocessing-model-11/input/code/preprocessing.py', 'LocalPath': '/opt/ml/processing/input/code', 'S3DataType': 'S3Prefix', 'S3InputMode': 'File', 'S3DataDistributionType': 'FullyReplicated', 'S3CompressionType': 'None'}}]\n",
      "Outputs:  [{'OutputName': 'train_data', 'AppManaged': False, 'S3Output': {'S3Uri': Join(on='/', values=['s3://sagemaker-ap-northeast-2-419974056037', 'train-pipeline-model-11', <sagemaker.workflow.execution_variables.ExecutionVariable object at 0x7f518847a3a0>, 'train_data']), 'LocalPath': '/opt/ml/processing/output/train', 'S3UploadMode': 'EndOfJob'}}, {'OutputName': 'validation_data', 'AppManaged': False, 'S3Output': {'S3Uri': Join(on='/', values=['s3://sagemaker-ap-northeast-2-419974056037', 'train-pipeline-model-11', <sagemaker.workflow.execution_variables.ExecutionVariable object at 0x7f518847a3a0>, 'validation_data']), 'LocalPath': '/opt/ml/processing/output/validation', 'S3UploadMode': 'EndOfJob'}}, {'OutputName': 'test_data', 'AppManaged': False, 'S3Output': {'S3Uri': Join(on='/', values=['s3://sagemaker-ap-northeast-2-419974056037', 'train-pipeline-model-11', <sagemaker.workflow.execution_variables.ExecutionVariable object at 0x7f518847a3a0>, 'test_data']), 'LocalPath': '/opt/ml/processing/output/test', 'S3UploadMode': 'EndOfJob'}}]\n",
      "   \n",
      "Args:  dict_items([('ProcessingResources', {'ClusterConfig': {'InstanceType': 'ml.m5.xlarge', 'InstanceCount': 1, 'VolumeSizeInGB': 30}}), ('AppSpecification', {'ImageUri': '366743142698.dkr.ecr.ap-northeast-2.amazonaws.com/sagemaker-scikit-learn:0.20.0-cpu-py3', 'ContainerArguments': ['--input_name', 'amazon_reviews_us_Electronics_v1_00.tsv.gz', '--region', 'ap-northeast-2'], 'ContainerEntrypoint': ['python3', '/opt/ml/processing/input/code/preprocessing.py']}), ('RoleArn', 'arn:aws:iam::419974056037:role/service-role/AmazonSageMaker-ExecutionRole-20221004T162466'), ('ProcessingInputs', [{'InputName': 'input-1', 'AppManaged': False, 'S3Input': {'S3Uri': 's3://sm-pipeline-multi-models-datasets/model-11/amazon_reviews_us_Electronics_v1_00.tsv.gz', 'LocalPath': '/opt/ml/processing/input', 'S3DataType': 'S3Prefix', 'S3InputMode': 'File', 'S3DataDistributionType': 'FullyReplicated', 'S3CompressionType': 'None'}}, {'InputName': 'requirements', 'AppManaged': False, 'S3Input': {'S3Uri': 's3://sagemaker-ap-northeast-2-419974056037/preprocessing-model-11/input/requirements/requirements.txt', 'LocalPath': '/opt/ml/processing/input/requirements', 'S3DataType': 'S3Prefix', 'S3InputMode': 'File', 'S3DataDistributionType': 'FullyReplicated', 'S3CompressionType': 'None'}}, {'InputName': 'code', 'AppManaged': False, 'S3Input': {'S3Uri': 's3://sagemaker-ap-northeast-2-419974056037/preprocessing-model-11/input/code/preprocessing.py', 'LocalPath': '/opt/ml/processing/input/code', 'S3DataType': 'S3Prefix', 'S3InputMode': 'File', 'S3DataDistributionType': 'FullyReplicated', 'S3CompressionType': 'None'}}]), ('ProcessingOutputConfig', {'Outputs': [{'OutputName': 'train_data', 'AppManaged': False, 'S3Output': {'S3Uri': Join(on='/', values=['s3://sagemaker-ap-northeast-2-419974056037', 'train-pipeline-model-11', <sagemaker.workflow.execution_variables.ExecutionVariable object at 0x7f518847a3a0>, 'train_data']), 'LocalPath': '/opt/ml/processing/output/train', 'S3UploadMode': 'EndOfJob'}}, {'OutputName': 'validation_data', 'AppManaged': False, 'S3Output': {'S3Uri': Join(on='/', values=['s3://sagemaker-ap-northeast-2-419974056037', 'train-pipeline-model-11', <sagemaker.workflow.execution_variables.ExecutionVariable object at 0x7f518847a3a0>, 'validation_data']), 'LocalPath': '/opt/ml/processing/output/validation', 'S3UploadMode': 'EndOfJob'}}, {'OutputName': 'test_data', 'AppManaged': False, 'S3Output': {'S3Uri': Join(on='/', values=['s3://sagemaker-ap-northeast-2-419974056037', 'train-pipeline-model-11', <sagemaker.workflow.execution_variables.ExecutionVariable object at 0x7f518847a3a0>, 'test_data']), 'LocalPath': '/opt/ml/processing/output/test', 'S3UploadMode': 'EndOfJob'}}]})])\n",
      "  \n",
      "== Training Step ==\n",
      "   \n",
      "Args:  dict_items([('AlgorithmSpecification', {'TrainingInputMode': 'File', 'TrainingImage': '306986355934.dkr.ecr.ap-northeast-2.amazonaws.com/blazingtext:1'}), ('OutputDataConfig', {'S3OutputPath': Join(on='/', values=['s3://sagemaker-ap-northeast-2-419974056037', 'train-pipeline-model-11'])}), ('StoppingCondition', {'MaxRuntimeInSeconds': 360000}), ('ResourceConfig', {'VolumeSizeInGB': 30, 'InstanceCount': 1, 'InstanceType': 'ml.m5.xlarge'}), ('RoleArn', 'arn:aws:iam::419974056037:role/service-role/AmazonSageMaker-ExecutionRole-20221004T162466'), ('InputDataConfig', [{'DataSource': {'S3DataSource': {'S3DataType': 'S3Prefix', 'S3Uri': <sagemaker.workflow.properties.Properties object at 0x7f5184ea15e0>, 'S3DataDistributionType': 'FullyReplicated'}}, 'ContentType': 'text/csv', 'ChannelName': 'train'}, {'DataSource': {'S3DataSource': {'S3DataType': 'S3Prefix', 'S3Uri': <sagemaker.workflow.properties.Properties object at 0x7f5184ea18e0>, 'S3DataDistributionType': 'FullyReplicated'}}, 'ContentType': 'text/csv', 'ChannelName': 'validation'}]), ('HyperParameters', {'mode': 'supervised', 'epochs': '10', 'min_epochs': '5', 'early_stopping': 'True', 'patience': '2', 'learning_rate': '0.01', 'min_count': '2', 'word_ngrams': '2', 'vector_dim': '16'}), ('DebugHookConfig', {'S3OutputPath': Join(on='/', values=['s3://sagemaker-ap-northeast-2-419974056037', 'train-pipeline-model-11']), 'CollectionConfigurations': []}), ('ProfilerConfig', {'S3OutputPath': Join(on='/', values=['s3://sagemaker-ap-northeast-2-419974056037', 'train-pipeline-model-11']), 'DisableProfiler': False})])\n",
      "  \n",
      "== Evaluation Step ==\n"
     ]
    },
    {
     "name": "stderr",
     "output_type": "stream",
     "text": [
      "INFO:sagemaker.processing:runproc.sh uploaded to s3://sagemaker-ap-northeast-2-419974056037/evaluation/source/runproc.sh\n"
     ]
    },
    {
     "name": "stdout",
     "output_type": "stream",
     "text": [
      "\n",
      "Job Name:  evaluation\n",
      "Inputs:  [{'InputName': 'input-1', 'AppManaged': False, 'S3Input': {'S3Uri': <sagemaker.workflow.properties.Properties object at 0x7f51852b9d90>, 'LocalPath': '/opt/ml/processing/model', 'S3DataType': 'S3Prefix', 'S3InputMode': 'File', 'S3DataDistributionType': 'FullyReplicated', 'S3CompressionType': 'None'}}, {'InputName': 'input-2', 'AppManaged': False, 'S3Input': {'S3Uri': <sagemaker.workflow.properties.Properties object at 0x7f5185283430>, 'LocalPath': '/opt/ml/processing/test', 'S3DataType': 'S3Prefix', 'S3InputMode': 'File', 'S3DataDistributionType': 'FullyReplicated', 'S3CompressionType': 'None'}}, {'InputName': 'code', 'AppManaged': False, 'S3Input': {'S3Uri': 's3://sagemaker-ap-northeast-2-419974056037/evaluation/source/sourcedir.tar.gz', 'LocalPath': '/opt/ml/processing/input/code/', 'S3DataType': 'S3Prefix', 'S3InputMode': 'File', 'S3DataDistributionType': 'FullyReplicated', 'S3CompressionType': 'None'}}, {'InputName': 'entrypoint', 'AppManaged': False, 'S3Input': {'S3Uri': 's3://sagemaker-ap-northeast-2-419974056037/evaluation/source/runproc.sh', 'LocalPath': '/opt/ml/processing/input/entrypoint', 'S3DataType': 'S3Prefix', 'S3InputMode': 'File', 'S3DataDistributionType': 'FullyReplicated', 'S3CompressionType': 'None'}}]\n",
      "Outputs:  [{'OutputName': 'evaluation-metrics', 'AppManaged': False, 'S3Output': {'S3Uri': Join(on='/', values=['s3://sagemaker-ap-northeast-2-419974056037', 'train-pipeline-model-11', <sagemaker.workflow.execution_variables.ExecutionVariable object at 0x7f518847a3a0>, 'evaluation-metrics']), 'LocalPath': '/opt/ml/processing/evaluation', 'S3UploadMode': 'EndOfJob'}}]\n",
      "   \n",
      "Args:  dict_items([('ProcessingResources', {'ClusterConfig': {'InstanceType': 'ml.g4dn.xlarge', 'InstanceCount': 1, 'VolumeSizeInGB': 30}}), ('AppSpecification', {'ImageUri': '763104351884.dkr.ecr.ap-northeast-2.amazonaws.com/tensorflow-training:2.3-gpu-py37', 'ContainerArguments': ['--s3_model_path', <sagemaker.workflow.properties.Properties object at 0x7f51852b9d90>, '--region', 'ap-northeast-2', '--model_name', 'model-11'], 'ContainerEntrypoint': ['/bin/bash', '/opt/ml/processing/input/entrypoint/runproc.sh']}), ('RoleArn', 'arn:aws:iam::419974056037:role/service-role/AmazonSageMaker-ExecutionRole-20221004T162466'), ('ProcessingInputs', [{'InputName': 'input-1', 'AppManaged': False, 'S3Input': {'S3Uri': <sagemaker.workflow.properties.Properties object at 0x7f51852b9d90>, 'LocalPath': '/opt/ml/processing/model', 'S3DataType': 'S3Prefix', 'S3InputMode': 'File', 'S3DataDistributionType': 'FullyReplicated', 'S3CompressionType': 'None'}}, {'InputName': 'input-2', 'AppManaged': False, 'S3Input': {'S3Uri': <sagemaker.workflow.properties.Properties object at 0x7f5185283430>, 'LocalPath': '/opt/ml/processing/test', 'S3DataType': 'S3Prefix', 'S3InputMode': 'File', 'S3DataDistributionType': 'FullyReplicated', 'S3CompressionType': 'None'}}, {'InputName': 'code', 'AppManaged': False, 'S3Input': {'S3Uri': 's3://sagemaker-ap-northeast-2-419974056037/evaluation/source/sourcedir.tar.gz', 'LocalPath': '/opt/ml/processing/input/code/', 'S3DataType': 'S3Prefix', 'S3InputMode': 'File', 'S3DataDistributionType': 'FullyReplicated', 'S3CompressionType': 'None'}}, {'InputName': 'entrypoint', 'AppManaged': False, 'S3Input': {'S3Uri': 's3://sagemaker-ap-northeast-2-419974056037/evaluation/source/runproc.sh', 'LocalPath': '/opt/ml/processing/input/entrypoint', 'S3DataType': 'S3Prefix', 'S3InputMode': 'File', 'S3DataDistributionType': 'FullyReplicated', 'S3CompressionType': 'None'}}]), ('ProcessingOutputConfig', {'Outputs': [{'OutputName': 'evaluation-metrics', 'AppManaged': False, 'S3Output': {'S3Uri': Join(on='/', values=['s3://sagemaker-ap-northeast-2-419974056037', 'train-pipeline-model-11', <sagemaker.workflow.execution_variables.ExecutionVariable object at 0x7f518847a3a0>, 'evaluation-metrics']), 'LocalPath': '/opt/ml/processing/evaluation', 'S3UploadMode': 'EndOfJob'}}]})])\n",
      "  \n",
      "== Registration Step ==\n"
     ]
    },
    {
     "name": "stderr",
     "output_type": "stream",
     "text": [
      "INFO:sagemaker.processing:Uploaded ./sources/ to s3://sagemaker-ap-northeast-2-419974056037/train-pipeline-model-11/code/eabace17c9345271cf901107138b46a8/sourcedir.tar.gz\n",
      "INFO:sagemaker.processing:runproc.sh uploaded to s3://sagemaker-ap-northeast-2-419974056037/train-pipeline-model-11/code/1071dadab36d48ed1fba97e2ff137bdf/runproc.sh\n",
      "WARNING:sagemaker.estimator:No finished training job found associated with this estimator. Please make sure this estimator is only used for building workflow config\n",
      "WARNING:sagemaker.workflow._utils:Popping out 'CertifyForMarketplace' from the pipeline definition since it will be overridden in pipeline execution time.\n"
     ]
    },
    {
     "name": "stdout",
     "output_type": "stream",
     "text": [
      "\n",
      "Job Name:  preprocessing-model-11\n",
      "Inputs:  [{'InputName': 'input-1', 'AppManaged': False, 'S3Input': {'S3Uri': 's3://sm-pipeline-multi-models-datasets/model-11/amazon_reviews_us_Electronics_v1_00.tsv.gz', 'LocalPath': '/opt/ml/processing/input', 'S3DataType': 'S3Prefix', 'S3InputMode': 'File', 'S3DataDistributionType': 'FullyReplicated', 'S3CompressionType': 'None'}}, {'InputName': 'requirements', 'AppManaged': False, 'S3Input': {'S3Uri': 's3://sagemaker-ap-northeast-2-419974056037/preprocessing-model-11/input/requirements/requirements.txt', 'LocalPath': '/opt/ml/processing/input/requirements', 'S3DataType': 'S3Prefix', 'S3InputMode': 'File', 'S3DataDistributionType': 'FullyReplicated', 'S3CompressionType': 'None'}}, {'InputName': 'code', 'AppManaged': False, 'S3Input': {'S3Uri': 's3://sagemaker-ap-northeast-2-419974056037/train-pipeline-model-11/code/2b3c51df48188408561910efa21ddc30/preprocessing.py', 'LocalPath': '/opt/ml/processing/input/code', 'S3DataType': 'S3Prefix', 'S3InputMode': 'File', 'S3DataDistributionType': 'FullyReplicated', 'S3CompressionType': 'None'}}]\n",
      "Outputs:  [{'OutputName': 'train_data', 'AppManaged': False, 'S3Output': {'S3Uri': Join(on='/', values=['s3://sagemaker-ap-northeast-2-419974056037', 'train-pipeline-model-11', <sagemaker.workflow.execution_variables.ExecutionVariable object at 0x7f518847a3a0>, 'train_data']), 'LocalPath': '/opt/ml/processing/output/train', 'S3UploadMode': 'EndOfJob'}}, {'OutputName': 'validation_data', 'AppManaged': False, 'S3Output': {'S3Uri': Join(on='/', values=['s3://sagemaker-ap-northeast-2-419974056037', 'train-pipeline-model-11', <sagemaker.workflow.execution_variables.ExecutionVariable object at 0x7f518847a3a0>, 'validation_data']), 'LocalPath': '/opt/ml/processing/output/validation', 'S3UploadMode': 'EndOfJob'}}, {'OutputName': 'test_data', 'AppManaged': False, 'S3Output': {'S3Uri': Join(on='/', values=['s3://sagemaker-ap-northeast-2-419974056037', 'train-pipeline-model-11', <sagemaker.workflow.execution_variables.ExecutionVariable object at 0x7f518847a3a0>, 'test_data']), 'LocalPath': '/opt/ml/processing/output/test', 'S3UploadMode': 'EndOfJob'}}]\n",
      "\n",
      "Job Name:  evaluation\n",
      "Inputs:  [{'InputName': 'input-1', 'AppManaged': False, 'S3Input': {'S3Uri': <sagemaker.workflow.properties.Properties object at 0x7f51852b9d90>, 'LocalPath': '/opt/ml/processing/model', 'S3DataType': 'S3Prefix', 'S3InputMode': 'File', 'S3DataDistributionType': 'FullyReplicated', 'S3CompressionType': 'None'}}, {'InputName': 'input-2', 'AppManaged': False, 'S3Input': {'S3Uri': <sagemaker.workflow.properties.Properties object at 0x7f5185283430>, 'LocalPath': '/opt/ml/processing/test', 'S3DataType': 'S3Prefix', 'S3InputMode': 'File', 'S3DataDistributionType': 'FullyReplicated', 'S3CompressionType': 'None'}}, {'InputName': 'code', 'AppManaged': False, 'S3Input': {'S3Uri': 's3://sagemaker-ap-northeast-2-419974056037/train-pipeline-model-11/code/eabace17c9345271cf901107138b46a8/sourcedir.tar.gz', 'LocalPath': '/opt/ml/processing/input/code/', 'S3DataType': 'S3Prefix', 'S3InputMode': 'File', 'S3DataDistributionType': 'FullyReplicated', 'S3CompressionType': 'None'}}, {'InputName': 'entrypoint', 'AppManaged': False, 'S3Input': {'S3Uri': 's3://sagemaker-ap-northeast-2-419974056037/train-pipeline-model-11/code/1071dadab36d48ed1fba97e2ff137bdf/runproc.sh', 'LocalPath': '/opt/ml/processing/input/entrypoint', 'S3DataType': 'S3Prefix', 'S3InputMode': 'File', 'S3DataDistributionType': 'FullyReplicated', 'S3CompressionType': 'None'}}]\n",
      "Outputs:  [{'OutputName': 'evaluation-metrics', 'AppManaged': False, 'S3Output': {'S3Uri': Join(on='/', values=['s3://sagemaker-ap-northeast-2-419974056037', 'train-pipeline-model-11', <sagemaker.workflow.execution_variables.ExecutionVariable object at 0x7f518847a3a0>, 'evaluation-metrics']), 'LocalPath': '/opt/ml/processing/evaluation', 'S3UploadMode': 'EndOfJob'}}]\n",
      "  \n",
      "== PipeLine Execution info.==\n",
      "{'PipelineArn': 'arn:aws:sagemaker:ap-northeast-2:419974056037:pipeline/train-pipeline-model-11', 'PipelineExecutionArn': 'arn:aws:sagemaker:ap-northeast-2:419974056037:pipeline/train-pipeline-model-11/execution/lvjj7o15lndp', 'PipelineExecutionDisplayName': 'execution-1674699095698', 'PipelineExecutionStatus': 'Executing', 'CreationTime': datetime.datetime(2023, 1, 26, 2, 11, 35, 627000, tzinfo=tzlocal()), 'LastModifiedTime': datetime.datetime(2023, 1, 26, 2, 11, 35, 627000, tzinfo=tzlocal()), 'CreatedBy': {}, 'LastModifiedBy': {}, 'ResponseMetadata': {'RequestId': '00e81bab-d359-4cbd-b3aa-e34a7ef91de6', 'HTTPStatusCode': 200, 'HTTPHeaders': {'x-amzn-requestid': '00e81bab-d359-4cbd-b3aa-e34a7ef91de6', 'content-type': 'application/x-amz-json-1.1', 'content-length': '421', 'date': 'Thu, 26 Jan 2023 02:11:34 GMT'}, 'RetryAttempts': 0}}\n",
      "========================== \n",
      "\n"
     ]
    },
    {
     "name": "stderr",
     "output_type": "stream",
     "text": [
      "INFO:sagemaker.image_uris:Same images used for training and inference. Defaulting to image scope: inference.\n",
      "INFO:sagemaker.image_uris:Defaulting to the only supported framework/algorithm version: 1.\n",
      "INFO:sagemaker.image_uris:Ignoring unnecessary instance type: None.\n",
      "INFO:sagemaker.image_uris:Defaulting to only available Python version: py3\n"
     ]
    },
    {
     "name": "stdout",
     "output_type": "stream",
     "text": [
      "MODEL-NAME: model-12\n",
      "  Account-ID: 419974056037, \n",
      "  Region: ap-northeast-2, \n",
      "  Role: arn:aws:iam::419974056037:role/service-role/AmazonSageMaker-ExecutionRole-20221004T162466, \n",
      "  Default_bucket: sagemaker-ap-northeast-2-419974056037\n",
      "  pipeline_session: <sagemaker.workflow.pipeline_context.PipelineSession object at 0x7f5185ad4e80>\n",
      "  \n",
      "== Preprocessing Step ==\n"
     ]
    },
    {
     "name": "stderr",
     "output_type": "stream",
     "text": [
      "INFO:sagemaker.image_uris:image_uri is not presented, retrieving image_uri based on instance_type, framework etc.\n",
      "INFO:sagemaker.processing:Uploaded ./sources/ to s3://sagemaker-ap-northeast-2-419974056037/evaluation/source/sourcedir.tar.gz\n"
     ]
    },
    {
     "name": "stdout",
     "output_type": "stream",
     "text": [
      "\n",
      "Job Name:  preprocessing-model-12\n",
      "Inputs:  [{'InputName': 'input-1', 'AppManaged': False, 'S3Input': {'S3Uri': 's3://sm-pipeline-multi-models-datasets/model-12/amazon_reviews_us_Electronics_v1_00.tsv.gz', 'LocalPath': '/opt/ml/processing/input', 'S3DataType': 'S3Prefix', 'S3InputMode': 'File', 'S3DataDistributionType': 'FullyReplicated', 'S3CompressionType': 'None'}}, {'InputName': 'requirements', 'AppManaged': False, 'S3Input': {'S3Uri': 's3://sagemaker-ap-northeast-2-419974056037/preprocessing-model-12/input/requirements/requirements.txt', 'LocalPath': '/opt/ml/processing/input/requirements', 'S3DataType': 'S3Prefix', 'S3InputMode': 'File', 'S3DataDistributionType': 'FullyReplicated', 'S3CompressionType': 'None'}}, {'InputName': 'code', 'AppManaged': False, 'S3Input': {'S3Uri': 's3://sagemaker-ap-northeast-2-419974056037/preprocessing-model-12/input/code/preprocessing.py', 'LocalPath': '/opt/ml/processing/input/code', 'S3DataType': 'S3Prefix', 'S3InputMode': 'File', 'S3DataDistributionType': 'FullyReplicated', 'S3CompressionType': 'None'}}]\n",
      "Outputs:  [{'OutputName': 'train_data', 'AppManaged': False, 'S3Output': {'S3Uri': Join(on='/', values=['s3://sagemaker-ap-northeast-2-419974056037', 'train-pipeline-model-12', <sagemaker.workflow.execution_variables.ExecutionVariable object at 0x7f518847a3a0>, 'train_data']), 'LocalPath': '/opt/ml/processing/output/train', 'S3UploadMode': 'EndOfJob'}}, {'OutputName': 'validation_data', 'AppManaged': False, 'S3Output': {'S3Uri': Join(on='/', values=['s3://sagemaker-ap-northeast-2-419974056037', 'train-pipeline-model-12', <sagemaker.workflow.execution_variables.ExecutionVariable object at 0x7f518847a3a0>, 'validation_data']), 'LocalPath': '/opt/ml/processing/output/validation', 'S3UploadMode': 'EndOfJob'}}, {'OutputName': 'test_data', 'AppManaged': False, 'S3Output': {'S3Uri': Join(on='/', values=['s3://sagemaker-ap-northeast-2-419974056037', 'train-pipeline-model-12', <sagemaker.workflow.execution_variables.ExecutionVariable object at 0x7f518847a3a0>, 'test_data']), 'LocalPath': '/opt/ml/processing/output/test', 'S3UploadMode': 'EndOfJob'}}]\n",
      "   \n",
      "Args:  dict_items([('ProcessingResources', {'ClusterConfig': {'InstanceType': 'ml.m5.xlarge', 'InstanceCount': 1, 'VolumeSizeInGB': 30}}), ('AppSpecification', {'ImageUri': '366743142698.dkr.ecr.ap-northeast-2.amazonaws.com/sagemaker-scikit-learn:0.20.0-cpu-py3', 'ContainerArguments': ['--input_name', 'amazon_reviews_us_Electronics_v1_00.tsv.gz', '--region', 'ap-northeast-2'], 'ContainerEntrypoint': ['python3', '/opt/ml/processing/input/code/preprocessing.py']}), ('RoleArn', 'arn:aws:iam::419974056037:role/service-role/AmazonSageMaker-ExecutionRole-20221004T162466'), ('ProcessingInputs', [{'InputName': 'input-1', 'AppManaged': False, 'S3Input': {'S3Uri': 's3://sm-pipeline-multi-models-datasets/model-12/amazon_reviews_us_Electronics_v1_00.tsv.gz', 'LocalPath': '/opt/ml/processing/input', 'S3DataType': 'S3Prefix', 'S3InputMode': 'File', 'S3DataDistributionType': 'FullyReplicated', 'S3CompressionType': 'None'}}, {'InputName': 'requirements', 'AppManaged': False, 'S3Input': {'S3Uri': 's3://sagemaker-ap-northeast-2-419974056037/preprocessing-model-12/input/requirements/requirements.txt', 'LocalPath': '/opt/ml/processing/input/requirements', 'S3DataType': 'S3Prefix', 'S3InputMode': 'File', 'S3DataDistributionType': 'FullyReplicated', 'S3CompressionType': 'None'}}, {'InputName': 'code', 'AppManaged': False, 'S3Input': {'S3Uri': 's3://sagemaker-ap-northeast-2-419974056037/preprocessing-model-12/input/code/preprocessing.py', 'LocalPath': '/opt/ml/processing/input/code', 'S3DataType': 'S3Prefix', 'S3InputMode': 'File', 'S3DataDistributionType': 'FullyReplicated', 'S3CompressionType': 'None'}}]), ('ProcessingOutputConfig', {'Outputs': [{'OutputName': 'train_data', 'AppManaged': False, 'S3Output': {'S3Uri': Join(on='/', values=['s3://sagemaker-ap-northeast-2-419974056037', 'train-pipeline-model-12', <sagemaker.workflow.execution_variables.ExecutionVariable object at 0x7f518847a3a0>, 'train_data']), 'LocalPath': '/opt/ml/processing/output/train', 'S3UploadMode': 'EndOfJob'}}, {'OutputName': 'validation_data', 'AppManaged': False, 'S3Output': {'S3Uri': Join(on='/', values=['s3://sagemaker-ap-northeast-2-419974056037', 'train-pipeline-model-12', <sagemaker.workflow.execution_variables.ExecutionVariable object at 0x7f518847a3a0>, 'validation_data']), 'LocalPath': '/opt/ml/processing/output/validation', 'S3UploadMode': 'EndOfJob'}}, {'OutputName': 'test_data', 'AppManaged': False, 'S3Output': {'S3Uri': Join(on='/', values=['s3://sagemaker-ap-northeast-2-419974056037', 'train-pipeline-model-12', <sagemaker.workflow.execution_variables.ExecutionVariable object at 0x7f518847a3a0>, 'test_data']), 'LocalPath': '/opt/ml/processing/output/test', 'S3UploadMode': 'EndOfJob'}}]})])\n",
      "  \n",
      "== Training Step ==\n",
      "   \n",
      "Args:  dict_items([('AlgorithmSpecification', {'TrainingInputMode': 'File', 'TrainingImage': '306986355934.dkr.ecr.ap-northeast-2.amazonaws.com/blazingtext:1'}), ('OutputDataConfig', {'S3OutputPath': Join(on='/', values=['s3://sagemaker-ap-northeast-2-419974056037', 'train-pipeline-model-12'])}), ('StoppingCondition', {'MaxRuntimeInSeconds': 360000}), ('ResourceConfig', {'VolumeSizeInGB': 30, 'InstanceCount': 1, 'InstanceType': 'ml.m5.xlarge'}), ('RoleArn', 'arn:aws:iam::419974056037:role/service-role/AmazonSageMaker-ExecutionRole-20221004T162466'), ('InputDataConfig', [{'DataSource': {'S3DataSource': {'S3DataType': 'S3Prefix', 'S3Uri': <sagemaker.workflow.properties.Properties object at 0x7f51854ce430>, 'S3DataDistributionType': 'FullyReplicated'}}, 'ContentType': 'text/csv', 'ChannelName': 'train'}, {'DataSource': {'S3DataSource': {'S3DataType': 'S3Prefix', 'S3Uri': <sagemaker.workflow.properties.Properties object at 0x7f51854ce940>, 'S3DataDistributionType': 'FullyReplicated'}}, 'ContentType': 'text/csv', 'ChannelName': 'validation'}]), ('HyperParameters', {'mode': 'supervised', 'epochs': '10', 'min_epochs': '5', 'early_stopping': 'True', 'patience': '2', 'learning_rate': '0.01', 'min_count': '2', 'word_ngrams': '2', 'vector_dim': '16'}), ('DebugHookConfig', {'S3OutputPath': Join(on='/', values=['s3://sagemaker-ap-northeast-2-419974056037', 'train-pipeline-model-12']), 'CollectionConfigurations': []}), ('ProfilerConfig', {'S3OutputPath': Join(on='/', values=['s3://sagemaker-ap-northeast-2-419974056037', 'train-pipeline-model-12']), 'DisableProfiler': False})])\n",
      "  \n",
      "== Evaluation Step ==\n"
     ]
    },
    {
     "name": "stderr",
     "output_type": "stream",
     "text": [
      "INFO:sagemaker.processing:runproc.sh uploaded to s3://sagemaker-ap-northeast-2-419974056037/evaluation/source/runproc.sh\n"
     ]
    },
    {
     "name": "stdout",
     "output_type": "stream",
     "text": [
      "\n",
      "Job Name:  evaluation\n",
      "Inputs:  [{'InputName': 'input-1', 'AppManaged': False, 'S3Input': {'S3Uri': <sagemaker.workflow.properties.Properties object at 0x7f51854e8190>, 'LocalPath': '/opt/ml/processing/model', 'S3DataType': 'S3Prefix', 'S3InputMode': 'File', 'S3DataDistributionType': 'FullyReplicated', 'S3CompressionType': 'None'}}, {'InputName': 'input-2', 'AppManaged': False, 'S3Input': {'S3Uri': <sagemaker.workflow.properties.Properties object at 0x7f5185429c10>, 'LocalPath': '/opt/ml/processing/test', 'S3DataType': 'S3Prefix', 'S3InputMode': 'File', 'S3DataDistributionType': 'FullyReplicated', 'S3CompressionType': 'None'}}, {'InputName': 'code', 'AppManaged': False, 'S3Input': {'S3Uri': 's3://sagemaker-ap-northeast-2-419974056037/evaluation/source/sourcedir.tar.gz', 'LocalPath': '/opt/ml/processing/input/code/', 'S3DataType': 'S3Prefix', 'S3InputMode': 'File', 'S3DataDistributionType': 'FullyReplicated', 'S3CompressionType': 'None'}}, {'InputName': 'entrypoint', 'AppManaged': False, 'S3Input': {'S3Uri': 's3://sagemaker-ap-northeast-2-419974056037/evaluation/source/runproc.sh', 'LocalPath': '/opt/ml/processing/input/entrypoint', 'S3DataType': 'S3Prefix', 'S3InputMode': 'File', 'S3DataDistributionType': 'FullyReplicated', 'S3CompressionType': 'None'}}]\n",
      "Outputs:  [{'OutputName': 'evaluation-metrics', 'AppManaged': False, 'S3Output': {'S3Uri': Join(on='/', values=['s3://sagemaker-ap-northeast-2-419974056037', 'train-pipeline-model-12', <sagemaker.workflow.execution_variables.ExecutionVariable object at 0x7f518847a3a0>, 'evaluation-metrics']), 'LocalPath': '/opt/ml/processing/evaluation', 'S3UploadMode': 'EndOfJob'}}]\n",
      "   \n",
      "Args:  dict_items([('ProcessingResources', {'ClusterConfig': {'InstanceType': 'ml.g4dn.xlarge', 'InstanceCount': 1, 'VolumeSizeInGB': 30}}), ('AppSpecification', {'ImageUri': '763104351884.dkr.ecr.ap-northeast-2.amazonaws.com/tensorflow-training:2.3-gpu-py37', 'ContainerArguments': ['--s3_model_path', <sagemaker.workflow.properties.Properties object at 0x7f51854e8190>, '--region', 'ap-northeast-2', '--model_name', 'model-12'], 'ContainerEntrypoint': ['/bin/bash', '/opt/ml/processing/input/entrypoint/runproc.sh']}), ('RoleArn', 'arn:aws:iam::419974056037:role/service-role/AmazonSageMaker-ExecutionRole-20221004T162466'), ('ProcessingInputs', [{'InputName': 'input-1', 'AppManaged': False, 'S3Input': {'S3Uri': <sagemaker.workflow.properties.Properties object at 0x7f51854e8190>, 'LocalPath': '/opt/ml/processing/model', 'S3DataType': 'S3Prefix', 'S3InputMode': 'File', 'S3DataDistributionType': 'FullyReplicated', 'S3CompressionType': 'None'}}, {'InputName': 'input-2', 'AppManaged': False, 'S3Input': {'S3Uri': <sagemaker.workflow.properties.Properties object at 0x7f5185429c10>, 'LocalPath': '/opt/ml/processing/test', 'S3DataType': 'S3Prefix', 'S3InputMode': 'File', 'S3DataDistributionType': 'FullyReplicated', 'S3CompressionType': 'None'}}, {'InputName': 'code', 'AppManaged': False, 'S3Input': {'S3Uri': 's3://sagemaker-ap-northeast-2-419974056037/evaluation/source/sourcedir.tar.gz', 'LocalPath': '/opt/ml/processing/input/code/', 'S3DataType': 'S3Prefix', 'S3InputMode': 'File', 'S3DataDistributionType': 'FullyReplicated', 'S3CompressionType': 'None'}}, {'InputName': 'entrypoint', 'AppManaged': False, 'S3Input': {'S3Uri': 's3://sagemaker-ap-northeast-2-419974056037/evaluation/source/runproc.sh', 'LocalPath': '/opt/ml/processing/input/entrypoint', 'S3DataType': 'S3Prefix', 'S3InputMode': 'File', 'S3DataDistributionType': 'FullyReplicated', 'S3CompressionType': 'None'}}]), ('ProcessingOutputConfig', {'Outputs': [{'OutputName': 'evaluation-metrics', 'AppManaged': False, 'S3Output': {'S3Uri': Join(on='/', values=['s3://sagemaker-ap-northeast-2-419974056037', 'train-pipeline-model-12', <sagemaker.workflow.execution_variables.ExecutionVariable object at 0x7f518847a3a0>, 'evaluation-metrics']), 'LocalPath': '/opt/ml/processing/evaluation', 'S3UploadMode': 'EndOfJob'}}]})])\n",
      "  \n",
      "== Registration Step ==\n",
      "\n",
      "Job Name:  preprocessing-model-12\n",
      "Inputs:  [{'InputName': 'input-1', 'AppManaged': False, 'S3Input': {'S3Uri': 's3://sm-pipeline-multi-models-datasets/model-12/amazon_reviews_us_Electronics_v1_00.tsv.gz', 'LocalPath': '/opt/ml/processing/input', 'S3DataType': 'S3Prefix', 'S3InputMode': 'File', 'S3DataDistributionType': 'FullyReplicated', 'S3CompressionType': 'None'}}, {'InputName': 'requirements', 'AppManaged': False, 'S3Input': {'S3Uri': 's3://sagemaker-ap-northeast-2-419974056037/preprocessing-model-12/input/requirements/requirements.txt', 'LocalPath': '/opt/ml/processing/input/requirements', 'S3DataType': 'S3Prefix', 'S3InputMode': 'File', 'S3DataDistributionType': 'FullyReplicated', 'S3CompressionType': 'None'}}, {'InputName': 'code', 'AppManaged': False, 'S3Input': {'S3Uri': 's3://sagemaker-ap-northeast-2-419974056037/train-pipeline-model-12/code/2b3c51df48188408561910efa21ddc30/preprocessing.py', 'LocalPath': '/opt/ml/processing/input/code', 'S3DataType': 'S3Prefix', 'S3InputMode': 'File', 'S3DataDistributionType': 'FullyReplicated', 'S3CompressionType': 'None'}}]\n",
      "Outputs:  [{'OutputName': 'train_data', 'AppManaged': False, 'S3Output': {'S3Uri': Join(on='/', values=['s3://sagemaker-ap-northeast-2-419974056037', 'train-pipeline-model-12', <sagemaker.workflow.execution_variables.ExecutionVariable object at 0x7f518847a3a0>, 'train_data']), 'LocalPath': '/opt/ml/processing/output/train', 'S3UploadMode': 'EndOfJob'}}, {'OutputName': 'validation_data', 'AppManaged': False, 'S3Output': {'S3Uri': Join(on='/', values=['s3://sagemaker-ap-northeast-2-419974056037', 'train-pipeline-model-12', <sagemaker.workflow.execution_variables.ExecutionVariable object at 0x7f518847a3a0>, 'validation_data']), 'LocalPath': '/opt/ml/processing/output/validation', 'S3UploadMode': 'EndOfJob'}}, {'OutputName': 'test_data', 'AppManaged': False, 'S3Output': {'S3Uri': Join(on='/', values=['s3://sagemaker-ap-northeast-2-419974056037', 'train-pipeline-model-12', <sagemaker.workflow.execution_variables.ExecutionVariable object at 0x7f518847a3a0>, 'test_data']), 'LocalPath': '/opt/ml/processing/output/test', 'S3UploadMode': 'EndOfJob'}}]\n"
     ]
    },
    {
     "name": "stderr",
     "output_type": "stream",
     "text": [
      "INFO:sagemaker.processing:Uploaded ./sources/ to s3://sagemaker-ap-northeast-2-419974056037/train-pipeline-model-12/code/eabace17c9345271cf901107138b46a8/sourcedir.tar.gz\n",
      "INFO:sagemaker.processing:runproc.sh uploaded to s3://sagemaker-ap-northeast-2-419974056037/train-pipeline-model-12/code/1071dadab36d48ed1fba97e2ff137bdf/runproc.sh\n",
      "WARNING:sagemaker.estimator:No finished training job found associated with this estimator. Please make sure this estimator is only used for building workflow config\n",
      "WARNING:sagemaker.workflow._utils:Popping out 'CertifyForMarketplace' from the pipeline definition since it will be overridden in pipeline execution time.\n"
     ]
    },
    {
     "name": "stdout",
     "output_type": "stream",
     "text": [
      "\n",
      "Job Name:  evaluation\n",
      "Inputs:  [{'InputName': 'input-1', 'AppManaged': False, 'S3Input': {'S3Uri': <sagemaker.workflow.properties.Properties object at 0x7f51854e8190>, 'LocalPath': '/opt/ml/processing/model', 'S3DataType': 'S3Prefix', 'S3InputMode': 'File', 'S3DataDistributionType': 'FullyReplicated', 'S3CompressionType': 'None'}}, {'InputName': 'input-2', 'AppManaged': False, 'S3Input': {'S3Uri': <sagemaker.workflow.properties.Properties object at 0x7f5185429c10>, 'LocalPath': '/opt/ml/processing/test', 'S3DataType': 'S3Prefix', 'S3InputMode': 'File', 'S3DataDistributionType': 'FullyReplicated', 'S3CompressionType': 'None'}}, {'InputName': 'code', 'AppManaged': False, 'S3Input': {'S3Uri': 's3://sagemaker-ap-northeast-2-419974056037/train-pipeline-model-12/code/eabace17c9345271cf901107138b46a8/sourcedir.tar.gz', 'LocalPath': '/opt/ml/processing/input/code/', 'S3DataType': 'S3Prefix', 'S3InputMode': 'File', 'S3DataDistributionType': 'FullyReplicated', 'S3CompressionType': 'None'}}, {'InputName': 'entrypoint', 'AppManaged': False, 'S3Input': {'S3Uri': 's3://sagemaker-ap-northeast-2-419974056037/train-pipeline-model-12/code/1071dadab36d48ed1fba97e2ff137bdf/runproc.sh', 'LocalPath': '/opt/ml/processing/input/entrypoint', 'S3DataType': 'S3Prefix', 'S3InputMode': 'File', 'S3DataDistributionType': 'FullyReplicated', 'S3CompressionType': 'None'}}]\n",
      "Outputs:  [{'OutputName': 'evaluation-metrics', 'AppManaged': False, 'S3Output': {'S3Uri': Join(on='/', values=['s3://sagemaker-ap-northeast-2-419974056037', 'train-pipeline-model-12', <sagemaker.workflow.execution_variables.ExecutionVariable object at 0x7f518847a3a0>, 'evaluation-metrics']), 'LocalPath': '/opt/ml/processing/evaluation', 'S3UploadMode': 'EndOfJob'}}]\n",
      "  \n",
      "== PipeLine Execution info.==\n",
      "{'PipelineArn': 'arn:aws:sagemaker:ap-northeast-2:419974056037:pipeline/train-pipeline-model-12', 'PipelineExecutionArn': 'arn:aws:sagemaker:ap-northeast-2:419974056037:pipeline/train-pipeline-model-12/execution/mngjmy8o4p0d', 'PipelineExecutionDisplayName': 'execution-1674699097593', 'PipelineExecutionStatus': 'Executing', 'CreationTime': datetime.datetime(2023, 1, 26, 2, 11, 37, 528000, tzinfo=tzlocal()), 'LastModifiedTime': datetime.datetime(2023, 1, 26, 2, 11, 37, 528000, tzinfo=tzlocal()), 'CreatedBy': {}, 'LastModifiedBy': {}, 'ResponseMetadata': {'RequestId': '5bb3102e-98d4-4012-bd25-e8c1101ddb9d', 'HTTPStatusCode': 200, 'HTTPHeaders': {'x-amzn-requestid': '5bb3102e-98d4-4012-bd25-e8c1101ddb9d', 'content-type': 'application/x-amz-json-1.1', 'content-length': '421', 'date': 'Thu, 26 Jan 2023 02:11:36 GMT'}, 'RetryAttempts': 0}}\n",
      "========================== \n",
      "\n"
     ]
    },
    {
     "name": "stderr",
     "output_type": "stream",
     "text": [
      "INFO:sagemaker.image_uris:Same images used for training and inference. Defaulting to image scope: inference.\n",
      "INFO:sagemaker.image_uris:Defaulting to the only supported framework/algorithm version: 1.\n",
      "INFO:sagemaker.image_uris:Ignoring unnecessary instance type: None.\n",
      "INFO:sagemaker.image_uris:Defaulting to only available Python version: py3\n"
     ]
    },
    {
     "name": "stdout",
     "output_type": "stream",
     "text": [
      "MODEL-NAME: model-13\n",
      "  Account-ID: 419974056037, \n",
      "  Region: ap-northeast-2, \n",
      "  Role: arn:aws:iam::419974056037:role/service-role/AmazonSageMaker-ExecutionRole-20221004T162466, \n",
      "  Default_bucket: sagemaker-ap-northeast-2-419974056037\n",
      "  pipeline_session: <sagemaker.workflow.pipeline_context.PipelineSession object at 0x7f518556b970>\n",
      "  \n",
      "== Preprocessing Step ==\n"
     ]
    },
    {
     "name": "stderr",
     "output_type": "stream",
     "text": [
      "INFO:sagemaker.image_uris:image_uri is not presented, retrieving image_uri based on instance_type, framework etc.\n",
      "INFO:sagemaker.processing:Uploaded ./sources/ to s3://sagemaker-ap-northeast-2-419974056037/evaluation/source/sourcedir.tar.gz\n"
     ]
    },
    {
     "name": "stdout",
     "output_type": "stream",
     "text": [
      "\n",
      "Job Name:  preprocessing-model-13\n",
      "Inputs:  [{'InputName': 'input-1', 'AppManaged': False, 'S3Input': {'S3Uri': 's3://sm-pipeline-multi-models-datasets/model-13/amazon_reviews_us_Electronics_v1_00.tsv.gz', 'LocalPath': '/opt/ml/processing/input', 'S3DataType': 'S3Prefix', 'S3InputMode': 'File', 'S3DataDistributionType': 'FullyReplicated', 'S3CompressionType': 'None'}}, {'InputName': 'requirements', 'AppManaged': False, 'S3Input': {'S3Uri': 's3://sagemaker-ap-northeast-2-419974056037/preprocessing-model-13/input/requirements/requirements.txt', 'LocalPath': '/opt/ml/processing/input/requirements', 'S3DataType': 'S3Prefix', 'S3InputMode': 'File', 'S3DataDistributionType': 'FullyReplicated', 'S3CompressionType': 'None'}}, {'InputName': 'code', 'AppManaged': False, 'S3Input': {'S3Uri': 's3://sagemaker-ap-northeast-2-419974056037/preprocessing-model-13/input/code/preprocessing.py', 'LocalPath': '/opt/ml/processing/input/code', 'S3DataType': 'S3Prefix', 'S3InputMode': 'File', 'S3DataDistributionType': 'FullyReplicated', 'S3CompressionType': 'None'}}]\n",
      "Outputs:  [{'OutputName': 'train_data', 'AppManaged': False, 'S3Output': {'S3Uri': Join(on='/', values=['s3://sagemaker-ap-northeast-2-419974056037', 'train-pipeline-model-13', <sagemaker.workflow.execution_variables.ExecutionVariable object at 0x7f518847a3a0>, 'train_data']), 'LocalPath': '/opt/ml/processing/output/train', 'S3UploadMode': 'EndOfJob'}}, {'OutputName': 'validation_data', 'AppManaged': False, 'S3Output': {'S3Uri': Join(on='/', values=['s3://sagemaker-ap-northeast-2-419974056037', 'train-pipeline-model-13', <sagemaker.workflow.execution_variables.ExecutionVariable object at 0x7f518847a3a0>, 'validation_data']), 'LocalPath': '/opt/ml/processing/output/validation', 'S3UploadMode': 'EndOfJob'}}, {'OutputName': 'test_data', 'AppManaged': False, 'S3Output': {'S3Uri': Join(on='/', values=['s3://sagemaker-ap-northeast-2-419974056037', 'train-pipeline-model-13', <sagemaker.workflow.execution_variables.ExecutionVariable object at 0x7f518847a3a0>, 'test_data']), 'LocalPath': '/opt/ml/processing/output/test', 'S3UploadMode': 'EndOfJob'}}]\n",
      "   \n",
      "Args:  dict_items([('ProcessingResources', {'ClusterConfig': {'InstanceType': 'ml.m5.xlarge', 'InstanceCount': 1, 'VolumeSizeInGB': 30}}), ('AppSpecification', {'ImageUri': '366743142698.dkr.ecr.ap-northeast-2.amazonaws.com/sagemaker-scikit-learn:0.20.0-cpu-py3', 'ContainerArguments': ['--input_name', 'amazon_reviews_us_Electronics_v1_00.tsv.gz', '--region', 'ap-northeast-2'], 'ContainerEntrypoint': ['python3', '/opt/ml/processing/input/code/preprocessing.py']}), ('RoleArn', 'arn:aws:iam::419974056037:role/service-role/AmazonSageMaker-ExecutionRole-20221004T162466'), ('ProcessingInputs', [{'InputName': 'input-1', 'AppManaged': False, 'S3Input': {'S3Uri': 's3://sm-pipeline-multi-models-datasets/model-13/amazon_reviews_us_Electronics_v1_00.tsv.gz', 'LocalPath': '/opt/ml/processing/input', 'S3DataType': 'S3Prefix', 'S3InputMode': 'File', 'S3DataDistributionType': 'FullyReplicated', 'S3CompressionType': 'None'}}, {'InputName': 'requirements', 'AppManaged': False, 'S3Input': {'S3Uri': 's3://sagemaker-ap-northeast-2-419974056037/preprocessing-model-13/input/requirements/requirements.txt', 'LocalPath': '/opt/ml/processing/input/requirements', 'S3DataType': 'S3Prefix', 'S3InputMode': 'File', 'S3DataDistributionType': 'FullyReplicated', 'S3CompressionType': 'None'}}, {'InputName': 'code', 'AppManaged': False, 'S3Input': {'S3Uri': 's3://sagemaker-ap-northeast-2-419974056037/preprocessing-model-13/input/code/preprocessing.py', 'LocalPath': '/opt/ml/processing/input/code', 'S3DataType': 'S3Prefix', 'S3InputMode': 'File', 'S3DataDistributionType': 'FullyReplicated', 'S3CompressionType': 'None'}}]), ('ProcessingOutputConfig', {'Outputs': [{'OutputName': 'train_data', 'AppManaged': False, 'S3Output': {'S3Uri': Join(on='/', values=['s3://sagemaker-ap-northeast-2-419974056037', 'train-pipeline-model-13', <sagemaker.workflow.execution_variables.ExecutionVariable object at 0x7f518847a3a0>, 'train_data']), 'LocalPath': '/opt/ml/processing/output/train', 'S3UploadMode': 'EndOfJob'}}, {'OutputName': 'validation_data', 'AppManaged': False, 'S3Output': {'S3Uri': Join(on='/', values=['s3://sagemaker-ap-northeast-2-419974056037', 'train-pipeline-model-13', <sagemaker.workflow.execution_variables.ExecutionVariable object at 0x7f518847a3a0>, 'validation_data']), 'LocalPath': '/opt/ml/processing/output/validation', 'S3UploadMode': 'EndOfJob'}}, {'OutputName': 'test_data', 'AppManaged': False, 'S3Output': {'S3Uri': Join(on='/', values=['s3://sagemaker-ap-northeast-2-419974056037', 'train-pipeline-model-13', <sagemaker.workflow.execution_variables.ExecutionVariable object at 0x7f518847a3a0>, 'test_data']), 'LocalPath': '/opt/ml/processing/output/test', 'S3UploadMode': 'EndOfJob'}}]})])\n",
      "  \n",
      "== Training Step ==\n",
      "   \n",
      "Args:  dict_items([('AlgorithmSpecification', {'TrainingInputMode': 'File', 'TrainingImage': '306986355934.dkr.ecr.ap-northeast-2.amazonaws.com/blazingtext:1'}), ('OutputDataConfig', {'S3OutputPath': Join(on='/', values=['s3://sagemaker-ap-northeast-2-419974056037', 'train-pipeline-model-13'])}), ('StoppingCondition', {'MaxRuntimeInSeconds': 360000}), ('ResourceConfig', {'VolumeSizeInGB': 30, 'InstanceCount': 1, 'InstanceType': 'ml.m5.xlarge'}), ('RoleArn', 'arn:aws:iam::419974056037:role/service-role/AmazonSageMaker-ExecutionRole-20221004T162466'), ('InputDataConfig', [{'DataSource': {'S3DataSource': {'S3DataType': 'S3Prefix', 'S3Uri': <sagemaker.workflow.properties.Properties object at 0x7f51875a44f0>, 'S3DataDistributionType': 'FullyReplicated'}}, 'ContentType': 'text/csv', 'ChannelName': 'train'}, {'DataSource': {'S3DataSource': {'S3DataType': 'S3Prefix', 'S3Uri': <sagemaker.workflow.properties.Properties object at 0x7f51875a42e0>, 'S3DataDistributionType': 'FullyReplicated'}}, 'ContentType': 'text/csv', 'ChannelName': 'validation'}]), ('HyperParameters', {'mode': 'supervised', 'epochs': '10', 'min_epochs': '5', 'early_stopping': 'True', 'patience': '2', 'learning_rate': '0.01', 'min_count': '2', 'word_ngrams': '2', 'vector_dim': '16'}), ('DebugHookConfig', {'S3OutputPath': Join(on='/', values=['s3://sagemaker-ap-northeast-2-419974056037', 'train-pipeline-model-13']), 'CollectionConfigurations': []}), ('ProfilerConfig', {'S3OutputPath': Join(on='/', values=['s3://sagemaker-ap-northeast-2-419974056037', 'train-pipeline-model-13']), 'DisableProfiler': False})])\n",
      "  \n",
      "== Evaluation Step ==\n"
     ]
    },
    {
     "name": "stderr",
     "output_type": "stream",
     "text": [
      "INFO:sagemaker.processing:runproc.sh uploaded to s3://sagemaker-ap-northeast-2-419974056037/evaluation/source/runproc.sh\n"
     ]
    },
    {
     "name": "stdout",
     "output_type": "stream",
     "text": [
      "\n",
      "Job Name:  evaluation\n",
      "Inputs:  [{'InputName': 'input-1', 'AppManaged': False, 'S3Input': {'S3Uri': <sagemaker.workflow.properties.Properties object at 0x7f5187569f40>, 'LocalPath': '/opt/ml/processing/model', 'S3DataType': 'S3Prefix', 'S3InputMode': 'File', 'S3DataDistributionType': 'FullyReplicated', 'S3CompressionType': 'None'}}, {'InputName': 'input-2', 'AppManaged': False, 'S3Input': {'S3Uri': <sagemaker.workflow.properties.Properties object at 0x7f5187559fd0>, 'LocalPath': '/opt/ml/processing/test', 'S3DataType': 'S3Prefix', 'S3InputMode': 'File', 'S3DataDistributionType': 'FullyReplicated', 'S3CompressionType': 'None'}}, {'InputName': 'code', 'AppManaged': False, 'S3Input': {'S3Uri': 's3://sagemaker-ap-northeast-2-419974056037/evaluation/source/sourcedir.tar.gz', 'LocalPath': '/opt/ml/processing/input/code/', 'S3DataType': 'S3Prefix', 'S3InputMode': 'File', 'S3DataDistributionType': 'FullyReplicated', 'S3CompressionType': 'None'}}, {'InputName': 'entrypoint', 'AppManaged': False, 'S3Input': {'S3Uri': 's3://sagemaker-ap-northeast-2-419974056037/evaluation/source/runproc.sh', 'LocalPath': '/opt/ml/processing/input/entrypoint', 'S3DataType': 'S3Prefix', 'S3InputMode': 'File', 'S3DataDistributionType': 'FullyReplicated', 'S3CompressionType': 'None'}}]\n",
      "Outputs:  [{'OutputName': 'evaluation-metrics', 'AppManaged': False, 'S3Output': {'S3Uri': Join(on='/', values=['s3://sagemaker-ap-northeast-2-419974056037', 'train-pipeline-model-13', <sagemaker.workflow.execution_variables.ExecutionVariable object at 0x7f518847a3a0>, 'evaluation-metrics']), 'LocalPath': '/opt/ml/processing/evaluation', 'S3UploadMode': 'EndOfJob'}}]\n",
      "   \n",
      "Args:  dict_items([('ProcessingResources', {'ClusterConfig': {'InstanceType': 'ml.g4dn.xlarge', 'InstanceCount': 1, 'VolumeSizeInGB': 30}}), ('AppSpecification', {'ImageUri': '763104351884.dkr.ecr.ap-northeast-2.amazonaws.com/tensorflow-training:2.3-gpu-py37', 'ContainerArguments': ['--s3_model_path', <sagemaker.workflow.properties.Properties object at 0x7f5187569f40>, '--region', 'ap-northeast-2', '--model_name', 'model-13'], 'ContainerEntrypoint': ['/bin/bash', '/opt/ml/processing/input/entrypoint/runproc.sh']}), ('RoleArn', 'arn:aws:iam::419974056037:role/service-role/AmazonSageMaker-ExecutionRole-20221004T162466'), ('ProcessingInputs', [{'InputName': 'input-1', 'AppManaged': False, 'S3Input': {'S3Uri': <sagemaker.workflow.properties.Properties object at 0x7f5187569f40>, 'LocalPath': '/opt/ml/processing/model', 'S3DataType': 'S3Prefix', 'S3InputMode': 'File', 'S3DataDistributionType': 'FullyReplicated', 'S3CompressionType': 'None'}}, {'InputName': 'input-2', 'AppManaged': False, 'S3Input': {'S3Uri': <sagemaker.workflow.properties.Properties object at 0x7f5187559fd0>, 'LocalPath': '/opt/ml/processing/test', 'S3DataType': 'S3Prefix', 'S3InputMode': 'File', 'S3DataDistributionType': 'FullyReplicated', 'S3CompressionType': 'None'}}, {'InputName': 'code', 'AppManaged': False, 'S3Input': {'S3Uri': 's3://sagemaker-ap-northeast-2-419974056037/evaluation/source/sourcedir.tar.gz', 'LocalPath': '/opt/ml/processing/input/code/', 'S3DataType': 'S3Prefix', 'S3InputMode': 'File', 'S3DataDistributionType': 'FullyReplicated', 'S3CompressionType': 'None'}}, {'InputName': 'entrypoint', 'AppManaged': False, 'S3Input': {'S3Uri': 's3://sagemaker-ap-northeast-2-419974056037/evaluation/source/runproc.sh', 'LocalPath': '/opt/ml/processing/input/entrypoint', 'S3DataType': 'S3Prefix', 'S3InputMode': 'File', 'S3DataDistributionType': 'FullyReplicated', 'S3CompressionType': 'None'}}]), ('ProcessingOutputConfig', {'Outputs': [{'OutputName': 'evaluation-metrics', 'AppManaged': False, 'S3Output': {'S3Uri': Join(on='/', values=['s3://sagemaker-ap-northeast-2-419974056037', 'train-pipeline-model-13', <sagemaker.workflow.execution_variables.ExecutionVariable object at 0x7f518847a3a0>, 'evaluation-metrics']), 'LocalPath': '/opt/ml/processing/evaluation', 'S3UploadMode': 'EndOfJob'}}]})])\n",
      "  \n",
      "== Registration Step ==\n"
     ]
    },
    {
     "name": "stderr",
     "output_type": "stream",
     "text": [
      "INFO:sagemaker.processing:Uploaded ./sources/ to s3://sagemaker-ap-northeast-2-419974056037/train-pipeline-model-13/code/eabace17c9345271cf901107138b46a8/sourcedir.tar.gz\n",
      "INFO:sagemaker.processing:runproc.sh uploaded to s3://sagemaker-ap-northeast-2-419974056037/train-pipeline-model-13/code/1071dadab36d48ed1fba97e2ff137bdf/runproc.sh\n",
      "WARNING:sagemaker.estimator:No finished training job found associated with this estimator. Please make sure this estimator is only used for building workflow config\n",
      "WARNING:sagemaker.workflow._utils:Popping out 'CertifyForMarketplace' from the pipeline definition since it will be overridden in pipeline execution time.\n"
     ]
    },
    {
     "name": "stdout",
     "output_type": "stream",
     "text": [
      "\n",
      "Job Name:  preprocessing-model-13\n",
      "Inputs:  [{'InputName': 'input-1', 'AppManaged': False, 'S3Input': {'S3Uri': 's3://sm-pipeline-multi-models-datasets/model-13/amazon_reviews_us_Electronics_v1_00.tsv.gz', 'LocalPath': '/opt/ml/processing/input', 'S3DataType': 'S3Prefix', 'S3InputMode': 'File', 'S3DataDistributionType': 'FullyReplicated', 'S3CompressionType': 'None'}}, {'InputName': 'requirements', 'AppManaged': False, 'S3Input': {'S3Uri': 's3://sagemaker-ap-northeast-2-419974056037/preprocessing-model-13/input/requirements/requirements.txt', 'LocalPath': '/opt/ml/processing/input/requirements', 'S3DataType': 'S3Prefix', 'S3InputMode': 'File', 'S3DataDistributionType': 'FullyReplicated', 'S3CompressionType': 'None'}}, {'InputName': 'code', 'AppManaged': False, 'S3Input': {'S3Uri': 's3://sagemaker-ap-northeast-2-419974056037/train-pipeline-model-13/code/2b3c51df48188408561910efa21ddc30/preprocessing.py', 'LocalPath': '/opt/ml/processing/input/code', 'S3DataType': 'S3Prefix', 'S3InputMode': 'File', 'S3DataDistributionType': 'FullyReplicated', 'S3CompressionType': 'None'}}]\n",
      "Outputs:  [{'OutputName': 'train_data', 'AppManaged': False, 'S3Output': {'S3Uri': Join(on='/', values=['s3://sagemaker-ap-northeast-2-419974056037', 'train-pipeline-model-13', <sagemaker.workflow.execution_variables.ExecutionVariable object at 0x7f518847a3a0>, 'train_data']), 'LocalPath': '/opt/ml/processing/output/train', 'S3UploadMode': 'EndOfJob'}}, {'OutputName': 'validation_data', 'AppManaged': False, 'S3Output': {'S3Uri': Join(on='/', values=['s3://sagemaker-ap-northeast-2-419974056037', 'train-pipeline-model-13', <sagemaker.workflow.execution_variables.ExecutionVariable object at 0x7f518847a3a0>, 'validation_data']), 'LocalPath': '/opt/ml/processing/output/validation', 'S3UploadMode': 'EndOfJob'}}, {'OutputName': 'test_data', 'AppManaged': False, 'S3Output': {'S3Uri': Join(on='/', values=['s3://sagemaker-ap-northeast-2-419974056037', 'train-pipeline-model-13', <sagemaker.workflow.execution_variables.ExecutionVariable object at 0x7f518847a3a0>, 'test_data']), 'LocalPath': '/opt/ml/processing/output/test', 'S3UploadMode': 'EndOfJob'}}]\n",
      "\n",
      "Job Name:  evaluation\n",
      "Inputs:  [{'InputName': 'input-1', 'AppManaged': False, 'S3Input': {'S3Uri': <sagemaker.workflow.properties.Properties object at 0x7f5187569f40>, 'LocalPath': '/opt/ml/processing/model', 'S3DataType': 'S3Prefix', 'S3InputMode': 'File', 'S3DataDistributionType': 'FullyReplicated', 'S3CompressionType': 'None'}}, {'InputName': 'input-2', 'AppManaged': False, 'S3Input': {'S3Uri': <sagemaker.workflow.properties.Properties object at 0x7f5187559fd0>, 'LocalPath': '/opt/ml/processing/test', 'S3DataType': 'S3Prefix', 'S3InputMode': 'File', 'S3DataDistributionType': 'FullyReplicated', 'S3CompressionType': 'None'}}, {'InputName': 'code', 'AppManaged': False, 'S3Input': {'S3Uri': 's3://sagemaker-ap-northeast-2-419974056037/train-pipeline-model-13/code/eabace17c9345271cf901107138b46a8/sourcedir.tar.gz', 'LocalPath': '/opt/ml/processing/input/code/', 'S3DataType': 'S3Prefix', 'S3InputMode': 'File', 'S3DataDistributionType': 'FullyReplicated', 'S3CompressionType': 'None'}}, {'InputName': 'entrypoint', 'AppManaged': False, 'S3Input': {'S3Uri': 's3://sagemaker-ap-northeast-2-419974056037/train-pipeline-model-13/code/1071dadab36d48ed1fba97e2ff137bdf/runproc.sh', 'LocalPath': '/opt/ml/processing/input/entrypoint', 'S3DataType': 'S3Prefix', 'S3InputMode': 'File', 'S3DataDistributionType': 'FullyReplicated', 'S3CompressionType': 'None'}}]\n",
      "Outputs:  [{'OutputName': 'evaluation-metrics', 'AppManaged': False, 'S3Output': {'S3Uri': Join(on='/', values=['s3://sagemaker-ap-northeast-2-419974056037', 'train-pipeline-model-13', <sagemaker.workflow.execution_variables.ExecutionVariable object at 0x7f518847a3a0>, 'evaluation-metrics']), 'LocalPath': '/opt/ml/processing/evaluation', 'S3UploadMode': 'EndOfJob'}}]\n",
      "  \n",
      "== PipeLine Execution info.==\n",
      "{'PipelineArn': 'arn:aws:sagemaker:ap-northeast-2:419974056037:pipeline/train-pipeline-model-13', 'PipelineExecutionArn': 'arn:aws:sagemaker:ap-northeast-2:419974056037:pipeline/train-pipeline-model-13/execution/tsauyaaq84f5', 'PipelineExecutionDisplayName': 'execution-1674699099250', 'PipelineExecutionStatus': 'Executing', 'CreationTime': datetime.datetime(2023, 1, 26, 2, 11, 39, 119000, tzinfo=tzlocal()), 'LastModifiedTime': datetime.datetime(2023, 1, 26, 2, 11, 39, 119000, tzinfo=tzlocal()), 'CreatedBy': {}, 'LastModifiedBy': {}, 'ResponseMetadata': {'RequestId': 'fbe6e7dc-824f-4747-83b0-1c622a3ba1e1', 'HTTPStatusCode': 200, 'HTTPHeaders': {'x-amzn-requestid': 'fbe6e7dc-824f-4747-83b0-1c622a3ba1e1', 'content-type': 'application/x-amz-json-1.1', 'content-length': '421', 'date': 'Thu, 26 Jan 2023 02:11:39 GMT'}, 'RetryAttempts': 0}}\n",
      "========================== \n",
      "\n"
     ]
    },
    {
     "name": "stderr",
     "output_type": "stream",
     "text": [
      "INFO:sagemaker.image_uris:Same images used for training and inference. Defaulting to image scope: inference.\n",
      "INFO:sagemaker.image_uris:Defaulting to the only supported framework/algorithm version: 1.\n",
      "INFO:sagemaker.image_uris:Ignoring unnecessary instance type: None.\n",
      "INFO:sagemaker.image_uris:Defaulting to only available Python version: py3\n"
     ]
    },
    {
     "name": "stdout",
     "output_type": "stream",
     "text": [
      "MODEL-NAME: model-14\n",
      "  Account-ID: 419974056037, \n",
      "  Region: ap-northeast-2, \n",
      "  Role: arn:aws:iam::419974056037:role/service-role/AmazonSageMaker-ExecutionRole-20221004T162466, \n",
      "  Default_bucket: sagemaker-ap-northeast-2-419974056037\n",
      "  pipeline_session: <sagemaker.workflow.pipeline_context.PipelineSession object at 0x7f5187561d60>\n",
      "  \n",
      "== Preprocessing Step ==\n"
     ]
    },
    {
     "name": "stderr",
     "output_type": "stream",
     "text": [
      "INFO:sagemaker.image_uris:image_uri is not presented, retrieving image_uri based on instance_type, framework etc.\n",
      "INFO:sagemaker.processing:Uploaded ./sources/ to s3://sagemaker-ap-northeast-2-419974056037/evaluation/source/sourcedir.tar.gz\n",
      "INFO:sagemaker.processing:runproc.sh uploaded to s3://sagemaker-ap-northeast-2-419974056037/evaluation/source/runproc.sh\n"
     ]
    },
    {
     "name": "stdout",
     "output_type": "stream",
     "text": [
      "\n",
      "Job Name:  preprocessing-model-14\n",
      "Inputs:  [{'InputName': 'input-1', 'AppManaged': False, 'S3Input': {'S3Uri': 's3://sm-pipeline-multi-models-datasets/model-14/amazon_reviews_us_Electronics_v1_00.tsv.gz', 'LocalPath': '/opt/ml/processing/input', 'S3DataType': 'S3Prefix', 'S3InputMode': 'File', 'S3DataDistributionType': 'FullyReplicated', 'S3CompressionType': 'None'}}, {'InputName': 'requirements', 'AppManaged': False, 'S3Input': {'S3Uri': 's3://sagemaker-ap-northeast-2-419974056037/preprocessing-model-14/input/requirements/requirements.txt', 'LocalPath': '/opt/ml/processing/input/requirements', 'S3DataType': 'S3Prefix', 'S3InputMode': 'File', 'S3DataDistributionType': 'FullyReplicated', 'S3CompressionType': 'None'}}, {'InputName': 'code', 'AppManaged': False, 'S3Input': {'S3Uri': 's3://sagemaker-ap-northeast-2-419974056037/preprocessing-model-14/input/code/preprocessing.py', 'LocalPath': '/opt/ml/processing/input/code', 'S3DataType': 'S3Prefix', 'S3InputMode': 'File', 'S3DataDistributionType': 'FullyReplicated', 'S3CompressionType': 'None'}}]\n",
      "Outputs:  [{'OutputName': 'train_data', 'AppManaged': False, 'S3Output': {'S3Uri': Join(on='/', values=['s3://sagemaker-ap-northeast-2-419974056037', 'train-pipeline-model-14', <sagemaker.workflow.execution_variables.ExecutionVariable object at 0x7f518847a3a0>, 'train_data']), 'LocalPath': '/opt/ml/processing/output/train', 'S3UploadMode': 'EndOfJob'}}, {'OutputName': 'validation_data', 'AppManaged': False, 'S3Output': {'S3Uri': Join(on='/', values=['s3://sagemaker-ap-northeast-2-419974056037', 'train-pipeline-model-14', <sagemaker.workflow.execution_variables.ExecutionVariable object at 0x7f518847a3a0>, 'validation_data']), 'LocalPath': '/opt/ml/processing/output/validation', 'S3UploadMode': 'EndOfJob'}}, {'OutputName': 'test_data', 'AppManaged': False, 'S3Output': {'S3Uri': Join(on='/', values=['s3://sagemaker-ap-northeast-2-419974056037', 'train-pipeline-model-14', <sagemaker.workflow.execution_variables.ExecutionVariable object at 0x7f518847a3a0>, 'test_data']), 'LocalPath': '/opt/ml/processing/output/test', 'S3UploadMode': 'EndOfJob'}}]\n",
      "   \n",
      "Args:  dict_items([('ProcessingResources', {'ClusterConfig': {'InstanceType': 'ml.m5.xlarge', 'InstanceCount': 1, 'VolumeSizeInGB': 30}}), ('AppSpecification', {'ImageUri': '366743142698.dkr.ecr.ap-northeast-2.amazonaws.com/sagemaker-scikit-learn:0.20.0-cpu-py3', 'ContainerArguments': ['--input_name', 'amazon_reviews_us_Electronics_v1_00.tsv.gz', '--region', 'ap-northeast-2'], 'ContainerEntrypoint': ['python3', '/opt/ml/processing/input/code/preprocessing.py']}), ('RoleArn', 'arn:aws:iam::419974056037:role/service-role/AmazonSageMaker-ExecutionRole-20221004T162466'), ('ProcessingInputs', [{'InputName': 'input-1', 'AppManaged': False, 'S3Input': {'S3Uri': 's3://sm-pipeline-multi-models-datasets/model-14/amazon_reviews_us_Electronics_v1_00.tsv.gz', 'LocalPath': '/opt/ml/processing/input', 'S3DataType': 'S3Prefix', 'S3InputMode': 'File', 'S3DataDistributionType': 'FullyReplicated', 'S3CompressionType': 'None'}}, {'InputName': 'requirements', 'AppManaged': False, 'S3Input': {'S3Uri': 's3://sagemaker-ap-northeast-2-419974056037/preprocessing-model-14/input/requirements/requirements.txt', 'LocalPath': '/opt/ml/processing/input/requirements', 'S3DataType': 'S3Prefix', 'S3InputMode': 'File', 'S3DataDistributionType': 'FullyReplicated', 'S3CompressionType': 'None'}}, {'InputName': 'code', 'AppManaged': False, 'S3Input': {'S3Uri': 's3://sagemaker-ap-northeast-2-419974056037/preprocessing-model-14/input/code/preprocessing.py', 'LocalPath': '/opt/ml/processing/input/code', 'S3DataType': 'S3Prefix', 'S3InputMode': 'File', 'S3DataDistributionType': 'FullyReplicated', 'S3CompressionType': 'None'}}]), ('ProcessingOutputConfig', {'Outputs': [{'OutputName': 'train_data', 'AppManaged': False, 'S3Output': {'S3Uri': Join(on='/', values=['s3://sagemaker-ap-northeast-2-419974056037', 'train-pipeline-model-14', <sagemaker.workflow.execution_variables.ExecutionVariable object at 0x7f518847a3a0>, 'train_data']), 'LocalPath': '/opt/ml/processing/output/train', 'S3UploadMode': 'EndOfJob'}}, {'OutputName': 'validation_data', 'AppManaged': False, 'S3Output': {'S3Uri': Join(on='/', values=['s3://sagemaker-ap-northeast-2-419974056037', 'train-pipeline-model-14', <sagemaker.workflow.execution_variables.ExecutionVariable object at 0x7f518847a3a0>, 'validation_data']), 'LocalPath': '/opt/ml/processing/output/validation', 'S3UploadMode': 'EndOfJob'}}, {'OutputName': 'test_data', 'AppManaged': False, 'S3Output': {'S3Uri': Join(on='/', values=['s3://sagemaker-ap-northeast-2-419974056037', 'train-pipeline-model-14', <sagemaker.workflow.execution_variables.ExecutionVariable object at 0x7f518847a3a0>, 'test_data']), 'LocalPath': '/opt/ml/processing/output/test', 'S3UploadMode': 'EndOfJob'}}]})])\n",
      "  \n",
      "== Training Step ==\n",
      "   \n",
      "Args:  dict_items([('AlgorithmSpecification', {'TrainingInputMode': 'File', 'TrainingImage': '306986355934.dkr.ecr.ap-northeast-2.amazonaws.com/blazingtext:1'}), ('OutputDataConfig', {'S3OutputPath': Join(on='/', values=['s3://sagemaker-ap-northeast-2-419974056037', 'train-pipeline-model-14'])}), ('StoppingCondition', {'MaxRuntimeInSeconds': 360000}), ('ResourceConfig', {'VolumeSizeInGB': 30, 'InstanceCount': 1, 'InstanceType': 'ml.m5.xlarge'}), ('RoleArn', 'arn:aws:iam::419974056037:role/service-role/AmazonSageMaker-ExecutionRole-20221004T162466'), ('InputDataConfig', [{'DataSource': {'S3DataSource': {'S3DataType': 'S3Prefix', 'S3Uri': <sagemaker.workflow.properties.Properties object at 0x7f51850c7b80>, 'S3DataDistributionType': 'FullyReplicated'}}, 'ContentType': 'text/csv', 'ChannelName': 'train'}, {'DataSource': {'S3DataSource': {'S3DataType': 'S3Prefix', 'S3Uri': <sagemaker.workflow.properties.Properties object at 0x7f51850c7d60>, 'S3DataDistributionType': 'FullyReplicated'}}, 'ContentType': 'text/csv', 'ChannelName': 'validation'}]), ('HyperParameters', {'mode': 'supervised', 'epochs': '10', 'min_epochs': '5', 'early_stopping': 'True', 'patience': '2', 'learning_rate': '0.01', 'min_count': '2', 'word_ngrams': '2', 'vector_dim': '16'}), ('DebugHookConfig', {'S3OutputPath': Join(on='/', values=['s3://sagemaker-ap-northeast-2-419974056037', 'train-pipeline-model-14']), 'CollectionConfigurations': []}), ('ProfilerConfig', {'S3OutputPath': Join(on='/', values=['s3://sagemaker-ap-northeast-2-419974056037', 'train-pipeline-model-14']), 'DisableProfiler': False})])\n",
      "  \n",
      "== Evaluation Step ==\n",
      "\n",
      "Job Name:  evaluation\n",
      "Inputs:  [{'InputName': 'input-1', 'AppManaged': False, 'S3Input': {'S3Uri': <sagemaker.workflow.properties.Properties object at 0x7f5185279760>, 'LocalPath': '/opt/ml/processing/model', 'S3DataType': 'S3Prefix', 'S3InputMode': 'File', 'S3DataDistributionType': 'FullyReplicated', 'S3CompressionType': 'None'}}, {'InputName': 'input-2', 'AppManaged': False, 'S3Input': {'S3Uri': <sagemaker.workflow.properties.Properties object at 0x7f51852ed8e0>, 'LocalPath': '/opt/ml/processing/test', 'S3DataType': 'S3Prefix', 'S3InputMode': 'File', 'S3DataDistributionType': 'FullyReplicated', 'S3CompressionType': 'None'}}, {'InputName': 'code', 'AppManaged': False, 'S3Input': {'S3Uri': 's3://sagemaker-ap-northeast-2-419974056037/evaluation/source/sourcedir.tar.gz', 'LocalPath': '/opt/ml/processing/input/code/', 'S3DataType': 'S3Prefix', 'S3InputMode': 'File', 'S3DataDistributionType': 'FullyReplicated', 'S3CompressionType': 'None'}}, {'InputName': 'entrypoint', 'AppManaged': False, 'S3Input': {'S3Uri': 's3://sagemaker-ap-northeast-2-419974056037/evaluation/source/runproc.sh', 'LocalPath': '/opt/ml/processing/input/entrypoint', 'S3DataType': 'S3Prefix', 'S3InputMode': 'File', 'S3DataDistributionType': 'FullyReplicated', 'S3CompressionType': 'None'}}]\n",
      "Outputs:  [{'OutputName': 'evaluation-metrics', 'AppManaged': False, 'S3Output': {'S3Uri': Join(on='/', values=['s3://sagemaker-ap-northeast-2-419974056037', 'train-pipeline-model-14', <sagemaker.workflow.execution_variables.ExecutionVariable object at 0x7f518847a3a0>, 'evaluation-metrics']), 'LocalPath': '/opt/ml/processing/evaluation', 'S3UploadMode': 'EndOfJob'}}]\n",
      "   \n",
      "Args:  dict_items([('ProcessingResources', {'ClusterConfig': {'InstanceType': 'ml.g4dn.xlarge', 'InstanceCount': 1, 'VolumeSizeInGB': 30}}), ('AppSpecification', {'ImageUri': '763104351884.dkr.ecr.ap-northeast-2.amazonaws.com/tensorflow-training:2.3-gpu-py37', 'ContainerArguments': ['--s3_model_path', <sagemaker.workflow.properties.Properties object at 0x7f5185279760>, '--region', 'ap-northeast-2', '--model_name', 'model-14'], 'ContainerEntrypoint': ['/bin/bash', '/opt/ml/processing/input/entrypoint/runproc.sh']}), ('RoleArn', 'arn:aws:iam::419974056037:role/service-role/AmazonSageMaker-ExecutionRole-20221004T162466'), ('ProcessingInputs', [{'InputName': 'input-1', 'AppManaged': False, 'S3Input': {'S3Uri': <sagemaker.workflow.properties.Properties object at 0x7f5185279760>, 'LocalPath': '/opt/ml/processing/model', 'S3DataType': 'S3Prefix', 'S3InputMode': 'File', 'S3DataDistributionType': 'FullyReplicated', 'S3CompressionType': 'None'}}, {'InputName': 'input-2', 'AppManaged': False, 'S3Input': {'S3Uri': <sagemaker.workflow.properties.Properties object at 0x7f51852ed8e0>, 'LocalPath': '/opt/ml/processing/test', 'S3DataType': 'S3Prefix', 'S3InputMode': 'File', 'S3DataDistributionType': 'FullyReplicated', 'S3CompressionType': 'None'}}, {'InputName': 'code', 'AppManaged': False, 'S3Input': {'S3Uri': 's3://sagemaker-ap-northeast-2-419974056037/evaluation/source/sourcedir.tar.gz', 'LocalPath': '/opt/ml/processing/input/code/', 'S3DataType': 'S3Prefix', 'S3InputMode': 'File', 'S3DataDistributionType': 'FullyReplicated', 'S3CompressionType': 'None'}}, {'InputName': 'entrypoint', 'AppManaged': False, 'S3Input': {'S3Uri': 's3://sagemaker-ap-northeast-2-419974056037/evaluation/source/runproc.sh', 'LocalPath': '/opt/ml/processing/input/entrypoint', 'S3DataType': 'S3Prefix', 'S3InputMode': 'File', 'S3DataDistributionType': 'FullyReplicated', 'S3CompressionType': 'None'}}]), ('ProcessingOutputConfig', {'Outputs': [{'OutputName': 'evaluation-metrics', 'AppManaged': False, 'S3Output': {'S3Uri': Join(on='/', values=['s3://sagemaker-ap-northeast-2-419974056037', 'train-pipeline-model-14', <sagemaker.workflow.execution_variables.ExecutionVariable object at 0x7f518847a3a0>, 'evaluation-metrics']), 'LocalPath': '/opt/ml/processing/evaluation', 'S3UploadMode': 'EndOfJob'}}]})])\n",
      "  \n",
      "== Registration Step ==\n"
     ]
    },
    {
     "name": "stderr",
     "output_type": "stream",
     "text": [
      "INFO:sagemaker.processing:Uploaded ./sources/ to s3://sagemaker-ap-northeast-2-419974056037/train-pipeline-model-14/code/eabace17c9345271cf901107138b46a8/sourcedir.tar.gz\n",
      "INFO:sagemaker.processing:runproc.sh uploaded to s3://sagemaker-ap-northeast-2-419974056037/train-pipeline-model-14/code/1071dadab36d48ed1fba97e2ff137bdf/runproc.sh\n",
      "WARNING:sagemaker.estimator:No finished training job found associated with this estimator. Please make sure this estimator is only used for building workflow config\n",
      "WARNING:sagemaker.workflow._utils:Popping out 'CertifyForMarketplace' from the pipeline definition since it will be overridden in pipeline execution time.\n"
     ]
    },
    {
     "name": "stdout",
     "output_type": "stream",
     "text": [
      "\n",
      "Job Name:  preprocessing-model-14\n",
      "Inputs:  [{'InputName': 'input-1', 'AppManaged': False, 'S3Input': {'S3Uri': 's3://sm-pipeline-multi-models-datasets/model-14/amazon_reviews_us_Electronics_v1_00.tsv.gz', 'LocalPath': '/opt/ml/processing/input', 'S3DataType': 'S3Prefix', 'S3InputMode': 'File', 'S3DataDistributionType': 'FullyReplicated', 'S3CompressionType': 'None'}}, {'InputName': 'requirements', 'AppManaged': False, 'S3Input': {'S3Uri': 's3://sagemaker-ap-northeast-2-419974056037/preprocessing-model-14/input/requirements/requirements.txt', 'LocalPath': '/opt/ml/processing/input/requirements', 'S3DataType': 'S3Prefix', 'S3InputMode': 'File', 'S3DataDistributionType': 'FullyReplicated', 'S3CompressionType': 'None'}}, {'InputName': 'code', 'AppManaged': False, 'S3Input': {'S3Uri': 's3://sagemaker-ap-northeast-2-419974056037/train-pipeline-model-14/code/2b3c51df48188408561910efa21ddc30/preprocessing.py', 'LocalPath': '/opt/ml/processing/input/code', 'S3DataType': 'S3Prefix', 'S3InputMode': 'File', 'S3DataDistributionType': 'FullyReplicated', 'S3CompressionType': 'None'}}]\n",
      "Outputs:  [{'OutputName': 'train_data', 'AppManaged': False, 'S3Output': {'S3Uri': Join(on='/', values=['s3://sagemaker-ap-northeast-2-419974056037', 'train-pipeline-model-14', <sagemaker.workflow.execution_variables.ExecutionVariable object at 0x7f518847a3a0>, 'train_data']), 'LocalPath': '/opt/ml/processing/output/train', 'S3UploadMode': 'EndOfJob'}}, {'OutputName': 'validation_data', 'AppManaged': False, 'S3Output': {'S3Uri': Join(on='/', values=['s3://sagemaker-ap-northeast-2-419974056037', 'train-pipeline-model-14', <sagemaker.workflow.execution_variables.ExecutionVariable object at 0x7f518847a3a0>, 'validation_data']), 'LocalPath': '/opt/ml/processing/output/validation', 'S3UploadMode': 'EndOfJob'}}, {'OutputName': 'test_data', 'AppManaged': False, 'S3Output': {'S3Uri': Join(on='/', values=['s3://sagemaker-ap-northeast-2-419974056037', 'train-pipeline-model-14', <sagemaker.workflow.execution_variables.ExecutionVariable object at 0x7f518847a3a0>, 'test_data']), 'LocalPath': '/opt/ml/processing/output/test', 'S3UploadMode': 'EndOfJob'}}]\n",
      "\n",
      "Job Name:  evaluation\n",
      "Inputs:  [{'InputName': 'input-1', 'AppManaged': False, 'S3Input': {'S3Uri': <sagemaker.workflow.properties.Properties object at 0x7f5185279760>, 'LocalPath': '/opt/ml/processing/model', 'S3DataType': 'S3Prefix', 'S3InputMode': 'File', 'S3DataDistributionType': 'FullyReplicated', 'S3CompressionType': 'None'}}, {'InputName': 'input-2', 'AppManaged': False, 'S3Input': {'S3Uri': <sagemaker.workflow.properties.Properties object at 0x7f51852ed8e0>, 'LocalPath': '/opt/ml/processing/test', 'S3DataType': 'S3Prefix', 'S3InputMode': 'File', 'S3DataDistributionType': 'FullyReplicated', 'S3CompressionType': 'None'}}, {'InputName': 'code', 'AppManaged': False, 'S3Input': {'S3Uri': 's3://sagemaker-ap-northeast-2-419974056037/train-pipeline-model-14/code/eabace17c9345271cf901107138b46a8/sourcedir.tar.gz', 'LocalPath': '/opt/ml/processing/input/code/', 'S3DataType': 'S3Prefix', 'S3InputMode': 'File', 'S3DataDistributionType': 'FullyReplicated', 'S3CompressionType': 'None'}}, {'InputName': 'entrypoint', 'AppManaged': False, 'S3Input': {'S3Uri': 's3://sagemaker-ap-northeast-2-419974056037/train-pipeline-model-14/code/1071dadab36d48ed1fba97e2ff137bdf/runproc.sh', 'LocalPath': '/opt/ml/processing/input/entrypoint', 'S3DataType': 'S3Prefix', 'S3InputMode': 'File', 'S3DataDistributionType': 'FullyReplicated', 'S3CompressionType': 'None'}}]\n",
      "Outputs:  [{'OutputName': 'evaluation-metrics', 'AppManaged': False, 'S3Output': {'S3Uri': Join(on='/', values=['s3://sagemaker-ap-northeast-2-419974056037', 'train-pipeline-model-14', <sagemaker.workflow.execution_variables.ExecutionVariable object at 0x7f518847a3a0>, 'evaluation-metrics']), 'LocalPath': '/opt/ml/processing/evaluation', 'S3UploadMode': 'EndOfJob'}}]\n",
      "  \n",
      "== PipeLine Execution info.==\n",
      "{'PipelineArn': 'arn:aws:sagemaker:ap-northeast-2:419974056037:pipeline/train-pipeline-model-14', 'PipelineExecutionArn': 'arn:aws:sagemaker:ap-northeast-2:419974056037:pipeline/train-pipeline-model-14/execution/1ngfhim3hsxb', 'PipelineExecutionDisplayName': 'execution-1674699100963', 'PipelineExecutionStatus': 'Executing', 'CreationTime': datetime.datetime(2023, 1, 26, 2, 11, 40, 886000, tzinfo=tzlocal()), 'LastModifiedTime': datetime.datetime(2023, 1, 26, 2, 11, 40, 886000, tzinfo=tzlocal()), 'CreatedBy': {}, 'LastModifiedBy': {}, 'ResponseMetadata': {'RequestId': '339553d6-66d3-4fac-b79e-ead39c1f5eb9', 'HTTPStatusCode': 200, 'HTTPHeaders': {'x-amzn-requestid': '339553d6-66d3-4fac-b79e-ead39c1f5eb9', 'content-type': 'application/x-amz-json-1.1', 'content-length': '421', 'date': 'Thu, 26 Jan 2023 02:11:40 GMT'}, 'RetryAttempts': 0}}\n",
      "========================== \n",
      "\n"
     ]
    },
    {
     "name": "stderr",
     "output_type": "stream",
     "text": [
      "INFO:sagemaker.image_uris:Same images used for training and inference. Defaulting to image scope: inference.\n",
      "INFO:sagemaker.image_uris:Defaulting to the only supported framework/algorithm version: 1.\n",
      "INFO:sagemaker.image_uris:Ignoring unnecessary instance type: None.\n",
      "INFO:sagemaker.image_uris:Defaulting to only available Python version: py3\n"
     ]
    },
    {
     "name": "stdout",
     "output_type": "stream",
     "text": [
      "MODEL-NAME: model-15\n",
      "  Account-ID: 419974056037, \n",
      "  Region: ap-northeast-2, \n",
      "  Role: arn:aws:iam::419974056037:role/service-role/AmazonSageMaker-ExecutionRole-20221004T162466, \n",
      "  Default_bucket: sagemaker-ap-northeast-2-419974056037\n",
      "  pipeline_session: <sagemaker.workflow.pipeline_context.PipelineSession object at 0x7f518531c670>\n",
      "  \n",
      "== Preprocessing Step ==\n"
     ]
    },
    {
     "name": "stderr",
     "output_type": "stream",
     "text": [
      "INFO:sagemaker.image_uris:image_uri is not presented, retrieving image_uri based on instance_type, framework etc.\n",
      "INFO:sagemaker.processing:Uploaded ./sources/ to s3://sagemaker-ap-northeast-2-419974056037/evaluation/source/sourcedir.tar.gz\n"
     ]
    },
    {
     "name": "stdout",
     "output_type": "stream",
     "text": [
      "\n",
      "Job Name:  preprocessing-model-15\n",
      "Inputs:  [{'InputName': 'input-1', 'AppManaged': False, 'S3Input': {'S3Uri': 's3://sm-pipeline-multi-models-datasets/model-15/amazon_reviews_us_Electronics_v1_00.tsv.gz', 'LocalPath': '/opt/ml/processing/input', 'S3DataType': 'S3Prefix', 'S3InputMode': 'File', 'S3DataDistributionType': 'FullyReplicated', 'S3CompressionType': 'None'}}, {'InputName': 'requirements', 'AppManaged': False, 'S3Input': {'S3Uri': 's3://sagemaker-ap-northeast-2-419974056037/preprocessing-model-15/input/requirements/requirements.txt', 'LocalPath': '/opt/ml/processing/input/requirements', 'S3DataType': 'S3Prefix', 'S3InputMode': 'File', 'S3DataDistributionType': 'FullyReplicated', 'S3CompressionType': 'None'}}, {'InputName': 'code', 'AppManaged': False, 'S3Input': {'S3Uri': 's3://sagemaker-ap-northeast-2-419974056037/preprocessing-model-15/input/code/preprocessing.py', 'LocalPath': '/opt/ml/processing/input/code', 'S3DataType': 'S3Prefix', 'S3InputMode': 'File', 'S3DataDistributionType': 'FullyReplicated', 'S3CompressionType': 'None'}}]\n",
      "Outputs:  [{'OutputName': 'train_data', 'AppManaged': False, 'S3Output': {'S3Uri': Join(on='/', values=['s3://sagemaker-ap-northeast-2-419974056037', 'train-pipeline-model-15', <sagemaker.workflow.execution_variables.ExecutionVariable object at 0x7f518847a3a0>, 'train_data']), 'LocalPath': '/opt/ml/processing/output/train', 'S3UploadMode': 'EndOfJob'}}, {'OutputName': 'validation_data', 'AppManaged': False, 'S3Output': {'S3Uri': Join(on='/', values=['s3://sagemaker-ap-northeast-2-419974056037', 'train-pipeline-model-15', <sagemaker.workflow.execution_variables.ExecutionVariable object at 0x7f518847a3a0>, 'validation_data']), 'LocalPath': '/opt/ml/processing/output/validation', 'S3UploadMode': 'EndOfJob'}}, {'OutputName': 'test_data', 'AppManaged': False, 'S3Output': {'S3Uri': Join(on='/', values=['s3://sagemaker-ap-northeast-2-419974056037', 'train-pipeline-model-15', <sagemaker.workflow.execution_variables.ExecutionVariable object at 0x7f518847a3a0>, 'test_data']), 'LocalPath': '/opt/ml/processing/output/test', 'S3UploadMode': 'EndOfJob'}}]\n",
      "   \n",
      "Args:  dict_items([('ProcessingResources', {'ClusterConfig': {'InstanceType': 'ml.m5.xlarge', 'InstanceCount': 1, 'VolumeSizeInGB': 30}}), ('AppSpecification', {'ImageUri': '366743142698.dkr.ecr.ap-northeast-2.amazonaws.com/sagemaker-scikit-learn:0.20.0-cpu-py3', 'ContainerArguments': ['--input_name', 'amazon_reviews_us_Electronics_v1_00.tsv.gz', '--region', 'ap-northeast-2'], 'ContainerEntrypoint': ['python3', '/opt/ml/processing/input/code/preprocessing.py']}), ('RoleArn', 'arn:aws:iam::419974056037:role/service-role/AmazonSageMaker-ExecutionRole-20221004T162466'), ('ProcessingInputs', [{'InputName': 'input-1', 'AppManaged': False, 'S3Input': {'S3Uri': 's3://sm-pipeline-multi-models-datasets/model-15/amazon_reviews_us_Electronics_v1_00.tsv.gz', 'LocalPath': '/opt/ml/processing/input', 'S3DataType': 'S3Prefix', 'S3InputMode': 'File', 'S3DataDistributionType': 'FullyReplicated', 'S3CompressionType': 'None'}}, {'InputName': 'requirements', 'AppManaged': False, 'S3Input': {'S3Uri': 's3://sagemaker-ap-northeast-2-419974056037/preprocessing-model-15/input/requirements/requirements.txt', 'LocalPath': '/opt/ml/processing/input/requirements', 'S3DataType': 'S3Prefix', 'S3InputMode': 'File', 'S3DataDistributionType': 'FullyReplicated', 'S3CompressionType': 'None'}}, {'InputName': 'code', 'AppManaged': False, 'S3Input': {'S3Uri': 's3://sagemaker-ap-northeast-2-419974056037/preprocessing-model-15/input/code/preprocessing.py', 'LocalPath': '/opt/ml/processing/input/code', 'S3DataType': 'S3Prefix', 'S3InputMode': 'File', 'S3DataDistributionType': 'FullyReplicated', 'S3CompressionType': 'None'}}]), ('ProcessingOutputConfig', {'Outputs': [{'OutputName': 'train_data', 'AppManaged': False, 'S3Output': {'S3Uri': Join(on='/', values=['s3://sagemaker-ap-northeast-2-419974056037', 'train-pipeline-model-15', <sagemaker.workflow.execution_variables.ExecutionVariable object at 0x7f518847a3a0>, 'train_data']), 'LocalPath': '/opt/ml/processing/output/train', 'S3UploadMode': 'EndOfJob'}}, {'OutputName': 'validation_data', 'AppManaged': False, 'S3Output': {'S3Uri': Join(on='/', values=['s3://sagemaker-ap-northeast-2-419974056037', 'train-pipeline-model-15', <sagemaker.workflow.execution_variables.ExecutionVariable object at 0x7f518847a3a0>, 'validation_data']), 'LocalPath': '/opt/ml/processing/output/validation', 'S3UploadMode': 'EndOfJob'}}, {'OutputName': 'test_data', 'AppManaged': False, 'S3Output': {'S3Uri': Join(on='/', values=['s3://sagemaker-ap-northeast-2-419974056037', 'train-pipeline-model-15', <sagemaker.workflow.execution_variables.ExecutionVariable object at 0x7f518847a3a0>, 'test_data']), 'LocalPath': '/opt/ml/processing/output/test', 'S3UploadMode': 'EndOfJob'}}]})])\n",
      "  \n",
      "== Training Step ==\n",
      "   \n",
      "Args:  dict_items([('AlgorithmSpecification', {'TrainingInputMode': 'File', 'TrainingImage': '306986355934.dkr.ecr.ap-northeast-2.amazonaws.com/blazingtext:1'}), ('OutputDataConfig', {'S3OutputPath': Join(on='/', values=['s3://sagemaker-ap-northeast-2-419974056037', 'train-pipeline-model-15'])}), ('StoppingCondition', {'MaxRuntimeInSeconds': 360000}), ('ResourceConfig', {'VolumeSizeInGB': 30, 'InstanceCount': 1, 'InstanceType': 'ml.m5.xlarge'}), ('RoleArn', 'arn:aws:iam::419974056037:role/service-role/AmazonSageMaker-ExecutionRole-20221004T162466'), ('InputDataConfig', [{'DataSource': {'S3DataSource': {'S3DataType': 'S3Prefix', 'S3Uri': <sagemaker.workflow.properties.Properties object at 0x7f51854e8df0>, 'S3DataDistributionType': 'FullyReplicated'}}, 'ContentType': 'text/csv', 'ChannelName': 'train'}, {'DataSource': {'S3DataSource': {'S3DataType': 'S3Prefix', 'S3Uri': <sagemaker.workflow.properties.Properties object at 0x7f51854e8e80>, 'S3DataDistributionType': 'FullyReplicated'}}, 'ContentType': 'text/csv', 'ChannelName': 'validation'}]), ('HyperParameters', {'mode': 'supervised', 'epochs': '10', 'min_epochs': '5', 'early_stopping': 'True', 'patience': '2', 'learning_rate': '0.01', 'min_count': '2', 'word_ngrams': '2', 'vector_dim': '16'}), ('DebugHookConfig', {'S3OutputPath': Join(on='/', values=['s3://sagemaker-ap-northeast-2-419974056037', 'train-pipeline-model-15']), 'CollectionConfigurations': []}), ('ProfilerConfig', {'S3OutputPath': Join(on='/', values=['s3://sagemaker-ap-northeast-2-419974056037', 'train-pipeline-model-15']), 'DisableProfiler': False})])\n",
      "  \n",
      "== Evaluation Step ==\n"
     ]
    },
    {
     "name": "stderr",
     "output_type": "stream",
     "text": [
      "INFO:sagemaker.processing:runproc.sh uploaded to s3://sagemaker-ap-northeast-2-419974056037/evaluation/source/runproc.sh\n"
     ]
    },
    {
     "name": "stdout",
     "output_type": "stream",
     "text": [
      "\n",
      "Job Name:  evaluation\n",
      "Inputs:  [{'InputName': 'input-1', 'AppManaged': False, 'S3Input': {'S3Uri': <sagemaker.workflow.properties.Properties object at 0x7f51852047f0>, 'LocalPath': '/opt/ml/processing/model', 'S3DataType': 'S3Prefix', 'S3InputMode': 'File', 'S3DataDistributionType': 'FullyReplicated', 'S3CompressionType': 'None'}}, {'InputName': 'input-2', 'AppManaged': False, 'S3Input': {'S3Uri': <sagemaker.workflow.properties.Properties object at 0x7f51cc9a20a0>, 'LocalPath': '/opt/ml/processing/test', 'S3DataType': 'S3Prefix', 'S3InputMode': 'File', 'S3DataDistributionType': 'FullyReplicated', 'S3CompressionType': 'None'}}, {'InputName': 'code', 'AppManaged': False, 'S3Input': {'S3Uri': 's3://sagemaker-ap-northeast-2-419974056037/evaluation/source/sourcedir.tar.gz', 'LocalPath': '/opt/ml/processing/input/code/', 'S3DataType': 'S3Prefix', 'S3InputMode': 'File', 'S3DataDistributionType': 'FullyReplicated', 'S3CompressionType': 'None'}}, {'InputName': 'entrypoint', 'AppManaged': False, 'S3Input': {'S3Uri': 's3://sagemaker-ap-northeast-2-419974056037/evaluation/source/runproc.sh', 'LocalPath': '/opt/ml/processing/input/entrypoint', 'S3DataType': 'S3Prefix', 'S3InputMode': 'File', 'S3DataDistributionType': 'FullyReplicated', 'S3CompressionType': 'None'}}]\n",
      "Outputs:  [{'OutputName': 'evaluation-metrics', 'AppManaged': False, 'S3Output': {'S3Uri': Join(on='/', values=['s3://sagemaker-ap-northeast-2-419974056037', 'train-pipeline-model-15', <sagemaker.workflow.execution_variables.ExecutionVariable object at 0x7f518847a3a0>, 'evaluation-metrics']), 'LocalPath': '/opt/ml/processing/evaluation', 'S3UploadMode': 'EndOfJob'}}]\n",
      "   \n",
      "Args:  dict_items([('ProcessingResources', {'ClusterConfig': {'InstanceType': 'ml.g4dn.xlarge', 'InstanceCount': 1, 'VolumeSizeInGB': 30}}), ('AppSpecification', {'ImageUri': '763104351884.dkr.ecr.ap-northeast-2.amazonaws.com/tensorflow-training:2.3-gpu-py37', 'ContainerArguments': ['--s3_model_path', <sagemaker.workflow.properties.Properties object at 0x7f51852047f0>, '--region', 'ap-northeast-2', '--model_name', 'model-15'], 'ContainerEntrypoint': ['/bin/bash', '/opt/ml/processing/input/entrypoint/runproc.sh']}), ('RoleArn', 'arn:aws:iam::419974056037:role/service-role/AmazonSageMaker-ExecutionRole-20221004T162466'), ('ProcessingInputs', [{'InputName': 'input-1', 'AppManaged': False, 'S3Input': {'S3Uri': <sagemaker.workflow.properties.Properties object at 0x7f51852047f0>, 'LocalPath': '/opt/ml/processing/model', 'S3DataType': 'S3Prefix', 'S3InputMode': 'File', 'S3DataDistributionType': 'FullyReplicated', 'S3CompressionType': 'None'}}, {'InputName': 'input-2', 'AppManaged': False, 'S3Input': {'S3Uri': <sagemaker.workflow.properties.Properties object at 0x7f51cc9a20a0>, 'LocalPath': '/opt/ml/processing/test', 'S3DataType': 'S3Prefix', 'S3InputMode': 'File', 'S3DataDistributionType': 'FullyReplicated', 'S3CompressionType': 'None'}}, {'InputName': 'code', 'AppManaged': False, 'S3Input': {'S3Uri': 's3://sagemaker-ap-northeast-2-419974056037/evaluation/source/sourcedir.tar.gz', 'LocalPath': '/opt/ml/processing/input/code/', 'S3DataType': 'S3Prefix', 'S3InputMode': 'File', 'S3DataDistributionType': 'FullyReplicated', 'S3CompressionType': 'None'}}, {'InputName': 'entrypoint', 'AppManaged': False, 'S3Input': {'S3Uri': 's3://sagemaker-ap-northeast-2-419974056037/evaluation/source/runproc.sh', 'LocalPath': '/opt/ml/processing/input/entrypoint', 'S3DataType': 'S3Prefix', 'S3InputMode': 'File', 'S3DataDistributionType': 'FullyReplicated', 'S3CompressionType': 'None'}}]), ('ProcessingOutputConfig', {'Outputs': [{'OutputName': 'evaluation-metrics', 'AppManaged': False, 'S3Output': {'S3Uri': Join(on='/', values=['s3://sagemaker-ap-northeast-2-419974056037', 'train-pipeline-model-15', <sagemaker.workflow.execution_variables.ExecutionVariable object at 0x7f518847a3a0>, 'evaluation-metrics']), 'LocalPath': '/opt/ml/processing/evaluation', 'S3UploadMode': 'EndOfJob'}}]})])\n",
      "  \n",
      "== Registration Step ==\n"
     ]
    },
    {
     "name": "stderr",
     "output_type": "stream",
     "text": [
      "INFO:sagemaker.processing:Uploaded ./sources/ to s3://sagemaker-ap-northeast-2-419974056037/train-pipeline-model-15/code/eabace17c9345271cf901107138b46a8/sourcedir.tar.gz\n",
      "INFO:sagemaker.processing:runproc.sh uploaded to s3://sagemaker-ap-northeast-2-419974056037/train-pipeline-model-15/code/1071dadab36d48ed1fba97e2ff137bdf/runproc.sh\n",
      "WARNING:sagemaker.estimator:No finished training job found associated with this estimator. Please make sure this estimator is only used for building workflow config\n",
      "WARNING:sagemaker.workflow._utils:Popping out 'CertifyForMarketplace' from the pipeline definition since it will be overridden in pipeline execution time.\n"
     ]
    },
    {
     "name": "stdout",
     "output_type": "stream",
     "text": [
      "\n",
      "Job Name:  preprocessing-model-15\n",
      "Inputs:  [{'InputName': 'input-1', 'AppManaged': False, 'S3Input': {'S3Uri': 's3://sm-pipeline-multi-models-datasets/model-15/amazon_reviews_us_Electronics_v1_00.tsv.gz', 'LocalPath': '/opt/ml/processing/input', 'S3DataType': 'S3Prefix', 'S3InputMode': 'File', 'S3DataDistributionType': 'FullyReplicated', 'S3CompressionType': 'None'}}, {'InputName': 'requirements', 'AppManaged': False, 'S3Input': {'S3Uri': 's3://sagemaker-ap-northeast-2-419974056037/preprocessing-model-15/input/requirements/requirements.txt', 'LocalPath': '/opt/ml/processing/input/requirements', 'S3DataType': 'S3Prefix', 'S3InputMode': 'File', 'S3DataDistributionType': 'FullyReplicated', 'S3CompressionType': 'None'}}, {'InputName': 'code', 'AppManaged': False, 'S3Input': {'S3Uri': 's3://sagemaker-ap-northeast-2-419974056037/train-pipeline-model-15/code/2b3c51df48188408561910efa21ddc30/preprocessing.py', 'LocalPath': '/opt/ml/processing/input/code', 'S3DataType': 'S3Prefix', 'S3InputMode': 'File', 'S3DataDistributionType': 'FullyReplicated', 'S3CompressionType': 'None'}}]\n",
      "Outputs:  [{'OutputName': 'train_data', 'AppManaged': False, 'S3Output': {'S3Uri': Join(on='/', values=['s3://sagemaker-ap-northeast-2-419974056037', 'train-pipeline-model-15', <sagemaker.workflow.execution_variables.ExecutionVariable object at 0x7f518847a3a0>, 'train_data']), 'LocalPath': '/opt/ml/processing/output/train', 'S3UploadMode': 'EndOfJob'}}, {'OutputName': 'validation_data', 'AppManaged': False, 'S3Output': {'S3Uri': Join(on='/', values=['s3://sagemaker-ap-northeast-2-419974056037', 'train-pipeline-model-15', <sagemaker.workflow.execution_variables.ExecutionVariable object at 0x7f518847a3a0>, 'validation_data']), 'LocalPath': '/opt/ml/processing/output/validation', 'S3UploadMode': 'EndOfJob'}}, {'OutputName': 'test_data', 'AppManaged': False, 'S3Output': {'S3Uri': Join(on='/', values=['s3://sagemaker-ap-northeast-2-419974056037', 'train-pipeline-model-15', <sagemaker.workflow.execution_variables.ExecutionVariable object at 0x7f518847a3a0>, 'test_data']), 'LocalPath': '/opt/ml/processing/output/test', 'S3UploadMode': 'EndOfJob'}}]\n",
      "\n",
      "Job Name:  evaluation\n",
      "Inputs:  [{'InputName': 'input-1', 'AppManaged': False, 'S3Input': {'S3Uri': <sagemaker.workflow.properties.Properties object at 0x7f51852047f0>, 'LocalPath': '/opt/ml/processing/model', 'S3DataType': 'S3Prefix', 'S3InputMode': 'File', 'S3DataDistributionType': 'FullyReplicated', 'S3CompressionType': 'None'}}, {'InputName': 'input-2', 'AppManaged': False, 'S3Input': {'S3Uri': <sagemaker.workflow.properties.Properties object at 0x7f51cc9a20a0>, 'LocalPath': '/opt/ml/processing/test', 'S3DataType': 'S3Prefix', 'S3InputMode': 'File', 'S3DataDistributionType': 'FullyReplicated', 'S3CompressionType': 'None'}}, {'InputName': 'code', 'AppManaged': False, 'S3Input': {'S3Uri': 's3://sagemaker-ap-northeast-2-419974056037/train-pipeline-model-15/code/eabace17c9345271cf901107138b46a8/sourcedir.tar.gz', 'LocalPath': '/opt/ml/processing/input/code/', 'S3DataType': 'S3Prefix', 'S3InputMode': 'File', 'S3DataDistributionType': 'FullyReplicated', 'S3CompressionType': 'None'}}, {'InputName': 'entrypoint', 'AppManaged': False, 'S3Input': {'S3Uri': 's3://sagemaker-ap-northeast-2-419974056037/train-pipeline-model-15/code/1071dadab36d48ed1fba97e2ff137bdf/runproc.sh', 'LocalPath': '/opt/ml/processing/input/entrypoint', 'S3DataType': 'S3Prefix', 'S3InputMode': 'File', 'S3DataDistributionType': 'FullyReplicated', 'S3CompressionType': 'None'}}]\n",
      "Outputs:  [{'OutputName': 'evaluation-metrics', 'AppManaged': False, 'S3Output': {'S3Uri': Join(on='/', values=['s3://sagemaker-ap-northeast-2-419974056037', 'train-pipeline-model-15', <sagemaker.workflow.execution_variables.ExecutionVariable object at 0x7f518847a3a0>, 'evaluation-metrics']), 'LocalPath': '/opt/ml/processing/evaluation', 'S3UploadMode': 'EndOfJob'}}]\n",
      "  \n",
      "== PipeLine Execution info.==\n",
      "{'PipelineArn': 'arn:aws:sagemaker:ap-northeast-2:419974056037:pipeline/train-pipeline-model-15', 'PipelineExecutionArn': 'arn:aws:sagemaker:ap-northeast-2:419974056037:pipeline/train-pipeline-model-15/execution/gdmyi2he6fhf', 'PipelineExecutionDisplayName': 'execution-1674699102613', 'PipelineExecutionStatus': 'Executing', 'CreationTime': datetime.datetime(2023, 1, 26, 2, 11, 42, 549000, tzinfo=tzlocal()), 'LastModifiedTime': datetime.datetime(2023, 1, 26, 2, 11, 42, 549000, tzinfo=tzlocal()), 'CreatedBy': {}, 'LastModifiedBy': {}, 'ResponseMetadata': {'RequestId': '33d3156e-272e-4974-9556-57a3dc8b72b9', 'HTTPStatusCode': 200, 'HTTPHeaders': {'x-amzn-requestid': '33d3156e-272e-4974-9556-57a3dc8b72b9', 'content-type': 'application/x-amz-json-1.1', 'content-length': '421', 'date': 'Thu, 26 Jan 2023 02:11:42 GMT'}, 'RetryAttempts': 0}}\n",
      "========================== \n",
      "\n"
     ]
    },
    {
     "name": "stderr",
     "output_type": "stream",
     "text": [
      "INFO:sagemaker.image_uris:Same images used for training and inference. Defaulting to image scope: inference.\n",
      "INFO:sagemaker.image_uris:Defaulting to the only supported framework/algorithm version: 1.\n",
      "INFO:sagemaker.image_uris:Ignoring unnecessary instance type: None.\n",
      "INFO:sagemaker.image_uris:Defaulting to only available Python version: py3\n"
     ]
    },
    {
     "name": "stdout",
     "output_type": "stream",
     "text": [
      "MODEL-NAME: model-16\n",
      "  Account-ID: 419974056037, \n",
      "  Region: ap-northeast-2, \n",
      "  Role: arn:aws:iam::419974056037:role/service-role/AmazonSageMaker-ExecutionRole-20221004T162466, \n",
      "  Default_bucket: sagemaker-ap-northeast-2-419974056037\n",
      "  pipeline_session: <sagemaker.workflow.pipeline_context.PipelineSession object at 0x7f518537ddc0>\n",
      "  \n",
      "== Preprocessing Step ==\n"
     ]
    },
    {
     "name": "stderr",
     "output_type": "stream",
     "text": [
      "INFO:sagemaker.image_uris:image_uri is not presented, retrieving image_uri based on instance_type, framework etc.\n",
      "INFO:sagemaker.processing:Uploaded ./sources/ to s3://sagemaker-ap-northeast-2-419974056037/evaluation/source/sourcedir.tar.gz\n"
     ]
    },
    {
     "name": "stdout",
     "output_type": "stream",
     "text": [
      "\n",
      "Job Name:  preprocessing-model-16\n",
      "Inputs:  [{'InputName': 'input-1', 'AppManaged': False, 'S3Input': {'S3Uri': 's3://sm-pipeline-multi-models-datasets/model-16/amazon_reviews_us_Electronics_v1_00.tsv.gz', 'LocalPath': '/opt/ml/processing/input', 'S3DataType': 'S3Prefix', 'S3InputMode': 'File', 'S3DataDistributionType': 'FullyReplicated', 'S3CompressionType': 'None'}}, {'InputName': 'requirements', 'AppManaged': False, 'S3Input': {'S3Uri': 's3://sagemaker-ap-northeast-2-419974056037/preprocessing-model-16/input/requirements/requirements.txt', 'LocalPath': '/opt/ml/processing/input/requirements', 'S3DataType': 'S3Prefix', 'S3InputMode': 'File', 'S3DataDistributionType': 'FullyReplicated', 'S3CompressionType': 'None'}}, {'InputName': 'code', 'AppManaged': False, 'S3Input': {'S3Uri': 's3://sagemaker-ap-northeast-2-419974056037/preprocessing-model-16/input/code/preprocessing.py', 'LocalPath': '/opt/ml/processing/input/code', 'S3DataType': 'S3Prefix', 'S3InputMode': 'File', 'S3DataDistributionType': 'FullyReplicated', 'S3CompressionType': 'None'}}]\n",
      "Outputs:  [{'OutputName': 'train_data', 'AppManaged': False, 'S3Output': {'S3Uri': Join(on='/', values=['s3://sagemaker-ap-northeast-2-419974056037', 'train-pipeline-model-16', <sagemaker.workflow.execution_variables.ExecutionVariable object at 0x7f518847a3a0>, 'train_data']), 'LocalPath': '/opt/ml/processing/output/train', 'S3UploadMode': 'EndOfJob'}}, {'OutputName': 'validation_data', 'AppManaged': False, 'S3Output': {'S3Uri': Join(on='/', values=['s3://sagemaker-ap-northeast-2-419974056037', 'train-pipeline-model-16', <sagemaker.workflow.execution_variables.ExecutionVariable object at 0x7f518847a3a0>, 'validation_data']), 'LocalPath': '/opt/ml/processing/output/validation', 'S3UploadMode': 'EndOfJob'}}, {'OutputName': 'test_data', 'AppManaged': False, 'S3Output': {'S3Uri': Join(on='/', values=['s3://sagemaker-ap-northeast-2-419974056037', 'train-pipeline-model-16', <sagemaker.workflow.execution_variables.ExecutionVariable object at 0x7f518847a3a0>, 'test_data']), 'LocalPath': '/opt/ml/processing/output/test', 'S3UploadMode': 'EndOfJob'}}]\n",
      "   \n",
      "Args:  dict_items([('ProcessingResources', {'ClusterConfig': {'InstanceType': 'ml.m5.xlarge', 'InstanceCount': 1, 'VolumeSizeInGB': 30}}), ('AppSpecification', {'ImageUri': '366743142698.dkr.ecr.ap-northeast-2.amazonaws.com/sagemaker-scikit-learn:0.20.0-cpu-py3', 'ContainerArguments': ['--input_name', 'amazon_reviews_us_Electronics_v1_00.tsv.gz', '--region', 'ap-northeast-2'], 'ContainerEntrypoint': ['python3', '/opt/ml/processing/input/code/preprocessing.py']}), ('RoleArn', 'arn:aws:iam::419974056037:role/service-role/AmazonSageMaker-ExecutionRole-20221004T162466'), ('ProcessingInputs', [{'InputName': 'input-1', 'AppManaged': False, 'S3Input': {'S3Uri': 's3://sm-pipeline-multi-models-datasets/model-16/amazon_reviews_us_Electronics_v1_00.tsv.gz', 'LocalPath': '/opt/ml/processing/input', 'S3DataType': 'S3Prefix', 'S3InputMode': 'File', 'S3DataDistributionType': 'FullyReplicated', 'S3CompressionType': 'None'}}, {'InputName': 'requirements', 'AppManaged': False, 'S3Input': {'S3Uri': 's3://sagemaker-ap-northeast-2-419974056037/preprocessing-model-16/input/requirements/requirements.txt', 'LocalPath': '/opt/ml/processing/input/requirements', 'S3DataType': 'S3Prefix', 'S3InputMode': 'File', 'S3DataDistributionType': 'FullyReplicated', 'S3CompressionType': 'None'}}, {'InputName': 'code', 'AppManaged': False, 'S3Input': {'S3Uri': 's3://sagemaker-ap-northeast-2-419974056037/preprocessing-model-16/input/code/preprocessing.py', 'LocalPath': '/opt/ml/processing/input/code', 'S3DataType': 'S3Prefix', 'S3InputMode': 'File', 'S3DataDistributionType': 'FullyReplicated', 'S3CompressionType': 'None'}}]), ('ProcessingOutputConfig', {'Outputs': [{'OutputName': 'train_data', 'AppManaged': False, 'S3Output': {'S3Uri': Join(on='/', values=['s3://sagemaker-ap-northeast-2-419974056037', 'train-pipeline-model-16', <sagemaker.workflow.execution_variables.ExecutionVariable object at 0x7f518847a3a0>, 'train_data']), 'LocalPath': '/opt/ml/processing/output/train', 'S3UploadMode': 'EndOfJob'}}, {'OutputName': 'validation_data', 'AppManaged': False, 'S3Output': {'S3Uri': Join(on='/', values=['s3://sagemaker-ap-northeast-2-419974056037', 'train-pipeline-model-16', <sagemaker.workflow.execution_variables.ExecutionVariable object at 0x7f518847a3a0>, 'validation_data']), 'LocalPath': '/opt/ml/processing/output/validation', 'S3UploadMode': 'EndOfJob'}}, {'OutputName': 'test_data', 'AppManaged': False, 'S3Output': {'S3Uri': Join(on='/', values=['s3://sagemaker-ap-northeast-2-419974056037', 'train-pipeline-model-16', <sagemaker.workflow.execution_variables.ExecutionVariable object at 0x7f518847a3a0>, 'test_data']), 'LocalPath': '/opt/ml/processing/output/test', 'S3UploadMode': 'EndOfJob'}}]})])\n",
      "  \n",
      "== Training Step ==\n",
      "   \n",
      "Args:  dict_items([('AlgorithmSpecification', {'TrainingInputMode': 'File', 'TrainingImage': '306986355934.dkr.ecr.ap-northeast-2.amazonaws.com/blazingtext:1'}), ('OutputDataConfig', {'S3OutputPath': Join(on='/', values=['s3://sagemaker-ap-northeast-2-419974056037', 'train-pipeline-model-16'])}), ('StoppingCondition', {'MaxRuntimeInSeconds': 360000}), ('ResourceConfig', {'VolumeSizeInGB': 30, 'InstanceCount': 1, 'InstanceType': 'ml.m5.xlarge'}), ('RoleArn', 'arn:aws:iam::419974056037:role/service-role/AmazonSageMaker-ExecutionRole-20221004T162466'), ('InputDataConfig', [{'DataSource': {'S3DataSource': {'S3DataType': 'S3Prefix', 'S3Uri': <sagemaker.workflow.properties.Properties object at 0x7f51854f0a30>, 'S3DataDistributionType': 'FullyReplicated'}}, 'ContentType': 'text/csv', 'ChannelName': 'train'}, {'DataSource': {'S3DataSource': {'S3DataType': 'S3Prefix', 'S3Uri': <sagemaker.workflow.properties.Properties object at 0x7f51854f0dc0>, 'S3DataDistributionType': 'FullyReplicated'}}, 'ContentType': 'text/csv', 'ChannelName': 'validation'}]), ('HyperParameters', {'mode': 'supervised', 'epochs': '10', 'min_epochs': '5', 'early_stopping': 'True', 'patience': '2', 'learning_rate': '0.01', 'min_count': '2', 'word_ngrams': '2', 'vector_dim': '16'}), ('DebugHookConfig', {'S3OutputPath': Join(on='/', values=['s3://sagemaker-ap-northeast-2-419974056037', 'train-pipeline-model-16']), 'CollectionConfigurations': []}), ('ProfilerConfig', {'S3OutputPath': Join(on='/', values=['s3://sagemaker-ap-northeast-2-419974056037', 'train-pipeline-model-16']), 'DisableProfiler': False})])\n",
      "  \n",
      "== Evaluation Step ==\n"
     ]
    },
    {
     "name": "stderr",
     "output_type": "stream",
     "text": [
      "INFO:sagemaker.processing:runproc.sh uploaded to s3://sagemaker-ap-northeast-2-419974056037/evaluation/source/runproc.sh\n"
     ]
    },
    {
     "name": "stdout",
     "output_type": "stream",
     "text": [
      "\n",
      "Job Name:  evaluation\n",
      "Inputs:  [{'InputName': 'input-1', 'AppManaged': False, 'S3Input': {'S3Uri': <sagemaker.workflow.properties.Properties object at 0x7f51852611f0>, 'LocalPath': '/opt/ml/processing/model', 'S3DataType': 'S3Prefix', 'S3InputMode': 'File', 'S3DataDistributionType': 'FullyReplicated', 'S3CompressionType': 'None'}}, {'InputName': 'input-2', 'AppManaged': False, 'S3Input': {'S3Uri': <sagemaker.workflow.properties.Properties object at 0x7f51850ced60>, 'LocalPath': '/opt/ml/processing/test', 'S3DataType': 'S3Prefix', 'S3InputMode': 'File', 'S3DataDistributionType': 'FullyReplicated', 'S3CompressionType': 'None'}}, {'InputName': 'code', 'AppManaged': False, 'S3Input': {'S3Uri': 's3://sagemaker-ap-northeast-2-419974056037/evaluation/source/sourcedir.tar.gz', 'LocalPath': '/opt/ml/processing/input/code/', 'S3DataType': 'S3Prefix', 'S3InputMode': 'File', 'S3DataDistributionType': 'FullyReplicated', 'S3CompressionType': 'None'}}, {'InputName': 'entrypoint', 'AppManaged': False, 'S3Input': {'S3Uri': 's3://sagemaker-ap-northeast-2-419974056037/evaluation/source/runproc.sh', 'LocalPath': '/opt/ml/processing/input/entrypoint', 'S3DataType': 'S3Prefix', 'S3InputMode': 'File', 'S3DataDistributionType': 'FullyReplicated', 'S3CompressionType': 'None'}}]\n",
      "Outputs:  [{'OutputName': 'evaluation-metrics', 'AppManaged': False, 'S3Output': {'S3Uri': Join(on='/', values=['s3://sagemaker-ap-northeast-2-419974056037', 'train-pipeline-model-16', <sagemaker.workflow.execution_variables.ExecutionVariable object at 0x7f518847a3a0>, 'evaluation-metrics']), 'LocalPath': '/opt/ml/processing/evaluation', 'S3UploadMode': 'EndOfJob'}}]\n",
      "   \n",
      "Args:  dict_items([('ProcessingResources', {'ClusterConfig': {'InstanceType': 'ml.g4dn.xlarge', 'InstanceCount': 1, 'VolumeSizeInGB': 30}}), ('AppSpecification', {'ImageUri': '763104351884.dkr.ecr.ap-northeast-2.amazonaws.com/tensorflow-training:2.3-gpu-py37', 'ContainerArguments': ['--s3_model_path', <sagemaker.workflow.properties.Properties object at 0x7f51852611f0>, '--region', 'ap-northeast-2', '--model_name', 'model-16'], 'ContainerEntrypoint': ['/bin/bash', '/opt/ml/processing/input/entrypoint/runproc.sh']}), ('RoleArn', 'arn:aws:iam::419974056037:role/service-role/AmazonSageMaker-ExecutionRole-20221004T162466'), ('ProcessingInputs', [{'InputName': 'input-1', 'AppManaged': False, 'S3Input': {'S3Uri': <sagemaker.workflow.properties.Properties object at 0x7f51852611f0>, 'LocalPath': '/opt/ml/processing/model', 'S3DataType': 'S3Prefix', 'S3InputMode': 'File', 'S3DataDistributionType': 'FullyReplicated', 'S3CompressionType': 'None'}}, {'InputName': 'input-2', 'AppManaged': False, 'S3Input': {'S3Uri': <sagemaker.workflow.properties.Properties object at 0x7f51850ced60>, 'LocalPath': '/opt/ml/processing/test', 'S3DataType': 'S3Prefix', 'S3InputMode': 'File', 'S3DataDistributionType': 'FullyReplicated', 'S3CompressionType': 'None'}}, {'InputName': 'code', 'AppManaged': False, 'S3Input': {'S3Uri': 's3://sagemaker-ap-northeast-2-419974056037/evaluation/source/sourcedir.tar.gz', 'LocalPath': '/opt/ml/processing/input/code/', 'S3DataType': 'S3Prefix', 'S3InputMode': 'File', 'S3DataDistributionType': 'FullyReplicated', 'S3CompressionType': 'None'}}, {'InputName': 'entrypoint', 'AppManaged': False, 'S3Input': {'S3Uri': 's3://sagemaker-ap-northeast-2-419974056037/evaluation/source/runproc.sh', 'LocalPath': '/opt/ml/processing/input/entrypoint', 'S3DataType': 'S3Prefix', 'S3InputMode': 'File', 'S3DataDistributionType': 'FullyReplicated', 'S3CompressionType': 'None'}}]), ('ProcessingOutputConfig', {'Outputs': [{'OutputName': 'evaluation-metrics', 'AppManaged': False, 'S3Output': {'S3Uri': Join(on='/', values=['s3://sagemaker-ap-northeast-2-419974056037', 'train-pipeline-model-16', <sagemaker.workflow.execution_variables.ExecutionVariable object at 0x7f518847a3a0>, 'evaluation-metrics']), 'LocalPath': '/opt/ml/processing/evaluation', 'S3UploadMode': 'EndOfJob'}}]})])\n",
      "  \n",
      "== Registration Step ==\n"
     ]
    },
    {
     "name": "stderr",
     "output_type": "stream",
     "text": [
      "INFO:sagemaker.processing:Uploaded ./sources/ to s3://sagemaker-ap-northeast-2-419974056037/train-pipeline-model-16/code/eabace17c9345271cf901107138b46a8/sourcedir.tar.gz\n",
      "INFO:sagemaker.processing:runproc.sh uploaded to s3://sagemaker-ap-northeast-2-419974056037/train-pipeline-model-16/code/1071dadab36d48ed1fba97e2ff137bdf/runproc.sh\n",
      "WARNING:sagemaker.estimator:No finished training job found associated with this estimator. Please make sure this estimator is only used for building workflow config\n",
      "WARNING:sagemaker.workflow._utils:Popping out 'CertifyForMarketplace' from the pipeline definition since it will be overridden in pipeline execution time.\n"
     ]
    },
    {
     "name": "stdout",
     "output_type": "stream",
     "text": [
      "\n",
      "Job Name:  preprocessing-model-16\n",
      "Inputs:  [{'InputName': 'input-1', 'AppManaged': False, 'S3Input': {'S3Uri': 's3://sm-pipeline-multi-models-datasets/model-16/amazon_reviews_us_Electronics_v1_00.tsv.gz', 'LocalPath': '/opt/ml/processing/input', 'S3DataType': 'S3Prefix', 'S3InputMode': 'File', 'S3DataDistributionType': 'FullyReplicated', 'S3CompressionType': 'None'}}, {'InputName': 'requirements', 'AppManaged': False, 'S3Input': {'S3Uri': 's3://sagemaker-ap-northeast-2-419974056037/preprocessing-model-16/input/requirements/requirements.txt', 'LocalPath': '/opt/ml/processing/input/requirements', 'S3DataType': 'S3Prefix', 'S3InputMode': 'File', 'S3DataDistributionType': 'FullyReplicated', 'S3CompressionType': 'None'}}, {'InputName': 'code', 'AppManaged': False, 'S3Input': {'S3Uri': 's3://sagemaker-ap-northeast-2-419974056037/train-pipeline-model-16/code/2b3c51df48188408561910efa21ddc30/preprocessing.py', 'LocalPath': '/opt/ml/processing/input/code', 'S3DataType': 'S3Prefix', 'S3InputMode': 'File', 'S3DataDistributionType': 'FullyReplicated', 'S3CompressionType': 'None'}}]\n",
      "Outputs:  [{'OutputName': 'train_data', 'AppManaged': False, 'S3Output': {'S3Uri': Join(on='/', values=['s3://sagemaker-ap-northeast-2-419974056037', 'train-pipeline-model-16', <sagemaker.workflow.execution_variables.ExecutionVariable object at 0x7f518847a3a0>, 'train_data']), 'LocalPath': '/opt/ml/processing/output/train', 'S3UploadMode': 'EndOfJob'}}, {'OutputName': 'validation_data', 'AppManaged': False, 'S3Output': {'S3Uri': Join(on='/', values=['s3://sagemaker-ap-northeast-2-419974056037', 'train-pipeline-model-16', <sagemaker.workflow.execution_variables.ExecutionVariable object at 0x7f518847a3a0>, 'validation_data']), 'LocalPath': '/opt/ml/processing/output/validation', 'S3UploadMode': 'EndOfJob'}}, {'OutputName': 'test_data', 'AppManaged': False, 'S3Output': {'S3Uri': Join(on='/', values=['s3://sagemaker-ap-northeast-2-419974056037', 'train-pipeline-model-16', <sagemaker.workflow.execution_variables.ExecutionVariable object at 0x7f518847a3a0>, 'test_data']), 'LocalPath': '/opt/ml/processing/output/test', 'S3UploadMode': 'EndOfJob'}}]\n",
      "\n",
      "Job Name:  evaluation\n",
      "Inputs:  [{'InputName': 'input-1', 'AppManaged': False, 'S3Input': {'S3Uri': <sagemaker.workflow.properties.Properties object at 0x7f51852611f0>, 'LocalPath': '/opt/ml/processing/model', 'S3DataType': 'S3Prefix', 'S3InputMode': 'File', 'S3DataDistributionType': 'FullyReplicated', 'S3CompressionType': 'None'}}, {'InputName': 'input-2', 'AppManaged': False, 'S3Input': {'S3Uri': <sagemaker.workflow.properties.Properties object at 0x7f51850ced60>, 'LocalPath': '/opt/ml/processing/test', 'S3DataType': 'S3Prefix', 'S3InputMode': 'File', 'S3DataDistributionType': 'FullyReplicated', 'S3CompressionType': 'None'}}, {'InputName': 'code', 'AppManaged': False, 'S3Input': {'S3Uri': 's3://sagemaker-ap-northeast-2-419974056037/train-pipeline-model-16/code/eabace17c9345271cf901107138b46a8/sourcedir.tar.gz', 'LocalPath': '/opt/ml/processing/input/code/', 'S3DataType': 'S3Prefix', 'S3InputMode': 'File', 'S3DataDistributionType': 'FullyReplicated', 'S3CompressionType': 'None'}}, {'InputName': 'entrypoint', 'AppManaged': False, 'S3Input': {'S3Uri': 's3://sagemaker-ap-northeast-2-419974056037/train-pipeline-model-16/code/1071dadab36d48ed1fba97e2ff137bdf/runproc.sh', 'LocalPath': '/opt/ml/processing/input/entrypoint', 'S3DataType': 'S3Prefix', 'S3InputMode': 'File', 'S3DataDistributionType': 'FullyReplicated', 'S3CompressionType': 'None'}}]\n",
      "Outputs:  [{'OutputName': 'evaluation-metrics', 'AppManaged': False, 'S3Output': {'S3Uri': Join(on='/', values=['s3://sagemaker-ap-northeast-2-419974056037', 'train-pipeline-model-16', <sagemaker.workflow.execution_variables.ExecutionVariable object at 0x7f518847a3a0>, 'evaluation-metrics']), 'LocalPath': '/opt/ml/processing/evaluation', 'S3UploadMode': 'EndOfJob'}}]\n",
      "  \n",
      "== PipeLine Execution info.==\n",
      "{'PipelineArn': 'arn:aws:sagemaker:ap-northeast-2:419974056037:pipeline/train-pipeline-model-16', 'PipelineExecutionArn': 'arn:aws:sagemaker:ap-northeast-2:419974056037:pipeline/train-pipeline-model-16/execution/6k94s9b1i2ry', 'PipelineExecutionDisplayName': 'execution-1674699104173', 'PipelineExecutionStatus': 'Executing', 'CreationTime': datetime.datetime(2023, 1, 26, 2, 11, 44, 108000, tzinfo=tzlocal()), 'LastModifiedTime': datetime.datetime(2023, 1, 26, 2, 11, 44, 108000, tzinfo=tzlocal()), 'CreatedBy': {}, 'LastModifiedBy': {}, 'ResponseMetadata': {'RequestId': 'f6e1cd1f-ec6f-454f-843b-0d09e1e86e78', 'HTTPStatusCode': 200, 'HTTPHeaders': {'x-amzn-requestid': 'f6e1cd1f-ec6f-454f-843b-0d09e1e86e78', 'content-type': 'application/x-amz-json-1.1', 'content-length': '421', 'date': 'Thu, 26 Jan 2023 02:11:43 GMT'}, 'RetryAttempts': 0}}\n",
      "========================== \n",
      "\n"
     ]
    },
    {
     "name": "stderr",
     "output_type": "stream",
     "text": [
      "INFO:sagemaker.image_uris:Same images used for training and inference. Defaulting to image scope: inference.\n",
      "INFO:sagemaker.image_uris:Defaulting to the only supported framework/algorithm version: 1.\n",
      "INFO:sagemaker.image_uris:Ignoring unnecessary instance type: None.\n",
      "INFO:sagemaker.image_uris:Defaulting to only available Python version: py3\n"
     ]
    },
    {
     "name": "stdout",
     "output_type": "stream",
     "text": [
      "MODEL-NAME: model-17\n",
      "  Account-ID: 419974056037, \n",
      "  Region: ap-northeast-2, \n",
      "  Role: arn:aws:iam::419974056037:role/service-role/AmazonSageMaker-ExecutionRole-20221004T162466, \n",
      "  Default_bucket: sagemaker-ap-northeast-2-419974056037\n",
      "  pipeline_session: <sagemaker.workflow.pipeline_context.PipelineSession object at 0x7f518530ca30>\n",
      "  \n",
      "== Preprocessing Step ==\n"
     ]
    },
    {
     "name": "stderr",
     "output_type": "stream",
     "text": [
      "INFO:sagemaker.image_uris:image_uri is not presented, retrieving image_uri based on instance_type, framework etc.\n",
      "INFO:sagemaker.processing:Uploaded ./sources/ to s3://sagemaker-ap-northeast-2-419974056037/evaluation/source/sourcedir.tar.gz\n"
     ]
    },
    {
     "name": "stdout",
     "output_type": "stream",
     "text": [
      "\n",
      "Job Name:  preprocessing-model-17\n",
      "Inputs:  [{'InputName': 'input-1', 'AppManaged': False, 'S3Input': {'S3Uri': 's3://sm-pipeline-multi-models-datasets/model-17/amazon_reviews_us_Electronics_v1_00.tsv.gz', 'LocalPath': '/opt/ml/processing/input', 'S3DataType': 'S3Prefix', 'S3InputMode': 'File', 'S3DataDistributionType': 'FullyReplicated', 'S3CompressionType': 'None'}}, {'InputName': 'requirements', 'AppManaged': False, 'S3Input': {'S3Uri': 's3://sagemaker-ap-northeast-2-419974056037/preprocessing-model-17/input/requirements/requirements.txt', 'LocalPath': '/opt/ml/processing/input/requirements', 'S3DataType': 'S3Prefix', 'S3InputMode': 'File', 'S3DataDistributionType': 'FullyReplicated', 'S3CompressionType': 'None'}}, {'InputName': 'code', 'AppManaged': False, 'S3Input': {'S3Uri': 's3://sagemaker-ap-northeast-2-419974056037/preprocessing-model-17/input/code/preprocessing.py', 'LocalPath': '/opt/ml/processing/input/code', 'S3DataType': 'S3Prefix', 'S3InputMode': 'File', 'S3DataDistributionType': 'FullyReplicated', 'S3CompressionType': 'None'}}]\n",
      "Outputs:  [{'OutputName': 'train_data', 'AppManaged': False, 'S3Output': {'S3Uri': Join(on='/', values=['s3://sagemaker-ap-northeast-2-419974056037', 'train-pipeline-model-17', <sagemaker.workflow.execution_variables.ExecutionVariable object at 0x7f518847a3a0>, 'train_data']), 'LocalPath': '/opt/ml/processing/output/train', 'S3UploadMode': 'EndOfJob'}}, {'OutputName': 'validation_data', 'AppManaged': False, 'S3Output': {'S3Uri': Join(on='/', values=['s3://sagemaker-ap-northeast-2-419974056037', 'train-pipeline-model-17', <sagemaker.workflow.execution_variables.ExecutionVariable object at 0x7f518847a3a0>, 'validation_data']), 'LocalPath': '/opt/ml/processing/output/validation', 'S3UploadMode': 'EndOfJob'}}, {'OutputName': 'test_data', 'AppManaged': False, 'S3Output': {'S3Uri': Join(on='/', values=['s3://sagemaker-ap-northeast-2-419974056037', 'train-pipeline-model-17', <sagemaker.workflow.execution_variables.ExecutionVariable object at 0x7f518847a3a0>, 'test_data']), 'LocalPath': '/opt/ml/processing/output/test', 'S3UploadMode': 'EndOfJob'}}]\n",
      "   \n",
      "Args:  dict_items([('ProcessingResources', {'ClusterConfig': {'InstanceType': 'ml.m5.xlarge', 'InstanceCount': 1, 'VolumeSizeInGB': 30}}), ('AppSpecification', {'ImageUri': '366743142698.dkr.ecr.ap-northeast-2.amazonaws.com/sagemaker-scikit-learn:0.20.0-cpu-py3', 'ContainerArguments': ['--input_name', 'amazon_reviews_us_Electronics_v1_00.tsv.gz', '--region', 'ap-northeast-2'], 'ContainerEntrypoint': ['python3', '/opt/ml/processing/input/code/preprocessing.py']}), ('RoleArn', 'arn:aws:iam::419974056037:role/service-role/AmazonSageMaker-ExecutionRole-20221004T162466'), ('ProcessingInputs', [{'InputName': 'input-1', 'AppManaged': False, 'S3Input': {'S3Uri': 's3://sm-pipeline-multi-models-datasets/model-17/amazon_reviews_us_Electronics_v1_00.tsv.gz', 'LocalPath': '/opt/ml/processing/input', 'S3DataType': 'S3Prefix', 'S3InputMode': 'File', 'S3DataDistributionType': 'FullyReplicated', 'S3CompressionType': 'None'}}, {'InputName': 'requirements', 'AppManaged': False, 'S3Input': {'S3Uri': 's3://sagemaker-ap-northeast-2-419974056037/preprocessing-model-17/input/requirements/requirements.txt', 'LocalPath': '/opt/ml/processing/input/requirements', 'S3DataType': 'S3Prefix', 'S3InputMode': 'File', 'S3DataDistributionType': 'FullyReplicated', 'S3CompressionType': 'None'}}, {'InputName': 'code', 'AppManaged': False, 'S3Input': {'S3Uri': 's3://sagemaker-ap-northeast-2-419974056037/preprocessing-model-17/input/code/preprocessing.py', 'LocalPath': '/opt/ml/processing/input/code', 'S3DataType': 'S3Prefix', 'S3InputMode': 'File', 'S3DataDistributionType': 'FullyReplicated', 'S3CompressionType': 'None'}}]), ('ProcessingOutputConfig', {'Outputs': [{'OutputName': 'train_data', 'AppManaged': False, 'S3Output': {'S3Uri': Join(on='/', values=['s3://sagemaker-ap-northeast-2-419974056037', 'train-pipeline-model-17', <sagemaker.workflow.execution_variables.ExecutionVariable object at 0x7f518847a3a0>, 'train_data']), 'LocalPath': '/opt/ml/processing/output/train', 'S3UploadMode': 'EndOfJob'}}, {'OutputName': 'validation_data', 'AppManaged': False, 'S3Output': {'S3Uri': Join(on='/', values=['s3://sagemaker-ap-northeast-2-419974056037', 'train-pipeline-model-17', <sagemaker.workflow.execution_variables.ExecutionVariable object at 0x7f518847a3a0>, 'validation_data']), 'LocalPath': '/opt/ml/processing/output/validation', 'S3UploadMode': 'EndOfJob'}}, {'OutputName': 'test_data', 'AppManaged': False, 'S3Output': {'S3Uri': Join(on='/', values=['s3://sagemaker-ap-northeast-2-419974056037', 'train-pipeline-model-17', <sagemaker.workflow.execution_variables.ExecutionVariable object at 0x7f518847a3a0>, 'test_data']), 'LocalPath': '/opt/ml/processing/output/test', 'S3UploadMode': 'EndOfJob'}}]})])\n",
      "  \n",
      "== Training Step ==\n",
      "   \n",
      "Args:  dict_items([('AlgorithmSpecification', {'TrainingInputMode': 'File', 'TrainingImage': '306986355934.dkr.ecr.ap-northeast-2.amazonaws.com/blazingtext:1'}), ('OutputDataConfig', {'S3OutputPath': Join(on='/', values=['s3://sagemaker-ap-northeast-2-419974056037', 'train-pipeline-model-17'])}), ('StoppingCondition', {'MaxRuntimeInSeconds': 360000}), ('ResourceConfig', {'VolumeSizeInGB': 30, 'InstanceCount': 1, 'InstanceType': 'ml.m5.xlarge'}), ('RoleArn', 'arn:aws:iam::419974056037:role/service-role/AmazonSageMaker-ExecutionRole-20221004T162466'), ('InputDataConfig', [{'DataSource': {'S3DataSource': {'S3DataType': 'S3Prefix', 'S3Uri': <sagemaker.workflow.properties.Properties object at 0x7f51851908e0>, 'S3DataDistributionType': 'FullyReplicated'}}, 'ContentType': 'text/csv', 'ChannelName': 'train'}, {'DataSource': {'S3DataSource': {'S3DataType': 'S3Prefix', 'S3Uri': <sagemaker.workflow.properties.Properties object at 0x7f5185242bb0>, 'S3DataDistributionType': 'FullyReplicated'}}, 'ContentType': 'text/csv', 'ChannelName': 'validation'}]), ('HyperParameters', {'mode': 'supervised', 'epochs': '10', 'min_epochs': '5', 'early_stopping': 'True', 'patience': '2', 'learning_rate': '0.01', 'min_count': '2', 'word_ngrams': '2', 'vector_dim': '16'}), ('DebugHookConfig', {'S3OutputPath': Join(on='/', values=['s3://sagemaker-ap-northeast-2-419974056037', 'train-pipeline-model-17']), 'CollectionConfigurations': []}), ('ProfilerConfig', {'S3OutputPath': Join(on='/', values=['s3://sagemaker-ap-northeast-2-419974056037', 'train-pipeline-model-17']), 'DisableProfiler': False})])\n",
      "  \n",
      "== Evaluation Step ==\n"
     ]
    },
    {
     "name": "stderr",
     "output_type": "stream",
     "text": [
      "INFO:sagemaker.processing:runproc.sh uploaded to s3://sagemaker-ap-northeast-2-419974056037/evaluation/source/runproc.sh\n"
     ]
    },
    {
     "name": "stdout",
     "output_type": "stream",
     "text": [
      "\n",
      "Job Name:  evaluation\n",
      "Inputs:  [{'InputName': 'input-1', 'AppManaged': False, 'S3Input': {'S3Uri': <sagemaker.workflow.properties.Properties object at 0x7f518501cee0>, 'LocalPath': '/opt/ml/processing/model', 'S3DataType': 'S3Prefix', 'S3InputMode': 'File', 'S3DataDistributionType': 'FullyReplicated', 'S3CompressionType': 'None'}}, {'InputName': 'input-2', 'AppManaged': False, 'S3Input': {'S3Uri': <sagemaker.workflow.properties.Properties object at 0x7f51857c5ac0>, 'LocalPath': '/opt/ml/processing/test', 'S3DataType': 'S3Prefix', 'S3InputMode': 'File', 'S3DataDistributionType': 'FullyReplicated', 'S3CompressionType': 'None'}}, {'InputName': 'code', 'AppManaged': False, 'S3Input': {'S3Uri': 's3://sagemaker-ap-northeast-2-419974056037/evaluation/source/sourcedir.tar.gz', 'LocalPath': '/opt/ml/processing/input/code/', 'S3DataType': 'S3Prefix', 'S3InputMode': 'File', 'S3DataDistributionType': 'FullyReplicated', 'S3CompressionType': 'None'}}, {'InputName': 'entrypoint', 'AppManaged': False, 'S3Input': {'S3Uri': 's3://sagemaker-ap-northeast-2-419974056037/evaluation/source/runproc.sh', 'LocalPath': '/opt/ml/processing/input/entrypoint', 'S3DataType': 'S3Prefix', 'S3InputMode': 'File', 'S3DataDistributionType': 'FullyReplicated', 'S3CompressionType': 'None'}}]\n",
      "Outputs:  [{'OutputName': 'evaluation-metrics', 'AppManaged': False, 'S3Output': {'S3Uri': Join(on='/', values=['s3://sagemaker-ap-northeast-2-419974056037', 'train-pipeline-model-17', <sagemaker.workflow.execution_variables.ExecutionVariable object at 0x7f518847a3a0>, 'evaluation-metrics']), 'LocalPath': '/opt/ml/processing/evaluation', 'S3UploadMode': 'EndOfJob'}}]\n",
      "   \n",
      "Args:  dict_items([('ProcessingResources', {'ClusterConfig': {'InstanceType': 'ml.g4dn.xlarge', 'InstanceCount': 1, 'VolumeSizeInGB': 30}}), ('AppSpecification', {'ImageUri': '763104351884.dkr.ecr.ap-northeast-2.amazonaws.com/tensorflow-training:2.3-gpu-py37', 'ContainerArguments': ['--s3_model_path', <sagemaker.workflow.properties.Properties object at 0x7f518501cee0>, '--region', 'ap-northeast-2', '--model_name', 'model-17'], 'ContainerEntrypoint': ['/bin/bash', '/opt/ml/processing/input/entrypoint/runproc.sh']}), ('RoleArn', 'arn:aws:iam::419974056037:role/service-role/AmazonSageMaker-ExecutionRole-20221004T162466'), ('ProcessingInputs', [{'InputName': 'input-1', 'AppManaged': False, 'S3Input': {'S3Uri': <sagemaker.workflow.properties.Properties object at 0x7f518501cee0>, 'LocalPath': '/opt/ml/processing/model', 'S3DataType': 'S3Prefix', 'S3InputMode': 'File', 'S3DataDistributionType': 'FullyReplicated', 'S3CompressionType': 'None'}}, {'InputName': 'input-2', 'AppManaged': False, 'S3Input': {'S3Uri': <sagemaker.workflow.properties.Properties object at 0x7f51857c5ac0>, 'LocalPath': '/opt/ml/processing/test', 'S3DataType': 'S3Prefix', 'S3InputMode': 'File', 'S3DataDistributionType': 'FullyReplicated', 'S3CompressionType': 'None'}}, {'InputName': 'code', 'AppManaged': False, 'S3Input': {'S3Uri': 's3://sagemaker-ap-northeast-2-419974056037/evaluation/source/sourcedir.tar.gz', 'LocalPath': '/opt/ml/processing/input/code/', 'S3DataType': 'S3Prefix', 'S3InputMode': 'File', 'S3DataDistributionType': 'FullyReplicated', 'S3CompressionType': 'None'}}, {'InputName': 'entrypoint', 'AppManaged': False, 'S3Input': {'S3Uri': 's3://sagemaker-ap-northeast-2-419974056037/evaluation/source/runproc.sh', 'LocalPath': '/opt/ml/processing/input/entrypoint', 'S3DataType': 'S3Prefix', 'S3InputMode': 'File', 'S3DataDistributionType': 'FullyReplicated', 'S3CompressionType': 'None'}}]), ('ProcessingOutputConfig', {'Outputs': [{'OutputName': 'evaluation-metrics', 'AppManaged': False, 'S3Output': {'S3Uri': Join(on='/', values=['s3://sagemaker-ap-northeast-2-419974056037', 'train-pipeline-model-17', <sagemaker.workflow.execution_variables.ExecutionVariable object at 0x7f518847a3a0>, 'evaluation-metrics']), 'LocalPath': '/opt/ml/processing/evaluation', 'S3UploadMode': 'EndOfJob'}}]})])\n",
      "  \n",
      "== Registration Step ==\n"
     ]
    },
    {
     "name": "stderr",
     "output_type": "stream",
     "text": [
      "INFO:sagemaker.processing:Uploaded ./sources/ to s3://sagemaker-ap-northeast-2-419974056037/train-pipeline-model-17/code/eabace17c9345271cf901107138b46a8/sourcedir.tar.gz\n"
     ]
    },
    {
     "name": "stdout",
     "output_type": "stream",
     "text": [
      "\n",
      "Job Name:  preprocessing-model-17\n",
      "Inputs:  [{'InputName': 'input-1', 'AppManaged': False, 'S3Input': {'S3Uri': 's3://sm-pipeline-multi-models-datasets/model-17/amazon_reviews_us_Electronics_v1_00.tsv.gz', 'LocalPath': '/opt/ml/processing/input', 'S3DataType': 'S3Prefix', 'S3InputMode': 'File', 'S3DataDistributionType': 'FullyReplicated', 'S3CompressionType': 'None'}}, {'InputName': 'requirements', 'AppManaged': False, 'S3Input': {'S3Uri': 's3://sagemaker-ap-northeast-2-419974056037/preprocessing-model-17/input/requirements/requirements.txt', 'LocalPath': '/opt/ml/processing/input/requirements', 'S3DataType': 'S3Prefix', 'S3InputMode': 'File', 'S3DataDistributionType': 'FullyReplicated', 'S3CompressionType': 'None'}}, {'InputName': 'code', 'AppManaged': False, 'S3Input': {'S3Uri': 's3://sagemaker-ap-northeast-2-419974056037/train-pipeline-model-17/code/2b3c51df48188408561910efa21ddc30/preprocessing.py', 'LocalPath': '/opt/ml/processing/input/code', 'S3DataType': 'S3Prefix', 'S3InputMode': 'File', 'S3DataDistributionType': 'FullyReplicated', 'S3CompressionType': 'None'}}]\n",
      "Outputs:  [{'OutputName': 'train_data', 'AppManaged': False, 'S3Output': {'S3Uri': Join(on='/', values=['s3://sagemaker-ap-northeast-2-419974056037', 'train-pipeline-model-17', <sagemaker.workflow.execution_variables.ExecutionVariable object at 0x7f518847a3a0>, 'train_data']), 'LocalPath': '/opt/ml/processing/output/train', 'S3UploadMode': 'EndOfJob'}}, {'OutputName': 'validation_data', 'AppManaged': False, 'S3Output': {'S3Uri': Join(on='/', values=['s3://sagemaker-ap-northeast-2-419974056037', 'train-pipeline-model-17', <sagemaker.workflow.execution_variables.ExecutionVariable object at 0x7f518847a3a0>, 'validation_data']), 'LocalPath': '/opt/ml/processing/output/validation', 'S3UploadMode': 'EndOfJob'}}, {'OutputName': 'test_data', 'AppManaged': False, 'S3Output': {'S3Uri': Join(on='/', values=['s3://sagemaker-ap-northeast-2-419974056037', 'train-pipeline-model-17', <sagemaker.workflow.execution_variables.ExecutionVariable object at 0x7f518847a3a0>, 'test_data']), 'LocalPath': '/opt/ml/processing/output/test', 'S3UploadMode': 'EndOfJob'}}]\n"
     ]
    },
    {
     "name": "stderr",
     "output_type": "stream",
     "text": [
      "INFO:sagemaker.processing:runproc.sh uploaded to s3://sagemaker-ap-northeast-2-419974056037/train-pipeline-model-17/code/1071dadab36d48ed1fba97e2ff137bdf/runproc.sh\n",
      "WARNING:sagemaker.estimator:No finished training job found associated with this estimator. Please make sure this estimator is only used for building workflow config\n",
      "WARNING:sagemaker.workflow._utils:Popping out 'CertifyForMarketplace' from the pipeline definition since it will be overridden in pipeline execution time.\n"
     ]
    },
    {
     "name": "stdout",
     "output_type": "stream",
     "text": [
      "\n",
      "Job Name:  evaluation\n",
      "Inputs:  [{'InputName': 'input-1', 'AppManaged': False, 'S3Input': {'S3Uri': <sagemaker.workflow.properties.Properties object at 0x7f518501cee0>, 'LocalPath': '/opt/ml/processing/model', 'S3DataType': 'S3Prefix', 'S3InputMode': 'File', 'S3DataDistributionType': 'FullyReplicated', 'S3CompressionType': 'None'}}, {'InputName': 'input-2', 'AppManaged': False, 'S3Input': {'S3Uri': <sagemaker.workflow.properties.Properties object at 0x7f51857c5ac0>, 'LocalPath': '/opt/ml/processing/test', 'S3DataType': 'S3Prefix', 'S3InputMode': 'File', 'S3DataDistributionType': 'FullyReplicated', 'S3CompressionType': 'None'}}, {'InputName': 'code', 'AppManaged': False, 'S3Input': {'S3Uri': 's3://sagemaker-ap-northeast-2-419974056037/train-pipeline-model-17/code/eabace17c9345271cf901107138b46a8/sourcedir.tar.gz', 'LocalPath': '/opt/ml/processing/input/code/', 'S3DataType': 'S3Prefix', 'S3InputMode': 'File', 'S3DataDistributionType': 'FullyReplicated', 'S3CompressionType': 'None'}}, {'InputName': 'entrypoint', 'AppManaged': False, 'S3Input': {'S3Uri': 's3://sagemaker-ap-northeast-2-419974056037/train-pipeline-model-17/code/1071dadab36d48ed1fba97e2ff137bdf/runproc.sh', 'LocalPath': '/opt/ml/processing/input/entrypoint', 'S3DataType': 'S3Prefix', 'S3InputMode': 'File', 'S3DataDistributionType': 'FullyReplicated', 'S3CompressionType': 'None'}}]\n",
      "Outputs:  [{'OutputName': 'evaluation-metrics', 'AppManaged': False, 'S3Output': {'S3Uri': Join(on='/', values=['s3://sagemaker-ap-northeast-2-419974056037', 'train-pipeline-model-17', <sagemaker.workflow.execution_variables.ExecutionVariable object at 0x7f518847a3a0>, 'evaluation-metrics']), 'LocalPath': '/opt/ml/processing/evaluation', 'S3UploadMode': 'EndOfJob'}}]\n",
      "  \n",
      "== PipeLine Execution info.==\n",
      "{'PipelineArn': 'arn:aws:sagemaker:ap-northeast-2:419974056037:pipeline/train-pipeline-model-17', 'PipelineExecutionArn': 'arn:aws:sagemaker:ap-northeast-2:419974056037:pipeline/train-pipeline-model-17/execution/sqcuutdou63j', 'PipelineExecutionDisplayName': 'execution-1674699106030', 'PipelineExecutionStatus': 'Executing', 'CreationTime': datetime.datetime(2023, 1, 26, 2, 11, 45, 932000, tzinfo=tzlocal()), 'LastModifiedTime': datetime.datetime(2023, 1, 26, 2, 11, 45, 932000, tzinfo=tzlocal()), 'CreatedBy': {}, 'LastModifiedBy': {}, 'ResponseMetadata': {'RequestId': 'cada99df-1440-45b0-a6a5-40aa97414264', 'HTTPStatusCode': 200, 'HTTPHeaders': {'x-amzn-requestid': 'cada99df-1440-45b0-a6a5-40aa97414264', 'content-type': 'application/x-amz-json-1.1', 'content-length': '421', 'date': 'Thu, 26 Jan 2023 02:11:45 GMT'}, 'RetryAttempts': 0}}\n",
      "========================== \n",
      "\n"
     ]
    },
    {
     "name": "stderr",
     "output_type": "stream",
     "text": [
      "INFO:sagemaker.image_uris:Same images used for training and inference. Defaulting to image scope: inference.\n",
      "INFO:sagemaker.image_uris:Defaulting to the only supported framework/algorithm version: 1.\n",
      "INFO:sagemaker.image_uris:Ignoring unnecessary instance type: None.\n",
      "INFO:sagemaker.image_uris:Defaulting to only available Python version: py3\n"
     ]
    },
    {
     "name": "stdout",
     "output_type": "stream",
     "text": [
      "MODEL-NAME: model-18\n",
      "  Account-ID: 419974056037, \n",
      "  Region: ap-northeast-2, \n",
      "  Role: arn:aws:iam::419974056037:role/service-role/AmazonSageMaker-ExecutionRole-20221004T162466, \n",
      "  Default_bucket: sagemaker-ap-northeast-2-419974056037\n",
      "  pipeline_session: <sagemaker.workflow.pipeline_context.PipelineSession object at 0x7f5184fe6970>\n",
      "  \n",
      "== Preprocessing Step ==\n"
     ]
    },
    {
     "name": "stderr",
     "output_type": "stream",
     "text": [
      "INFO:sagemaker.image_uris:image_uri is not presented, retrieving image_uri based on instance_type, framework etc.\n",
      "INFO:sagemaker.processing:Uploaded ./sources/ to s3://sagemaker-ap-northeast-2-419974056037/evaluation/source/sourcedir.tar.gz\n"
     ]
    },
    {
     "name": "stdout",
     "output_type": "stream",
     "text": [
      "\n",
      "Job Name:  preprocessing-model-18\n",
      "Inputs:  [{'InputName': 'input-1', 'AppManaged': False, 'S3Input': {'S3Uri': 's3://sm-pipeline-multi-models-datasets/model-18/amazon_reviews_us_Electronics_v1_00.tsv.gz', 'LocalPath': '/opt/ml/processing/input', 'S3DataType': 'S3Prefix', 'S3InputMode': 'File', 'S3DataDistributionType': 'FullyReplicated', 'S3CompressionType': 'None'}}, {'InputName': 'requirements', 'AppManaged': False, 'S3Input': {'S3Uri': 's3://sagemaker-ap-northeast-2-419974056037/preprocessing-model-18/input/requirements/requirements.txt', 'LocalPath': '/opt/ml/processing/input/requirements', 'S3DataType': 'S3Prefix', 'S3InputMode': 'File', 'S3DataDistributionType': 'FullyReplicated', 'S3CompressionType': 'None'}}, {'InputName': 'code', 'AppManaged': False, 'S3Input': {'S3Uri': 's3://sagemaker-ap-northeast-2-419974056037/preprocessing-model-18/input/code/preprocessing.py', 'LocalPath': '/opt/ml/processing/input/code', 'S3DataType': 'S3Prefix', 'S3InputMode': 'File', 'S3DataDistributionType': 'FullyReplicated', 'S3CompressionType': 'None'}}]\n",
      "Outputs:  [{'OutputName': 'train_data', 'AppManaged': False, 'S3Output': {'S3Uri': Join(on='/', values=['s3://sagemaker-ap-northeast-2-419974056037', 'train-pipeline-model-18', <sagemaker.workflow.execution_variables.ExecutionVariable object at 0x7f518847a3a0>, 'train_data']), 'LocalPath': '/opt/ml/processing/output/train', 'S3UploadMode': 'EndOfJob'}}, {'OutputName': 'validation_data', 'AppManaged': False, 'S3Output': {'S3Uri': Join(on='/', values=['s3://sagemaker-ap-northeast-2-419974056037', 'train-pipeline-model-18', <sagemaker.workflow.execution_variables.ExecutionVariable object at 0x7f518847a3a0>, 'validation_data']), 'LocalPath': '/opt/ml/processing/output/validation', 'S3UploadMode': 'EndOfJob'}}, {'OutputName': 'test_data', 'AppManaged': False, 'S3Output': {'S3Uri': Join(on='/', values=['s3://sagemaker-ap-northeast-2-419974056037', 'train-pipeline-model-18', <sagemaker.workflow.execution_variables.ExecutionVariable object at 0x7f518847a3a0>, 'test_data']), 'LocalPath': '/opt/ml/processing/output/test', 'S3UploadMode': 'EndOfJob'}}]\n",
      "   \n",
      "Args:  dict_items([('ProcessingResources', {'ClusterConfig': {'InstanceType': 'ml.m5.xlarge', 'InstanceCount': 1, 'VolumeSizeInGB': 30}}), ('AppSpecification', {'ImageUri': '366743142698.dkr.ecr.ap-northeast-2.amazonaws.com/sagemaker-scikit-learn:0.20.0-cpu-py3', 'ContainerArguments': ['--input_name', 'amazon_reviews_us_Electronics_v1_00.tsv.gz', '--region', 'ap-northeast-2'], 'ContainerEntrypoint': ['python3', '/opt/ml/processing/input/code/preprocessing.py']}), ('RoleArn', 'arn:aws:iam::419974056037:role/service-role/AmazonSageMaker-ExecutionRole-20221004T162466'), ('ProcessingInputs', [{'InputName': 'input-1', 'AppManaged': False, 'S3Input': {'S3Uri': 's3://sm-pipeline-multi-models-datasets/model-18/amazon_reviews_us_Electronics_v1_00.tsv.gz', 'LocalPath': '/opt/ml/processing/input', 'S3DataType': 'S3Prefix', 'S3InputMode': 'File', 'S3DataDistributionType': 'FullyReplicated', 'S3CompressionType': 'None'}}, {'InputName': 'requirements', 'AppManaged': False, 'S3Input': {'S3Uri': 's3://sagemaker-ap-northeast-2-419974056037/preprocessing-model-18/input/requirements/requirements.txt', 'LocalPath': '/opt/ml/processing/input/requirements', 'S3DataType': 'S3Prefix', 'S3InputMode': 'File', 'S3DataDistributionType': 'FullyReplicated', 'S3CompressionType': 'None'}}, {'InputName': 'code', 'AppManaged': False, 'S3Input': {'S3Uri': 's3://sagemaker-ap-northeast-2-419974056037/preprocessing-model-18/input/code/preprocessing.py', 'LocalPath': '/opt/ml/processing/input/code', 'S3DataType': 'S3Prefix', 'S3InputMode': 'File', 'S3DataDistributionType': 'FullyReplicated', 'S3CompressionType': 'None'}}]), ('ProcessingOutputConfig', {'Outputs': [{'OutputName': 'train_data', 'AppManaged': False, 'S3Output': {'S3Uri': Join(on='/', values=['s3://sagemaker-ap-northeast-2-419974056037', 'train-pipeline-model-18', <sagemaker.workflow.execution_variables.ExecutionVariable object at 0x7f518847a3a0>, 'train_data']), 'LocalPath': '/opt/ml/processing/output/train', 'S3UploadMode': 'EndOfJob'}}, {'OutputName': 'validation_data', 'AppManaged': False, 'S3Output': {'S3Uri': Join(on='/', values=['s3://sagemaker-ap-northeast-2-419974056037', 'train-pipeline-model-18', <sagemaker.workflow.execution_variables.ExecutionVariable object at 0x7f518847a3a0>, 'validation_data']), 'LocalPath': '/opt/ml/processing/output/validation', 'S3UploadMode': 'EndOfJob'}}, {'OutputName': 'test_data', 'AppManaged': False, 'S3Output': {'S3Uri': Join(on='/', values=['s3://sagemaker-ap-northeast-2-419974056037', 'train-pipeline-model-18', <sagemaker.workflow.execution_variables.ExecutionVariable object at 0x7f518847a3a0>, 'test_data']), 'LocalPath': '/opt/ml/processing/output/test', 'S3UploadMode': 'EndOfJob'}}]})])\n",
      "  \n",
      "== Training Step ==\n",
      "   \n",
      "Args:  dict_items([('AlgorithmSpecification', {'TrainingInputMode': 'File', 'TrainingImage': '306986355934.dkr.ecr.ap-northeast-2.amazonaws.com/blazingtext:1'}), ('OutputDataConfig', {'S3OutputPath': Join(on='/', values=['s3://sagemaker-ap-northeast-2-419974056037', 'train-pipeline-model-18'])}), ('StoppingCondition', {'MaxRuntimeInSeconds': 360000}), ('ResourceConfig', {'VolumeSizeInGB': 30, 'InstanceCount': 1, 'InstanceType': 'ml.m5.xlarge'}), ('RoleArn', 'arn:aws:iam::419974056037:role/service-role/AmazonSageMaker-ExecutionRole-20221004T162466'), ('InputDataConfig', [{'DataSource': {'S3DataSource': {'S3DataType': 'S3Prefix', 'S3Uri': <sagemaker.workflow.properties.Properties object at 0x7f51856b5970>, 'S3DataDistributionType': 'FullyReplicated'}}, 'ContentType': 'text/csv', 'ChannelName': 'train'}, {'DataSource': {'S3DataSource': {'S3DataType': 'S3Prefix', 'S3Uri': <sagemaker.workflow.properties.Properties object at 0x7f51856b5c40>, 'S3DataDistributionType': 'FullyReplicated'}}, 'ContentType': 'text/csv', 'ChannelName': 'validation'}]), ('HyperParameters', {'mode': 'supervised', 'epochs': '10', 'min_epochs': '5', 'early_stopping': 'True', 'patience': '2', 'learning_rate': '0.01', 'min_count': '2', 'word_ngrams': '2', 'vector_dim': '16'}), ('DebugHookConfig', {'S3OutputPath': Join(on='/', values=['s3://sagemaker-ap-northeast-2-419974056037', 'train-pipeline-model-18']), 'CollectionConfigurations': []}), ('ProfilerConfig', {'S3OutputPath': Join(on='/', values=['s3://sagemaker-ap-northeast-2-419974056037', 'train-pipeline-model-18']), 'DisableProfiler': False})])\n",
      "  \n",
      "== Evaluation Step ==\n"
     ]
    },
    {
     "name": "stderr",
     "output_type": "stream",
     "text": [
      "INFO:sagemaker.processing:runproc.sh uploaded to s3://sagemaker-ap-northeast-2-419974056037/evaluation/source/runproc.sh\n"
     ]
    },
    {
     "name": "stdout",
     "output_type": "stream",
     "text": [
      "\n",
      "Job Name:  evaluation\n",
      "Inputs:  [{'InputName': 'input-1', 'AppManaged': False, 'S3Input': {'S3Uri': <sagemaker.workflow.properties.Properties object at 0x7f5185339d00>, 'LocalPath': '/opt/ml/processing/model', 'S3DataType': 'S3Prefix', 'S3InputMode': 'File', 'S3DataDistributionType': 'FullyReplicated', 'S3CompressionType': 'None'}}, {'InputName': 'input-2', 'AppManaged': False, 'S3Input': {'S3Uri': <sagemaker.workflow.properties.Properties object at 0x7f51853031f0>, 'LocalPath': '/opt/ml/processing/test', 'S3DataType': 'S3Prefix', 'S3InputMode': 'File', 'S3DataDistributionType': 'FullyReplicated', 'S3CompressionType': 'None'}}, {'InputName': 'code', 'AppManaged': False, 'S3Input': {'S3Uri': 's3://sagemaker-ap-northeast-2-419974056037/evaluation/source/sourcedir.tar.gz', 'LocalPath': '/opt/ml/processing/input/code/', 'S3DataType': 'S3Prefix', 'S3InputMode': 'File', 'S3DataDistributionType': 'FullyReplicated', 'S3CompressionType': 'None'}}, {'InputName': 'entrypoint', 'AppManaged': False, 'S3Input': {'S3Uri': 's3://sagemaker-ap-northeast-2-419974056037/evaluation/source/runproc.sh', 'LocalPath': '/opt/ml/processing/input/entrypoint', 'S3DataType': 'S3Prefix', 'S3InputMode': 'File', 'S3DataDistributionType': 'FullyReplicated', 'S3CompressionType': 'None'}}]\n",
      "Outputs:  [{'OutputName': 'evaluation-metrics', 'AppManaged': False, 'S3Output': {'S3Uri': Join(on='/', values=['s3://sagemaker-ap-northeast-2-419974056037', 'train-pipeline-model-18', <sagemaker.workflow.execution_variables.ExecutionVariable object at 0x7f518847a3a0>, 'evaluation-metrics']), 'LocalPath': '/opt/ml/processing/evaluation', 'S3UploadMode': 'EndOfJob'}}]\n",
      "   \n",
      "Args:  dict_items([('ProcessingResources', {'ClusterConfig': {'InstanceType': 'ml.g4dn.xlarge', 'InstanceCount': 1, 'VolumeSizeInGB': 30}}), ('AppSpecification', {'ImageUri': '763104351884.dkr.ecr.ap-northeast-2.amazonaws.com/tensorflow-training:2.3-gpu-py37', 'ContainerArguments': ['--s3_model_path', <sagemaker.workflow.properties.Properties object at 0x7f5185339d00>, '--region', 'ap-northeast-2', '--model_name', 'model-18'], 'ContainerEntrypoint': ['/bin/bash', '/opt/ml/processing/input/entrypoint/runproc.sh']}), ('RoleArn', 'arn:aws:iam::419974056037:role/service-role/AmazonSageMaker-ExecutionRole-20221004T162466'), ('ProcessingInputs', [{'InputName': 'input-1', 'AppManaged': False, 'S3Input': {'S3Uri': <sagemaker.workflow.properties.Properties object at 0x7f5185339d00>, 'LocalPath': '/opt/ml/processing/model', 'S3DataType': 'S3Prefix', 'S3InputMode': 'File', 'S3DataDistributionType': 'FullyReplicated', 'S3CompressionType': 'None'}}, {'InputName': 'input-2', 'AppManaged': False, 'S3Input': {'S3Uri': <sagemaker.workflow.properties.Properties object at 0x7f51853031f0>, 'LocalPath': '/opt/ml/processing/test', 'S3DataType': 'S3Prefix', 'S3InputMode': 'File', 'S3DataDistributionType': 'FullyReplicated', 'S3CompressionType': 'None'}}, {'InputName': 'code', 'AppManaged': False, 'S3Input': {'S3Uri': 's3://sagemaker-ap-northeast-2-419974056037/evaluation/source/sourcedir.tar.gz', 'LocalPath': '/opt/ml/processing/input/code/', 'S3DataType': 'S3Prefix', 'S3InputMode': 'File', 'S3DataDistributionType': 'FullyReplicated', 'S3CompressionType': 'None'}}, {'InputName': 'entrypoint', 'AppManaged': False, 'S3Input': {'S3Uri': 's3://sagemaker-ap-northeast-2-419974056037/evaluation/source/runproc.sh', 'LocalPath': '/opt/ml/processing/input/entrypoint', 'S3DataType': 'S3Prefix', 'S3InputMode': 'File', 'S3DataDistributionType': 'FullyReplicated', 'S3CompressionType': 'None'}}]), ('ProcessingOutputConfig', {'Outputs': [{'OutputName': 'evaluation-metrics', 'AppManaged': False, 'S3Output': {'S3Uri': Join(on='/', values=['s3://sagemaker-ap-northeast-2-419974056037', 'train-pipeline-model-18', <sagemaker.workflow.execution_variables.ExecutionVariable object at 0x7f518847a3a0>, 'evaluation-metrics']), 'LocalPath': '/opt/ml/processing/evaluation', 'S3UploadMode': 'EndOfJob'}}]})])\n",
      "  \n",
      "== Registration Step ==\n"
     ]
    },
    {
     "name": "stderr",
     "output_type": "stream",
     "text": [
      "INFO:sagemaker.processing:Uploaded ./sources/ to s3://sagemaker-ap-northeast-2-419974056037/train-pipeline-model-18/code/eabace17c9345271cf901107138b46a8/sourcedir.tar.gz\n",
      "INFO:sagemaker.processing:runproc.sh uploaded to s3://sagemaker-ap-northeast-2-419974056037/train-pipeline-model-18/code/1071dadab36d48ed1fba97e2ff137bdf/runproc.sh\n",
      "WARNING:sagemaker.estimator:No finished training job found associated with this estimator. Please make sure this estimator is only used for building workflow config\n",
      "WARNING:sagemaker.workflow._utils:Popping out 'CertifyForMarketplace' from the pipeline definition since it will be overridden in pipeline execution time.\n"
     ]
    },
    {
     "name": "stdout",
     "output_type": "stream",
     "text": [
      "\n",
      "Job Name:  preprocessing-model-18\n",
      "Inputs:  [{'InputName': 'input-1', 'AppManaged': False, 'S3Input': {'S3Uri': 's3://sm-pipeline-multi-models-datasets/model-18/amazon_reviews_us_Electronics_v1_00.tsv.gz', 'LocalPath': '/opt/ml/processing/input', 'S3DataType': 'S3Prefix', 'S3InputMode': 'File', 'S3DataDistributionType': 'FullyReplicated', 'S3CompressionType': 'None'}}, {'InputName': 'requirements', 'AppManaged': False, 'S3Input': {'S3Uri': 's3://sagemaker-ap-northeast-2-419974056037/preprocessing-model-18/input/requirements/requirements.txt', 'LocalPath': '/opt/ml/processing/input/requirements', 'S3DataType': 'S3Prefix', 'S3InputMode': 'File', 'S3DataDistributionType': 'FullyReplicated', 'S3CompressionType': 'None'}}, {'InputName': 'code', 'AppManaged': False, 'S3Input': {'S3Uri': 's3://sagemaker-ap-northeast-2-419974056037/train-pipeline-model-18/code/2b3c51df48188408561910efa21ddc30/preprocessing.py', 'LocalPath': '/opt/ml/processing/input/code', 'S3DataType': 'S3Prefix', 'S3InputMode': 'File', 'S3DataDistributionType': 'FullyReplicated', 'S3CompressionType': 'None'}}]\n",
      "Outputs:  [{'OutputName': 'train_data', 'AppManaged': False, 'S3Output': {'S3Uri': Join(on='/', values=['s3://sagemaker-ap-northeast-2-419974056037', 'train-pipeline-model-18', <sagemaker.workflow.execution_variables.ExecutionVariable object at 0x7f518847a3a0>, 'train_data']), 'LocalPath': '/opt/ml/processing/output/train', 'S3UploadMode': 'EndOfJob'}}, {'OutputName': 'validation_data', 'AppManaged': False, 'S3Output': {'S3Uri': Join(on='/', values=['s3://sagemaker-ap-northeast-2-419974056037', 'train-pipeline-model-18', <sagemaker.workflow.execution_variables.ExecutionVariable object at 0x7f518847a3a0>, 'validation_data']), 'LocalPath': '/opt/ml/processing/output/validation', 'S3UploadMode': 'EndOfJob'}}, {'OutputName': 'test_data', 'AppManaged': False, 'S3Output': {'S3Uri': Join(on='/', values=['s3://sagemaker-ap-northeast-2-419974056037', 'train-pipeline-model-18', <sagemaker.workflow.execution_variables.ExecutionVariable object at 0x7f518847a3a0>, 'test_data']), 'LocalPath': '/opt/ml/processing/output/test', 'S3UploadMode': 'EndOfJob'}}]\n",
      "\n",
      "Job Name:  evaluation\n",
      "Inputs:  [{'InputName': 'input-1', 'AppManaged': False, 'S3Input': {'S3Uri': <sagemaker.workflow.properties.Properties object at 0x7f5185339d00>, 'LocalPath': '/opt/ml/processing/model', 'S3DataType': 'S3Prefix', 'S3InputMode': 'File', 'S3DataDistributionType': 'FullyReplicated', 'S3CompressionType': 'None'}}, {'InputName': 'input-2', 'AppManaged': False, 'S3Input': {'S3Uri': <sagemaker.workflow.properties.Properties object at 0x7f51853031f0>, 'LocalPath': '/opt/ml/processing/test', 'S3DataType': 'S3Prefix', 'S3InputMode': 'File', 'S3DataDistributionType': 'FullyReplicated', 'S3CompressionType': 'None'}}, {'InputName': 'code', 'AppManaged': False, 'S3Input': {'S3Uri': 's3://sagemaker-ap-northeast-2-419974056037/train-pipeline-model-18/code/eabace17c9345271cf901107138b46a8/sourcedir.tar.gz', 'LocalPath': '/opt/ml/processing/input/code/', 'S3DataType': 'S3Prefix', 'S3InputMode': 'File', 'S3DataDistributionType': 'FullyReplicated', 'S3CompressionType': 'None'}}, {'InputName': 'entrypoint', 'AppManaged': False, 'S3Input': {'S3Uri': 's3://sagemaker-ap-northeast-2-419974056037/train-pipeline-model-18/code/1071dadab36d48ed1fba97e2ff137bdf/runproc.sh', 'LocalPath': '/opt/ml/processing/input/entrypoint', 'S3DataType': 'S3Prefix', 'S3InputMode': 'File', 'S3DataDistributionType': 'FullyReplicated', 'S3CompressionType': 'None'}}]\n",
      "Outputs:  [{'OutputName': 'evaluation-metrics', 'AppManaged': False, 'S3Output': {'S3Uri': Join(on='/', values=['s3://sagemaker-ap-northeast-2-419974056037', 'train-pipeline-model-18', <sagemaker.workflow.execution_variables.ExecutionVariable object at 0x7f518847a3a0>, 'evaluation-metrics']), 'LocalPath': '/opt/ml/processing/evaluation', 'S3UploadMode': 'EndOfJob'}}]\n",
      "  \n",
      "== PipeLine Execution info.==\n",
      "{'PipelineArn': 'arn:aws:sagemaker:ap-northeast-2:419974056037:pipeline/train-pipeline-model-18', 'PipelineExecutionArn': 'arn:aws:sagemaker:ap-northeast-2:419974056037:pipeline/train-pipeline-model-18/execution/1ohdi7c60czh', 'PipelineExecutionDisplayName': 'execution-1674699107787', 'PipelineExecutionStatus': 'Executing', 'CreationTime': datetime.datetime(2023, 1, 26, 2, 11, 47, 708000, tzinfo=tzlocal()), 'LastModifiedTime': datetime.datetime(2023, 1, 26, 2, 11, 47, 708000, tzinfo=tzlocal()), 'CreatedBy': {}, 'LastModifiedBy': {}, 'ResponseMetadata': {'RequestId': 'cc94dffb-9e63-473d-9cf3-f480639f41c2', 'HTTPStatusCode': 200, 'HTTPHeaders': {'x-amzn-requestid': 'cc94dffb-9e63-473d-9cf3-f480639f41c2', 'content-type': 'application/x-amz-json-1.1', 'content-length': '421', 'date': 'Thu, 26 Jan 2023 02:11:47 GMT'}, 'RetryAttempts': 0}}\n",
      "========================== \n",
      "\n"
     ]
    },
    {
     "name": "stderr",
     "output_type": "stream",
     "text": [
      "INFO:sagemaker.image_uris:Same images used for training and inference. Defaulting to image scope: inference.\n",
      "INFO:sagemaker.image_uris:Defaulting to the only supported framework/algorithm version: 1.\n",
      "INFO:sagemaker.image_uris:Ignoring unnecessary instance type: None.\n",
      "INFO:sagemaker.image_uris:Defaulting to only available Python version: py3\n"
     ]
    },
    {
     "name": "stdout",
     "output_type": "stream",
     "text": [
      "MODEL-NAME: model-19\n",
      "  Account-ID: 419974056037, \n",
      "  Region: ap-northeast-2, \n",
      "  Role: arn:aws:iam::419974056037:role/service-role/AmazonSageMaker-ExecutionRole-20221004T162466, \n",
      "  Default_bucket: sagemaker-ap-northeast-2-419974056037\n",
      "  pipeline_session: <sagemaker.workflow.pipeline_context.PipelineSession object at 0x7f51854225b0>\n",
      "  \n",
      "== Preprocessing Step ==\n"
     ]
    },
    {
     "name": "stderr",
     "output_type": "stream",
     "text": [
      "INFO:sagemaker.image_uris:image_uri is not presented, retrieving image_uri based on instance_type, framework etc.\n",
      "INFO:sagemaker.processing:Uploaded ./sources/ to s3://sagemaker-ap-northeast-2-419974056037/evaluation/source/sourcedir.tar.gz\n",
      "INFO:sagemaker.processing:runproc.sh uploaded to s3://sagemaker-ap-northeast-2-419974056037/evaluation/source/runproc.sh\n"
     ]
    },
    {
     "name": "stdout",
     "output_type": "stream",
     "text": [
      "\n",
      "Job Name:  preprocessing-model-19\n",
      "Inputs:  [{'InputName': 'input-1', 'AppManaged': False, 'S3Input': {'S3Uri': 's3://sm-pipeline-multi-models-datasets/model-19/amazon_reviews_us_Electronics_v1_00.tsv.gz', 'LocalPath': '/opt/ml/processing/input', 'S3DataType': 'S3Prefix', 'S3InputMode': 'File', 'S3DataDistributionType': 'FullyReplicated', 'S3CompressionType': 'None'}}, {'InputName': 'requirements', 'AppManaged': False, 'S3Input': {'S3Uri': 's3://sagemaker-ap-northeast-2-419974056037/preprocessing-model-19/input/requirements/requirements.txt', 'LocalPath': '/opt/ml/processing/input/requirements', 'S3DataType': 'S3Prefix', 'S3InputMode': 'File', 'S3DataDistributionType': 'FullyReplicated', 'S3CompressionType': 'None'}}, {'InputName': 'code', 'AppManaged': False, 'S3Input': {'S3Uri': 's3://sagemaker-ap-northeast-2-419974056037/preprocessing-model-19/input/code/preprocessing.py', 'LocalPath': '/opt/ml/processing/input/code', 'S3DataType': 'S3Prefix', 'S3InputMode': 'File', 'S3DataDistributionType': 'FullyReplicated', 'S3CompressionType': 'None'}}]\n",
      "Outputs:  [{'OutputName': 'train_data', 'AppManaged': False, 'S3Output': {'S3Uri': Join(on='/', values=['s3://sagemaker-ap-northeast-2-419974056037', 'train-pipeline-model-19', <sagemaker.workflow.execution_variables.ExecutionVariable object at 0x7f518847a3a0>, 'train_data']), 'LocalPath': '/opt/ml/processing/output/train', 'S3UploadMode': 'EndOfJob'}}, {'OutputName': 'validation_data', 'AppManaged': False, 'S3Output': {'S3Uri': Join(on='/', values=['s3://sagemaker-ap-northeast-2-419974056037', 'train-pipeline-model-19', <sagemaker.workflow.execution_variables.ExecutionVariable object at 0x7f518847a3a0>, 'validation_data']), 'LocalPath': '/opt/ml/processing/output/validation', 'S3UploadMode': 'EndOfJob'}}, {'OutputName': 'test_data', 'AppManaged': False, 'S3Output': {'S3Uri': Join(on='/', values=['s3://sagemaker-ap-northeast-2-419974056037', 'train-pipeline-model-19', <sagemaker.workflow.execution_variables.ExecutionVariable object at 0x7f518847a3a0>, 'test_data']), 'LocalPath': '/opt/ml/processing/output/test', 'S3UploadMode': 'EndOfJob'}}]\n",
      "   \n",
      "Args:  dict_items([('ProcessingResources', {'ClusterConfig': {'InstanceType': 'ml.m5.xlarge', 'InstanceCount': 1, 'VolumeSizeInGB': 30}}), ('AppSpecification', {'ImageUri': '366743142698.dkr.ecr.ap-northeast-2.amazonaws.com/sagemaker-scikit-learn:0.20.0-cpu-py3', 'ContainerArguments': ['--input_name', 'amazon_reviews_us_Electronics_v1_00.tsv.gz', '--region', 'ap-northeast-2'], 'ContainerEntrypoint': ['python3', '/opt/ml/processing/input/code/preprocessing.py']}), ('RoleArn', 'arn:aws:iam::419974056037:role/service-role/AmazonSageMaker-ExecutionRole-20221004T162466'), ('ProcessingInputs', [{'InputName': 'input-1', 'AppManaged': False, 'S3Input': {'S3Uri': 's3://sm-pipeline-multi-models-datasets/model-19/amazon_reviews_us_Electronics_v1_00.tsv.gz', 'LocalPath': '/opt/ml/processing/input', 'S3DataType': 'S3Prefix', 'S3InputMode': 'File', 'S3DataDistributionType': 'FullyReplicated', 'S3CompressionType': 'None'}}, {'InputName': 'requirements', 'AppManaged': False, 'S3Input': {'S3Uri': 's3://sagemaker-ap-northeast-2-419974056037/preprocessing-model-19/input/requirements/requirements.txt', 'LocalPath': '/opt/ml/processing/input/requirements', 'S3DataType': 'S3Prefix', 'S3InputMode': 'File', 'S3DataDistributionType': 'FullyReplicated', 'S3CompressionType': 'None'}}, {'InputName': 'code', 'AppManaged': False, 'S3Input': {'S3Uri': 's3://sagemaker-ap-northeast-2-419974056037/preprocessing-model-19/input/code/preprocessing.py', 'LocalPath': '/opt/ml/processing/input/code', 'S3DataType': 'S3Prefix', 'S3InputMode': 'File', 'S3DataDistributionType': 'FullyReplicated', 'S3CompressionType': 'None'}}]), ('ProcessingOutputConfig', {'Outputs': [{'OutputName': 'train_data', 'AppManaged': False, 'S3Output': {'S3Uri': Join(on='/', values=['s3://sagemaker-ap-northeast-2-419974056037', 'train-pipeline-model-19', <sagemaker.workflow.execution_variables.ExecutionVariable object at 0x7f518847a3a0>, 'train_data']), 'LocalPath': '/opt/ml/processing/output/train', 'S3UploadMode': 'EndOfJob'}}, {'OutputName': 'validation_data', 'AppManaged': False, 'S3Output': {'S3Uri': Join(on='/', values=['s3://sagemaker-ap-northeast-2-419974056037', 'train-pipeline-model-19', <sagemaker.workflow.execution_variables.ExecutionVariable object at 0x7f518847a3a0>, 'validation_data']), 'LocalPath': '/opt/ml/processing/output/validation', 'S3UploadMode': 'EndOfJob'}}, {'OutputName': 'test_data', 'AppManaged': False, 'S3Output': {'S3Uri': Join(on='/', values=['s3://sagemaker-ap-northeast-2-419974056037', 'train-pipeline-model-19', <sagemaker.workflow.execution_variables.ExecutionVariable object at 0x7f518847a3a0>, 'test_data']), 'LocalPath': '/opt/ml/processing/output/test', 'S3UploadMode': 'EndOfJob'}}]})])\n",
      "  \n",
      "== Training Step ==\n",
      "   \n",
      "Args:  dict_items([('AlgorithmSpecification', {'TrainingInputMode': 'File', 'TrainingImage': '306986355934.dkr.ecr.ap-northeast-2.amazonaws.com/blazingtext:1'}), ('OutputDataConfig', {'S3OutputPath': Join(on='/', values=['s3://sagemaker-ap-northeast-2-419974056037', 'train-pipeline-model-19'])}), ('StoppingCondition', {'MaxRuntimeInSeconds': 360000}), ('ResourceConfig', {'VolumeSizeInGB': 30, 'InstanceCount': 1, 'InstanceType': 'ml.m5.xlarge'}), ('RoleArn', 'arn:aws:iam::419974056037:role/service-role/AmazonSageMaker-ExecutionRole-20221004T162466'), ('InputDataConfig', [{'DataSource': {'S3DataSource': {'S3DataType': 'S3Prefix', 'S3Uri': <sagemaker.workflow.properties.Properties object at 0x7f5186f0b250>, 'S3DataDistributionType': 'FullyReplicated'}}, 'ContentType': 'text/csv', 'ChannelName': 'train'}, {'DataSource': {'S3DataSource': {'S3DataType': 'S3Prefix', 'S3Uri': <sagemaker.workflow.properties.Properties object at 0x7f5186f0b8b0>, 'S3DataDistributionType': 'FullyReplicated'}}, 'ContentType': 'text/csv', 'ChannelName': 'validation'}]), ('HyperParameters', {'mode': 'supervised', 'epochs': '10', 'min_epochs': '5', 'early_stopping': 'True', 'patience': '2', 'learning_rate': '0.01', 'min_count': '2', 'word_ngrams': '2', 'vector_dim': '16'}), ('DebugHookConfig', {'S3OutputPath': Join(on='/', values=['s3://sagemaker-ap-northeast-2-419974056037', 'train-pipeline-model-19']), 'CollectionConfigurations': []}), ('ProfilerConfig', {'S3OutputPath': Join(on='/', values=['s3://sagemaker-ap-northeast-2-419974056037', 'train-pipeline-model-19']), 'DisableProfiler': False})])\n",
      "  \n",
      "== Evaluation Step ==\n",
      "\n",
      "Job Name:  evaluation\n",
      "Inputs:  [{'InputName': 'input-1', 'AppManaged': False, 'S3Input': {'S3Uri': <sagemaker.workflow.properties.Properties object at 0x7f518532ec10>, 'LocalPath': '/opt/ml/processing/model', 'S3DataType': 'S3Prefix', 'S3InputMode': 'File', 'S3DataDistributionType': 'FullyReplicated', 'S3CompressionType': 'None'}}, {'InputName': 'input-2', 'AppManaged': False, 'S3Input': {'S3Uri': <sagemaker.workflow.properties.Properties object at 0x7f51856972b0>, 'LocalPath': '/opt/ml/processing/test', 'S3DataType': 'S3Prefix', 'S3InputMode': 'File', 'S3DataDistributionType': 'FullyReplicated', 'S3CompressionType': 'None'}}, {'InputName': 'code', 'AppManaged': False, 'S3Input': {'S3Uri': 's3://sagemaker-ap-northeast-2-419974056037/evaluation/source/sourcedir.tar.gz', 'LocalPath': '/opt/ml/processing/input/code/', 'S3DataType': 'S3Prefix', 'S3InputMode': 'File', 'S3DataDistributionType': 'FullyReplicated', 'S3CompressionType': 'None'}}, {'InputName': 'entrypoint', 'AppManaged': False, 'S3Input': {'S3Uri': 's3://sagemaker-ap-northeast-2-419974056037/evaluation/source/runproc.sh', 'LocalPath': '/opt/ml/processing/input/entrypoint', 'S3DataType': 'S3Prefix', 'S3InputMode': 'File', 'S3DataDistributionType': 'FullyReplicated', 'S3CompressionType': 'None'}}]\n",
      "Outputs:  [{'OutputName': 'evaluation-metrics', 'AppManaged': False, 'S3Output': {'S3Uri': Join(on='/', values=['s3://sagemaker-ap-northeast-2-419974056037', 'train-pipeline-model-19', <sagemaker.workflow.execution_variables.ExecutionVariable object at 0x7f518847a3a0>, 'evaluation-metrics']), 'LocalPath': '/opt/ml/processing/evaluation', 'S3UploadMode': 'EndOfJob'}}]\n",
      "   \n",
      "Args:  dict_items([('ProcessingResources', {'ClusterConfig': {'InstanceType': 'ml.g4dn.xlarge', 'InstanceCount': 1, 'VolumeSizeInGB': 30}}), ('AppSpecification', {'ImageUri': '763104351884.dkr.ecr.ap-northeast-2.amazonaws.com/tensorflow-training:2.3-gpu-py37', 'ContainerArguments': ['--s3_model_path', <sagemaker.workflow.properties.Properties object at 0x7f518532ec10>, '--region', 'ap-northeast-2', '--model_name', 'model-19'], 'ContainerEntrypoint': ['/bin/bash', '/opt/ml/processing/input/entrypoint/runproc.sh']}), ('RoleArn', 'arn:aws:iam::419974056037:role/service-role/AmazonSageMaker-ExecutionRole-20221004T162466'), ('ProcessingInputs', [{'InputName': 'input-1', 'AppManaged': False, 'S3Input': {'S3Uri': <sagemaker.workflow.properties.Properties object at 0x7f518532ec10>, 'LocalPath': '/opt/ml/processing/model', 'S3DataType': 'S3Prefix', 'S3InputMode': 'File', 'S3DataDistributionType': 'FullyReplicated', 'S3CompressionType': 'None'}}, {'InputName': 'input-2', 'AppManaged': False, 'S3Input': {'S3Uri': <sagemaker.workflow.properties.Properties object at 0x7f51856972b0>, 'LocalPath': '/opt/ml/processing/test', 'S3DataType': 'S3Prefix', 'S3InputMode': 'File', 'S3DataDistributionType': 'FullyReplicated', 'S3CompressionType': 'None'}}, {'InputName': 'code', 'AppManaged': False, 'S3Input': {'S3Uri': 's3://sagemaker-ap-northeast-2-419974056037/evaluation/source/sourcedir.tar.gz', 'LocalPath': '/opt/ml/processing/input/code/', 'S3DataType': 'S3Prefix', 'S3InputMode': 'File', 'S3DataDistributionType': 'FullyReplicated', 'S3CompressionType': 'None'}}, {'InputName': 'entrypoint', 'AppManaged': False, 'S3Input': {'S3Uri': 's3://sagemaker-ap-northeast-2-419974056037/evaluation/source/runproc.sh', 'LocalPath': '/opt/ml/processing/input/entrypoint', 'S3DataType': 'S3Prefix', 'S3InputMode': 'File', 'S3DataDistributionType': 'FullyReplicated', 'S3CompressionType': 'None'}}]), ('ProcessingOutputConfig', {'Outputs': [{'OutputName': 'evaluation-metrics', 'AppManaged': False, 'S3Output': {'S3Uri': Join(on='/', values=['s3://sagemaker-ap-northeast-2-419974056037', 'train-pipeline-model-19', <sagemaker.workflow.execution_variables.ExecutionVariable object at 0x7f518847a3a0>, 'evaluation-metrics']), 'LocalPath': '/opt/ml/processing/evaluation', 'S3UploadMode': 'EndOfJob'}}]})])\n",
      "  \n",
      "== Registration Step ==\n"
     ]
    },
    {
     "name": "stderr",
     "output_type": "stream",
     "text": [
      "INFO:sagemaker.processing:Uploaded ./sources/ to s3://sagemaker-ap-northeast-2-419974056037/train-pipeline-model-19/code/eabace17c9345271cf901107138b46a8/sourcedir.tar.gz\n",
      "INFO:sagemaker.processing:runproc.sh uploaded to s3://sagemaker-ap-northeast-2-419974056037/train-pipeline-model-19/code/1071dadab36d48ed1fba97e2ff137bdf/runproc.sh\n",
      "WARNING:sagemaker.estimator:No finished training job found associated with this estimator. Please make sure this estimator is only used for building workflow config\n",
      "WARNING:sagemaker.workflow._utils:Popping out 'CertifyForMarketplace' from the pipeline definition since it will be overridden in pipeline execution time.\n"
     ]
    },
    {
     "name": "stdout",
     "output_type": "stream",
     "text": [
      "\n",
      "Job Name:  preprocessing-model-19\n",
      "Inputs:  [{'InputName': 'input-1', 'AppManaged': False, 'S3Input': {'S3Uri': 's3://sm-pipeline-multi-models-datasets/model-19/amazon_reviews_us_Electronics_v1_00.tsv.gz', 'LocalPath': '/opt/ml/processing/input', 'S3DataType': 'S3Prefix', 'S3InputMode': 'File', 'S3DataDistributionType': 'FullyReplicated', 'S3CompressionType': 'None'}}, {'InputName': 'requirements', 'AppManaged': False, 'S3Input': {'S3Uri': 's3://sagemaker-ap-northeast-2-419974056037/preprocessing-model-19/input/requirements/requirements.txt', 'LocalPath': '/opt/ml/processing/input/requirements', 'S3DataType': 'S3Prefix', 'S3InputMode': 'File', 'S3DataDistributionType': 'FullyReplicated', 'S3CompressionType': 'None'}}, {'InputName': 'code', 'AppManaged': False, 'S3Input': {'S3Uri': 's3://sagemaker-ap-northeast-2-419974056037/train-pipeline-model-19/code/2b3c51df48188408561910efa21ddc30/preprocessing.py', 'LocalPath': '/opt/ml/processing/input/code', 'S3DataType': 'S3Prefix', 'S3InputMode': 'File', 'S3DataDistributionType': 'FullyReplicated', 'S3CompressionType': 'None'}}]\n",
      "Outputs:  [{'OutputName': 'train_data', 'AppManaged': False, 'S3Output': {'S3Uri': Join(on='/', values=['s3://sagemaker-ap-northeast-2-419974056037', 'train-pipeline-model-19', <sagemaker.workflow.execution_variables.ExecutionVariable object at 0x7f518847a3a0>, 'train_data']), 'LocalPath': '/opt/ml/processing/output/train', 'S3UploadMode': 'EndOfJob'}}, {'OutputName': 'validation_data', 'AppManaged': False, 'S3Output': {'S3Uri': Join(on='/', values=['s3://sagemaker-ap-northeast-2-419974056037', 'train-pipeline-model-19', <sagemaker.workflow.execution_variables.ExecutionVariable object at 0x7f518847a3a0>, 'validation_data']), 'LocalPath': '/opt/ml/processing/output/validation', 'S3UploadMode': 'EndOfJob'}}, {'OutputName': 'test_data', 'AppManaged': False, 'S3Output': {'S3Uri': Join(on='/', values=['s3://sagemaker-ap-northeast-2-419974056037', 'train-pipeline-model-19', <sagemaker.workflow.execution_variables.ExecutionVariable object at 0x7f518847a3a0>, 'test_data']), 'LocalPath': '/opt/ml/processing/output/test', 'S3UploadMode': 'EndOfJob'}}]\n",
      "\n",
      "Job Name:  evaluation\n",
      "Inputs:  [{'InputName': 'input-1', 'AppManaged': False, 'S3Input': {'S3Uri': <sagemaker.workflow.properties.Properties object at 0x7f518532ec10>, 'LocalPath': '/opt/ml/processing/model', 'S3DataType': 'S3Prefix', 'S3InputMode': 'File', 'S3DataDistributionType': 'FullyReplicated', 'S3CompressionType': 'None'}}, {'InputName': 'input-2', 'AppManaged': False, 'S3Input': {'S3Uri': <sagemaker.workflow.properties.Properties object at 0x7f51856972b0>, 'LocalPath': '/opt/ml/processing/test', 'S3DataType': 'S3Prefix', 'S3InputMode': 'File', 'S3DataDistributionType': 'FullyReplicated', 'S3CompressionType': 'None'}}, {'InputName': 'code', 'AppManaged': False, 'S3Input': {'S3Uri': 's3://sagemaker-ap-northeast-2-419974056037/train-pipeline-model-19/code/eabace17c9345271cf901107138b46a8/sourcedir.tar.gz', 'LocalPath': '/opt/ml/processing/input/code/', 'S3DataType': 'S3Prefix', 'S3InputMode': 'File', 'S3DataDistributionType': 'FullyReplicated', 'S3CompressionType': 'None'}}, {'InputName': 'entrypoint', 'AppManaged': False, 'S3Input': {'S3Uri': 's3://sagemaker-ap-northeast-2-419974056037/train-pipeline-model-19/code/1071dadab36d48ed1fba97e2ff137bdf/runproc.sh', 'LocalPath': '/opt/ml/processing/input/entrypoint', 'S3DataType': 'S3Prefix', 'S3InputMode': 'File', 'S3DataDistributionType': 'FullyReplicated', 'S3CompressionType': 'None'}}]\n",
      "Outputs:  [{'OutputName': 'evaluation-metrics', 'AppManaged': False, 'S3Output': {'S3Uri': Join(on='/', values=['s3://sagemaker-ap-northeast-2-419974056037', 'train-pipeline-model-19', <sagemaker.workflow.execution_variables.ExecutionVariable object at 0x7f518847a3a0>, 'evaluation-metrics']), 'LocalPath': '/opt/ml/processing/evaluation', 'S3UploadMode': 'EndOfJob'}}]\n",
      "  \n",
      "== PipeLine Execution info.==\n",
      "{'PipelineArn': 'arn:aws:sagemaker:ap-northeast-2:419974056037:pipeline/train-pipeline-model-19', 'PipelineExecutionArn': 'arn:aws:sagemaker:ap-northeast-2:419974056037:pipeline/train-pipeline-model-19/execution/4y4zrs93uw9k', 'PipelineExecutionDisplayName': 'execution-1674699109482', 'PipelineExecutionStatus': 'Executing', 'CreationTime': datetime.datetime(2023, 1, 26, 2, 11, 49, 364000, tzinfo=tzlocal()), 'LastModifiedTime': datetime.datetime(2023, 1, 26, 2, 11, 49, 364000, tzinfo=tzlocal()), 'CreatedBy': {}, 'LastModifiedBy': {}, 'ResponseMetadata': {'RequestId': '2abcfd29-f7ef-4e13-a917-46ca56acc14a', 'HTTPStatusCode': 200, 'HTTPHeaders': {'x-amzn-requestid': '2abcfd29-f7ef-4e13-a917-46ca56acc14a', 'content-type': 'application/x-amz-json-1.1', 'content-length': '421', 'date': 'Thu, 26 Jan 2023 02:11:48 GMT'}, 'RetryAttempts': 0}}\n",
      "========================== \n",
      "\n"
     ]
    },
    {
     "name": "stderr",
     "output_type": "stream",
     "text": [
      "INFO:sagemaker.image_uris:Same images used for training and inference. Defaulting to image scope: inference.\n",
      "INFO:sagemaker.image_uris:Defaulting to the only supported framework/algorithm version: 1.\n",
      "INFO:sagemaker.image_uris:Ignoring unnecessary instance type: None.\n",
      "INFO:sagemaker.image_uris:Defaulting to only available Python version: py3\n"
     ]
    },
    {
     "name": "stdout",
     "output_type": "stream",
     "text": [
      "MODEL-NAME: model-20\n",
      "  Account-ID: 419974056037, \n",
      "  Region: ap-northeast-2, \n",
      "  Role: arn:aws:iam::419974056037:role/service-role/AmazonSageMaker-ExecutionRole-20221004T162466, \n",
      "  Default_bucket: sagemaker-ap-northeast-2-419974056037\n",
      "  pipeline_session: <sagemaker.workflow.pipeline_context.PipelineSession object at 0x7f5185695f70>\n",
      "  \n",
      "== Preprocessing Step ==\n"
     ]
    },
    {
     "name": "stderr",
     "output_type": "stream",
     "text": [
      "INFO:sagemaker.image_uris:image_uri is not presented, retrieving image_uri based on instance_type, framework etc.\n"
     ]
    },
    {
     "name": "stdout",
     "output_type": "stream",
     "text": [
      "\n",
      "Job Name:  preprocessing-model-20\n",
      "Inputs:  [{'InputName': 'input-1', 'AppManaged': False, 'S3Input': {'S3Uri': 's3://sm-pipeline-multi-models-datasets/model-20/amazon_reviews_us_Electronics_v1_00.tsv.gz', 'LocalPath': '/opt/ml/processing/input', 'S3DataType': 'S3Prefix', 'S3InputMode': 'File', 'S3DataDistributionType': 'FullyReplicated', 'S3CompressionType': 'None'}}, {'InputName': 'requirements', 'AppManaged': False, 'S3Input': {'S3Uri': 's3://sagemaker-ap-northeast-2-419974056037/preprocessing-model-20/input/requirements/requirements.txt', 'LocalPath': '/opt/ml/processing/input/requirements', 'S3DataType': 'S3Prefix', 'S3InputMode': 'File', 'S3DataDistributionType': 'FullyReplicated', 'S3CompressionType': 'None'}}, {'InputName': 'code', 'AppManaged': False, 'S3Input': {'S3Uri': 's3://sagemaker-ap-northeast-2-419974056037/preprocessing-model-20/input/code/preprocessing.py', 'LocalPath': '/opt/ml/processing/input/code', 'S3DataType': 'S3Prefix', 'S3InputMode': 'File', 'S3DataDistributionType': 'FullyReplicated', 'S3CompressionType': 'None'}}]\n",
      "Outputs:  [{'OutputName': 'train_data', 'AppManaged': False, 'S3Output': {'S3Uri': Join(on='/', values=['s3://sagemaker-ap-northeast-2-419974056037', 'train-pipeline-model-20', <sagemaker.workflow.execution_variables.ExecutionVariable object at 0x7f518847a3a0>, 'train_data']), 'LocalPath': '/opt/ml/processing/output/train', 'S3UploadMode': 'EndOfJob'}}, {'OutputName': 'validation_data', 'AppManaged': False, 'S3Output': {'S3Uri': Join(on='/', values=['s3://sagemaker-ap-northeast-2-419974056037', 'train-pipeline-model-20', <sagemaker.workflow.execution_variables.ExecutionVariable object at 0x7f518847a3a0>, 'validation_data']), 'LocalPath': '/opt/ml/processing/output/validation', 'S3UploadMode': 'EndOfJob'}}, {'OutputName': 'test_data', 'AppManaged': False, 'S3Output': {'S3Uri': Join(on='/', values=['s3://sagemaker-ap-northeast-2-419974056037', 'train-pipeline-model-20', <sagemaker.workflow.execution_variables.ExecutionVariable object at 0x7f518847a3a0>, 'test_data']), 'LocalPath': '/opt/ml/processing/output/test', 'S3UploadMode': 'EndOfJob'}}]\n",
      "   \n",
      "Args:  dict_items([('ProcessingResources', {'ClusterConfig': {'InstanceType': 'ml.m5.xlarge', 'InstanceCount': 1, 'VolumeSizeInGB': 30}}), ('AppSpecification', {'ImageUri': '366743142698.dkr.ecr.ap-northeast-2.amazonaws.com/sagemaker-scikit-learn:0.20.0-cpu-py3', 'ContainerArguments': ['--input_name', 'amazon_reviews_us_Electronics_v1_00.tsv.gz', '--region', 'ap-northeast-2'], 'ContainerEntrypoint': ['python3', '/opt/ml/processing/input/code/preprocessing.py']}), ('RoleArn', 'arn:aws:iam::419974056037:role/service-role/AmazonSageMaker-ExecutionRole-20221004T162466'), ('ProcessingInputs', [{'InputName': 'input-1', 'AppManaged': False, 'S3Input': {'S3Uri': 's3://sm-pipeline-multi-models-datasets/model-20/amazon_reviews_us_Electronics_v1_00.tsv.gz', 'LocalPath': '/opt/ml/processing/input', 'S3DataType': 'S3Prefix', 'S3InputMode': 'File', 'S3DataDistributionType': 'FullyReplicated', 'S3CompressionType': 'None'}}, {'InputName': 'requirements', 'AppManaged': False, 'S3Input': {'S3Uri': 's3://sagemaker-ap-northeast-2-419974056037/preprocessing-model-20/input/requirements/requirements.txt', 'LocalPath': '/opt/ml/processing/input/requirements', 'S3DataType': 'S3Prefix', 'S3InputMode': 'File', 'S3DataDistributionType': 'FullyReplicated', 'S3CompressionType': 'None'}}, {'InputName': 'code', 'AppManaged': False, 'S3Input': {'S3Uri': 's3://sagemaker-ap-northeast-2-419974056037/preprocessing-model-20/input/code/preprocessing.py', 'LocalPath': '/opt/ml/processing/input/code', 'S3DataType': 'S3Prefix', 'S3InputMode': 'File', 'S3DataDistributionType': 'FullyReplicated', 'S3CompressionType': 'None'}}]), ('ProcessingOutputConfig', {'Outputs': [{'OutputName': 'train_data', 'AppManaged': False, 'S3Output': {'S3Uri': Join(on='/', values=['s3://sagemaker-ap-northeast-2-419974056037', 'train-pipeline-model-20', <sagemaker.workflow.execution_variables.ExecutionVariable object at 0x7f518847a3a0>, 'train_data']), 'LocalPath': '/opt/ml/processing/output/train', 'S3UploadMode': 'EndOfJob'}}, {'OutputName': 'validation_data', 'AppManaged': False, 'S3Output': {'S3Uri': Join(on='/', values=['s3://sagemaker-ap-northeast-2-419974056037', 'train-pipeline-model-20', <sagemaker.workflow.execution_variables.ExecutionVariable object at 0x7f518847a3a0>, 'validation_data']), 'LocalPath': '/opt/ml/processing/output/validation', 'S3UploadMode': 'EndOfJob'}}, {'OutputName': 'test_data', 'AppManaged': False, 'S3Output': {'S3Uri': Join(on='/', values=['s3://sagemaker-ap-northeast-2-419974056037', 'train-pipeline-model-20', <sagemaker.workflow.execution_variables.ExecutionVariable object at 0x7f518847a3a0>, 'test_data']), 'LocalPath': '/opt/ml/processing/output/test', 'S3UploadMode': 'EndOfJob'}}]})])\n",
      "  \n",
      "== Training Step ==\n",
      "   \n",
      "Args:  dict_items([('AlgorithmSpecification', {'TrainingInputMode': 'File', 'TrainingImage': '306986355934.dkr.ecr.ap-northeast-2.amazonaws.com/blazingtext:1'}), ('OutputDataConfig', {'S3OutputPath': Join(on='/', values=['s3://sagemaker-ap-northeast-2-419974056037', 'train-pipeline-model-20'])}), ('StoppingCondition', {'MaxRuntimeInSeconds': 360000}), ('ResourceConfig', {'VolumeSizeInGB': 30, 'InstanceCount': 1, 'InstanceType': 'ml.m5.xlarge'}), ('RoleArn', 'arn:aws:iam::419974056037:role/service-role/AmazonSageMaker-ExecutionRole-20221004T162466'), ('InputDataConfig', [{'DataSource': {'S3DataSource': {'S3DataType': 'S3Prefix', 'S3Uri': <sagemaker.workflow.properties.Properties object at 0x7f51852dc760>, 'S3DataDistributionType': 'FullyReplicated'}}, 'ContentType': 'text/csv', 'ChannelName': 'train'}, {'DataSource': {'S3DataSource': {'S3DataType': 'S3Prefix', 'S3Uri': <sagemaker.workflow.properties.Properties object at 0x7f51852dc910>, 'S3DataDistributionType': 'FullyReplicated'}}, 'ContentType': 'text/csv', 'ChannelName': 'validation'}]), ('HyperParameters', {'mode': 'supervised', 'epochs': '10', 'min_epochs': '5', 'early_stopping': 'True', 'patience': '2', 'learning_rate': '0.01', 'min_count': '2', 'word_ngrams': '2', 'vector_dim': '16'}), ('DebugHookConfig', {'S3OutputPath': Join(on='/', values=['s3://sagemaker-ap-northeast-2-419974056037', 'train-pipeline-model-20']), 'CollectionConfigurations': []}), ('ProfilerConfig', {'S3OutputPath': Join(on='/', values=['s3://sagemaker-ap-northeast-2-419974056037', 'train-pipeline-model-20']), 'DisableProfiler': False})])\n",
      "  \n",
      "== Evaluation Step ==\n"
     ]
    },
    {
     "name": "stderr",
     "output_type": "stream",
     "text": [
      "INFO:sagemaker.processing:Uploaded ./sources/ to s3://sagemaker-ap-northeast-2-419974056037/evaluation/source/sourcedir.tar.gz\n",
      "INFO:sagemaker.processing:runproc.sh uploaded to s3://sagemaker-ap-northeast-2-419974056037/evaluation/source/runproc.sh\n"
     ]
    },
    {
     "name": "stdout",
     "output_type": "stream",
     "text": [
      "\n",
      "Job Name:  evaluation\n",
      "Inputs:  [{'InputName': 'input-1', 'AppManaged': False, 'S3Input': {'S3Uri': <sagemaker.workflow.properties.Properties object at 0x7f5185270e80>, 'LocalPath': '/opt/ml/processing/model', 'S3DataType': 'S3Prefix', 'S3InputMode': 'File', 'S3DataDistributionType': 'FullyReplicated', 'S3CompressionType': 'None'}}, {'InputName': 'input-2', 'AppManaged': False, 'S3Input': {'S3Uri': <sagemaker.workflow.properties.Properties object at 0x7f5184fda8b0>, 'LocalPath': '/opt/ml/processing/test', 'S3DataType': 'S3Prefix', 'S3InputMode': 'File', 'S3DataDistributionType': 'FullyReplicated', 'S3CompressionType': 'None'}}, {'InputName': 'code', 'AppManaged': False, 'S3Input': {'S3Uri': 's3://sagemaker-ap-northeast-2-419974056037/evaluation/source/sourcedir.tar.gz', 'LocalPath': '/opt/ml/processing/input/code/', 'S3DataType': 'S3Prefix', 'S3InputMode': 'File', 'S3DataDistributionType': 'FullyReplicated', 'S3CompressionType': 'None'}}, {'InputName': 'entrypoint', 'AppManaged': False, 'S3Input': {'S3Uri': 's3://sagemaker-ap-northeast-2-419974056037/evaluation/source/runproc.sh', 'LocalPath': '/opt/ml/processing/input/entrypoint', 'S3DataType': 'S3Prefix', 'S3InputMode': 'File', 'S3DataDistributionType': 'FullyReplicated', 'S3CompressionType': 'None'}}]\n",
      "Outputs:  [{'OutputName': 'evaluation-metrics', 'AppManaged': False, 'S3Output': {'S3Uri': Join(on='/', values=['s3://sagemaker-ap-northeast-2-419974056037', 'train-pipeline-model-20', <sagemaker.workflow.execution_variables.ExecutionVariable object at 0x7f518847a3a0>, 'evaluation-metrics']), 'LocalPath': '/opt/ml/processing/evaluation', 'S3UploadMode': 'EndOfJob'}}]\n",
      "   \n",
      "Args:  dict_items([('ProcessingResources', {'ClusterConfig': {'InstanceType': 'ml.g4dn.xlarge', 'InstanceCount': 1, 'VolumeSizeInGB': 30}}), ('AppSpecification', {'ImageUri': '763104351884.dkr.ecr.ap-northeast-2.amazonaws.com/tensorflow-training:2.3-gpu-py37', 'ContainerArguments': ['--s3_model_path', <sagemaker.workflow.properties.Properties object at 0x7f5185270e80>, '--region', 'ap-northeast-2', '--model_name', 'model-20'], 'ContainerEntrypoint': ['/bin/bash', '/opt/ml/processing/input/entrypoint/runproc.sh']}), ('RoleArn', 'arn:aws:iam::419974056037:role/service-role/AmazonSageMaker-ExecutionRole-20221004T162466'), ('ProcessingInputs', [{'InputName': 'input-1', 'AppManaged': False, 'S3Input': {'S3Uri': <sagemaker.workflow.properties.Properties object at 0x7f5185270e80>, 'LocalPath': '/opt/ml/processing/model', 'S3DataType': 'S3Prefix', 'S3InputMode': 'File', 'S3DataDistributionType': 'FullyReplicated', 'S3CompressionType': 'None'}}, {'InputName': 'input-2', 'AppManaged': False, 'S3Input': {'S3Uri': <sagemaker.workflow.properties.Properties object at 0x7f5184fda8b0>, 'LocalPath': '/opt/ml/processing/test', 'S3DataType': 'S3Prefix', 'S3InputMode': 'File', 'S3DataDistributionType': 'FullyReplicated', 'S3CompressionType': 'None'}}, {'InputName': 'code', 'AppManaged': False, 'S3Input': {'S3Uri': 's3://sagemaker-ap-northeast-2-419974056037/evaluation/source/sourcedir.tar.gz', 'LocalPath': '/opt/ml/processing/input/code/', 'S3DataType': 'S3Prefix', 'S3InputMode': 'File', 'S3DataDistributionType': 'FullyReplicated', 'S3CompressionType': 'None'}}, {'InputName': 'entrypoint', 'AppManaged': False, 'S3Input': {'S3Uri': 's3://sagemaker-ap-northeast-2-419974056037/evaluation/source/runproc.sh', 'LocalPath': '/opt/ml/processing/input/entrypoint', 'S3DataType': 'S3Prefix', 'S3InputMode': 'File', 'S3DataDistributionType': 'FullyReplicated', 'S3CompressionType': 'None'}}]), ('ProcessingOutputConfig', {'Outputs': [{'OutputName': 'evaluation-metrics', 'AppManaged': False, 'S3Output': {'S3Uri': Join(on='/', values=['s3://sagemaker-ap-northeast-2-419974056037', 'train-pipeline-model-20', <sagemaker.workflow.execution_variables.ExecutionVariable object at 0x7f518847a3a0>, 'evaluation-metrics']), 'LocalPath': '/opt/ml/processing/evaluation', 'S3UploadMode': 'EndOfJob'}}]})])\n",
      "  \n",
      "== Registration Step ==\n"
     ]
    },
    {
     "name": "stderr",
     "output_type": "stream",
     "text": [
      "INFO:sagemaker.processing:Uploaded ./sources/ to s3://sagemaker-ap-northeast-2-419974056037/train-pipeline-model-20/code/eabace17c9345271cf901107138b46a8/sourcedir.tar.gz\n",
      "INFO:sagemaker.processing:runproc.sh uploaded to s3://sagemaker-ap-northeast-2-419974056037/train-pipeline-model-20/code/1071dadab36d48ed1fba97e2ff137bdf/runproc.sh\n",
      "WARNING:sagemaker.estimator:No finished training job found associated with this estimator. Please make sure this estimator is only used for building workflow config\n",
      "WARNING:sagemaker.workflow._utils:Popping out 'CertifyForMarketplace' from the pipeline definition since it will be overridden in pipeline execution time.\n"
     ]
    },
    {
     "name": "stdout",
     "output_type": "stream",
     "text": [
      "\n",
      "Job Name:  preprocessing-model-20\n",
      "Inputs:  [{'InputName': 'input-1', 'AppManaged': False, 'S3Input': {'S3Uri': 's3://sm-pipeline-multi-models-datasets/model-20/amazon_reviews_us_Electronics_v1_00.tsv.gz', 'LocalPath': '/opt/ml/processing/input', 'S3DataType': 'S3Prefix', 'S3InputMode': 'File', 'S3DataDistributionType': 'FullyReplicated', 'S3CompressionType': 'None'}}, {'InputName': 'requirements', 'AppManaged': False, 'S3Input': {'S3Uri': 's3://sagemaker-ap-northeast-2-419974056037/preprocessing-model-20/input/requirements/requirements.txt', 'LocalPath': '/opt/ml/processing/input/requirements', 'S3DataType': 'S3Prefix', 'S3InputMode': 'File', 'S3DataDistributionType': 'FullyReplicated', 'S3CompressionType': 'None'}}, {'InputName': 'code', 'AppManaged': False, 'S3Input': {'S3Uri': 's3://sagemaker-ap-northeast-2-419974056037/train-pipeline-model-20/code/2b3c51df48188408561910efa21ddc30/preprocessing.py', 'LocalPath': '/opt/ml/processing/input/code', 'S3DataType': 'S3Prefix', 'S3InputMode': 'File', 'S3DataDistributionType': 'FullyReplicated', 'S3CompressionType': 'None'}}]\n",
      "Outputs:  [{'OutputName': 'train_data', 'AppManaged': False, 'S3Output': {'S3Uri': Join(on='/', values=['s3://sagemaker-ap-northeast-2-419974056037', 'train-pipeline-model-20', <sagemaker.workflow.execution_variables.ExecutionVariable object at 0x7f518847a3a0>, 'train_data']), 'LocalPath': '/opt/ml/processing/output/train', 'S3UploadMode': 'EndOfJob'}}, {'OutputName': 'validation_data', 'AppManaged': False, 'S3Output': {'S3Uri': Join(on='/', values=['s3://sagemaker-ap-northeast-2-419974056037', 'train-pipeline-model-20', <sagemaker.workflow.execution_variables.ExecutionVariable object at 0x7f518847a3a0>, 'validation_data']), 'LocalPath': '/opt/ml/processing/output/validation', 'S3UploadMode': 'EndOfJob'}}, {'OutputName': 'test_data', 'AppManaged': False, 'S3Output': {'S3Uri': Join(on='/', values=['s3://sagemaker-ap-northeast-2-419974056037', 'train-pipeline-model-20', <sagemaker.workflow.execution_variables.ExecutionVariable object at 0x7f518847a3a0>, 'test_data']), 'LocalPath': '/opt/ml/processing/output/test', 'S3UploadMode': 'EndOfJob'}}]\n",
      "\n",
      "Job Name:  evaluation\n",
      "Inputs:  [{'InputName': 'input-1', 'AppManaged': False, 'S3Input': {'S3Uri': <sagemaker.workflow.properties.Properties object at 0x7f5185270e80>, 'LocalPath': '/opt/ml/processing/model', 'S3DataType': 'S3Prefix', 'S3InputMode': 'File', 'S3DataDistributionType': 'FullyReplicated', 'S3CompressionType': 'None'}}, {'InputName': 'input-2', 'AppManaged': False, 'S3Input': {'S3Uri': <sagemaker.workflow.properties.Properties object at 0x7f5184fda8b0>, 'LocalPath': '/opt/ml/processing/test', 'S3DataType': 'S3Prefix', 'S3InputMode': 'File', 'S3DataDistributionType': 'FullyReplicated', 'S3CompressionType': 'None'}}, {'InputName': 'code', 'AppManaged': False, 'S3Input': {'S3Uri': 's3://sagemaker-ap-northeast-2-419974056037/train-pipeline-model-20/code/eabace17c9345271cf901107138b46a8/sourcedir.tar.gz', 'LocalPath': '/opt/ml/processing/input/code/', 'S3DataType': 'S3Prefix', 'S3InputMode': 'File', 'S3DataDistributionType': 'FullyReplicated', 'S3CompressionType': 'None'}}, {'InputName': 'entrypoint', 'AppManaged': False, 'S3Input': {'S3Uri': 's3://sagemaker-ap-northeast-2-419974056037/train-pipeline-model-20/code/1071dadab36d48ed1fba97e2ff137bdf/runproc.sh', 'LocalPath': '/opt/ml/processing/input/entrypoint', 'S3DataType': 'S3Prefix', 'S3InputMode': 'File', 'S3DataDistributionType': 'FullyReplicated', 'S3CompressionType': 'None'}}]\n",
      "Outputs:  [{'OutputName': 'evaluation-metrics', 'AppManaged': False, 'S3Output': {'S3Uri': Join(on='/', values=['s3://sagemaker-ap-northeast-2-419974056037', 'train-pipeline-model-20', <sagemaker.workflow.execution_variables.ExecutionVariable object at 0x7f518847a3a0>, 'evaluation-metrics']), 'LocalPath': '/opt/ml/processing/evaluation', 'S3UploadMode': 'EndOfJob'}}]\n",
      "  \n",
      "== PipeLine Execution info.==\n",
      "{'PipelineArn': 'arn:aws:sagemaker:ap-northeast-2:419974056037:pipeline/train-pipeline-model-20', 'PipelineExecutionArn': 'arn:aws:sagemaker:ap-northeast-2:419974056037:pipeline/train-pipeline-model-20/execution/pr6oxbtzt51r', 'PipelineExecutionDisplayName': 'execution-1674699111206', 'PipelineExecutionStatus': 'Executing', 'CreationTime': datetime.datetime(2023, 1, 26, 2, 11, 51, 132000, tzinfo=tzlocal()), 'LastModifiedTime': datetime.datetime(2023, 1, 26, 2, 11, 51, 132000, tzinfo=tzlocal()), 'CreatedBy': {}, 'LastModifiedBy': {}, 'ResponseMetadata': {'RequestId': '5a2caa8e-52b5-4b86-9d15-f9449f90f020', 'HTTPStatusCode': 200, 'HTTPHeaders': {'x-amzn-requestid': '5a2caa8e-52b5-4b86-9d15-f9449f90f020', 'content-type': 'application/x-amz-json-1.1', 'content-length': '421', 'date': 'Thu, 26 Jan 2023 02:11:50 GMT'}, 'RetryAttempts': 0}}\n",
      "========================== \n",
      "\n"
     ]
    },
    {
     "name": "stderr",
     "output_type": "stream",
     "text": [
      "INFO:sagemaker.image_uris:Same images used for training and inference. Defaulting to image scope: inference.\n",
      "INFO:sagemaker.image_uris:Defaulting to the only supported framework/algorithm version: 1.\n",
      "INFO:sagemaker.image_uris:Ignoring unnecessary instance type: None.\n",
      "INFO:sagemaker.image_uris:Defaulting to only available Python version: py3\n"
     ]
    },
    {
     "name": "stdout",
     "output_type": "stream",
     "text": [
      "MODEL-NAME: model-21\n",
      "  Account-ID: 419974056037, \n",
      "  Region: ap-northeast-2, \n",
      "  Role: arn:aws:iam::419974056037:role/service-role/AmazonSageMaker-ExecutionRole-20221004T162466, \n",
      "  Default_bucket: sagemaker-ap-northeast-2-419974056037\n",
      "  pipeline_session: <sagemaker.workflow.pipeline_context.PipelineSession object at 0x7f5185ad43a0>\n",
      "  \n",
      "== Preprocessing Step ==\n"
     ]
    },
    {
     "name": "stderr",
     "output_type": "stream",
     "text": [
      "INFO:sagemaker.image_uris:image_uri is not presented, retrieving image_uri based on instance_type, framework etc.\n",
      "INFO:sagemaker.processing:Uploaded ./sources/ to s3://sagemaker-ap-northeast-2-419974056037/evaluation/source/sourcedir.tar.gz\n",
      "INFO:sagemaker.processing:runproc.sh uploaded to s3://sagemaker-ap-northeast-2-419974056037/evaluation/source/runproc.sh\n"
     ]
    },
    {
     "name": "stdout",
     "output_type": "stream",
     "text": [
      "\n",
      "Job Name:  preprocessing-model-21\n",
      "Inputs:  [{'InputName': 'input-1', 'AppManaged': False, 'S3Input': {'S3Uri': 's3://sm-pipeline-multi-models-datasets/model-21/amazon_reviews_us_Electronics_v1_00.tsv.gz', 'LocalPath': '/opt/ml/processing/input', 'S3DataType': 'S3Prefix', 'S3InputMode': 'File', 'S3DataDistributionType': 'FullyReplicated', 'S3CompressionType': 'None'}}, {'InputName': 'requirements', 'AppManaged': False, 'S3Input': {'S3Uri': 's3://sagemaker-ap-northeast-2-419974056037/preprocessing-model-21/input/requirements/requirements.txt', 'LocalPath': '/opt/ml/processing/input/requirements', 'S3DataType': 'S3Prefix', 'S3InputMode': 'File', 'S3DataDistributionType': 'FullyReplicated', 'S3CompressionType': 'None'}}, {'InputName': 'code', 'AppManaged': False, 'S3Input': {'S3Uri': 's3://sagemaker-ap-northeast-2-419974056037/preprocessing-model-21/input/code/preprocessing.py', 'LocalPath': '/opt/ml/processing/input/code', 'S3DataType': 'S3Prefix', 'S3InputMode': 'File', 'S3DataDistributionType': 'FullyReplicated', 'S3CompressionType': 'None'}}]\n",
      "Outputs:  [{'OutputName': 'train_data', 'AppManaged': False, 'S3Output': {'S3Uri': Join(on='/', values=['s3://sagemaker-ap-northeast-2-419974056037', 'train-pipeline-model-21', <sagemaker.workflow.execution_variables.ExecutionVariable object at 0x7f518847a3a0>, 'train_data']), 'LocalPath': '/opt/ml/processing/output/train', 'S3UploadMode': 'EndOfJob'}}, {'OutputName': 'validation_data', 'AppManaged': False, 'S3Output': {'S3Uri': Join(on='/', values=['s3://sagemaker-ap-northeast-2-419974056037', 'train-pipeline-model-21', <sagemaker.workflow.execution_variables.ExecutionVariable object at 0x7f518847a3a0>, 'validation_data']), 'LocalPath': '/opt/ml/processing/output/validation', 'S3UploadMode': 'EndOfJob'}}, {'OutputName': 'test_data', 'AppManaged': False, 'S3Output': {'S3Uri': Join(on='/', values=['s3://sagemaker-ap-northeast-2-419974056037', 'train-pipeline-model-21', <sagemaker.workflow.execution_variables.ExecutionVariable object at 0x7f518847a3a0>, 'test_data']), 'LocalPath': '/opt/ml/processing/output/test', 'S3UploadMode': 'EndOfJob'}}]\n",
      "   \n",
      "Args:  dict_items([('ProcessingResources', {'ClusterConfig': {'InstanceType': 'ml.m5.xlarge', 'InstanceCount': 1, 'VolumeSizeInGB': 30}}), ('AppSpecification', {'ImageUri': '366743142698.dkr.ecr.ap-northeast-2.amazonaws.com/sagemaker-scikit-learn:0.20.0-cpu-py3', 'ContainerArguments': ['--input_name', 'amazon_reviews_us_Electronics_v1_00.tsv.gz', '--region', 'ap-northeast-2'], 'ContainerEntrypoint': ['python3', '/opt/ml/processing/input/code/preprocessing.py']}), ('RoleArn', 'arn:aws:iam::419974056037:role/service-role/AmazonSageMaker-ExecutionRole-20221004T162466'), ('ProcessingInputs', [{'InputName': 'input-1', 'AppManaged': False, 'S3Input': {'S3Uri': 's3://sm-pipeline-multi-models-datasets/model-21/amazon_reviews_us_Electronics_v1_00.tsv.gz', 'LocalPath': '/opt/ml/processing/input', 'S3DataType': 'S3Prefix', 'S3InputMode': 'File', 'S3DataDistributionType': 'FullyReplicated', 'S3CompressionType': 'None'}}, {'InputName': 'requirements', 'AppManaged': False, 'S3Input': {'S3Uri': 's3://sagemaker-ap-northeast-2-419974056037/preprocessing-model-21/input/requirements/requirements.txt', 'LocalPath': '/opt/ml/processing/input/requirements', 'S3DataType': 'S3Prefix', 'S3InputMode': 'File', 'S3DataDistributionType': 'FullyReplicated', 'S3CompressionType': 'None'}}, {'InputName': 'code', 'AppManaged': False, 'S3Input': {'S3Uri': 's3://sagemaker-ap-northeast-2-419974056037/preprocessing-model-21/input/code/preprocessing.py', 'LocalPath': '/opt/ml/processing/input/code', 'S3DataType': 'S3Prefix', 'S3InputMode': 'File', 'S3DataDistributionType': 'FullyReplicated', 'S3CompressionType': 'None'}}]), ('ProcessingOutputConfig', {'Outputs': [{'OutputName': 'train_data', 'AppManaged': False, 'S3Output': {'S3Uri': Join(on='/', values=['s3://sagemaker-ap-northeast-2-419974056037', 'train-pipeline-model-21', <sagemaker.workflow.execution_variables.ExecutionVariable object at 0x7f518847a3a0>, 'train_data']), 'LocalPath': '/opt/ml/processing/output/train', 'S3UploadMode': 'EndOfJob'}}, {'OutputName': 'validation_data', 'AppManaged': False, 'S3Output': {'S3Uri': Join(on='/', values=['s3://sagemaker-ap-northeast-2-419974056037', 'train-pipeline-model-21', <sagemaker.workflow.execution_variables.ExecutionVariable object at 0x7f518847a3a0>, 'validation_data']), 'LocalPath': '/opt/ml/processing/output/validation', 'S3UploadMode': 'EndOfJob'}}, {'OutputName': 'test_data', 'AppManaged': False, 'S3Output': {'S3Uri': Join(on='/', values=['s3://sagemaker-ap-northeast-2-419974056037', 'train-pipeline-model-21', <sagemaker.workflow.execution_variables.ExecutionVariable object at 0x7f518847a3a0>, 'test_data']), 'LocalPath': '/opt/ml/processing/output/test', 'S3UploadMode': 'EndOfJob'}}]})])\n",
      "  \n",
      "== Training Step ==\n",
      "   \n",
      "Args:  dict_items([('AlgorithmSpecification', {'TrainingInputMode': 'File', 'TrainingImage': '306986355934.dkr.ecr.ap-northeast-2.amazonaws.com/blazingtext:1'}), ('OutputDataConfig', {'S3OutputPath': Join(on='/', values=['s3://sagemaker-ap-northeast-2-419974056037', 'train-pipeline-model-21'])}), ('StoppingCondition', {'MaxRuntimeInSeconds': 360000}), ('ResourceConfig', {'VolumeSizeInGB': 30, 'InstanceCount': 1, 'InstanceType': 'ml.m5.xlarge'}), ('RoleArn', 'arn:aws:iam::419974056037:role/service-role/AmazonSageMaker-ExecutionRole-20221004T162466'), ('InputDataConfig', [{'DataSource': {'S3DataSource': {'S3DataType': 'S3Prefix', 'S3Uri': <sagemaker.workflow.properties.Properties object at 0x7f51874f7550>, 'S3DataDistributionType': 'FullyReplicated'}}, 'ContentType': 'text/csv', 'ChannelName': 'train'}, {'DataSource': {'S3DataSource': {'S3DataType': 'S3Prefix', 'S3Uri': <sagemaker.workflow.properties.Properties object at 0x7f51874f7970>, 'S3DataDistributionType': 'FullyReplicated'}}, 'ContentType': 'text/csv', 'ChannelName': 'validation'}]), ('HyperParameters', {'mode': 'supervised', 'epochs': '10', 'min_epochs': '5', 'early_stopping': 'True', 'patience': '2', 'learning_rate': '0.01', 'min_count': '2', 'word_ngrams': '2', 'vector_dim': '16'}), ('DebugHookConfig', {'S3OutputPath': Join(on='/', values=['s3://sagemaker-ap-northeast-2-419974056037', 'train-pipeline-model-21']), 'CollectionConfigurations': []}), ('ProfilerConfig', {'S3OutputPath': Join(on='/', values=['s3://sagemaker-ap-northeast-2-419974056037', 'train-pipeline-model-21']), 'DisableProfiler': False})])\n",
      "  \n",
      "== Evaluation Step ==\n",
      "\n",
      "Job Name:  evaluation\n",
      "Inputs:  [{'InputName': 'input-1', 'AppManaged': False, 'S3Input': {'S3Uri': <sagemaker.workflow.properties.Properties object at 0x7f5185115be0>, 'LocalPath': '/opt/ml/processing/model', 'S3DataType': 'S3Prefix', 'S3InputMode': 'File', 'S3DataDistributionType': 'FullyReplicated', 'S3CompressionType': 'None'}}, {'InputName': 'input-2', 'AppManaged': False, 'S3Input': {'S3Uri': <sagemaker.workflow.properties.Properties object at 0x7f5184ea1070>, 'LocalPath': '/opt/ml/processing/test', 'S3DataType': 'S3Prefix', 'S3InputMode': 'File', 'S3DataDistributionType': 'FullyReplicated', 'S3CompressionType': 'None'}}, {'InputName': 'code', 'AppManaged': False, 'S3Input': {'S3Uri': 's3://sagemaker-ap-northeast-2-419974056037/evaluation/source/sourcedir.tar.gz', 'LocalPath': '/opt/ml/processing/input/code/', 'S3DataType': 'S3Prefix', 'S3InputMode': 'File', 'S3DataDistributionType': 'FullyReplicated', 'S3CompressionType': 'None'}}, {'InputName': 'entrypoint', 'AppManaged': False, 'S3Input': {'S3Uri': 's3://sagemaker-ap-northeast-2-419974056037/evaluation/source/runproc.sh', 'LocalPath': '/opt/ml/processing/input/entrypoint', 'S3DataType': 'S3Prefix', 'S3InputMode': 'File', 'S3DataDistributionType': 'FullyReplicated', 'S3CompressionType': 'None'}}]\n",
      "Outputs:  [{'OutputName': 'evaluation-metrics', 'AppManaged': False, 'S3Output': {'S3Uri': Join(on='/', values=['s3://sagemaker-ap-northeast-2-419974056037', 'train-pipeline-model-21', <sagemaker.workflow.execution_variables.ExecutionVariable object at 0x7f518847a3a0>, 'evaluation-metrics']), 'LocalPath': '/opt/ml/processing/evaluation', 'S3UploadMode': 'EndOfJob'}}]\n",
      "   \n",
      "Args:  dict_items([('ProcessingResources', {'ClusterConfig': {'InstanceType': 'ml.g4dn.xlarge', 'InstanceCount': 1, 'VolumeSizeInGB': 30}}), ('AppSpecification', {'ImageUri': '763104351884.dkr.ecr.ap-northeast-2.amazonaws.com/tensorflow-training:2.3-gpu-py37', 'ContainerArguments': ['--s3_model_path', <sagemaker.workflow.properties.Properties object at 0x7f5185115be0>, '--region', 'ap-northeast-2', '--model_name', 'model-21'], 'ContainerEntrypoint': ['/bin/bash', '/opt/ml/processing/input/entrypoint/runproc.sh']}), ('RoleArn', 'arn:aws:iam::419974056037:role/service-role/AmazonSageMaker-ExecutionRole-20221004T162466'), ('ProcessingInputs', [{'InputName': 'input-1', 'AppManaged': False, 'S3Input': {'S3Uri': <sagemaker.workflow.properties.Properties object at 0x7f5185115be0>, 'LocalPath': '/opt/ml/processing/model', 'S3DataType': 'S3Prefix', 'S3InputMode': 'File', 'S3DataDistributionType': 'FullyReplicated', 'S3CompressionType': 'None'}}, {'InputName': 'input-2', 'AppManaged': False, 'S3Input': {'S3Uri': <sagemaker.workflow.properties.Properties object at 0x7f5184ea1070>, 'LocalPath': '/opt/ml/processing/test', 'S3DataType': 'S3Prefix', 'S3InputMode': 'File', 'S3DataDistributionType': 'FullyReplicated', 'S3CompressionType': 'None'}}, {'InputName': 'code', 'AppManaged': False, 'S3Input': {'S3Uri': 's3://sagemaker-ap-northeast-2-419974056037/evaluation/source/sourcedir.tar.gz', 'LocalPath': '/opt/ml/processing/input/code/', 'S3DataType': 'S3Prefix', 'S3InputMode': 'File', 'S3DataDistributionType': 'FullyReplicated', 'S3CompressionType': 'None'}}, {'InputName': 'entrypoint', 'AppManaged': False, 'S3Input': {'S3Uri': 's3://sagemaker-ap-northeast-2-419974056037/evaluation/source/runproc.sh', 'LocalPath': '/opt/ml/processing/input/entrypoint', 'S3DataType': 'S3Prefix', 'S3InputMode': 'File', 'S3DataDistributionType': 'FullyReplicated', 'S3CompressionType': 'None'}}]), ('ProcessingOutputConfig', {'Outputs': [{'OutputName': 'evaluation-metrics', 'AppManaged': False, 'S3Output': {'S3Uri': Join(on='/', values=['s3://sagemaker-ap-northeast-2-419974056037', 'train-pipeline-model-21', <sagemaker.workflow.execution_variables.ExecutionVariable object at 0x7f518847a3a0>, 'evaluation-metrics']), 'LocalPath': '/opt/ml/processing/evaluation', 'S3UploadMode': 'EndOfJob'}}]})])\n",
      "  \n",
      "== Registration Step ==\n"
     ]
    },
    {
     "name": "stderr",
     "output_type": "stream",
     "text": [
      "INFO:sagemaker.processing:Uploaded ./sources/ to s3://sagemaker-ap-northeast-2-419974056037/train-pipeline-model-21/code/eabace17c9345271cf901107138b46a8/sourcedir.tar.gz\n"
     ]
    },
    {
     "name": "stdout",
     "output_type": "stream",
     "text": [
      "\n",
      "Job Name:  preprocessing-model-21\n",
      "Inputs:  [{'InputName': 'input-1', 'AppManaged': False, 'S3Input': {'S3Uri': 's3://sm-pipeline-multi-models-datasets/model-21/amazon_reviews_us_Electronics_v1_00.tsv.gz', 'LocalPath': '/opt/ml/processing/input', 'S3DataType': 'S3Prefix', 'S3InputMode': 'File', 'S3DataDistributionType': 'FullyReplicated', 'S3CompressionType': 'None'}}, {'InputName': 'requirements', 'AppManaged': False, 'S3Input': {'S3Uri': 's3://sagemaker-ap-northeast-2-419974056037/preprocessing-model-21/input/requirements/requirements.txt', 'LocalPath': '/opt/ml/processing/input/requirements', 'S3DataType': 'S3Prefix', 'S3InputMode': 'File', 'S3DataDistributionType': 'FullyReplicated', 'S3CompressionType': 'None'}}, {'InputName': 'code', 'AppManaged': False, 'S3Input': {'S3Uri': 's3://sagemaker-ap-northeast-2-419974056037/train-pipeline-model-21/code/2b3c51df48188408561910efa21ddc30/preprocessing.py', 'LocalPath': '/opt/ml/processing/input/code', 'S3DataType': 'S3Prefix', 'S3InputMode': 'File', 'S3DataDistributionType': 'FullyReplicated', 'S3CompressionType': 'None'}}]\n",
      "Outputs:  [{'OutputName': 'train_data', 'AppManaged': False, 'S3Output': {'S3Uri': Join(on='/', values=['s3://sagemaker-ap-northeast-2-419974056037', 'train-pipeline-model-21', <sagemaker.workflow.execution_variables.ExecutionVariable object at 0x7f518847a3a0>, 'train_data']), 'LocalPath': '/opt/ml/processing/output/train', 'S3UploadMode': 'EndOfJob'}}, {'OutputName': 'validation_data', 'AppManaged': False, 'S3Output': {'S3Uri': Join(on='/', values=['s3://sagemaker-ap-northeast-2-419974056037', 'train-pipeline-model-21', <sagemaker.workflow.execution_variables.ExecutionVariable object at 0x7f518847a3a0>, 'validation_data']), 'LocalPath': '/opt/ml/processing/output/validation', 'S3UploadMode': 'EndOfJob'}}, {'OutputName': 'test_data', 'AppManaged': False, 'S3Output': {'S3Uri': Join(on='/', values=['s3://sagemaker-ap-northeast-2-419974056037', 'train-pipeline-model-21', <sagemaker.workflow.execution_variables.ExecutionVariable object at 0x7f518847a3a0>, 'test_data']), 'LocalPath': '/opt/ml/processing/output/test', 'S3UploadMode': 'EndOfJob'}}]\n"
     ]
    },
    {
     "name": "stderr",
     "output_type": "stream",
     "text": [
      "INFO:sagemaker.processing:runproc.sh uploaded to s3://sagemaker-ap-northeast-2-419974056037/train-pipeline-model-21/code/1071dadab36d48ed1fba97e2ff137bdf/runproc.sh\n",
      "WARNING:sagemaker.estimator:No finished training job found associated with this estimator. Please make sure this estimator is only used for building workflow config\n",
      "WARNING:sagemaker.workflow._utils:Popping out 'CertifyForMarketplace' from the pipeline definition since it will be overridden in pipeline execution time.\n"
     ]
    },
    {
     "name": "stdout",
     "output_type": "stream",
     "text": [
      "\n",
      "Job Name:  evaluation\n",
      "Inputs:  [{'InputName': 'input-1', 'AppManaged': False, 'S3Input': {'S3Uri': <sagemaker.workflow.properties.Properties object at 0x7f5185115be0>, 'LocalPath': '/opt/ml/processing/model', 'S3DataType': 'S3Prefix', 'S3InputMode': 'File', 'S3DataDistributionType': 'FullyReplicated', 'S3CompressionType': 'None'}}, {'InputName': 'input-2', 'AppManaged': False, 'S3Input': {'S3Uri': <sagemaker.workflow.properties.Properties object at 0x7f5184ea1070>, 'LocalPath': '/opt/ml/processing/test', 'S3DataType': 'S3Prefix', 'S3InputMode': 'File', 'S3DataDistributionType': 'FullyReplicated', 'S3CompressionType': 'None'}}, {'InputName': 'code', 'AppManaged': False, 'S3Input': {'S3Uri': 's3://sagemaker-ap-northeast-2-419974056037/train-pipeline-model-21/code/eabace17c9345271cf901107138b46a8/sourcedir.tar.gz', 'LocalPath': '/opt/ml/processing/input/code/', 'S3DataType': 'S3Prefix', 'S3InputMode': 'File', 'S3DataDistributionType': 'FullyReplicated', 'S3CompressionType': 'None'}}, {'InputName': 'entrypoint', 'AppManaged': False, 'S3Input': {'S3Uri': 's3://sagemaker-ap-northeast-2-419974056037/train-pipeline-model-21/code/1071dadab36d48ed1fba97e2ff137bdf/runproc.sh', 'LocalPath': '/opt/ml/processing/input/entrypoint', 'S3DataType': 'S3Prefix', 'S3InputMode': 'File', 'S3DataDistributionType': 'FullyReplicated', 'S3CompressionType': 'None'}}]\n",
      "Outputs:  [{'OutputName': 'evaluation-metrics', 'AppManaged': False, 'S3Output': {'S3Uri': Join(on='/', values=['s3://sagemaker-ap-northeast-2-419974056037', 'train-pipeline-model-21', <sagemaker.workflow.execution_variables.ExecutionVariable object at 0x7f518847a3a0>, 'evaluation-metrics']), 'LocalPath': '/opt/ml/processing/evaluation', 'S3UploadMode': 'EndOfJob'}}]\n",
      "  \n",
      "== PipeLine Execution info.==\n",
      "{'PipelineArn': 'arn:aws:sagemaker:ap-northeast-2:419974056037:pipeline/train-pipeline-model-21', 'PipelineExecutionArn': 'arn:aws:sagemaker:ap-northeast-2:419974056037:pipeline/train-pipeline-model-21/execution/t0obgt6jh897', 'PipelineExecutionDisplayName': 'execution-1674699112952', 'PipelineExecutionStatus': 'Executing', 'CreationTime': datetime.datetime(2023, 1, 26, 2, 11, 52, 847000, tzinfo=tzlocal()), 'LastModifiedTime': datetime.datetime(2023, 1, 26, 2, 11, 52, 847000, tzinfo=tzlocal()), 'CreatedBy': {}, 'LastModifiedBy': {}, 'ResponseMetadata': {'RequestId': 'f3b8bc7a-5c3c-463f-bffc-66a879cc02ba', 'HTTPStatusCode': 200, 'HTTPHeaders': {'x-amzn-requestid': 'f3b8bc7a-5c3c-463f-bffc-66a879cc02ba', 'content-type': 'application/x-amz-json-1.1', 'content-length': '421', 'date': 'Thu, 26 Jan 2023 02:11:52 GMT'}, 'RetryAttempts': 0}}\n",
      "========================== \n",
      "\n"
     ]
    },
    {
     "name": "stderr",
     "output_type": "stream",
     "text": [
      "INFO:sagemaker.image_uris:Same images used for training and inference. Defaulting to image scope: inference.\n",
      "INFO:sagemaker.image_uris:Defaulting to the only supported framework/algorithm version: 1.\n",
      "INFO:sagemaker.image_uris:Ignoring unnecessary instance type: None.\n",
      "INFO:sagemaker.image_uris:Defaulting to only available Python version: py3\n"
     ]
    },
    {
     "name": "stdout",
     "output_type": "stream",
     "text": [
      "MODEL-NAME: model-22\n",
      "  Account-ID: 419974056037, \n",
      "  Region: ap-northeast-2, \n",
      "  Role: arn:aws:iam::419974056037:role/service-role/AmazonSageMaker-ExecutionRole-20221004T162466, \n",
      "  Default_bucket: sagemaker-ap-northeast-2-419974056037\n",
      "  pipeline_session: <sagemaker.workflow.pipeline_context.PipelineSession object at 0x7f51850183a0>\n",
      "  \n",
      "== Preprocessing Step ==\n"
     ]
    },
    {
     "name": "stderr",
     "output_type": "stream",
     "text": [
      "INFO:sagemaker.image_uris:image_uri is not presented, retrieving image_uri based on instance_type, framework etc.\n",
      "INFO:sagemaker.processing:Uploaded ./sources/ to s3://sagemaker-ap-northeast-2-419974056037/evaluation/source/sourcedir.tar.gz\n"
     ]
    },
    {
     "name": "stdout",
     "output_type": "stream",
     "text": [
      "\n",
      "Job Name:  preprocessing-model-22\n",
      "Inputs:  [{'InputName': 'input-1', 'AppManaged': False, 'S3Input': {'S3Uri': 's3://sm-pipeline-multi-models-datasets/model-22/amazon_reviews_us_Electronics_v1_00.tsv.gz', 'LocalPath': '/opt/ml/processing/input', 'S3DataType': 'S3Prefix', 'S3InputMode': 'File', 'S3DataDistributionType': 'FullyReplicated', 'S3CompressionType': 'None'}}, {'InputName': 'requirements', 'AppManaged': False, 'S3Input': {'S3Uri': 's3://sagemaker-ap-northeast-2-419974056037/preprocessing-model-22/input/requirements/requirements.txt', 'LocalPath': '/opt/ml/processing/input/requirements', 'S3DataType': 'S3Prefix', 'S3InputMode': 'File', 'S3DataDistributionType': 'FullyReplicated', 'S3CompressionType': 'None'}}, {'InputName': 'code', 'AppManaged': False, 'S3Input': {'S3Uri': 's3://sagemaker-ap-northeast-2-419974056037/preprocessing-model-22/input/code/preprocessing.py', 'LocalPath': '/opt/ml/processing/input/code', 'S3DataType': 'S3Prefix', 'S3InputMode': 'File', 'S3DataDistributionType': 'FullyReplicated', 'S3CompressionType': 'None'}}]\n",
      "Outputs:  [{'OutputName': 'train_data', 'AppManaged': False, 'S3Output': {'S3Uri': Join(on='/', values=['s3://sagemaker-ap-northeast-2-419974056037', 'train-pipeline-model-22', <sagemaker.workflow.execution_variables.ExecutionVariable object at 0x7f518847a3a0>, 'train_data']), 'LocalPath': '/opt/ml/processing/output/train', 'S3UploadMode': 'EndOfJob'}}, {'OutputName': 'validation_data', 'AppManaged': False, 'S3Output': {'S3Uri': Join(on='/', values=['s3://sagemaker-ap-northeast-2-419974056037', 'train-pipeline-model-22', <sagemaker.workflow.execution_variables.ExecutionVariable object at 0x7f518847a3a0>, 'validation_data']), 'LocalPath': '/opt/ml/processing/output/validation', 'S3UploadMode': 'EndOfJob'}}, {'OutputName': 'test_data', 'AppManaged': False, 'S3Output': {'S3Uri': Join(on='/', values=['s3://sagemaker-ap-northeast-2-419974056037', 'train-pipeline-model-22', <sagemaker.workflow.execution_variables.ExecutionVariable object at 0x7f518847a3a0>, 'test_data']), 'LocalPath': '/opt/ml/processing/output/test', 'S3UploadMode': 'EndOfJob'}}]\n",
      "   \n",
      "Args:  dict_items([('ProcessingResources', {'ClusterConfig': {'InstanceType': 'ml.m5.xlarge', 'InstanceCount': 1, 'VolumeSizeInGB': 30}}), ('AppSpecification', {'ImageUri': '366743142698.dkr.ecr.ap-northeast-2.amazonaws.com/sagemaker-scikit-learn:0.20.0-cpu-py3', 'ContainerArguments': ['--input_name', 'amazon_reviews_us_Electronics_v1_00.tsv.gz', '--region', 'ap-northeast-2'], 'ContainerEntrypoint': ['python3', '/opt/ml/processing/input/code/preprocessing.py']}), ('RoleArn', 'arn:aws:iam::419974056037:role/service-role/AmazonSageMaker-ExecutionRole-20221004T162466'), ('ProcessingInputs', [{'InputName': 'input-1', 'AppManaged': False, 'S3Input': {'S3Uri': 's3://sm-pipeline-multi-models-datasets/model-22/amazon_reviews_us_Electronics_v1_00.tsv.gz', 'LocalPath': '/opt/ml/processing/input', 'S3DataType': 'S3Prefix', 'S3InputMode': 'File', 'S3DataDistributionType': 'FullyReplicated', 'S3CompressionType': 'None'}}, {'InputName': 'requirements', 'AppManaged': False, 'S3Input': {'S3Uri': 's3://sagemaker-ap-northeast-2-419974056037/preprocessing-model-22/input/requirements/requirements.txt', 'LocalPath': '/opt/ml/processing/input/requirements', 'S3DataType': 'S3Prefix', 'S3InputMode': 'File', 'S3DataDistributionType': 'FullyReplicated', 'S3CompressionType': 'None'}}, {'InputName': 'code', 'AppManaged': False, 'S3Input': {'S3Uri': 's3://sagemaker-ap-northeast-2-419974056037/preprocessing-model-22/input/code/preprocessing.py', 'LocalPath': '/opt/ml/processing/input/code', 'S3DataType': 'S3Prefix', 'S3InputMode': 'File', 'S3DataDistributionType': 'FullyReplicated', 'S3CompressionType': 'None'}}]), ('ProcessingOutputConfig', {'Outputs': [{'OutputName': 'train_data', 'AppManaged': False, 'S3Output': {'S3Uri': Join(on='/', values=['s3://sagemaker-ap-northeast-2-419974056037', 'train-pipeline-model-22', <sagemaker.workflow.execution_variables.ExecutionVariable object at 0x7f518847a3a0>, 'train_data']), 'LocalPath': '/opt/ml/processing/output/train', 'S3UploadMode': 'EndOfJob'}}, {'OutputName': 'validation_data', 'AppManaged': False, 'S3Output': {'S3Uri': Join(on='/', values=['s3://sagemaker-ap-northeast-2-419974056037', 'train-pipeline-model-22', <sagemaker.workflow.execution_variables.ExecutionVariable object at 0x7f518847a3a0>, 'validation_data']), 'LocalPath': '/opt/ml/processing/output/validation', 'S3UploadMode': 'EndOfJob'}}, {'OutputName': 'test_data', 'AppManaged': False, 'S3Output': {'S3Uri': Join(on='/', values=['s3://sagemaker-ap-northeast-2-419974056037', 'train-pipeline-model-22', <sagemaker.workflow.execution_variables.ExecutionVariable object at 0x7f518847a3a0>, 'test_data']), 'LocalPath': '/opt/ml/processing/output/test', 'S3UploadMode': 'EndOfJob'}}]})])\n",
      "  \n",
      "== Training Step ==\n",
      "   \n",
      "Args:  dict_items([('AlgorithmSpecification', {'TrainingInputMode': 'File', 'TrainingImage': '306986355934.dkr.ecr.ap-northeast-2.amazonaws.com/blazingtext:1'}), ('OutputDataConfig', {'S3OutputPath': Join(on='/', values=['s3://sagemaker-ap-northeast-2-419974056037', 'train-pipeline-model-22'])}), ('StoppingCondition', {'MaxRuntimeInSeconds': 360000}), ('ResourceConfig', {'VolumeSizeInGB': 30, 'InstanceCount': 1, 'InstanceType': 'ml.m5.xlarge'}), ('RoleArn', 'arn:aws:iam::419974056037:role/service-role/AmazonSageMaker-ExecutionRole-20221004T162466'), ('InputDataConfig', [{'DataSource': {'S3DataSource': {'S3DataType': 'S3Prefix', 'S3Uri': <sagemaker.workflow.properties.Properties object at 0x7f5184ea2310>, 'S3DataDistributionType': 'FullyReplicated'}}, 'ContentType': 'text/csv', 'ChannelName': 'train'}, {'DataSource': {'S3DataSource': {'S3DataType': 'S3Prefix', 'S3Uri': <sagemaker.workflow.properties.Properties object at 0x7f5187535160>, 'S3DataDistributionType': 'FullyReplicated'}}, 'ContentType': 'text/csv', 'ChannelName': 'validation'}]), ('HyperParameters', {'mode': 'supervised', 'epochs': '10', 'min_epochs': '5', 'early_stopping': 'True', 'patience': '2', 'learning_rate': '0.01', 'min_count': '2', 'word_ngrams': '2', 'vector_dim': '16'}), ('DebugHookConfig', {'S3OutputPath': Join(on='/', values=['s3://sagemaker-ap-northeast-2-419974056037', 'train-pipeline-model-22']), 'CollectionConfigurations': []}), ('ProfilerConfig', {'S3OutputPath': Join(on='/', values=['s3://sagemaker-ap-northeast-2-419974056037', 'train-pipeline-model-22']), 'DisableProfiler': False})])\n",
      "  \n",
      "== Evaluation Step ==\n"
     ]
    },
    {
     "name": "stderr",
     "output_type": "stream",
     "text": [
      "INFO:sagemaker.processing:runproc.sh uploaded to s3://sagemaker-ap-northeast-2-419974056037/evaluation/source/runproc.sh\n"
     ]
    },
    {
     "name": "stdout",
     "output_type": "stream",
     "text": [
      "\n",
      "Job Name:  evaluation\n",
      "Inputs:  [{'InputName': 'input-1', 'AppManaged': False, 'S3Input': {'S3Uri': <sagemaker.workflow.properties.Properties object at 0x7f5185749a30>, 'LocalPath': '/opt/ml/processing/model', 'S3DataType': 'S3Prefix', 'S3InputMode': 'File', 'S3DataDistributionType': 'FullyReplicated', 'S3CompressionType': 'None'}}, {'InputName': 'input-2', 'AppManaged': False, 'S3Input': {'S3Uri': <sagemaker.workflow.properties.Properties object at 0x7f51852f2490>, 'LocalPath': '/opt/ml/processing/test', 'S3DataType': 'S3Prefix', 'S3InputMode': 'File', 'S3DataDistributionType': 'FullyReplicated', 'S3CompressionType': 'None'}}, {'InputName': 'code', 'AppManaged': False, 'S3Input': {'S3Uri': 's3://sagemaker-ap-northeast-2-419974056037/evaluation/source/sourcedir.tar.gz', 'LocalPath': '/opt/ml/processing/input/code/', 'S3DataType': 'S3Prefix', 'S3InputMode': 'File', 'S3DataDistributionType': 'FullyReplicated', 'S3CompressionType': 'None'}}, {'InputName': 'entrypoint', 'AppManaged': False, 'S3Input': {'S3Uri': 's3://sagemaker-ap-northeast-2-419974056037/evaluation/source/runproc.sh', 'LocalPath': '/opt/ml/processing/input/entrypoint', 'S3DataType': 'S3Prefix', 'S3InputMode': 'File', 'S3DataDistributionType': 'FullyReplicated', 'S3CompressionType': 'None'}}]\n",
      "Outputs:  [{'OutputName': 'evaluation-metrics', 'AppManaged': False, 'S3Output': {'S3Uri': Join(on='/', values=['s3://sagemaker-ap-northeast-2-419974056037', 'train-pipeline-model-22', <sagemaker.workflow.execution_variables.ExecutionVariable object at 0x7f518847a3a0>, 'evaluation-metrics']), 'LocalPath': '/opt/ml/processing/evaluation', 'S3UploadMode': 'EndOfJob'}}]\n",
      "   \n",
      "Args:  dict_items([('ProcessingResources', {'ClusterConfig': {'InstanceType': 'ml.g4dn.xlarge', 'InstanceCount': 1, 'VolumeSizeInGB': 30}}), ('AppSpecification', {'ImageUri': '763104351884.dkr.ecr.ap-northeast-2.amazonaws.com/tensorflow-training:2.3-gpu-py37', 'ContainerArguments': ['--s3_model_path', <sagemaker.workflow.properties.Properties object at 0x7f5185749a30>, '--region', 'ap-northeast-2', '--model_name', 'model-22'], 'ContainerEntrypoint': ['/bin/bash', '/opt/ml/processing/input/entrypoint/runproc.sh']}), ('RoleArn', 'arn:aws:iam::419974056037:role/service-role/AmazonSageMaker-ExecutionRole-20221004T162466'), ('ProcessingInputs', [{'InputName': 'input-1', 'AppManaged': False, 'S3Input': {'S3Uri': <sagemaker.workflow.properties.Properties object at 0x7f5185749a30>, 'LocalPath': '/opt/ml/processing/model', 'S3DataType': 'S3Prefix', 'S3InputMode': 'File', 'S3DataDistributionType': 'FullyReplicated', 'S3CompressionType': 'None'}}, {'InputName': 'input-2', 'AppManaged': False, 'S3Input': {'S3Uri': <sagemaker.workflow.properties.Properties object at 0x7f51852f2490>, 'LocalPath': '/opt/ml/processing/test', 'S3DataType': 'S3Prefix', 'S3InputMode': 'File', 'S3DataDistributionType': 'FullyReplicated', 'S3CompressionType': 'None'}}, {'InputName': 'code', 'AppManaged': False, 'S3Input': {'S3Uri': 's3://sagemaker-ap-northeast-2-419974056037/evaluation/source/sourcedir.tar.gz', 'LocalPath': '/opt/ml/processing/input/code/', 'S3DataType': 'S3Prefix', 'S3InputMode': 'File', 'S3DataDistributionType': 'FullyReplicated', 'S3CompressionType': 'None'}}, {'InputName': 'entrypoint', 'AppManaged': False, 'S3Input': {'S3Uri': 's3://sagemaker-ap-northeast-2-419974056037/evaluation/source/runproc.sh', 'LocalPath': '/opt/ml/processing/input/entrypoint', 'S3DataType': 'S3Prefix', 'S3InputMode': 'File', 'S3DataDistributionType': 'FullyReplicated', 'S3CompressionType': 'None'}}]), ('ProcessingOutputConfig', {'Outputs': [{'OutputName': 'evaluation-metrics', 'AppManaged': False, 'S3Output': {'S3Uri': Join(on='/', values=['s3://sagemaker-ap-northeast-2-419974056037', 'train-pipeline-model-22', <sagemaker.workflow.execution_variables.ExecutionVariable object at 0x7f518847a3a0>, 'evaluation-metrics']), 'LocalPath': '/opt/ml/processing/evaluation', 'S3UploadMode': 'EndOfJob'}}]})])\n",
      "  \n",
      "== Registration Step ==\n"
     ]
    },
    {
     "name": "stderr",
     "output_type": "stream",
     "text": [
      "INFO:sagemaker.processing:Uploaded ./sources/ to s3://sagemaker-ap-northeast-2-419974056037/train-pipeline-model-22/code/eabace17c9345271cf901107138b46a8/sourcedir.tar.gz\n",
      "INFO:sagemaker.processing:runproc.sh uploaded to s3://sagemaker-ap-northeast-2-419974056037/train-pipeline-model-22/code/1071dadab36d48ed1fba97e2ff137bdf/runproc.sh\n",
      "WARNING:sagemaker.estimator:No finished training job found associated with this estimator. Please make sure this estimator is only used for building workflow config\n",
      "WARNING:sagemaker.workflow._utils:Popping out 'CertifyForMarketplace' from the pipeline definition since it will be overridden in pipeline execution time.\n"
     ]
    },
    {
     "name": "stdout",
     "output_type": "stream",
     "text": [
      "\n",
      "Job Name:  preprocessing-model-22\n",
      "Inputs:  [{'InputName': 'input-1', 'AppManaged': False, 'S3Input': {'S3Uri': 's3://sm-pipeline-multi-models-datasets/model-22/amazon_reviews_us_Electronics_v1_00.tsv.gz', 'LocalPath': '/opt/ml/processing/input', 'S3DataType': 'S3Prefix', 'S3InputMode': 'File', 'S3DataDistributionType': 'FullyReplicated', 'S3CompressionType': 'None'}}, {'InputName': 'requirements', 'AppManaged': False, 'S3Input': {'S3Uri': 's3://sagemaker-ap-northeast-2-419974056037/preprocessing-model-22/input/requirements/requirements.txt', 'LocalPath': '/opt/ml/processing/input/requirements', 'S3DataType': 'S3Prefix', 'S3InputMode': 'File', 'S3DataDistributionType': 'FullyReplicated', 'S3CompressionType': 'None'}}, {'InputName': 'code', 'AppManaged': False, 'S3Input': {'S3Uri': 's3://sagemaker-ap-northeast-2-419974056037/train-pipeline-model-22/code/2b3c51df48188408561910efa21ddc30/preprocessing.py', 'LocalPath': '/opt/ml/processing/input/code', 'S3DataType': 'S3Prefix', 'S3InputMode': 'File', 'S3DataDistributionType': 'FullyReplicated', 'S3CompressionType': 'None'}}]\n",
      "Outputs:  [{'OutputName': 'train_data', 'AppManaged': False, 'S3Output': {'S3Uri': Join(on='/', values=['s3://sagemaker-ap-northeast-2-419974056037', 'train-pipeline-model-22', <sagemaker.workflow.execution_variables.ExecutionVariable object at 0x7f518847a3a0>, 'train_data']), 'LocalPath': '/opt/ml/processing/output/train', 'S3UploadMode': 'EndOfJob'}}, {'OutputName': 'validation_data', 'AppManaged': False, 'S3Output': {'S3Uri': Join(on='/', values=['s3://sagemaker-ap-northeast-2-419974056037', 'train-pipeline-model-22', <sagemaker.workflow.execution_variables.ExecutionVariable object at 0x7f518847a3a0>, 'validation_data']), 'LocalPath': '/opt/ml/processing/output/validation', 'S3UploadMode': 'EndOfJob'}}, {'OutputName': 'test_data', 'AppManaged': False, 'S3Output': {'S3Uri': Join(on='/', values=['s3://sagemaker-ap-northeast-2-419974056037', 'train-pipeline-model-22', <sagemaker.workflow.execution_variables.ExecutionVariable object at 0x7f518847a3a0>, 'test_data']), 'LocalPath': '/opt/ml/processing/output/test', 'S3UploadMode': 'EndOfJob'}}]\n",
      "\n",
      "Job Name:  evaluation\n",
      "Inputs:  [{'InputName': 'input-1', 'AppManaged': False, 'S3Input': {'S3Uri': <sagemaker.workflow.properties.Properties object at 0x7f5185749a30>, 'LocalPath': '/opt/ml/processing/model', 'S3DataType': 'S3Prefix', 'S3InputMode': 'File', 'S3DataDistributionType': 'FullyReplicated', 'S3CompressionType': 'None'}}, {'InputName': 'input-2', 'AppManaged': False, 'S3Input': {'S3Uri': <sagemaker.workflow.properties.Properties object at 0x7f51852f2490>, 'LocalPath': '/opt/ml/processing/test', 'S3DataType': 'S3Prefix', 'S3InputMode': 'File', 'S3DataDistributionType': 'FullyReplicated', 'S3CompressionType': 'None'}}, {'InputName': 'code', 'AppManaged': False, 'S3Input': {'S3Uri': 's3://sagemaker-ap-northeast-2-419974056037/train-pipeline-model-22/code/eabace17c9345271cf901107138b46a8/sourcedir.tar.gz', 'LocalPath': '/opt/ml/processing/input/code/', 'S3DataType': 'S3Prefix', 'S3InputMode': 'File', 'S3DataDistributionType': 'FullyReplicated', 'S3CompressionType': 'None'}}, {'InputName': 'entrypoint', 'AppManaged': False, 'S3Input': {'S3Uri': 's3://sagemaker-ap-northeast-2-419974056037/train-pipeline-model-22/code/1071dadab36d48ed1fba97e2ff137bdf/runproc.sh', 'LocalPath': '/opt/ml/processing/input/entrypoint', 'S3DataType': 'S3Prefix', 'S3InputMode': 'File', 'S3DataDistributionType': 'FullyReplicated', 'S3CompressionType': 'None'}}]\n",
      "Outputs:  [{'OutputName': 'evaluation-metrics', 'AppManaged': False, 'S3Output': {'S3Uri': Join(on='/', values=['s3://sagemaker-ap-northeast-2-419974056037', 'train-pipeline-model-22', <sagemaker.workflow.execution_variables.ExecutionVariable object at 0x7f518847a3a0>, 'evaluation-metrics']), 'LocalPath': '/opt/ml/processing/evaluation', 'S3UploadMode': 'EndOfJob'}}]\n",
      "  \n",
      "== PipeLine Execution info.==\n",
      "{'PipelineArn': 'arn:aws:sagemaker:ap-northeast-2:419974056037:pipeline/train-pipeline-model-22', 'PipelineExecutionArn': 'arn:aws:sagemaker:ap-northeast-2:419974056037:pipeline/train-pipeline-model-22/execution/vjtiuh9y4d4h', 'PipelineExecutionDisplayName': 'execution-1674699114740', 'PipelineExecutionStatus': 'Executing', 'CreationTime': datetime.datetime(2023, 1, 26, 2, 11, 54, 670000, tzinfo=tzlocal()), 'LastModifiedTime': datetime.datetime(2023, 1, 26, 2, 11, 54, 670000, tzinfo=tzlocal()), 'CreatedBy': {}, 'LastModifiedBy': {}, 'ResponseMetadata': {'RequestId': '230853a2-ab9a-4ae8-8726-497d27519ee8', 'HTTPStatusCode': 200, 'HTTPHeaders': {'x-amzn-requestid': '230853a2-ab9a-4ae8-8726-497d27519ee8', 'content-type': 'application/x-amz-json-1.1', 'content-length': '419', 'date': 'Thu, 26 Jan 2023 02:11:54 GMT'}, 'RetryAttempts': 0}}\n",
      "========================== \n",
      "\n"
     ]
    },
    {
     "name": "stderr",
     "output_type": "stream",
     "text": [
      "INFO:sagemaker.image_uris:Same images used for training and inference. Defaulting to image scope: inference.\n",
      "INFO:sagemaker.image_uris:Defaulting to the only supported framework/algorithm version: 1.\n",
      "INFO:sagemaker.image_uris:Ignoring unnecessary instance type: None.\n",
      "INFO:sagemaker.image_uris:Defaulting to only available Python version: py3\n"
     ]
    },
    {
     "name": "stdout",
     "output_type": "stream",
     "text": [
      "MODEL-NAME: model-23\n",
      "  Account-ID: 419974056037, \n",
      "  Region: ap-northeast-2, \n",
      "  Role: arn:aws:iam::419974056037:role/service-role/AmazonSageMaker-ExecutionRole-20221004T162466, \n",
      "  Default_bucket: sagemaker-ap-northeast-2-419974056037\n",
      "  pipeline_session: <sagemaker.workflow.pipeline_context.PipelineSession object at 0x7f51875a8be0>\n",
      "  \n",
      "== Preprocessing Step ==\n"
     ]
    },
    {
     "name": "stderr",
     "output_type": "stream",
     "text": [
      "INFO:sagemaker.image_uris:image_uri is not presented, retrieving image_uri based on instance_type, framework etc.\n",
      "INFO:sagemaker.processing:Uploaded ./sources/ to s3://sagemaker-ap-northeast-2-419974056037/evaluation/source/sourcedir.tar.gz\n"
     ]
    },
    {
     "name": "stdout",
     "output_type": "stream",
     "text": [
      "\n",
      "Job Name:  preprocessing-model-23\n",
      "Inputs:  [{'InputName': 'input-1', 'AppManaged': False, 'S3Input': {'S3Uri': 's3://sm-pipeline-multi-models-datasets/model-23/amazon_reviews_us_Electronics_v1_00.tsv.gz', 'LocalPath': '/opt/ml/processing/input', 'S3DataType': 'S3Prefix', 'S3InputMode': 'File', 'S3DataDistributionType': 'FullyReplicated', 'S3CompressionType': 'None'}}, {'InputName': 'requirements', 'AppManaged': False, 'S3Input': {'S3Uri': 's3://sagemaker-ap-northeast-2-419974056037/preprocessing-model-23/input/requirements/requirements.txt', 'LocalPath': '/opt/ml/processing/input/requirements', 'S3DataType': 'S3Prefix', 'S3InputMode': 'File', 'S3DataDistributionType': 'FullyReplicated', 'S3CompressionType': 'None'}}, {'InputName': 'code', 'AppManaged': False, 'S3Input': {'S3Uri': 's3://sagemaker-ap-northeast-2-419974056037/preprocessing-model-23/input/code/preprocessing.py', 'LocalPath': '/opt/ml/processing/input/code', 'S3DataType': 'S3Prefix', 'S3InputMode': 'File', 'S3DataDistributionType': 'FullyReplicated', 'S3CompressionType': 'None'}}]\n",
      "Outputs:  [{'OutputName': 'train_data', 'AppManaged': False, 'S3Output': {'S3Uri': Join(on='/', values=['s3://sagemaker-ap-northeast-2-419974056037', 'train-pipeline-model-23', <sagemaker.workflow.execution_variables.ExecutionVariable object at 0x7f518847a3a0>, 'train_data']), 'LocalPath': '/opt/ml/processing/output/train', 'S3UploadMode': 'EndOfJob'}}, {'OutputName': 'validation_data', 'AppManaged': False, 'S3Output': {'S3Uri': Join(on='/', values=['s3://sagemaker-ap-northeast-2-419974056037', 'train-pipeline-model-23', <sagemaker.workflow.execution_variables.ExecutionVariable object at 0x7f518847a3a0>, 'validation_data']), 'LocalPath': '/opt/ml/processing/output/validation', 'S3UploadMode': 'EndOfJob'}}, {'OutputName': 'test_data', 'AppManaged': False, 'S3Output': {'S3Uri': Join(on='/', values=['s3://sagemaker-ap-northeast-2-419974056037', 'train-pipeline-model-23', <sagemaker.workflow.execution_variables.ExecutionVariable object at 0x7f518847a3a0>, 'test_data']), 'LocalPath': '/opt/ml/processing/output/test', 'S3UploadMode': 'EndOfJob'}}]\n",
      "   \n",
      "Args:  dict_items([('ProcessingResources', {'ClusterConfig': {'InstanceType': 'ml.m5.xlarge', 'InstanceCount': 1, 'VolumeSizeInGB': 30}}), ('AppSpecification', {'ImageUri': '366743142698.dkr.ecr.ap-northeast-2.amazonaws.com/sagemaker-scikit-learn:0.20.0-cpu-py3', 'ContainerArguments': ['--input_name', 'amazon_reviews_us_Electronics_v1_00.tsv.gz', '--region', 'ap-northeast-2'], 'ContainerEntrypoint': ['python3', '/opt/ml/processing/input/code/preprocessing.py']}), ('RoleArn', 'arn:aws:iam::419974056037:role/service-role/AmazonSageMaker-ExecutionRole-20221004T162466'), ('ProcessingInputs', [{'InputName': 'input-1', 'AppManaged': False, 'S3Input': {'S3Uri': 's3://sm-pipeline-multi-models-datasets/model-23/amazon_reviews_us_Electronics_v1_00.tsv.gz', 'LocalPath': '/opt/ml/processing/input', 'S3DataType': 'S3Prefix', 'S3InputMode': 'File', 'S3DataDistributionType': 'FullyReplicated', 'S3CompressionType': 'None'}}, {'InputName': 'requirements', 'AppManaged': False, 'S3Input': {'S3Uri': 's3://sagemaker-ap-northeast-2-419974056037/preprocessing-model-23/input/requirements/requirements.txt', 'LocalPath': '/opt/ml/processing/input/requirements', 'S3DataType': 'S3Prefix', 'S3InputMode': 'File', 'S3DataDistributionType': 'FullyReplicated', 'S3CompressionType': 'None'}}, {'InputName': 'code', 'AppManaged': False, 'S3Input': {'S3Uri': 's3://sagemaker-ap-northeast-2-419974056037/preprocessing-model-23/input/code/preprocessing.py', 'LocalPath': '/opt/ml/processing/input/code', 'S3DataType': 'S3Prefix', 'S3InputMode': 'File', 'S3DataDistributionType': 'FullyReplicated', 'S3CompressionType': 'None'}}]), ('ProcessingOutputConfig', {'Outputs': [{'OutputName': 'train_data', 'AppManaged': False, 'S3Output': {'S3Uri': Join(on='/', values=['s3://sagemaker-ap-northeast-2-419974056037', 'train-pipeline-model-23', <sagemaker.workflow.execution_variables.ExecutionVariable object at 0x7f518847a3a0>, 'train_data']), 'LocalPath': '/opt/ml/processing/output/train', 'S3UploadMode': 'EndOfJob'}}, {'OutputName': 'validation_data', 'AppManaged': False, 'S3Output': {'S3Uri': Join(on='/', values=['s3://sagemaker-ap-northeast-2-419974056037', 'train-pipeline-model-23', <sagemaker.workflow.execution_variables.ExecutionVariable object at 0x7f518847a3a0>, 'validation_data']), 'LocalPath': '/opt/ml/processing/output/validation', 'S3UploadMode': 'EndOfJob'}}, {'OutputName': 'test_data', 'AppManaged': False, 'S3Output': {'S3Uri': Join(on='/', values=['s3://sagemaker-ap-northeast-2-419974056037', 'train-pipeline-model-23', <sagemaker.workflow.execution_variables.ExecutionVariable object at 0x7f518847a3a0>, 'test_data']), 'LocalPath': '/opt/ml/processing/output/test', 'S3UploadMode': 'EndOfJob'}}]})])\n",
      "  \n",
      "== Training Step ==\n",
      "   \n",
      "Args:  dict_items([('AlgorithmSpecification', {'TrainingInputMode': 'File', 'TrainingImage': '306986355934.dkr.ecr.ap-northeast-2.amazonaws.com/blazingtext:1'}), ('OutputDataConfig', {'S3OutputPath': Join(on='/', values=['s3://sagemaker-ap-northeast-2-419974056037', 'train-pipeline-model-23'])}), ('StoppingCondition', {'MaxRuntimeInSeconds': 360000}), ('ResourceConfig', {'VolumeSizeInGB': 30, 'InstanceCount': 1, 'InstanceType': 'ml.m5.xlarge'}), ('RoleArn', 'arn:aws:iam::419974056037:role/service-role/AmazonSageMaker-ExecutionRole-20221004T162466'), ('InputDataConfig', [{'DataSource': {'S3DataSource': {'S3DataType': 'S3Prefix', 'S3Uri': <sagemaker.workflow.properties.Properties object at 0x7f518759a850>, 'S3DataDistributionType': 'FullyReplicated'}}, 'ContentType': 'text/csv', 'ChannelName': 'train'}, {'DataSource': {'S3DataSource': {'S3DataType': 'S3Prefix', 'S3Uri': <sagemaker.workflow.properties.Properties object at 0x7f51852d4be0>, 'S3DataDistributionType': 'FullyReplicated'}}, 'ContentType': 'text/csv', 'ChannelName': 'validation'}]), ('HyperParameters', {'mode': 'supervised', 'epochs': '10', 'min_epochs': '5', 'early_stopping': 'True', 'patience': '2', 'learning_rate': '0.01', 'min_count': '2', 'word_ngrams': '2', 'vector_dim': '16'}), ('DebugHookConfig', {'S3OutputPath': Join(on='/', values=['s3://sagemaker-ap-northeast-2-419974056037', 'train-pipeline-model-23']), 'CollectionConfigurations': []}), ('ProfilerConfig', {'S3OutputPath': Join(on='/', values=['s3://sagemaker-ap-northeast-2-419974056037', 'train-pipeline-model-23']), 'DisableProfiler': False})])\n",
      "  \n",
      "== Evaluation Step ==\n"
     ]
    },
    {
     "name": "stderr",
     "output_type": "stream",
     "text": [
      "INFO:sagemaker.processing:runproc.sh uploaded to s3://sagemaker-ap-northeast-2-419974056037/evaluation/source/runproc.sh\n"
     ]
    },
    {
     "name": "stdout",
     "output_type": "stream",
     "text": [
      "\n",
      "Job Name:  evaluation\n",
      "Inputs:  [{'InputName': 'input-1', 'AppManaged': False, 'S3Input': {'S3Uri': <sagemaker.workflow.properties.Properties object at 0x7f51854e90a0>, 'LocalPath': '/opt/ml/processing/model', 'S3DataType': 'S3Prefix', 'S3InputMode': 'File', 'S3DataDistributionType': 'FullyReplicated', 'S3CompressionType': 'None'}}, {'InputName': 'input-2', 'AppManaged': False, 'S3Input': {'S3Uri': <sagemaker.workflow.properties.Properties object at 0x7f51874f9070>, 'LocalPath': '/opt/ml/processing/test', 'S3DataType': 'S3Prefix', 'S3InputMode': 'File', 'S3DataDistributionType': 'FullyReplicated', 'S3CompressionType': 'None'}}, {'InputName': 'code', 'AppManaged': False, 'S3Input': {'S3Uri': 's3://sagemaker-ap-northeast-2-419974056037/evaluation/source/sourcedir.tar.gz', 'LocalPath': '/opt/ml/processing/input/code/', 'S3DataType': 'S3Prefix', 'S3InputMode': 'File', 'S3DataDistributionType': 'FullyReplicated', 'S3CompressionType': 'None'}}, {'InputName': 'entrypoint', 'AppManaged': False, 'S3Input': {'S3Uri': 's3://sagemaker-ap-northeast-2-419974056037/evaluation/source/runproc.sh', 'LocalPath': '/opt/ml/processing/input/entrypoint', 'S3DataType': 'S3Prefix', 'S3InputMode': 'File', 'S3DataDistributionType': 'FullyReplicated', 'S3CompressionType': 'None'}}]\n",
      "Outputs:  [{'OutputName': 'evaluation-metrics', 'AppManaged': False, 'S3Output': {'S3Uri': Join(on='/', values=['s3://sagemaker-ap-northeast-2-419974056037', 'train-pipeline-model-23', <sagemaker.workflow.execution_variables.ExecutionVariable object at 0x7f518847a3a0>, 'evaluation-metrics']), 'LocalPath': '/opt/ml/processing/evaluation', 'S3UploadMode': 'EndOfJob'}}]\n",
      "   \n",
      "Args:  dict_items([('ProcessingResources', {'ClusterConfig': {'InstanceType': 'ml.g4dn.xlarge', 'InstanceCount': 1, 'VolumeSizeInGB': 30}}), ('AppSpecification', {'ImageUri': '763104351884.dkr.ecr.ap-northeast-2.amazonaws.com/tensorflow-training:2.3-gpu-py37', 'ContainerArguments': ['--s3_model_path', <sagemaker.workflow.properties.Properties object at 0x7f51854e90a0>, '--region', 'ap-northeast-2', '--model_name', 'model-23'], 'ContainerEntrypoint': ['/bin/bash', '/opt/ml/processing/input/entrypoint/runproc.sh']}), ('RoleArn', 'arn:aws:iam::419974056037:role/service-role/AmazonSageMaker-ExecutionRole-20221004T162466'), ('ProcessingInputs', [{'InputName': 'input-1', 'AppManaged': False, 'S3Input': {'S3Uri': <sagemaker.workflow.properties.Properties object at 0x7f51854e90a0>, 'LocalPath': '/opt/ml/processing/model', 'S3DataType': 'S3Prefix', 'S3InputMode': 'File', 'S3DataDistributionType': 'FullyReplicated', 'S3CompressionType': 'None'}}, {'InputName': 'input-2', 'AppManaged': False, 'S3Input': {'S3Uri': <sagemaker.workflow.properties.Properties object at 0x7f51874f9070>, 'LocalPath': '/opt/ml/processing/test', 'S3DataType': 'S3Prefix', 'S3InputMode': 'File', 'S3DataDistributionType': 'FullyReplicated', 'S3CompressionType': 'None'}}, {'InputName': 'code', 'AppManaged': False, 'S3Input': {'S3Uri': 's3://sagemaker-ap-northeast-2-419974056037/evaluation/source/sourcedir.tar.gz', 'LocalPath': '/opt/ml/processing/input/code/', 'S3DataType': 'S3Prefix', 'S3InputMode': 'File', 'S3DataDistributionType': 'FullyReplicated', 'S3CompressionType': 'None'}}, {'InputName': 'entrypoint', 'AppManaged': False, 'S3Input': {'S3Uri': 's3://sagemaker-ap-northeast-2-419974056037/evaluation/source/runproc.sh', 'LocalPath': '/opt/ml/processing/input/entrypoint', 'S3DataType': 'S3Prefix', 'S3InputMode': 'File', 'S3DataDistributionType': 'FullyReplicated', 'S3CompressionType': 'None'}}]), ('ProcessingOutputConfig', {'Outputs': [{'OutputName': 'evaluation-metrics', 'AppManaged': False, 'S3Output': {'S3Uri': Join(on='/', values=['s3://sagemaker-ap-northeast-2-419974056037', 'train-pipeline-model-23', <sagemaker.workflow.execution_variables.ExecutionVariable object at 0x7f518847a3a0>, 'evaluation-metrics']), 'LocalPath': '/opt/ml/processing/evaluation', 'S3UploadMode': 'EndOfJob'}}]})])\n",
      "  \n",
      "== Registration Step ==\n"
     ]
    },
    {
     "name": "stderr",
     "output_type": "stream",
     "text": [
      "INFO:sagemaker.processing:Uploaded ./sources/ to s3://sagemaker-ap-northeast-2-419974056037/train-pipeline-model-23/code/eabace17c9345271cf901107138b46a8/sourcedir.tar.gz\n",
      "INFO:sagemaker.processing:runproc.sh uploaded to s3://sagemaker-ap-northeast-2-419974056037/train-pipeline-model-23/code/1071dadab36d48ed1fba97e2ff137bdf/runproc.sh\n",
      "WARNING:sagemaker.estimator:No finished training job found associated with this estimator. Please make sure this estimator is only used for building workflow config\n",
      "WARNING:sagemaker.workflow._utils:Popping out 'CertifyForMarketplace' from the pipeline definition since it will be overridden in pipeline execution time.\n"
     ]
    },
    {
     "name": "stdout",
     "output_type": "stream",
     "text": [
      "\n",
      "Job Name:  preprocessing-model-23\n",
      "Inputs:  [{'InputName': 'input-1', 'AppManaged': False, 'S3Input': {'S3Uri': 's3://sm-pipeline-multi-models-datasets/model-23/amazon_reviews_us_Electronics_v1_00.tsv.gz', 'LocalPath': '/opt/ml/processing/input', 'S3DataType': 'S3Prefix', 'S3InputMode': 'File', 'S3DataDistributionType': 'FullyReplicated', 'S3CompressionType': 'None'}}, {'InputName': 'requirements', 'AppManaged': False, 'S3Input': {'S3Uri': 's3://sagemaker-ap-northeast-2-419974056037/preprocessing-model-23/input/requirements/requirements.txt', 'LocalPath': '/opt/ml/processing/input/requirements', 'S3DataType': 'S3Prefix', 'S3InputMode': 'File', 'S3DataDistributionType': 'FullyReplicated', 'S3CompressionType': 'None'}}, {'InputName': 'code', 'AppManaged': False, 'S3Input': {'S3Uri': 's3://sagemaker-ap-northeast-2-419974056037/train-pipeline-model-23/code/2b3c51df48188408561910efa21ddc30/preprocessing.py', 'LocalPath': '/opt/ml/processing/input/code', 'S3DataType': 'S3Prefix', 'S3InputMode': 'File', 'S3DataDistributionType': 'FullyReplicated', 'S3CompressionType': 'None'}}]\n",
      "Outputs:  [{'OutputName': 'train_data', 'AppManaged': False, 'S3Output': {'S3Uri': Join(on='/', values=['s3://sagemaker-ap-northeast-2-419974056037', 'train-pipeline-model-23', <sagemaker.workflow.execution_variables.ExecutionVariable object at 0x7f518847a3a0>, 'train_data']), 'LocalPath': '/opt/ml/processing/output/train', 'S3UploadMode': 'EndOfJob'}}, {'OutputName': 'validation_data', 'AppManaged': False, 'S3Output': {'S3Uri': Join(on='/', values=['s3://sagemaker-ap-northeast-2-419974056037', 'train-pipeline-model-23', <sagemaker.workflow.execution_variables.ExecutionVariable object at 0x7f518847a3a0>, 'validation_data']), 'LocalPath': '/opt/ml/processing/output/validation', 'S3UploadMode': 'EndOfJob'}}, {'OutputName': 'test_data', 'AppManaged': False, 'S3Output': {'S3Uri': Join(on='/', values=['s3://sagemaker-ap-northeast-2-419974056037', 'train-pipeline-model-23', <sagemaker.workflow.execution_variables.ExecutionVariable object at 0x7f518847a3a0>, 'test_data']), 'LocalPath': '/opt/ml/processing/output/test', 'S3UploadMode': 'EndOfJob'}}]\n",
      "\n",
      "Job Name:  evaluation\n",
      "Inputs:  [{'InputName': 'input-1', 'AppManaged': False, 'S3Input': {'S3Uri': <sagemaker.workflow.properties.Properties object at 0x7f51854e90a0>, 'LocalPath': '/opt/ml/processing/model', 'S3DataType': 'S3Prefix', 'S3InputMode': 'File', 'S3DataDistributionType': 'FullyReplicated', 'S3CompressionType': 'None'}}, {'InputName': 'input-2', 'AppManaged': False, 'S3Input': {'S3Uri': <sagemaker.workflow.properties.Properties object at 0x7f51874f9070>, 'LocalPath': '/opt/ml/processing/test', 'S3DataType': 'S3Prefix', 'S3InputMode': 'File', 'S3DataDistributionType': 'FullyReplicated', 'S3CompressionType': 'None'}}, {'InputName': 'code', 'AppManaged': False, 'S3Input': {'S3Uri': 's3://sagemaker-ap-northeast-2-419974056037/train-pipeline-model-23/code/eabace17c9345271cf901107138b46a8/sourcedir.tar.gz', 'LocalPath': '/opt/ml/processing/input/code/', 'S3DataType': 'S3Prefix', 'S3InputMode': 'File', 'S3DataDistributionType': 'FullyReplicated', 'S3CompressionType': 'None'}}, {'InputName': 'entrypoint', 'AppManaged': False, 'S3Input': {'S3Uri': 's3://sagemaker-ap-northeast-2-419974056037/train-pipeline-model-23/code/1071dadab36d48ed1fba97e2ff137bdf/runproc.sh', 'LocalPath': '/opt/ml/processing/input/entrypoint', 'S3DataType': 'S3Prefix', 'S3InputMode': 'File', 'S3DataDistributionType': 'FullyReplicated', 'S3CompressionType': 'None'}}]\n",
      "Outputs:  [{'OutputName': 'evaluation-metrics', 'AppManaged': False, 'S3Output': {'S3Uri': Join(on='/', values=['s3://sagemaker-ap-northeast-2-419974056037', 'train-pipeline-model-23', <sagemaker.workflow.execution_variables.ExecutionVariable object at 0x7f518847a3a0>, 'evaluation-metrics']), 'LocalPath': '/opt/ml/processing/evaluation', 'S3UploadMode': 'EndOfJob'}}]\n",
      "  \n",
      "== PipeLine Execution info.==\n",
      "{'PipelineArn': 'arn:aws:sagemaker:ap-northeast-2:419974056037:pipeline/train-pipeline-model-23', 'PipelineExecutionArn': 'arn:aws:sagemaker:ap-northeast-2:419974056037:pipeline/train-pipeline-model-23/execution/4lbmoiv0okpp', 'PipelineExecutionDisplayName': 'execution-1674699116504', 'PipelineExecutionStatus': 'Executing', 'CreationTime': datetime.datetime(2023, 1, 26, 2, 11, 56, 392000, tzinfo=tzlocal()), 'LastModifiedTime': datetime.datetime(2023, 1, 26, 2, 11, 56, 392000, tzinfo=tzlocal()), 'CreatedBy': {}, 'LastModifiedBy': {}, 'ResponseMetadata': {'RequestId': '7936e70b-d097-43b9-8ee0-0ee9ee6a1b20', 'HTTPStatusCode': 200, 'HTTPHeaders': {'x-amzn-requestid': '7936e70b-d097-43b9-8ee0-0ee9ee6a1b20', 'content-type': 'application/x-amz-json-1.1', 'content-length': '421', 'date': 'Thu, 26 Jan 2023 02:11:55 GMT'}, 'RetryAttempts': 0}}\n",
      "========================== \n",
      "\n"
     ]
    },
    {
     "name": "stderr",
     "output_type": "stream",
     "text": [
      "INFO:sagemaker.image_uris:Same images used for training and inference. Defaulting to image scope: inference.\n",
      "INFO:sagemaker.image_uris:Defaulting to the only supported framework/algorithm version: 1.\n",
      "INFO:sagemaker.image_uris:Ignoring unnecessary instance type: None.\n",
      "INFO:sagemaker.image_uris:Defaulting to only available Python version: py3\n"
     ]
    },
    {
     "name": "stdout",
     "output_type": "stream",
     "text": [
      "MODEL-NAME: model-24\n",
      "  Account-ID: 419974056037, \n",
      "  Region: ap-northeast-2, \n",
      "  Role: arn:aws:iam::419974056037:role/service-role/AmazonSageMaker-ExecutionRole-20221004T162466, \n",
      "  Default_bucket: sagemaker-ap-northeast-2-419974056037\n",
      "  pipeline_session: <sagemaker.workflow.pipeline_context.PipelineSession object at 0x7f5185aee0a0>\n",
      "  \n",
      "== Preprocessing Step ==\n"
     ]
    },
    {
     "name": "stderr",
     "output_type": "stream",
     "text": [
      "INFO:sagemaker.image_uris:image_uri is not presented, retrieving image_uri based on instance_type, framework etc.\n"
     ]
    },
    {
     "name": "stdout",
     "output_type": "stream",
     "text": [
      "\n",
      "Job Name:  preprocessing-model-24\n",
      "Inputs:  [{'InputName': 'input-1', 'AppManaged': False, 'S3Input': {'S3Uri': 's3://sm-pipeline-multi-models-datasets/model-24/amazon_reviews_us_Electronics_v1_00.tsv.gz', 'LocalPath': '/opt/ml/processing/input', 'S3DataType': 'S3Prefix', 'S3InputMode': 'File', 'S3DataDistributionType': 'FullyReplicated', 'S3CompressionType': 'None'}}, {'InputName': 'requirements', 'AppManaged': False, 'S3Input': {'S3Uri': 's3://sagemaker-ap-northeast-2-419974056037/preprocessing-model-24/input/requirements/requirements.txt', 'LocalPath': '/opt/ml/processing/input/requirements', 'S3DataType': 'S3Prefix', 'S3InputMode': 'File', 'S3DataDistributionType': 'FullyReplicated', 'S3CompressionType': 'None'}}, {'InputName': 'code', 'AppManaged': False, 'S3Input': {'S3Uri': 's3://sagemaker-ap-northeast-2-419974056037/preprocessing-model-24/input/code/preprocessing.py', 'LocalPath': '/opt/ml/processing/input/code', 'S3DataType': 'S3Prefix', 'S3InputMode': 'File', 'S3DataDistributionType': 'FullyReplicated', 'S3CompressionType': 'None'}}]\n",
      "Outputs:  [{'OutputName': 'train_data', 'AppManaged': False, 'S3Output': {'S3Uri': Join(on='/', values=['s3://sagemaker-ap-northeast-2-419974056037', 'train-pipeline-model-24', <sagemaker.workflow.execution_variables.ExecutionVariable object at 0x7f518847a3a0>, 'train_data']), 'LocalPath': '/opt/ml/processing/output/train', 'S3UploadMode': 'EndOfJob'}}, {'OutputName': 'validation_data', 'AppManaged': False, 'S3Output': {'S3Uri': Join(on='/', values=['s3://sagemaker-ap-northeast-2-419974056037', 'train-pipeline-model-24', <sagemaker.workflow.execution_variables.ExecutionVariable object at 0x7f518847a3a0>, 'validation_data']), 'LocalPath': '/opt/ml/processing/output/validation', 'S3UploadMode': 'EndOfJob'}}, {'OutputName': 'test_data', 'AppManaged': False, 'S3Output': {'S3Uri': Join(on='/', values=['s3://sagemaker-ap-northeast-2-419974056037', 'train-pipeline-model-24', <sagemaker.workflow.execution_variables.ExecutionVariable object at 0x7f518847a3a0>, 'test_data']), 'LocalPath': '/opt/ml/processing/output/test', 'S3UploadMode': 'EndOfJob'}}]\n",
      "   \n",
      "Args:  dict_items([('ProcessingResources', {'ClusterConfig': {'InstanceType': 'ml.m5.xlarge', 'InstanceCount': 1, 'VolumeSizeInGB': 30}}), ('AppSpecification', {'ImageUri': '366743142698.dkr.ecr.ap-northeast-2.amazonaws.com/sagemaker-scikit-learn:0.20.0-cpu-py3', 'ContainerArguments': ['--input_name', 'amazon_reviews_us_Electronics_v1_00.tsv.gz', '--region', 'ap-northeast-2'], 'ContainerEntrypoint': ['python3', '/opt/ml/processing/input/code/preprocessing.py']}), ('RoleArn', 'arn:aws:iam::419974056037:role/service-role/AmazonSageMaker-ExecutionRole-20221004T162466'), ('ProcessingInputs', [{'InputName': 'input-1', 'AppManaged': False, 'S3Input': {'S3Uri': 's3://sm-pipeline-multi-models-datasets/model-24/amazon_reviews_us_Electronics_v1_00.tsv.gz', 'LocalPath': '/opt/ml/processing/input', 'S3DataType': 'S3Prefix', 'S3InputMode': 'File', 'S3DataDistributionType': 'FullyReplicated', 'S3CompressionType': 'None'}}, {'InputName': 'requirements', 'AppManaged': False, 'S3Input': {'S3Uri': 's3://sagemaker-ap-northeast-2-419974056037/preprocessing-model-24/input/requirements/requirements.txt', 'LocalPath': '/opt/ml/processing/input/requirements', 'S3DataType': 'S3Prefix', 'S3InputMode': 'File', 'S3DataDistributionType': 'FullyReplicated', 'S3CompressionType': 'None'}}, {'InputName': 'code', 'AppManaged': False, 'S3Input': {'S3Uri': 's3://sagemaker-ap-northeast-2-419974056037/preprocessing-model-24/input/code/preprocessing.py', 'LocalPath': '/opt/ml/processing/input/code', 'S3DataType': 'S3Prefix', 'S3InputMode': 'File', 'S3DataDistributionType': 'FullyReplicated', 'S3CompressionType': 'None'}}]), ('ProcessingOutputConfig', {'Outputs': [{'OutputName': 'train_data', 'AppManaged': False, 'S3Output': {'S3Uri': Join(on='/', values=['s3://sagemaker-ap-northeast-2-419974056037', 'train-pipeline-model-24', <sagemaker.workflow.execution_variables.ExecutionVariable object at 0x7f518847a3a0>, 'train_data']), 'LocalPath': '/opt/ml/processing/output/train', 'S3UploadMode': 'EndOfJob'}}, {'OutputName': 'validation_data', 'AppManaged': False, 'S3Output': {'S3Uri': Join(on='/', values=['s3://sagemaker-ap-northeast-2-419974056037', 'train-pipeline-model-24', <sagemaker.workflow.execution_variables.ExecutionVariable object at 0x7f518847a3a0>, 'validation_data']), 'LocalPath': '/opt/ml/processing/output/validation', 'S3UploadMode': 'EndOfJob'}}, {'OutputName': 'test_data', 'AppManaged': False, 'S3Output': {'S3Uri': Join(on='/', values=['s3://sagemaker-ap-northeast-2-419974056037', 'train-pipeline-model-24', <sagemaker.workflow.execution_variables.ExecutionVariable object at 0x7f518847a3a0>, 'test_data']), 'LocalPath': '/opt/ml/processing/output/test', 'S3UploadMode': 'EndOfJob'}}]})])\n",
      "  \n",
      "== Training Step ==\n",
      "   \n",
      "Args:  dict_items([('AlgorithmSpecification', {'TrainingInputMode': 'File', 'TrainingImage': '306986355934.dkr.ecr.ap-northeast-2.amazonaws.com/blazingtext:1'}), ('OutputDataConfig', {'S3OutputPath': Join(on='/', values=['s3://sagemaker-ap-northeast-2-419974056037', 'train-pipeline-model-24'])}), ('StoppingCondition', {'MaxRuntimeInSeconds': 360000}), ('ResourceConfig', {'VolumeSizeInGB': 30, 'InstanceCount': 1, 'InstanceType': 'ml.m5.xlarge'}), ('RoleArn', 'arn:aws:iam::419974056037:role/service-role/AmazonSageMaker-ExecutionRole-20221004T162466'), ('InputDataConfig', [{'DataSource': {'S3DataSource': {'S3DataType': 'S3Prefix', 'S3Uri': <sagemaker.workflow.properties.Properties object at 0x7f5185257700>, 'S3DataDistributionType': 'FullyReplicated'}}, 'ContentType': 'text/csv', 'ChannelName': 'train'}, {'DataSource': {'S3DataSource': {'S3DataType': 'S3Prefix', 'S3Uri': <sagemaker.workflow.properties.Properties object at 0x7f5185257a60>, 'S3DataDistributionType': 'FullyReplicated'}}, 'ContentType': 'text/csv', 'ChannelName': 'validation'}]), ('HyperParameters', {'mode': 'supervised', 'epochs': '10', 'min_epochs': '5', 'early_stopping': 'True', 'patience': '2', 'learning_rate': '0.01', 'min_count': '2', 'word_ngrams': '2', 'vector_dim': '16'}), ('DebugHookConfig', {'S3OutputPath': Join(on='/', values=['s3://sagemaker-ap-northeast-2-419974056037', 'train-pipeline-model-24']), 'CollectionConfigurations': []}), ('ProfilerConfig', {'S3OutputPath': Join(on='/', values=['s3://sagemaker-ap-northeast-2-419974056037', 'train-pipeline-model-24']), 'DisableProfiler': False})])\n",
      "  \n",
      "== Evaluation Step ==\n"
     ]
    },
    {
     "name": "stderr",
     "output_type": "stream",
     "text": [
      "INFO:sagemaker.processing:Uploaded ./sources/ to s3://sagemaker-ap-northeast-2-419974056037/evaluation/source/sourcedir.tar.gz\n",
      "INFO:sagemaker.processing:runproc.sh uploaded to s3://sagemaker-ap-northeast-2-419974056037/evaluation/source/runproc.sh\n"
     ]
    },
    {
     "name": "stdout",
     "output_type": "stream",
     "text": [
      "\n",
      "Job Name:  evaluation\n",
      "Inputs:  [{'InputName': 'input-1', 'AppManaged': False, 'S3Input': {'S3Uri': <sagemaker.workflow.properties.Properties object at 0x7f51875310d0>, 'LocalPath': '/opt/ml/processing/model', 'S3DataType': 'S3Prefix', 'S3InputMode': 'File', 'S3DataDistributionType': 'FullyReplicated', 'S3CompressionType': 'None'}}, {'InputName': 'input-2', 'AppManaged': False, 'S3Input': {'S3Uri': <sagemaker.workflow.properties.Properties object at 0x7f5186fb61c0>, 'LocalPath': '/opt/ml/processing/test', 'S3DataType': 'S3Prefix', 'S3InputMode': 'File', 'S3DataDistributionType': 'FullyReplicated', 'S3CompressionType': 'None'}}, {'InputName': 'code', 'AppManaged': False, 'S3Input': {'S3Uri': 's3://sagemaker-ap-northeast-2-419974056037/evaluation/source/sourcedir.tar.gz', 'LocalPath': '/opt/ml/processing/input/code/', 'S3DataType': 'S3Prefix', 'S3InputMode': 'File', 'S3DataDistributionType': 'FullyReplicated', 'S3CompressionType': 'None'}}, {'InputName': 'entrypoint', 'AppManaged': False, 'S3Input': {'S3Uri': 's3://sagemaker-ap-northeast-2-419974056037/evaluation/source/runproc.sh', 'LocalPath': '/opt/ml/processing/input/entrypoint', 'S3DataType': 'S3Prefix', 'S3InputMode': 'File', 'S3DataDistributionType': 'FullyReplicated', 'S3CompressionType': 'None'}}]\n",
      "Outputs:  [{'OutputName': 'evaluation-metrics', 'AppManaged': False, 'S3Output': {'S3Uri': Join(on='/', values=['s3://sagemaker-ap-northeast-2-419974056037', 'train-pipeline-model-24', <sagemaker.workflow.execution_variables.ExecutionVariable object at 0x7f518847a3a0>, 'evaluation-metrics']), 'LocalPath': '/opt/ml/processing/evaluation', 'S3UploadMode': 'EndOfJob'}}]\n",
      "   \n",
      "Args:  dict_items([('ProcessingResources', {'ClusterConfig': {'InstanceType': 'ml.g4dn.xlarge', 'InstanceCount': 1, 'VolumeSizeInGB': 30}}), ('AppSpecification', {'ImageUri': '763104351884.dkr.ecr.ap-northeast-2.amazonaws.com/tensorflow-training:2.3-gpu-py37', 'ContainerArguments': ['--s3_model_path', <sagemaker.workflow.properties.Properties object at 0x7f51875310d0>, '--region', 'ap-northeast-2', '--model_name', 'model-24'], 'ContainerEntrypoint': ['/bin/bash', '/opt/ml/processing/input/entrypoint/runproc.sh']}), ('RoleArn', 'arn:aws:iam::419974056037:role/service-role/AmazonSageMaker-ExecutionRole-20221004T162466'), ('ProcessingInputs', [{'InputName': 'input-1', 'AppManaged': False, 'S3Input': {'S3Uri': <sagemaker.workflow.properties.Properties object at 0x7f51875310d0>, 'LocalPath': '/opt/ml/processing/model', 'S3DataType': 'S3Prefix', 'S3InputMode': 'File', 'S3DataDistributionType': 'FullyReplicated', 'S3CompressionType': 'None'}}, {'InputName': 'input-2', 'AppManaged': False, 'S3Input': {'S3Uri': <sagemaker.workflow.properties.Properties object at 0x7f5186fb61c0>, 'LocalPath': '/opt/ml/processing/test', 'S3DataType': 'S3Prefix', 'S3InputMode': 'File', 'S3DataDistributionType': 'FullyReplicated', 'S3CompressionType': 'None'}}, {'InputName': 'code', 'AppManaged': False, 'S3Input': {'S3Uri': 's3://sagemaker-ap-northeast-2-419974056037/evaluation/source/sourcedir.tar.gz', 'LocalPath': '/opt/ml/processing/input/code/', 'S3DataType': 'S3Prefix', 'S3InputMode': 'File', 'S3DataDistributionType': 'FullyReplicated', 'S3CompressionType': 'None'}}, {'InputName': 'entrypoint', 'AppManaged': False, 'S3Input': {'S3Uri': 's3://sagemaker-ap-northeast-2-419974056037/evaluation/source/runproc.sh', 'LocalPath': '/opt/ml/processing/input/entrypoint', 'S3DataType': 'S3Prefix', 'S3InputMode': 'File', 'S3DataDistributionType': 'FullyReplicated', 'S3CompressionType': 'None'}}]), ('ProcessingOutputConfig', {'Outputs': [{'OutputName': 'evaluation-metrics', 'AppManaged': False, 'S3Output': {'S3Uri': Join(on='/', values=['s3://sagemaker-ap-northeast-2-419974056037', 'train-pipeline-model-24', <sagemaker.workflow.execution_variables.ExecutionVariable object at 0x7f518847a3a0>, 'evaluation-metrics']), 'LocalPath': '/opt/ml/processing/evaluation', 'S3UploadMode': 'EndOfJob'}}]})])\n",
      "  \n",
      "== Registration Step ==\n"
     ]
    },
    {
     "name": "stderr",
     "output_type": "stream",
     "text": [
      "INFO:sagemaker.processing:Uploaded ./sources/ to s3://sagemaker-ap-northeast-2-419974056037/train-pipeline-model-24/code/eabace17c9345271cf901107138b46a8/sourcedir.tar.gz\n",
      "INFO:sagemaker.processing:runproc.sh uploaded to s3://sagemaker-ap-northeast-2-419974056037/train-pipeline-model-24/code/1071dadab36d48ed1fba97e2ff137bdf/runproc.sh\n",
      "WARNING:sagemaker.estimator:No finished training job found associated with this estimator. Please make sure this estimator is only used for building workflow config\n",
      "WARNING:sagemaker.workflow._utils:Popping out 'CertifyForMarketplace' from the pipeline definition since it will be overridden in pipeline execution time.\n"
     ]
    },
    {
     "name": "stdout",
     "output_type": "stream",
     "text": [
      "\n",
      "Job Name:  preprocessing-model-24\n",
      "Inputs:  [{'InputName': 'input-1', 'AppManaged': False, 'S3Input': {'S3Uri': 's3://sm-pipeline-multi-models-datasets/model-24/amazon_reviews_us_Electronics_v1_00.tsv.gz', 'LocalPath': '/opt/ml/processing/input', 'S3DataType': 'S3Prefix', 'S3InputMode': 'File', 'S3DataDistributionType': 'FullyReplicated', 'S3CompressionType': 'None'}}, {'InputName': 'requirements', 'AppManaged': False, 'S3Input': {'S3Uri': 's3://sagemaker-ap-northeast-2-419974056037/preprocessing-model-24/input/requirements/requirements.txt', 'LocalPath': '/opt/ml/processing/input/requirements', 'S3DataType': 'S3Prefix', 'S3InputMode': 'File', 'S3DataDistributionType': 'FullyReplicated', 'S3CompressionType': 'None'}}, {'InputName': 'code', 'AppManaged': False, 'S3Input': {'S3Uri': 's3://sagemaker-ap-northeast-2-419974056037/train-pipeline-model-24/code/2b3c51df48188408561910efa21ddc30/preprocessing.py', 'LocalPath': '/opt/ml/processing/input/code', 'S3DataType': 'S3Prefix', 'S3InputMode': 'File', 'S3DataDistributionType': 'FullyReplicated', 'S3CompressionType': 'None'}}]\n",
      "Outputs:  [{'OutputName': 'train_data', 'AppManaged': False, 'S3Output': {'S3Uri': Join(on='/', values=['s3://sagemaker-ap-northeast-2-419974056037', 'train-pipeline-model-24', <sagemaker.workflow.execution_variables.ExecutionVariable object at 0x7f518847a3a0>, 'train_data']), 'LocalPath': '/opt/ml/processing/output/train', 'S3UploadMode': 'EndOfJob'}}, {'OutputName': 'validation_data', 'AppManaged': False, 'S3Output': {'S3Uri': Join(on='/', values=['s3://sagemaker-ap-northeast-2-419974056037', 'train-pipeline-model-24', <sagemaker.workflow.execution_variables.ExecutionVariable object at 0x7f518847a3a0>, 'validation_data']), 'LocalPath': '/opt/ml/processing/output/validation', 'S3UploadMode': 'EndOfJob'}}, {'OutputName': 'test_data', 'AppManaged': False, 'S3Output': {'S3Uri': Join(on='/', values=['s3://sagemaker-ap-northeast-2-419974056037', 'train-pipeline-model-24', <sagemaker.workflow.execution_variables.ExecutionVariable object at 0x7f518847a3a0>, 'test_data']), 'LocalPath': '/opt/ml/processing/output/test', 'S3UploadMode': 'EndOfJob'}}]\n",
      "\n",
      "Job Name:  evaluation\n",
      "Inputs:  [{'InputName': 'input-1', 'AppManaged': False, 'S3Input': {'S3Uri': <sagemaker.workflow.properties.Properties object at 0x7f51875310d0>, 'LocalPath': '/opt/ml/processing/model', 'S3DataType': 'S3Prefix', 'S3InputMode': 'File', 'S3DataDistributionType': 'FullyReplicated', 'S3CompressionType': 'None'}}, {'InputName': 'input-2', 'AppManaged': False, 'S3Input': {'S3Uri': <sagemaker.workflow.properties.Properties object at 0x7f5186fb61c0>, 'LocalPath': '/opt/ml/processing/test', 'S3DataType': 'S3Prefix', 'S3InputMode': 'File', 'S3DataDistributionType': 'FullyReplicated', 'S3CompressionType': 'None'}}, {'InputName': 'code', 'AppManaged': False, 'S3Input': {'S3Uri': 's3://sagemaker-ap-northeast-2-419974056037/train-pipeline-model-24/code/eabace17c9345271cf901107138b46a8/sourcedir.tar.gz', 'LocalPath': '/opt/ml/processing/input/code/', 'S3DataType': 'S3Prefix', 'S3InputMode': 'File', 'S3DataDistributionType': 'FullyReplicated', 'S3CompressionType': 'None'}}, {'InputName': 'entrypoint', 'AppManaged': False, 'S3Input': {'S3Uri': 's3://sagemaker-ap-northeast-2-419974056037/train-pipeline-model-24/code/1071dadab36d48ed1fba97e2ff137bdf/runproc.sh', 'LocalPath': '/opt/ml/processing/input/entrypoint', 'S3DataType': 'S3Prefix', 'S3InputMode': 'File', 'S3DataDistributionType': 'FullyReplicated', 'S3CompressionType': 'None'}}]\n",
      "Outputs:  [{'OutputName': 'evaluation-metrics', 'AppManaged': False, 'S3Output': {'S3Uri': Join(on='/', values=['s3://sagemaker-ap-northeast-2-419974056037', 'train-pipeline-model-24', <sagemaker.workflow.execution_variables.ExecutionVariable object at 0x7f518847a3a0>, 'evaluation-metrics']), 'LocalPath': '/opt/ml/processing/evaluation', 'S3UploadMode': 'EndOfJob'}}]\n",
      "  \n",
      "== PipeLine Execution info.==\n",
      "{'PipelineArn': 'arn:aws:sagemaker:ap-northeast-2:419974056037:pipeline/train-pipeline-model-24', 'PipelineExecutionArn': 'arn:aws:sagemaker:ap-northeast-2:419974056037:pipeline/train-pipeline-model-24/execution/4e55btbmt4wf', 'PipelineExecutionDisplayName': 'execution-1674699118288', 'PipelineExecutionStatus': 'Executing', 'CreationTime': datetime.datetime(2023, 1, 26, 2, 11, 58, 212000, tzinfo=tzlocal()), 'LastModifiedTime': datetime.datetime(2023, 1, 26, 2, 11, 58, 212000, tzinfo=tzlocal()), 'CreatedBy': {}, 'LastModifiedBy': {}, 'ResponseMetadata': {'RequestId': 'e13dee72-4698-41b6-b7df-ab610df23711', 'HTTPStatusCode': 200, 'HTTPHeaders': {'x-amzn-requestid': 'e13dee72-4698-41b6-b7df-ab610df23711', 'content-type': 'application/x-amz-json-1.1', 'content-length': '421', 'date': 'Thu, 26 Jan 2023 02:11:57 GMT'}, 'RetryAttempts': 0}}\n",
      "========================== \n",
      "\n"
     ]
    },
    {
     "name": "stderr",
     "output_type": "stream",
     "text": [
      "INFO:sagemaker.image_uris:Same images used for training and inference. Defaulting to image scope: inference.\n",
      "INFO:sagemaker.image_uris:Defaulting to the only supported framework/algorithm version: 1.\n",
      "INFO:sagemaker.image_uris:Ignoring unnecessary instance type: None.\n",
      "INFO:sagemaker.image_uris:Defaulting to only available Python version: py3\n"
     ]
    },
    {
     "name": "stdout",
     "output_type": "stream",
     "text": [
      "MODEL-NAME: model-25\n",
      "  Account-ID: 419974056037, \n",
      "  Region: ap-northeast-2, \n",
      "  Role: arn:aws:iam::419974056037:role/service-role/AmazonSageMaker-ExecutionRole-20221004T162466, \n",
      "  Default_bucket: sagemaker-ap-northeast-2-419974056037\n",
      "  pipeline_session: <sagemaker.workflow.pipeline_context.PipelineSession object at 0x7f518753d7f0>\n",
      "  \n",
      "== Preprocessing Step ==\n"
     ]
    },
    {
     "name": "stderr",
     "output_type": "stream",
     "text": [
      "INFO:sagemaker.image_uris:image_uri is not presented, retrieving image_uri based on instance_type, framework etc.\n",
      "INFO:sagemaker.processing:Uploaded ./sources/ to s3://sagemaker-ap-northeast-2-419974056037/evaluation/source/sourcedir.tar.gz\n",
      "INFO:sagemaker.processing:runproc.sh uploaded to s3://sagemaker-ap-northeast-2-419974056037/evaluation/source/runproc.sh\n"
     ]
    },
    {
     "name": "stdout",
     "output_type": "stream",
     "text": [
      "\n",
      "Job Name:  preprocessing-model-25\n",
      "Inputs:  [{'InputName': 'input-1', 'AppManaged': False, 'S3Input': {'S3Uri': 's3://sm-pipeline-multi-models-datasets/model-25/amazon_reviews_us_Electronics_v1_00.tsv.gz', 'LocalPath': '/opt/ml/processing/input', 'S3DataType': 'S3Prefix', 'S3InputMode': 'File', 'S3DataDistributionType': 'FullyReplicated', 'S3CompressionType': 'None'}}, {'InputName': 'requirements', 'AppManaged': False, 'S3Input': {'S3Uri': 's3://sagemaker-ap-northeast-2-419974056037/preprocessing-model-25/input/requirements/requirements.txt', 'LocalPath': '/opt/ml/processing/input/requirements', 'S3DataType': 'S3Prefix', 'S3InputMode': 'File', 'S3DataDistributionType': 'FullyReplicated', 'S3CompressionType': 'None'}}, {'InputName': 'code', 'AppManaged': False, 'S3Input': {'S3Uri': 's3://sagemaker-ap-northeast-2-419974056037/preprocessing-model-25/input/code/preprocessing.py', 'LocalPath': '/opt/ml/processing/input/code', 'S3DataType': 'S3Prefix', 'S3InputMode': 'File', 'S3DataDistributionType': 'FullyReplicated', 'S3CompressionType': 'None'}}]\n",
      "Outputs:  [{'OutputName': 'train_data', 'AppManaged': False, 'S3Output': {'S3Uri': Join(on='/', values=['s3://sagemaker-ap-northeast-2-419974056037', 'train-pipeline-model-25', <sagemaker.workflow.execution_variables.ExecutionVariable object at 0x7f518847a3a0>, 'train_data']), 'LocalPath': '/opt/ml/processing/output/train', 'S3UploadMode': 'EndOfJob'}}, {'OutputName': 'validation_data', 'AppManaged': False, 'S3Output': {'S3Uri': Join(on='/', values=['s3://sagemaker-ap-northeast-2-419974056037', 'train-pipeline-model-25', <sagemaker.workflow.execution_variables.ExecutionVariable object at 0x7f518847a3a0>, 'validation_data']), 'LocalPath': '/opt/ml/processing/output/validation', 'S3UploadMode': 'EndOfJob'}}, {'OutputName': 'test_data', 'AppManaged': False, 'S3Output': {'S3Uri': Join(on='/', values=['s3://sagemaker-ap-northeast-2-419974056037', 'train-pipeline-model-25', <sagemaker.workflow.execution_variables.ExecutionVariable object at 0x7f518847a3a0>, 'test_data']), 'LocalPath': '/opt/ml/processing/output/test', 'S3UploadMode': 'EndOfJob'}}]\n",
      "   \n",
      "Args:  dict_items([('ProcessingResources', {'ClusterConfig': {'InstanceType': 'ml.m5.xlarge', 'InstanceCount': 1, 'VolumeSizeInGB': 30}}), ('AppSpecification', {'ImageUri': '366743142698.dkr.ecr.ap-northeast-2.amazonaws.com/sagemaker-scikit-learn:0.20.0-cpu-py3', 'ContainerArguments': ['--input_name', 'amazon_reviews_us_Electronics_v1_00.tsv.gz', '--region', 'ap-northeast-2'], 'ContainerEntrypoint': ['python3', '/opt/ml/processing/input/code/preprocessing.py']}), ('RoleArn', 'arn:aws:iam::419974056037:role/service-role/AmazonSageMaker-ExecutionRole-20221004T162466'), ('ProcessingInputs', [{'InputName': 'input-1', 'AppManaged': False, 'S3Input': {'S3Uri': 's3://sm-pipeline-multi-models-datasets/model-25/amazon_reviews_us_Electronics_v1_00.tsv.gz', 'LocalPath': '/opt/ml/processing/input', 'S3DataType': 'S3Prefix', 'S3InputMode': 'File', 'S3DataDistributionType': 'FullyReplicated', 'S3CompressionType': 'None'}}, {'InputName': 'requirements', 'AppManaged': False, 'S3Input': {'S3Uri': 's3://sagemaker-ap-northeast-2-419974056037/preprocessing-model-25/input/requirements/requirements.txt', 'LocalPath': '/opt/ml/processing/input/requirements', 'S3DataType': 'S3Prefix', 'S3InputMode': 'File', 'S3DataDistributionType': 'FullyReplicated', 'S3CompressionType': 'None'}}, {'InputName': 'code', 'AppManaged': False, 'S3Input': {'S3Uri': 's3://sagemaker-ap-northeast-2-419974056037/preprocessing-model-25/input/code/preprocessing.py', 'LocalPath': '/opt/ml/processing/input/code', 'S3DataType': 'S3Prefix', 'S3InputMode': 'File', 'S3DataDistributionType': 'FullyReplicated', 'S3CompressionType': 'None'}}]), ('ProcessingOutputConfig', {'Outputs': [{'OutputName': 'train_data', 'AppManaged': False, 'S3Output': {'S3Uri': Join(on='/', values=['s3://sagemaker-ap-northeast-2-419974056037', 'train-pipeline-model-25', <sagemaker.workflow.execution_variables.ExecutionVariable object at 0x7f518847a3a0>, 'train_data']), 'LocalPath': '/opt/ml/processing/output/train', 'S3UploadMode': 'EndOfJob'}}, {'OutputName': 'validation_data', 'AppManaged': False, 'S3Output': {'S3Uri': Join(on='/', values=['s3://sagemaker-ap-northeast-2-419974056037', 'train-pipeline-model-25', <sagemaker.workflow.execution_variables.ExecutionVariable object at 0x7f518847a3a0>, 'validation_data']), 'LocalPath': '/opt/ml/processing/output/validation', 'S3UploadMode': 'EndOfJob'}}, {'OutputName': 'test_data', 'AppManaged': False, 'S3Output': {'S3Uri': Join(on='/', values=['s3://sagemaker-ap-northeast-2-419974056037', 'train-pipeline-model-25', <sagemaker.workflow.execution_variables.ExecutionVariable object at 0x7f518847a3a0>, 'test_data']), 'LocalPath': '/opt/ml/processing/output/test', 'S3UploadMode': 'EndOfJob'}}]})])\n",
      "  \n",
      "== Training Step ==\n",
      "   \n",
      "Args:  dict_items([('AlgorithmSpecification', {'TrainingInputMode': 'File', 'TrainingImage': '306986355934.dkr.ecr.ap-northeast-2.amazonaws.com/blazingtext:1'}), ('OutputDataConfig', {'S3OutputPath': Join(on='/', values=['s3://sagemaker-ap-northeast-2-419974056037', 'train-pipeline-model-25'])}), ('StoppingCondition', {'MaxRuntimeInSeconds': 360000}), ('ResourceConfig', {'VolumeSizeInGB': 30, 'InstanceCount': 1, 'InstanceType': 'ml.m5.xlarge'}), ('RoleArn', 'arn:aws:iam::419974056037:role/service-role/AmazonSageMaker-ExecutionRole-20221004T162466'), ('InputDataConfig', [{'DataSource': {'S3DataSource': {'S3DataType': 'S3Prefix', 'S3Uri': <sagemaker.workflow.properties.Properties object at 0x7f5187575be0>, 'S3DataDistributionType': 'FullyReplicated'}}, 'ContentType': 'text/csv', 'ChannelName': 'train'}, {'DataSource': {'S3DataSource': {'S3DataType': 'S3Prefix', 'S3Uri': <sagemaker.workflow.properties.Properties object at 0x7f5185744730>, 'S3DataDistributionType': 'FullyReplicated'}}, 'ContentType': 'text/csv', 'ChannelName': 'validation'}]), ('HyperParameters', {'mode': 'supervised', 'epochs': '10', 'min_epochs': '5', 'early_stopping': 'True', 'patience': '2', 'learning_rate': '0.01', 'min_count': '2', 'word_ngrams': '2', 'vector_dim': '16'}), ('DebugHookConfig', {'S3OutputPath': Join(on='/', values=['s3://sagemaker-ap-northeast-2-419974056037', 'train-pipeline-model-25']), 'CollectionConfigurations': []}), ('ProfilerConfig', {'S3OutputPath': Join(on='/', values=['s3://sagemaker-ap-northeast-2-419974056037', 'train-pipeline-model-25']), 'DisableProfiler': False})])\n",
      "  \n",
      "== Evaluation Step ==\n",
      "\n",
      "Job Name:  evaluation\n",
      "Inputs:  [{'InputName': 'input-1', 'AppManaged': False, 'S3Input': {'S3Uri': <sagemaker.workflow.properties.Properties object at 0x7f51852c7c10>, 'LocalPath': '/opt/ml/processing/model', 'S3DataType': 'S3Prefix', 'S3InputMode': 'File', 'S3DataDistributionType': 'FullyReplicated', 'S3CompressionType': 'None'}}, {'InputName': 'input-2', 'AppManaged': False, 'S3Input': {'S3Uri': <sagemaker.workflow.properties.Properties object at 0x7f51851ced30>, 'LocalPath': '/opt/ml/processing/test', 'S3DataType': 'S3Prefix', 'S3InputMode': 'File', 'S3DataDistributionType': 'FullyReplicated', 'S3CompressionType': 'None'}}, {'InputName': 'code', 'AppManaged': False, 'S3Input': {'S3Uri': 's3://sagemaker-ap-northeast-2-419974056037/evaluation/source/sourcedir.tar.gz', 'LocalPath': '/opt/ml/processing/input/code/', 'S3DataType': 'S3Prefix', 'S3InputMode': 'File', 'S3DataDistributionType': 'FullyReplicated', 'S3CompressionType': 'None'}}, {'InputName': 'entrypoint', 'AppManaged': False, 'S3Input': {'S3Uri': 's3://sagemaker-ap-northeast-2-419974056037/evaluation/source/runproc.sh', 'LocalPath': '/opt/ml/processing/input/entrypoint', 'S3DataType': 'S3Prefix', 'S3InputMode': 'File', 'S3DataDistributionType': 'FullyReplicated', 'S3CompressionType': 'None'}}]\n",
      "Outputs:  [{'OutputName': 'evaluation-metrics', 'AppManaged': False, 'S3Output': {'S3Uri': Join(on='/', values=['s3://sagemaker-ap-northeast-2-419974056037', 'train-pipeline-model-25', <sagemaker.workflow.execution_variables.ExecutionVariable object at 0x7f518847a3a0>, 'evaluation-metrics']), 'LocalPath': '/opt/ml/processing/evaluation', 'S3UploadMode': 'EndOfJob'}}]\n",
      "   \n",
      "Args:  dict_items([('ProcessingResources', {'ClusterConfig': {'InstanceType': 'ml.g4dn.xlarge', 'InstanceCount': 1, 'VolumeSizeInGB': 30}}), ('AppSpecification', {'ImageUri': '763104351884.dkr.ecr.ap-northeast-2.amazonaws.com/tensorflow-training:2.3-gpu-py37', 'ContainerArguments': ['--s3_model_path', <sagemaker.workflow.properties.Properties object at 0x7f51852c7c10>, '--region', 'ap-northeast-2', '--model_name', 'model-25'], 'ContainerEntrypoint': ['/bin/bash', '/opt/ml/processing/input/entrypoint/runproc.sh']}), ('RoleArn', 'arn:aws:iam::419974056037:role/service-role/AmazonSageMaker-ExecutionRole-20221004T162466'), ('ProcessingInputs', [{'InputName': 'input-1', 'AppManaged': False, 'S3Input': {'S3Uri': <sagemaker.workflow.properties.Properties object at 0x7f51852c7c10>, 'LocalPath': '/opt/ml/processing/model', 'S3DataType': 'S3Prefix', 'S3InputMode': 'File', 'S3DataDistributionType': 'FullyReplicated', 'S3CompressionType': 'None'}}, {'InputName': 'input-2', 'AppManaged': False, 'S3Input': {'S3Uri': <sagemaker.workflow.properties.Properties object at 0x7f51851ced30>, 'LocalPath': '/opt/ml/processing/test', 'S3DataType': 'S3Prefix', 'S3InputMode': 'File', 'S3DataDistributionType': 'FullyReplicated', 'S3CompressionType': 'None'}}, {'InputName': 'code', 'AppManaged': False, 'S3Input': {'S3Uri': 's3://sagemaker-ap-northeast-2-419974056037/evaluation/source/sourcedir.tar.gz', 'LocalPath': '/opt/ml/processing/input/code/', 'S3DataType': 'S3Prefix', 'S3InputMode': 'File', 'S3DataDistributionType': 'FullyReplicated', 'S3CompressionType': 'None'}}, {'InputName': 'entrypoint', 'AppManaged': False, 'S3Input': {'S3Uri': 's3://sagemaker-ap-northeast-2-419974056037/evaluation/source/runproc.sh', 'LocalPath': '/opt/ml/processing/input/entrypoint', 'S3DataType': 'S3Prefix', 'S3InputMode': 'File', 'S3DataDistributionType': 'FullyReplicated', 'S3CompressionType': 'None'}}]), ('ProcessingOutputConfig', {'Outputs': [{'OutputName': 'evaluation-metrics', 'AppManaged': False, 'S3Output': {'S3Uri': Join(on='/', values=['s3://sagemaker-ap-northeast-2-419974056037', 'train-pipeline-model-25', <sagemaker.workflow.execution_variables.ExecutionVariable object at 0x7f518847a3a0>, 'evaluation-metrics']), 'LocalPath': '/opt/ml/processing/evaluation', 'S3UploadMode': 'EndOfJob'}}]})])\n",
      "  \n",
      "== Registration Step ==\n"
     ]
    },
    {
     "name": "stderr",
     "output_type": "stream",
     "text": [
      "INFO:sagemaker.processing:Uploaded ./sources/ to s3://sagemaker-ap-northeast-2-419974056037/train-pipeline-model-25/code/eabace17c9345271cf901107138b46a8/sourcedir.tar.gz\n",
      "INFO:sagemaker.processing:runproc.sh uploaded to s3://sagemaker-ap-northeast-2-419974056037/train-pipeline-model-25/code/1071dadab36d48ed1fba97e2ff137bdf/runproc.sh\n",
      "WARNING:sagemaker.estimator:No finished training job found associated with this estimator. Please make sure this estimator is only used for building workflow config\n",
      "WARNING:sagemaker.workflow._utils:Popping out 'CertifyForMarketplace' from the pipeline definition since it will be overridden in pipeline execution time.\n"
     ]
    },
    {
     "name": "stdout",
     "output_type": "stream",
     "text": [
      "\n",
      "Job Name:  preprocessing-model-25\n",
      "Inputs:  [{'InputName': 'input-1', 'AppManaged': False, 'S3Input': {'S3Uri': 's3://sm-pipeline-multi-models-datasets/model-25/amazon_reviews_us_Electronics_v1_00.tsv.gz', 'LocalPath': '/opt/ml/processing/input', 'S3DataType': 'S3Prefix', 'S3InputMode': 'File', 'S3DataDistributionType': 'FullyReplicated', 'S3CompressionType': 'None'}}, {'InputName': 'requirements', 'AppManaged': False, 'S3Input': {'S3Uri': 's3://sagemaker-ap-northeast-2-419974056037/preprocessing-model-25/input/requirements/requirements.txt', 'LocalPath': '/opt/ml/processing/input/requirements', 'S3DataType': 'S3Prefix', 'S3InputMode': 'File', 'S3DataDistributionType': 'FullyReplicated', 'S3CompressionType': 'None'}}, {'InputName': 'code', 'AppManaged': False, 'S3Input': {'S3Uri': 's3://sagemaker-ap-northeast-2-419974056037/train-pipeline-model-25/code/2b3c51df48188408561910efa21ddc30/preprocessing.py', 'LocalPath': '/opt/ml/processing/input/code', 'S3DataType': 'S3Prefix', 'S3InputMode': 'File', 'S3DataDistributionType': 'FullyReplicated', 'S3CompressionType': 'None'}}]\n",
      "Outputs:  [{'OutputName': 'train_data', 'AppManaged': False, 'S3Output': {'S3Uri': Join(on='/', values=['s3://sagemaker-ap-northeast-2-419974056037', 'train-pipeline-model-25', <sagemaker.workflow.execution_variables.ExecutionVariable object at 0x7f518847a3a0>, 'train_data']), 'LocalPath': '/opt/ml/processing/output/train', 'S3UploadMode': 'EndOfJob'}}, {'OutputName': 'validation_data', 'AppManaged': False, 'S3Output': {'S3Uri': Join(on='/', values=['s3://sagemaker-ap-northeast-2-419974056037', 'train-pipeline-model-25', <sagemaker.workflow.execution_variables.ExecutionVariable object at 0x7f518847a3a0>, 'validation_data']), 'LocalPath': '/opt/ml/processing/output/validation', 'S3UploadMode': 'EndOfJob'}}, {'OutputName': 'test_data', 'AppManaged': False, 'S3Output': {'S3Uri': Join(on='/', values=['s3://sagemaker-ap-northeast-2-419974056037', 'train-pipeline-model-25', <sagemaker.workflow.execution_variables.ExecutionVariable object at 0x7f518847a3a0>, 'test_data']), 'LocalPath': '/opt/ml/processing/output/test', 'S3UploadMode': 'EndOfJob'}}]\n",
      "\n",
      "Job Name:  evaluation\n",
      "Inputs:  [{'InputName': 'input-1', 'AppManaged': False, 'S3Input': {'S3Uri': <sagemaker.workflow.properties.Properties object at 0x7f51852c7c10>, 'LocalPath': '/opt/ml/processing/model', 'S3DataType': 'S3Prefix', 'S3InputMode': 'File', 'S3DataDistributionType': 'FullyReplicated', 'S3CompressionType': 'None'}}, {'InputName': 'input-2', 'AppManaged': False, 'S3Input': {'S3Uri': <sagemaker.workflow.properties.Properties object at 0x7f51851ced30>, 'LocalPath': '/opt/ml/processing/test', 'S3DataType': 'S3Prefix', 'S3InputMode': 'File', 'S3DataDistributionType': 'FullyReplicated', 'S3CompressionType': 'None'}}, {'InputName': 'code', 'AppManaged': False, 'S3Input': {'S3Uri': 's3://sagemaker-ap-northeast-2-419974056037/train-pipeline-model-25/code/eabace17c9345271cf901107138b46a8/sourcedir.tar.gz', 'LocalPath': '/opt/ml/processing/input/code/', 'S3DataType': 'S3Prefix', 'S3InputMode': 'File', 'S3DataDistributionType': 'FullyReplicated', 'S3CompressionType': 'None'}}, {'InputName': 'entrypoint', 'AppManaged': False, 'S3Input': {'S3Uri': 's3://sagemaker-ap-northeast-2-419974056037/train-pipeline-model-25/code/1071dadab36d48ed1fba97e2ff137bdf/runproc.sh', 'LocalPath': '/opt/ml/processing/input/entrypoint', 'S3DataType': 'S3Prefix', 'S3InputMode': 'File', 'S3DataDistributionType': 'FullyReplicated', 'S3CompressionType': 'None'}}]\n",
      "Outputs:  [{'OutputName': 'evaluation-metrics', 'AppManaged': False, 'S3Output': {'S3Uri': Join(on='/', values=['s3://sagemaker-ap-northeast-2-419974056037', 'train-pipeline-model-25', <sagemaker.workflow.execution_variables.ExecutionVariable object at 0x7f518847a3a0>, 'evaluation-metrics']), 'LocalPath': '/opt/ml/processing/evaluation', 'S3UploadMode': 'EndOfJob'}}]\n",
      "  \n",
      "== PipeLine Execution info.==\n",
      "{'PipelineArn': 'arn:aws:sagemaker:ap-northeast-2:419974056037:pipeline/train-pipeline-model-25', 'PipelineExecutionArn': 'arn:aws:sagemaker:ap-northeast-2:419974056037:pipeline/train-pipeline-model-25/execution/pcr8qvpdu15a', 'PipelineExecutionDisplayName': 'execution-1674699119927', 'PipelineExecutionStatus': 'Executing', 'CreationTime': datetime.datetime(2023, 1, 26, 2, 11, 59, 862000, tzinfo=tzlocal()), 'LastModifiedTime': datetime.datetime(2023, 1, 26, 2, 11, 59, 862000, tzinfo=tzlocal()), 'CreatedBy': {}, 'LastModifiedBy': {}, 'ResponseMetadata': {'RequestId': '68d25e96-53e0-4997-a332-074bdbddff91', 'HTTPStatusCode': 200, 'HTTPHeaders': {'x-amzn-requestid': '68d25e96-53e0-4997-a332-074bdbddff91', 'content-type': 'application/x-amz-json-1.1', 'content-length': '421', 'date': 'Thu, 26 Jan 2023 02:11:59 GMT'}, 'RetryAttempts': 0}}\n",
      "========================== \n",
      "\n"
     ]
    },
    {
     "name": "stderr",
     "output_type": "stream",
     "text": [
      "INFO:sagemaker.image_uris:Same images used for training and inference. Defaulting to image scope: inference.\n",
      "INFO:sagemaker.image_uris:Defaulting to the only supported framework/algorithm version: 1.\n",
      "INFO:sagemaker.image_uris:Ignoring unnecessary instance type: None.\n",
      "INFO:sagemaker.image_uris:Defaulting to only available Python version: py3\n"
     ]
    },
    {
     "name": "stdout",
     "output_type": "stream",
     "text": [
      "MODEL-NAME: model-26\n",
      "  Account-ID: 419974056037, \n",
      "  Region: ap-northeast-2, \n",
      "  Role: arn:aws:iam::419974056037:role/service-role/AmazonSageMaker-ExecutionRole-20221004T162466, \n",
      "  Default_bucket: sagemaker-ap-northeast-2-419974056037\n",
      "  pipeline_session: <sagemaker.workflow.pipeline_context.PipelineSession object at 0x7f51853746a0>\n",
      "  \n",
      "== Preprocessing Step ==\n"
     ]
    },
    {
     "name": "stderr",
     "output_type": "stream",
     "text": [
      "INFO:sagemaker.image_uris:image_uri is not presented, retrieving image_uri based on instance_type, framework etc.\n",
      "INFO:sagemaker.processing:Uploaded ./sources/ to s3://sagemaker-ap-northeast-2-419974056037/evaluation/source/sourcedir.tar.gz\n"
     ]
    },
    {
     "name": "stdout",
     "output_type": "stream",
     "text": [
      "\n",
      "Job Name:  preprocessing-model-26\n",
      "Inputs:  [{'InputName': 'input-1', 'AppManaged': False, 'S3Input': {'S3Uri': 's3://sm-pipeline-multi-models-datasets/model-26/amazon_reviews_us_Electronics_v1_00.tsv.gz', 'LocalPath': '/opt/ml/processing/input', 'S3DataType': 'S3Prefix', 'S3InputMode': 'File', 'S3DataDistributionType': 'FullyReplicated', 'S3CompressionType': 'None'}}, {'InputName': 'requirements', 'AppManaged': False, 'S3Input': {'S3Uri': 's3://sagemaker-ap-northeast-2-419974056037/preprocessing-model-26/input/requirements/requirements.txt', 'LocalPath': '/opt/ml/processing/input/requirements', 'S3DataType': 'S3Prefix', 'S3InputMode': 'File', 'S3DataDistributionType': 'FullyReplicated', 'S3CompressionType': 'None'}}, {'InputName': 'code', 'AppManaged': False, 'S3Input': {'S3Uri': 's3://sagemaker-ap-northeast-2-419974056037/preprocessing-model-26/input/code/preprocessing.py', 'LocalPath': '/opt/ml/processing/input/code', 'S3DataType': 'S3Prefix', 'S3InputMode': 'File', 'S3DataDistributionType': 'FullyReplicated', 'S3CompressionType': 'None'}}]\n",
      "Outputs:  [{'OutputName': 'train_data', 'AppManaged': False, 'S3Output': {'S3Uri': Join(on='/', values=['s3://sagemaker-ap-northeast-2-419974056037', 'train-pipeline-model-26', <sagemaker.workflow.execution_variables.ExecutionVariable object at 0x7f518847a3a0>, 'train_data']), 'LocalPath': '/opt/ml/processing/output/train', 'S3UploadMode': 'EndOfJob'}}, {'OutputName': 'validation_data', 'AppManaged': False, 'S3Output': {'S3Uri': Join(on='/', values=['s3://sagemaker-ap-northeast-2-419974056037', 'train-pipeline-model-26', <sagemaker.workflow.execution_variables.ExecutionVariable object at 0x7f518847a3a0>, 'validation_data']), 'LocalPath': '/opt/ml/processing/output/validation', 'S3UploadMode': 'EndOfJob'}}, {'OutputName': 'test_data', 'AppManaged': False, 'S3Output': {'S3Uri': Join(on='/', values=['s3://sagemaker-ap-northeast-2-419974056037', 'train-pipeline-model-26', <sagemaker.workflow.execution_variables.ExecutionVariable object at 0x7f518847a3a0>, 'test_data']), 'LocalPath': '/opt/ml/processing/output/test', 'S3UploadMode': 'EndOfJob'}}]\n",
      "   \n",
      "Args:  dict_items([('ProcessingResources', {'ClusterConfig': {'InstanceType': 'ml.m5.xlarge', 'InstanceCount': 1, 'VolumeSizeInGB': 30}}), ('AppSpecification', {'ImageUri': '366743142698.dkr.ecr.ap-northeast-2.amazonaws.com/sagemaker-scikit-learn:0.20.0-cpu-py3', 'ContainerArguments': ['--input_name', 'amazon_reviews_us_Electronics_v1_00.tsv.gz', '--region', 'ap-northeast-2'], 'ContainerEntrypoint': ['python3', '/opt/ml/processing/input/code/preprocessing.py']}), ('RoleArn', 'arn:aws:iam::419974056037:role/service-role/AmazonSageMaker-ExecutionRole-20221004T162466'), ('ProcessingInputs', [{'InputName': 'input-1', 'AppManaged': False, 'S3Input': {'S3Uri': 's3://sm-pipeline-multi-models-datasets/model-26/amazon_reviews_us_Electronics_v1_00.tsv.gz', 'LocalPath': '/opt/ml/processing/input', 'S3DataType': 'S3Prefix', 'S3InputMode': 'File', 'S3DataDistributionType': 'FullyReplicated', 'S3CompressionType': 'None'}}, {'InputName': 'requirements', 'AppManaged': False, 'S3Input': {'S3Uri': 's3://sagemaker-ap-northeast-2-419974056037/preprocessing-model-26/input/requirements/requirements.txt', 'LocalPath': '/opt/ml/processing/input/requirements', 'S3DataType': 'S3Prefix', 'S3InputMode': 'File', 'S3DataDistributionType': 'FullyReplicated', 'S3CompressionType': 'None'}}, {'InputName': 'code', 'AppManaged': False, 'S3Input': {'S3Uri': 's3://sagemaker-ap-northeast-2-419974056037/preprocessing-model-26/input/code/preprocessing.py', 'LocalPath': '/opt/ml/processing/input/code', 'S3DataType': 'S3Prefix', 'S3InputMode': 'File', 'S3DataDistributionType': 'FullyReplicated', 'S3CompressionType': 'None'}}]), ('ProcessingOutputConfig', {'Outputs': [{'OutputName': 'train_data', 'AppManaged': False, 'S3Output': {'S3Uri': Join(on='/', values=['s3://sagemaker-ap-northeast-2-419974056037', 'train-pipeline-model-26', <sagemaker.workflow.execution_variables.ExecutionVariable object at 0x7f518847a3a0>, 'train_data']), 'LocalPath': '/opt/ml/processing/output/train', 'S3UploadMode': 'EndOfJob'}}, {'OutputName': 'validation_data', 'AppManaged': False, 'S3Output': {'S3Uri': Join(on='/', values=['s3://sagemaker-ap-northeast-2-419974056037', 'train-pipeline-model-26', <sagemaker.workflow.execution_variables.ExecutionVariable object at 0x7f518847a3a0>, 'validation_data']), 'LocalPath': '/opt/ml/processing/output/validation', 'S3UploadMode': 'EndOfJob'}}, {'OutputName': 'test_data', 'AppManaged': False, 'S3Output': {'S3Uri': Join(on='/', values=['s3://sagemaker-ap-northeast-2-419974056037', 'train-pipeline-model-26', <sagemaker.workflow.execution_variables.ExecutionVariable object at 0x7f518847a3a0>, 'test_data']), 'LocalPath': '/opt/ml/processing/output/test', 'S3UploadMode': 'EndOfJob'}}]})])\n",
      "  \n",
      "== Training Step ==\n",
      "   \n",
      "Args:  dict_items([('AlgorithmSpecification', {'TrainingInputMode': 'File', 'TrainingImage': '306986355934.dkr.ecr.ap-northeast-2.amazonaws.com/blazingtext:1'}), ('OutputDataConfig', {'S3OutputPath': Join(on='/', values=['s3://sagemaker-ap-northeast-2-419974056037', 'train-pipeline-model-26'])}), ('StoppingCondition', {'MaxRuntimeInSeconds': 360000}), ('ResourceConfig', {'VolumeSizeInGB': 30, 'InstanceCount': 1, 'InstanceType': 'ml.m5.xlarge'}), ('RoleArn', 'arn:aws:iam::419974056037:role/service-role/AmazonSageMaker-ExecutionRole-20221004T162466'), ('InputDataConfig', [{'DataSource': {'S3DataSource': {'S3DataType': 'S3Prefix', 'S3Uri': <sagemaker.workflow.properties.Properties object at 0x7f51874fe760>, 'S3DataDistributionType': 'FullyReplicated'}}, 'ContentType': 'text/csv', 'ChannelName': 'train'}, {'DataSource': {'S3DataSource': {'S3DataType': 'S3Prefix', 'S3Uri': <sagemaker.workflow.properties.Properties object at 0x7f518530c6d0>, 'S3DataDistributionType': 'FullyReplicated'}}, 'ContentType': 'text/csv', 'ChannelName': 'validation'}]), ('HyperParameters', {'mode': 'supervised', 'epochs': '10', 'min_epochs': '5', 'early_stopping': 'True', 'patience': '2', 'learning_rate': '0.01', 'min_count': '2', 'word_ngrams': '2', 'vector_dim': '16'}), ('DebugHookConfig', {'S3OutputPath': Join(on='/', values=['s3://sagemaker-ap-northeast-2-419974056037', 'train-pipeline-model-26']), 'CollectionConfigurations': []}), ('ProfilerConfig', {'S3OutputPath': Join(on='/', values=['s3://sagemaker-ap-northeast-2-419974056037', 'train-pipeline-model-26']), 'DisableProfiler': False})])\n",
      "  \n",
      "== Evaluation Step ==\n"
     ]
    },
    {
     "name": "stderr",
     "output_type": "stream",
     "text": [
      "INFO:sagemaker.processing:runproc.sh uploaded to s3://sagemaker-ap-northeast-2-419974056037/evaluation/source/runproc.sh\n"
     ]
    },
    {
     "name": "stdout",
     "output_type": "stream",
     "text": [
      "\n",
      "Job Name:  evaluation\n",
      "Inputs:  [{'InputName': 'input-1', 'AppManaged': False, 'S3Input': {'S3Uri': <sagemaker.workflow.properties.Properties object at 0x7f5185ac18b0>, 'LocalPath': '/opt/ml/processing/model', 'S3DataType': 'S3Prefix', 'S3InputMode': 'File', 'S3DataDistributionType': 'FullyReplicated', 'S3CompressionType': 'None'}}, {'InputName': 'input-2', 'AppManaged': False, 'S3Input': {'S3Uri': <sagemaker.workflow.properties.Properties object at 0x7f5185360d30>, 'LocalPath': '/opt/ml/processing/test', 'S3DataType': 'S3Prefix', 'S3InputMode': 'File', 'S3DataDistributionType': 'FullyReplicated', 'S3CompressionType': 'None'}}, {'InputName': 'code', 'AppManaged': False, 'S3Input': {'S3Uri': 's3://sagemaker-ap-northeast-2-419974056037/evaluation/source/sourcedir.tar.gz', 'LocalPath': '/opt/ml/processing/input/code/', 'S3DataType': 'S3Prefix', 'S3InputMode': 'File', 'S3DataDistributionType': 'FullyReplicated', 'S3CompressionType': 'None'}}, {'InputName': 'entrypoint', 'AppManaged': False, 'S3Input': {'S3Uri': 's3://sagemaker-ap-northeast-2-419974056037/evaluation/source/runproc.sh', 'LocalPath': '/opt/ml/processing/input/entrypoint', 'S3DataType': 'S3Prefix', 'S3InputMode': 'File', 'S3DataDistributionType': 'FullyReplicated', 'S3CompressionType': 'None'}}]\n",
      "Outputs:  [{'OutputName': 'evaluation-metrics', 'AppManaged': False, 'S3Output': {'S3Uri': Join(on='/', values=['s3://sagemaker-ap-northeast-2-419974056037', 'train-pipeline-model-26', <sagemaker.workflow.execution_variables.ExecutionVariable object at 0x7f518847a3a0>, 'evaluation-metrics']), 'LocalPath': '/opt/ml/processing/evaluation', 'S3UploadMode': 'EndOfJob'}}]\n",
      "   \n",
      "Args:  dict_items([('ProcessingResources', {'ClusterConfig': {'InstanceType': 'ml.g4dn.xlarge', 'InstanceCount': 1, 'VolumeSizeInGB': 30}}), ('AppSpecification', {'ImageUri': '763104351884.dkr.ecr.ap-northeast-2.amazonaws.com/tensorflow-training:2.3-gpu-py37', 'ContainerArguments': ['--s3_model_path', <sagemaker.workflow.properties.Properties object at 0x7f5185ac18b0>, '--region', 'ap-northeast-2', '--model_name', 'model-26'], 'ContainerEntrypoint': ['/bin/bash', '/opt/ml/processing/input/entrypoint/runproc.sh']}), ('RoleArn', 'arn:aws:iam::419974056037:role/service-role/AmazonSageMaker-ExecutionRole-20221004T162466'), ('ProcessingInputs', [{'InputName': 'input-1', 'AppManaged': False, 'S3Input': {'S3Uri': <sagemaker.workflow.properties.Properties object at 0x7f5185ac18b0>, 'LocalPath': '/opt/ml/processing/model', 'S3DataType': 'S3Prefix', 'S3InputMode': 'File', 'S3DataDistributionType': 'FullyReplicated', 'S3CompressionType': 'None'}}, {'InputName': 'input-2', 'AppManaged': False, 'S3Input': {'S3Uri': <sagemaker.workflow.properties.Properties object at 0x7f5185360d30>, 'LocalPath': '/opt/ml/processing/test', 'S3DataType': 'S3Prefix', 'S3InputMode': 'File', 'S3DataDistributionType': 'FullyReplicated', 'S3CompressionType': 'None'}}, {'InputName': 'code', 'AppManaged': False, 'S3Input': {'S3Uri': 's3://sagemaker-ap-northeast-2-419974056037/evaluation/source/sourcedir.tar.gz', 'LocalPath': '/opt/ml/processing/input/code/', 'S3DataType': 'S3Prefix', 'S3InputMode': 'File', 'S3DataDistributionType': 'FullyReplicated', 'S3CompressionType': 'None'}}, {'InputName': 'entrypoint', 'AppManaged': False, 'S3Input': {'S3Uri': 's3://sagemaker-ap-northeast-2-419974056037/evaluation/source/runproc.sh', 'LocalPath': '/opt/ml/processing/input/entrypoint', 'S3DataType': 'S3Prefix', 'S3InputMode': 'File', 'S3DataDistributionType': 'FullyReplicated', 'S3CompressionType': 'None'}}]), ('ProcessingOutputConfig', {'Outputs': [{'OutputName': 'evaluation-metrics', 'AppManaged': False, 'S3Output': {'S3Uri': Join(on='/', values=['s3://sagemaker-ap-northeast-2-419974056037', 'train-pipeline-model-26', <sagemaker.workflow.execution_variables.ExecutionVariable object at 0x7f518847a3a0>, 'evaluation-metrics']), 'LocalPath': '/opt/ml/processing/evaluation', 'S3UploadMode': 'EndOfJob'}}]})])\n",
      "  \n",
      "== Registration Step ==\n"
     ]
    },
    {
     "name": "stderr",
     "output_type": "stream",
     "text": [
      "INFO:sagemaker.processing:Uploaded ./sources/ to s3://sagemaker-ap-northeast-2-419974056037/train-pipeline-model-26/code/eabace17c9345271cf901107138b46a8/sourcedir.tar.gz\n"
     ]
    },
    {
     "name": "stdout",
     "output_type": "stream",
     "text": [
      "\n",
      "Job Name:  preprocessing-model-26\n",
      "Inputs:  [{'InputName': 'input-1', 'AppManaged': False, 'S3Input': {'S3Uri': 's3://sm-pipeline-multi-models-datasets/model-26/amazon_reviews_us_Electronics_v1_00.tsv.gz', 'LocalPath': '/opt/ml/processing/input', 'S3DataType': 'S3Prefix', 'S3InputMode': 'File', 'S3DataDistributionType': 'FullyReplicated', 'S3CompressionType': 'None'}}, {'InputName': 'requirements', 'AppManaged': False, 'S3Input': {'S3Uri': 's3://sagemaker-ap-northeast-2-419974056037/preprocessing-model-26/input/requirements/requirements.txt', 'LocalPath': '/opt/ml/processing/input/requirements', 'S3DataType': 'S3Prefix', 'S3InputMode': 'File', 'S3DataDistributionType': 'FullyReplicated', 'S3CompressionType': 'None'}}, {'InputName': 'code', 'AppManaged': False, 'S3Input': {'S3Uri': 's3://sagemaker-ap-northeast-2-419974056037/train-pipeline-model-26/code/2b3c51df48188408561910efa21ddc30/preprocessing.py', 'LocalPath': '/opt/ml/processing/input/code', 'S3DataType': 'S3Prefix', 'S3InputMode': 'File', 'S3DataDistributionType': 'FullyReplicated', 'S3CompressionType': 'None'}}]\n",
      "Outputs:  [{'OutputName': 'train_data', 'AppManaged': False, 'S3Output': {'S3Uri': Join(on='/', values=['s3://sagemaker-ap-northeast-2-419974056037', 'train-pipeline-model-26', <sagemaker.workflow.execution_variables.ExecutionVariable object at 0x7f518847a3a0>, 'train_data']), 'LocalPath': '/opt/ml/processing/output/train', 'S3UploadMode': 'EndOfJob'}}, {'OutputName': 'validation_data', 'AppManaged': False, 'S3Output': {'S3Uri': Join(on='/', values=['s3://sagemaker-ap-northeast-2-419974056037', 'train-pipeline-model-26', <sagemaker.workflow.execution_variables.ExecutionVariable object at 0x7f518847a3a0>, 'validation_data']), 'LocalPath': '/opt/ml/processing/output/validation', 'S3UploadMode': 'EndOfJob'}}, {'OutputName': 'test_data', 'AppManaged': False, 'S3Output': {'S3Uri': Join(on='/', values=['s3://sagemaker-ap-northeast-2-419974056037', 'train-pipeline-model-26', <sagemaker.workflow.execution_variables.ExecutionVariable object at 0x7f518847a3a0>, 'test_data']), 'LocalPath': '/opt/ml/processing/output/test', 'S3UploadMode': 'EndOfJob'}}]\n"
     ]
    },
    {
     "name": "stderr",
     "output_type": "stream",
     "text": [
      "INFO:sagemaker.processing:runproc.sh uploaded to s3://sagemaker-ap-northeast-2-419974056037/train-pipeline-model-26/code/1071dadab36d48ed1fba97e2ff137bdf/runproc.sh\n",
      "WARNING:sagemaker.estimator:No finished training job found associated with this estimator. Please make sure this estimator is only used for building workflow config\n",
      "WARNING:sagemaker.workflow._utils:Popping out 'CertifyForMarketplace' from the pipeline definition since it will be overridden in pipeline execution time.\n"
     ]
    },
    {
     "name": "stdout",
     "output_type": "stream",
     "text": [
      "\n",
      "Job Name:  evaluation\n",
      "Inputs:  [{'InputName': 'input-1', 'AppManaged': False, 'S3Input': {'S3Uri': <sagemaker.workflow.properties.Properties object at 0x7f5185ac18b0>, 'LocalPath': '/opt/ml/processing/model', 'S3DataType': 'S3Prefix', 'S3InputMode': 'File', 'S3DataDistributionType': 'FullyReplicated', 'S3CompressionType': 'None'}}, {'InputName': 'input-2', 'AppManaged': False, 'S3Input': {'S3Uri': <sagemaker.workflow.properties.Properties object at 0x7f5185360d30>, 'LocalPath': '/opt/ml/processing/test', 'S3DataType': 'S3Prefix', 'S3InputMode': 'File', 'S3DataDistributionType': 'FullyReplicated', 'S3CompressionType': 'None'}}, {'InputName': 'code', 'AppManaged': False, 'S3Input': {'S3Uri': 's3://sagemaker-ap-northeast-2-419974056037/train-pipeline-model-26/code/eabace17c9345271cf901107138b46a8/sourcedir.tar.gz', 'LocalPath': '/opt/ml/processing/input/code/', 'S3DataType': 'S3Prefix', 'S3InputMode': 'File', 'S3DataDistributionType': 'FullyReplicated', 'S3CompressionType': 'None'}}, {'InputName': 'entrypoint', 'AppManaged': False, 'S3Input': {'S3Uri': 's3://sagemaker-ap-northeast-2-419974056037/train-pipeline-model-26/code/1071dadab36d48ed1fba97e2ff137bdf/runproc.sh', 'LocalPath': '/opt/ml/processing/input/entrypoint', 'S3DataType': 'S3Prefix', 'S3InputMode': 'File', 'S3DataDistributionType': 'FullyReplicated', 'S3CompressionType': 'None'}}]\n",
      "Outputs:  [{'OutputName': 'evaluation-metrics', 'AppManaged': False, 'S3Output': {'S3Uri': Join(on='/', values=['s3://sagemaker-ap-northeast-2-419974056037', 'train-pipeline-model-26', <sagemaker.workflow.execution_variables.ExecutionVariable object at 0x7f518847a3a0>, 'evaluation-metrics']), 'LocalPath': '/opt/ml/processing/evaluation', 'S3UploadMode': 'EndOfJob'}}]\n",
      "  \n",
      "== PipeLine Execution info.==\n",
      "{'PipelineArn': 'arn:aws:sagemaker:ap-northeast-2:419974056037:pipeline/train-pipeline-model-26', 'PipelineExecutionArn': 'arn:aws:sagemaker:ap-northeast-2:419974056037:pipeline/train-pipeline-model-26/execution/9yuds0vakqsn', 'PipelineExecutionDisplayName': 'execution-1674699121652', 'PipelineExecutionStatus': 'Executing', 'CreationTime': datetime.datetime(2023, 1, 26, 2, 12, 1, 588000, tzinfo=tzlocal()), 'LastModifiedTime': datetime.datetime(2023, 1, 26, 2, 12, 1, 588000, tzinfo=tzlocal()), 'CreatedBy': {}, 'LastModifiedBy': {}, 'ResponseMetadata': {'RequestId': 'eec5974c-e591-4c8f-b508-14c9bf66b4cb', 'HTTPStatusCode': 200, 'HTTPHeaders': {'x-amzn-requestid': 'eec5974c-e591-4c8f-b508-14c9bf66b4cb', 'content-type': 'application/x-amz-json-1.1', 'content-length': '421', 'date': 'Thu, 26 Jan 2023 02:12:01 GMT'}, 'RetryAttempts': 0}}\n",
      "========================== \n",
      "\n"
     ]
    },
    {
     "name": "stderr",
     "output_type": "stream",
     "text": [
      "INFO:sagemaker.image_uris:Same images used for training and inference. Defaulting to image scope: inference.\n",
      "INFO:sagemaker.image_uris:Defaulting to the only supported framework/algorithm version: 1.\n",
      "INFO:sagemaker.image_uris:Ignoring unnecessary instance type: None.\n",
      "INFO:sagemaker.image_uris:Defaulting to only available Python version: py3\n"
     ]
    },
    {
     "name": "stdout",
     "output_type": "stream",
     "text": [
      "MODEL-NAME: model-27\n",
      "  Account-ID: 419974056037, \n",
      "  Region: ap-northeast-2, \n",
      "  Role: arn:aws:iam::419974056037:role/service-role/AmazonSageMaker-ExecutionRole-20221004T162466, \n",
      "  Default_bucket: sagemaker-ap-northeast-2-419974056037\n",
      "  pipeline_session: <sagemaker.workflow.pipeline_context.PipelineSession object at 0x7f5184fda220>\n",
      "  \n",
      "== Preprocessing Step ==\n"
     ]
    },
    {
     "name": "stderr",
     "output_type": "stream",
     "text": [
      "INFO:sagemaker.image_uris:image_uri is not presented, retrieving image_uri based on instance_type, framework etc.\n",
      "INFO:sagemaker.processing:Uploaded ./sources/ to s3://sagemaker-ap-northeast-2-419974056037/evaluation/source/sourcedir.tar.gz\n",
      "INFO:sagemaker.processing:runproc.sh uploaded to s3://sagemaker-ap-northeast-2-419974056037/evaluation/source/runproc.sh\n"
     ]
    },
    {
     "name": "stdout",
     "output_type": "stream",
     "text": [
      "\n",
      "Job Name:  preprocessing-model-27\n",
      "Inputs:  [{'InputName': 'input-1', 'AppManaged': False, 'S3Input': {'S3Uri': 's3://sm-pipeline-multi-models-datasets/model-27/amazon_reviews_us_Electronics_v1_00.tsv.gz', 'LocalPath': '/opt/ml/processing/input', 'S3DataType': 'S3Prefix', 'S3InputMode': 'File', 'S3DataDistributionType': 'FullyReplicated', 'S3CompressionType': 'None'}}, {'InputName': 'requirements', 'AppManaged': False, 'S3Input': {'S3Uri': 's3://sagemaker-ap-northeast-2-419974056037/preprocessing-model-27/input/requirements/requirements.txt', 'LocalPath': '/opt/ml/processing/input/requirements', 'S3DataType': 'S3Prefix', 'S3InputMode': 'File', 'S3DataDistributionType': 'FullyReplicated', 'S3CompressionType': 'None'}}, {'InputName': 'code', 'AppManaged': False, 'S3Input': {'S3Uri': 's3://sagemaker-ap-northeast-2-419974056037/preprocessing-model-27/input/code/preprocessing.py', 'LocalPath': '/opt/ml/processing/input/code', 'S3DataType': 'S3Prefix', 'S3InputMode': 'File', 'S3DataDistributionType': 'FullyReplicated', 'S3CompressionType': 'None'}}]\n",
      "Outputs:  [{'OutputName': 'train_data', 'AppManaged': False, 'S3Output': {'S3Uri': Join(on='/', values=['s3://sagemaker-ap-northeast-2-419974056037', 'train-pipeline-model-27', <sagemaker.workflow.execution_variables.ExecutionVariable object at 0x7f518847a3a0>, 'train_data']), 'LocalPath': '/opt/ml/processing/output/train', 'S3UploadMode': 'EndOfJob'}}, {'OutputName': 'validation_data', 'AppManaged': False, 'S3Output': {'S3Uri': Join(on='/', values=['s3://sagemaker-ap-northeast-2-419974056037', 'train-pipeline-model-27', <sagemaker.workflow.execution_variables.ExecutionVariable object at 0x7f518847a3a0>, 'validation_data']), 'LocalPath': '/opt/ml/processing/output/validation', 'S3UploadMode': 'EndOfJob'}}, {'OutputName': 'test_data', 'AppManaged': False, 'S3Output': {'S3Uri': Join(on='/', values=['s3://sagemaker-ap-northeast-2-419974056037', 'train-pipeline-model-27', <sagemaker.workflow.execution_variables.ExecutionVariable object at 0x7f518847a3a0>, 'test_data']), 'LocalPath': '/opt/ml/processing/output/test', 'S3UploadMode': 'EndOfJob'}}]\n",
      "   \n",
      "Args:  dict_items([('ProcessingResources', {'ClusterConfig': {'InstanceType': 'ml.m5.xlarge', 'InstanceCount': 1, 'VolumeSizeInGB': 30}}), ('AppSpecification', {'ImageUri': '366743142698.dkr.ecr.ap-northeast-2.amazonaws.com/sagemaker-scikit-learn:0.20.0-cpu-py3', 'ContainerArguments': ['--input_name', 'amazon_reviews_us_Electronics_v1_00.tsv.gz', '--region', 'ap-northeast-2'], 'ContainerEntrypoint': ['python3', '/opt/ml/processing/input/code/preprocessing.py']}), ('RoleArn', 'arn:aws:iam::419974056037:role/service-role/AmazonSageMaker-ExecutionRole-20221004T162466'), ('ProcessingInputs', [{'InputName': 'input-1', 'AppManaged': False, 'S3Input': {'S3Uri': 's3://sm-pipeline-multi-models-datasets/model-27/amazon_reviews_us_Electronics_v1_00.tsv.gz', 'LocalPath': '/opt/ml/processing/input', 'S3DataType': 'S3Prefix', 'S3InputMode': 'File', 'S3DataDistributionType': 'FullyReplicated', 'S3CompressionType': 'None'}}, {'InputName': 'requirements', 'AppManaged': False, 'S3Input': {'S3Uri': 's3://sagemaker-ap-northeast-2-419974056037/preprocessing-model-27/input/requirements/requirements.txt', 'LocalPath': '/opt/ml/processing/input/requirements', 'S3DataType': 'S3Prefix', 'S3InputMode': 'File', 'S3DataDistributionType': 'FullyReplicated', 'S3CompressionType': 'None'}}, {'InputName': 'code', 'AppManaged': False, 'S3Input': {'S3Uri': 's3://sagemaker-ap-northeast-2-419974056037/preprocessing-model-27/input/code/preprocessing.py', 'LocalPath': '/opt/ml/processing/input/code', 'S3DataType': 'S3Prefix', 'S3InputMode': 'File', 'S3DataDistributionType': 'FullyReplicated', 'S3CompressionType': 'None'}}]), ('ProcessingOutputConfig', {'Outputs': [{'OutputName': 'train_data', 'AppManaged': False, 'S3Output': {'S3Uri': Join(on='/', values=['s3://sagemaker-ap-northeast-2-419974056037', 'train-pipeline-model-27', <sagemaker.workflow.execution_variables.ExecutionVariable object at 0x7f518847a3a0>, 'train_data']), 'LocalPath': '/opt/ml/processing/output/train', 'S3UploadMode': 'EndOfJob'}}, {'OutputName': 'validation_data', 'AppManaged': False, 'S3Output': {'S3Uri': Join(on='/', values=['s3://sagemaker-ap-northeast-2-419974056037', 'train-pipeline-model-27', <sagemaker.workflow.execution_variables.ExecutionVariable object at 0x7f518847a3a0>, 'validation_data']), 'LocalPath': '/opt/ml/processing/output/validation', 'S3UploadMode': 'EndOfJob'}}, {'OutputName': 'test_data', 'AppManaged': False, 'S3Output': {'S3Uri': Join(on='/', values=['s3://sagemaker-ap-northeast-2-419974056037', 'train-pipeline-model-27', <sagemaker.workflow.execution_variables.ExecutionVariable object at 0x7f518847a3a0>, 'test_data']), 'LocalPath': '/opt/ml/processing/output/test', 'S3UploadMode': 'EndOfJob'}}]})])\n",
      "  \n",
      "== Training Step ==\n",
      "   \n",
      "Args:  dict_items([('AlgorithmSpecification', {'TrainingInputMode': 'File', 'TrainingImage': '306986355934.dkr.ecr.ap-northeast-2.amazonaws.com/blazingtext:1'}), ('OutputDataConfig', {'S3OutputPath': Join(on='/', values=['s3://sagemaker-ap-northeast-2-419974056037', 'train-pipeline-model-27'])}), ('StoppingCondition', {'MaxRuntimeInSeconds': 360000}), ('ResourceConfig', {'VolumeSizeInGB': 30, 'InstanceCount': 1, 'InstanceType': 'ml.m5.xlarge'}), ('RoleArn', 'arn:aws:iam::419974056037:role/service-role/AmazonSageMaker-ExecutionRole-20221004T162466'), ('InputDataConfig', [{'DataSource': {'S3DataSource': {'S3DataType': 'S3Prefix', 'S3Uri': <sagemaker.workflow.properties.Properties object at 0x7f518502e760>, 'S3DataDistributionType': 'FullyReplicated'}}, 'ContentType': 'text/csv', 'ChannelName': 'train'}, {'DataSource': {'S3DataSource': {'S3DataType': 'S3Prefix', 'S3Uri': <sagemaker.workflow.properties.Properties object at 0x7f518502e430>, 'S3DataDistributionType': 'FullyReplicated'}}, 'ContentType': 'text/csv', 'ChannelName': 'validation'}]), ('HyperParameters', {'mode': 'supervised', 'epochs': '10', 'min_epochs': '5', 'early_stopping': 'True', 'patience': '2', 'learning_rate': '0.01', 'min_count': '2', 'word_ngrams': '2', 'vector_dim': '16'}), ('DebugHookConfig', {'S3OutputPath': Join(on='/', values=['s3://sagemaker-ap-northeast-2-419974056037', 'train-pipeline-model-27']), 'CollectionConfigurations': []}), ('ProfilerConfig', {'S3OutputPath': Join(on='/', values=['s3://sagemaker-ap-northeast-2-419974056037', 'train-pipeline-model-27']), 'DisableProfiler': False})])\n",
      "  \n",
      "== Evaluation Step ==\n",
      "\n",
      "Job Name:  evaluation\n",
      "Inputs:  [{'InputName': 'input-1', 'AppManaged': False, 'S3Input': {'S3Uri': <sagemaker.workflow.properties.Properties object at 0x7f51857d68e0>, 'LocalPath': '/opt/ml/processing/model', 'S3DataType': 'S3Prefix', 'S3InputMode': 'File', 'S3DataDistributionType': 'FullyReplicated', 'S3CompressionType': 'None'}}, {'InputName': 'input-2', 'AppManaged': False, 'S3Input': {'S3Uri': <sagemaker.workflow.properties.Properties object at 0x7f518502e5e0>, 'LocalPath': '/opt/ml/processing/test', 'S3DataType': 'S3Prefix', 'S3InputMode': 'File', 'S3DataDistributionType': 'FullyReplicated', 'S3CompressionType': 'None'}}, {'InputName': 'code', 'AppManaged': False, 'S3Input': {'S3Uri': 's3://sagemaker-ap-northeast-2-419974056037/evaluation/source/sourcedir.tar.gz', 'LocalPath': '/opt/ml/processing/input/code/', 'S3DataType': 'S3Prefix', 'S3InputMode': 'File', 'S3DataDistributionType': 'FullyReplicated', 'S3CompressionType': 'None'}}, {'InputName': 'entrypoint', 'AppManaged': False, 'S3Input': {'S3Uri': 's3://sagemaker-ap-northeast-2-419974056037/evaluation/source/runproc.sh', 'LocalPath': '/opt/ml/processing/input/entrypoint', 'S3DataType': 'S3Prefix', 'S3InputMode': 'File', 'S3DataDistributionType': 'FullyReplicated', 'S3CompressionType': 'None'}}]\n",
      "Outputs:  [{'OutputName': 'evaluation-metrics', 'AppManaged': False, 'S3Output': {'S3Uri': Join(on='/', values=['s3://sagemaker-ap-northeast-2-419974056037', 'train-pipeline-model-27', <sagemaker.workflow.execution_variables.ExecutionVariable object at 0x7f518847a3a0>, 'evaluation-metrics']), 'LocalPath': '/opt/ml/processing/evaluation', 'S3UploadMode': 'EndOfJob'}}]\n",
      "   \n",
      "Args:  dict_items([('ProcessingResources', {'ClusterConfig': {'InstanceType': 'ml.g4dn.xlarge', 'InstanceCount': 1, 'VolumeSizeInGB': 30}}), ('AppSpecification', {'ImageUri': '763104351884.dkr.ecr.ap-northeast-2.amazonaws.com/tensorflow-training:2.3-gpu-py37', 'ContainerArguments': ['--s3_model_path', <sagemaker.workflow.properties.Properties object at 0x7f51857d68e0>, '--region', 'ap-northeast-2', '--model_name', 'model-27'], 'ContainerEntrypoint': ['/bin/bash', '/opt/ml/processing/input/entrypoint/runproc.sh']}), ('RoleArn', 'arn:aws:iam::419974056037:role/service-role/AmazonSageMaker-ExecutionRole-20221004T162466'), ('ProcessingInputs', [{'InputName': 'input-1', 'AppManaged': False, 'S3Input': {'S3Uri': <sagemaker.workflow.properties.Properties object at 0x7f51857d68e0>, 'LocalPath': '/opt/ml/processing/model', 'S3DataType': 'S3Prefix', 'S3InputMode': 'File', 'S3DataDistributionType': 'FullyReplicated', 'S3CompressionType': 'None'}}, {'InputName': 'input-2', 'AppManaged': False, 'S3Input': {'S3Uri': <sagemaker.workflow.properties.Properties object at 0x7f518502e5e0>, 'LocalPath': '/opt/ml/processing/test', 'S3DataType': 'S3Prefix', 'S3InputMode': 'File', 'S3DataDistributionType': 'FullyReplicated', 'S3CompressionType': 'None'}}, {'InputName': 'code', 'AppManaged': False, 'S3Input': {'S3Uri': 's3://sagemaker-ap-northeast-2-419974056037/evaluation/source/sourcedir.tar.gz', 'LocalPath': '/opt/ml/processing/input/code/', 'S3DataType': 'S3Prefix', 'S3InputMode': 'File', 'S3DataDistributionType': 'FullyReplicated', 'S3CompressionType': 'None'}}, {'InputName': 'entrypoint', 'AppManaged': False, 'S3Input': {'S3Uri': 's3://sagemaker-ap-northeast-2-419974056037/evaluation/source/runproc.sh', 'LocalPath': '/opt/ml/processing/input/entrypoint', 'S3DataType': 'S3Prefix', 'S3InputMode': 'File', 'S3DataDistributionType': 'FullyReplicated', 'S3CompressionType': 'None'}}]), ('ProcessingOutputConfig', {'Outputs': [{'OutputName': 'evaluation-metrics', 'AppManaged': False, 'S3Output': {'S3Uri': Join(on='/', values=['s3://sagemaker-ap-northeast-2-419974056037', 'train-pipeline-model-27', <sagemaker.workflow.execution_variables.ExecutionVariable object at 0x7f518847a3a0>, 'evaluation-metrics']), 'LocalPath': '/opt/ml/processing/evaluation', 'S3UploadMode': 'EndOfJob'}}]})])\n",
      "  \n",
      "== Registration Step ==\n"
     ]
    },
    {
     "name": "stderr",
     "output_type": "stream",
     "text": [
      "INFO:sagemaker.processing:Uploaded ./sources/ to s3://sagemaker-ap-northeast-2-419974056037/train-pipeline-model-27/code/eabace17c9345271cf901107138b46a8/sourcedir.tar.gz\n",
      "INFO:sagemaker.processing:runproc.sh uploaded to s3://sagemaker-ap-northeast-2-419974056037/train-pipeline-model-27/code/1071dadab36d48ed1fba97e2ff137bdf/runproc.sh\n",
      "WARNING:sagemaker.estimator:No finished training job found associated with this estimator. Please make sure this estimator is only used for building workflow config\n",
      "WARNING:sagemaker.workflow._utils:Popping out 'CertifyForMarketplace' from the pipeline definition since it will be overridden in pipeline execution time.\n"
     ]
    },
    {
     "name": "stdout",
     "output_type": "stream",
     "text": [
      "\n",
      "Job Name:  preprocessing-model-27\n",
      "Inputs:  [{'InputName': 'input-1', 'AppManaged': False, 'S3Input': {'S3Uri': 's3://sm-pipeline-multi-models-datasets/model-27/amazon_reviews_us_Electronics_v1_00.tsv.gz', 'LocalPath': '/opt/ml/processing/input', 'S3DataType': 'S3Prefix', 'S3InputMode': 'File', 'S3DataDistributionType': 'FullyReplicated', 'S3CompressionType': 'None'}}, {'InputName': 'requirements', 'AppManaged': False, 'S3Input': {'S3Uri': 's3://sagemaker-ap-northeast-2-419974056037/preprocessing-model-27/input/requirements/requirements.txt', 'LocalPath': '/opt/ml/processing/input/requirements', 'S3DataType': 'S3Prefix', 'S3InputMode': 'File', 'S3DataDistributionType': 'FullyReplicated', 'S3CompressionType': 'None'}}, {'InputName': 'code', 'AppManaged': False, 'S3Input': {'S3Uri': 's3://sagemaker-ap-northeast-2-419974056037/train-pipeline-model-27/code/2b3c51df48188408561910efa21ddc30/preprocessing.py', 'LocalPath': '/opt/ml/processing/input/code', 'S3DataType': 'S3Prefix', 'S3InputMode': 'File', 'S3DataDistributionType': 'FullyReplicated', 'S3CompressionType': 'None'}}]\n",
      "Outputs:  [{'OutputName': 'train_data', 'AppManaged': False, 'S3Output': {'S3Uri': Join(on='/', values=['s3://sagemaker-ap-northeast-2-419974056037', 'train-pipeline-model-27', <sagemaker.workflow.execution_variables.ExecutionVariable object at 0x7f518847a3a0>, 'train_data']), 'LocalPath': '/opt/ml/processing/output/train', 'S3UploadMode': 'EndOfJob'}}, {'OutputName': 'validation_data', 'AppManaged': False, 'S3Output': {'S3Uri': Join(on='/', values=['s3://sagemaker-ap-northeast-2-419974056037', 'train-pipeline-model-27', <sagemaker.workflow.execution_variables.ExecutionVariable object at 0x7f518847a3a0>, 'validation_data']), 'LocalPath': '/opt/ml/processing/output/validation', 'S3UploadMode': 'EndOfJob'}}, {'OutputName': 'test_data', 'AppManaged': False, 'S3Output': {'S3Uri': Join(on='/', values=['s3://sagemaker-ap-northeast-2-419974056037', 'train-pipeline-model-27', <sagemaker.workflow.execution_variables.ExecutionVariable object at 0x7f518847a3a0>, 'test_data']), 'LocalPath': '/opt/ml/processing/output/test', 'S3UploadMode': 'EndOfJob'}}]\n",
      "\n",
      "Job Name:  evaluation\n",
      "Inputs:  [{'InputName': 'input-1', 'AppManaged': False, 'S3Input': {'S3Uri': <sagemaker.workflow.properties.Properties object at 0x7f51857d68e0>, 'LocalPath': '/opt/ml/processing/model', 'S3DataType': 'S3Prefix', 'S3InputMode': 'File', 'S3DataDistributionType': 'FullyReplicated', 'S3CompressionType': 'None'}}, {'InputName': 'input-2', 'AppManaged': False, 'S3Input': {'S3Uri': <sagemaker.workflow.properties.Properties object at 0x7f518502e5e0>, 'LocalPath': '/opt/ml/processing/test', 'S3DataType': 'S3Prefix', 'S3InputMode': 'File', 'S3DataDistributionType': 'FullyReplicated', 'S3CompressionType': 'None'}}, {'InputName': 'code', 'AppManaged': False, 'S3Input': {'S3Uri': 's3://sagemaker-ap-northeast-2-419974056037/train-pipeline-model-27/code/eabace17c9345271cf901107138b46a8/sourcedir.tar.gz', 'LocalPath': '/opt/ml/processing/input/code/', 'S3DataType': 'S3Prefix', 'S3InputMode': 'File', 'S3DataDistributionType': 'FullyReplicated', 'S3CompressionType': 'None'}}, {'InputName': 'entrypoint', 'AppManaged': False, 'S3Input': {'S3Uri': 's3://sagemaker-ap-northeast-2-419974056037/train-pipeline-model-27/code/1071dadab36d48ed1fba97e2ff137bdf/runproc.sh', 'LocalPath': '/opt/ml/processing/input/entrypoint', 'S3DataType': 'S3Prefix', 'S3InputMode': 'File', 'S3DataDistributionType': 'FullyReplicated', 'S3CompressionType': 'None'}}]\n",
      "Outputs:  [{'OutputName': 'evaluation-metrics', 'AppManaged': False, 'S3Output': {'S3Uri': Join(on='/', values=['s3://sagemaker-ap-northeast-2-419974056037', 'train-pipeline-model-27', <sagemaker.workflow.execution_variables.ExecutionVariable object at 0x7f518847a3a0>, 'evaluation-metrics']), 'LocalPath': '/opt/ml/processing/evaluation', 'S3UploadMode': 'EndOfJob'}}]\n",
      "  \n",
      "== PipeLine Execution info.==\n",
      "{'PipelineArn': 'arn:aws:sagemaker:ap-northeast-2:419974056037:pipeline/train-pipeline-model-27', 'PipelineExecutionArn': 'arn:aws:sagemaker:ap-northeast-2:419974056037:pipeline/train-pipeline-model-27/execution/74mjpowrhir2', 'PipelineExecutionDisplayName': 'execution-1674699123498', 'PipelineExecutionStatus': 'Executing', 'CreationTime': datetime.datetime(2023, 1, 26, 2, 12, 3, 408000, tzinfo=tzlocal()), 'LastModifiedTime': datetime.datetime(2023, 1, 26, 2, 12, 3, 408000, tzinfo=tzlocal()), 'CreatedBy': {}, 'LastModifiedBy': {}, 'ResponseMetadata': {'RequestId': '812668eb-97cd-4b80-9afb-7f871f5999e4', 'HTTPStatusCode': 200, 'HTTPHeaders': {'x-amzn-requestid': '812668eb-97cd-4b80-9afb-7f871f5999e4', 'content-type': 'application/x-amz-json-1.1', 'content-length': '421', 'date': 'Thu, 26 Jan 2023 02:12:02 GMT'}, 'RetryAttempts': 0}}\n",
      "========================== \n",
      "\n"
     ]
    },
    {
     "name": "stderr",
     "output_type": "stream",
     "text": [
      "INFO:sagemaker.image_uris:Same images used for training and inference. Defaulting to image scope: inference.\n",
      "INFO:sagemaker.image_uris:Defaulting to the only supported framework/algorithm version: 1.\n",
      "INFO:sagemaker.image_uris:Ignoring unnecessary instance type: None.\n",
      "INFO:sagemaker.image_uris:Defaulting to only available Python version: py3\n"
     ]
    },
    {
     "name": "stdout",
     "output_type": "stream",
     "text": [
      "MODEL-NAME: model-28\n",
      "  Account-ID: 419974056037, \n",
      "  Region: ap-northeast-2, \n",
      "  Role: arn:aws:iam::419974056037:role/service-role/AmazonSageMaker-ExecutionRole-20221004T162466, \n",
      "  Default_bucket: sagemaker-ap-northeast-2-419974056037\n",
      "  pipeline_session: <sagemaker.workflow.pipeline_context.PipelineSession object at 0x7f518542bdf0>\n",
      "  \n",
      "== Preprocessing Step ==\n"
     ]
    },
    {
     "name": "stderr",
     "output_type": "stream",
     "text": [
      "INFO:sagemaker.image_uris:image_uri is not presented, retrieving image_uri based on instance_type, framework etc.\n"
     ]
    },
    {
     "name": "stdout",
     "output_type": "stream",
     "text": [
      "\n",
      "Job Name:  preprocessing-model-28\n",
      "Inputs:  [{'InputName': 'input-1', 'AppManaged': False, 'S3Input': {'S3Uri': 's3://sm-pipeline-multi-models-datasets/model-28/amazon_reviews_us_Electronics_v1_00.tsv.gz', 'LocalPath': '/opt/ml/processing/input', 'S3DataType': 'S3Prefix', 'S3InputMode': 'File', 'S3DataDistributionType': 'FullyReplicated', 'S3CompressionType': 'None'}}, {'InputName': 'requirements', 'AppManaged': False, 'S3Input': {'S3Uri': 's3://sagemaker-ap-northeast-2-419974056037/preprocessing-model-28/input/requirements/requirements.txt', 'LocalPath': '/opt/ml/processing/input/requirements', 'S3DataType': 'S3Prefix', 'S3InputMode': 'File', 'S3DataDistributionType': 'FullyReplicated', 'S3CompressionType': 'None'}}, {'InputName': 'code', 'AppManaged': False, 'S3Input': {'S3Uri': 's3://sagemaker-ap-northeast-2-419974056037/preprocessing-model-28/input/code/preprocessing.py', 'LocalPath': '/opt/ml/processing/input/code', 'S3DataType': 'S3Prefix', 'S3InputMode': 'File', 'S3DataDistributionType': 'FullyReplicated', 'S3CompressionType': 'None'}}]\n",
      "Outputs:  [{'OutputName': 'train_data', 'AppManaged': False, 'S3Output': {'S3Uri': Join(on='/', values=['s3://sagemaker-ap-northeast-2-419974056037', 'train-pipeline-model-28', <sagemaker.workflow.execution_variables.ExecutionVariable object at 0x7f518847a3a0>, 'train_data']), 'LocalPath': '/opt/ml/processing/output/train', 'S3UploadMode': 'EndOfJob'}}, {'OutputName': 'validation_data', 'AppManaged': False, 'S3Output': {'S3Uri': Join(on='/', values=['s3://sagemaker-ap-northeast-2-419974056037', 'train-pipeline-model-28', <sagemaker.workflow.execution_variables.ExecutionVariable object at 0x7f518847a3a0>, 'validation_data']), 'LocalPath': '/opt/ml/processing/output/validation', 'S3UploadMode': 'EndOfJob'}}, {'OutputName': 'test_data', 'AppManaged': False, 'S3Output': {'S3Uri': Join(on='/', values=['s3://sagemaker-ap-northeast-2-419974056037', 'train-pipeline-model-28', <sagemaker.workflow.execution_variables.ExecutionVariable object at 0x7f518847a3a0>, 'test_data']), 'LocalPath': '/opt/ml/processing/output/test', 'S3UploadMode': 'EndOfJob'}}]\n",
      "   \n",
      "Args:  dict_items([('ProcessingResources', {'ClusterConfig': {'InstanceType': 'ml.m5.xlarge', 'InstanceCount': 1, 'VolumeSizeInGB': 30}}), ('AppSpecification', {'ImageUri': '366743142698.dkr.ecr.ap-northeast-2.amazonaws.com/sagemaker-scikit-learn:0.20.0-cpu-py3', 'ContainerArguments': ['--input_name', 'amazon_reviews_us_Electronics_v1_00.tsv.gz', '--region', 'ap-northeast-2'], 'ContainerEntrypoint': ['python3', '/opt/ml/processing/input/code/preprocessing.py']}), ('RoleArn', 'arn:aws:iam::419974056037:role/service-role/AmazonSageMaker-ExecutionRole-20221004T162466'), ('ProcessingInputs', [{'InputName': 'input-1', 'AppManaged': False, 'S3Input': {'S3Uri': 's3://sm-pipeline-multi-models-datasets/model-28/amazon_reviews_us_Electronics_v1_00.tsv.gz', 'LocalPath': '/opt/ml/processing/input', 'S3DataType': 'S3Prefix', 'S3InputMode': 'File', 'S3DataDistributionType': 'FullyReplicated', 'S3CompressionType': 'None'}}, {'InputName': 'requirements', 'AppManaged': False, 'S3Input': {'S3Uri': 's3://sagemaker-ap-northeast-2-419974056037/preprocessing-model-28/input/requirements/requirements.txt', 'LocalPath': '/opt/ml/processing/input/requirements', 'S3DataType': 'S3Prefix', 'S3InputMode': 'File', 'S3DataDistributionType': 'FullyReplicated', 'S3CompressionType': 'None'}}, {'InputName': 'code', 'AppManaged': False, 'S3Input': {'S3Uri': 's3://sagemaker-ap-northeast-2-419974056037/preprocessing-model-28/input/code/preprocessing.py', 'LocalPath': '/opt/ml/processing/input/code', 'S3DataType': 'S3Prefix', 'S3InputMode': 'File', 'S3DataDistributionType': 'FullyReplicated', 'S3CompressionType': 'None'}}]), ('ProcessingOutputConfig', {'Outputs': [{'OutputName': 'train_data', 'AppManaged': False, 'S3Output': {'S3Uri': Join(on='/', values=['s3://sagemaker-ap-northeast-2-419974056037', 'train-pipeline-model-28', <sagemaker.workflow.execution_variables.ExecutionVariable object at 0x7f518847a3a0>, 'train_data']), 'LocalPath': '/opt/ml/processing/output/train', 'S3UploadMode': 'EndOfJob'}}, {'OutputName': 'validation_data', 'AppManaged': False, 'S3Output': {'S3Uri': Join(on='/', values=['s3://sagemaker-ap-northeast-2-419974056037', 'train-pipeline-model-28', <sagemaker.workflow.execution_variables.ExecutionVariable object at 0x7f518847a3a0>, 'validation_data']), 'LocalPath': '/opt/ml/processing/output/validation', 'S3UploadMode': 'EndOfJob'}}, {'OutputName': 'test_data', 'AppManaged': False, 'S3Output': {'S3Uri': Join(on='/', values=['s3://sagemaker-ap-northeast-2-419974056037', 'train-pipeline-model-28', <sagemaker.workflow.execution_variables.ExecutionVariable object at 0x7f518847a3a0>, 'test_data']), 'LocalPath': '/opt/ml/processing/output/test', 'S3UploadMode': 'EndOfJob'}}]})])\n",
      "  \n",
      "== Training Step ==\n",
      "   \n",
      "Args:  dict_items([('AlgorithmSpecification', {'TrainingInputMode': 'File', 'TrainingImage': '306986355934.dkr.ecr.ap-northeast-2.amazonaws.com/blazingtext:1'}), ('OutputDataConfig', {'S3OutputPath': Join(on='/', values=['s3://sagemaker-ap-northeast-2-419974056037', 'train-pipeline-model-28'])}), ('StoppingCondition', {'MaxRuntimeInSeconds': 360000}), ('ResourceConfig', {'VolumeSizeInGB': 30, 'InstanceCount': 1, 'InstanceType': 'ml.m5.xlarge'}), ('RoleArn', 'arn:aws:iam::419974056037:role/service-role/AmazonSageMaker-ExecutionRole-20221004T162466'), ('InputDataConfig', [{'DataSource': {'S3DataSource': {'S3DataType': 'S3Prefix', 'S3Uri': <sagemaker.workflow.properties.Properties object at 0x7f51851b22e0>, 'S3DataDistributionType': 'FullyReplicated'}}, 'ContentType': 'text/csv', 'ChannelName': 'train'}, {'DataSource': {'S3DataSource': {'S3DataType': 'S3Prefix', 'S3Uri': <sagemaker.workflow.properties.Properties object at 0x7f5185349310>, 'S3DataDistributionType': 'FullyReplicated'}}, 'ContentType': 'text/csv', 'ChannelName': 'validation'}]), ('HyperParameters', {'mode': 'supervised', 'epochs': '10', 'min_epochs': '5', 'early_stopping': 'True', 'patience': '2', 'learning_rate': '0.01', 'min_count': '2', 'word_ngrams': '2', 'vector_dim': '16'}), ('DebugHookConfig', {'S3OutputPath': Join(on='/', values=['s3://sagemaker-ap-northeast-2-419974056037', 'train-pipeline-model-28']), 'CollectionConfigurations': []}), ('ProfilerConfig', {'S3OutputPath': Join(on='/', values=['s3://sagemaker-ap-northeast-2-419974056037', 'train-pipeline-model-28']), 'DisableProfiler': False})])\n",
      "  \n",
      "== Evaluation Step ==\n"
     ]
    },
    {
     "name": "stderr",
     "output_type": "stream",
     "text": [
      "INFO:sagemaker.processing:Uploaded ./sources/ to s3://sagemaker-ap-northeast-2-419974056037/evaluation/source/sourcedir.tar.gz\n",
      "INFO:sagemaker.processing:runproc.sh uploaded to s3://sagemaker-ap-northeast-2-419974056037/evaluation/source/runproc.sh\n"
     ]
    },
    {
     "name": "stdout",
     "output_type": "stream",
     "text": [
      "\n",
      "Job Name:  evaluation\n",
      "Inputs:  [{'InputName': 'input-1', 'AppManaged': False, 'S3Input': {'S3Uri': <sagemaker.workflow.properties.Properties object at 0x7f5185287790>, 'LocalPath': '/opt/ml/processing/model', 'S3DataType': 'S3Prefix', 'S3InputMode': 'File', 'S3DataDistributionType': 'FullyReplicated', 'S3CompressionType': 'None'}}, {'InputName': 'input-2', 'AppManaged': False, 'S3Input': {'S3Uri': <sagemaker.workflow.properties.Properties object at 0x7f51850c7f70>, 'LocalPath': '/opt/ml/processing/test', 'S3DataType': 'S3Prefix', 'S3InputMode': 'File', 'S3DataDistributionType': 'FullyReplicated', 'S3CompressionType': 'None'}}, {'InputName': 'code', 'AppManaged': False, 'S3Input': {'S3Uri': 's3://sagemaker-ap-northeast-2-419974056037/evaluation/source/sourcedir.tar.gz', 'LocalPath': '/opt/ml/processing/input/code/', 'S3DataType': 'S3Prefix', 'S3InputMode': 'File', 'S3DataDistributionType': 'FullyReplicated', 'S3CompressionType': 'None'}}, {'InputName': 'entrypoint', 'AppManaged': False, 'S3Input': {'S3Uri': 's3://sagemaker-ap-northeast-2-419974056037/evaluation/source/runproc.sh', 'LocalPath': '/opt/ml/processing/input/entrypoint', 'S3DataType': 'S3Prefix', 'S3InputMode': 'File', 'S3DataDistributionType': 'FullyReplicated', 'S3CompressionType': 'None'}}]\n",
      "Outputs:  [{'OutputName': 'evaluation-metrics', 'AppManaged': False, 'S3Output': {'S3Uri': Join(on='/', values=['s3://sagemaker-ap-northeast-2-419974056037', 'train-pipeline-model-28', <sagemaker.workflow.execution_variables.ExecutionVariable object at 0x7f518847a3a0>, 'evaluation-metrics']), 'LocalPath': '/opt/ml/processing/evaluation', 'S3UploadMode': 'EndOfJob'}}]\n",
      "   \n",
      "Args:  dict_items([('ProcessingResources', {'ClusterConfig': {'InstanceType': 'ml.g4dn.xlarge', 'InstanceCount': 1, 'VolumeSizeInGB': 30}}), ('AppSpecification', {'ImageUri': '763104351884.dkr.ecr.ap-northeast-2.amazonaws.com/tensorflow-training:2.3-gpu-py37', 'ContainerArguments': ['--s3_model_path', <sagemaker.workflow.properties.Properties object at 0x7f5185287790>, '--region', 'ap-northeast-2', '--model_name', 'model-28'], 'ContainerEntrypoint': ['/bin/bash', '/opt/ml/processing/input/entrypoint/runproc.sh']}), ('RoleArn', 'arn:aws:iam::419974056037:role/service-role/AmazonSageMaker-ExecutionRole-20221004T162466'), ('ProcessingInputs', [{'InputName': 'input-1', 'AppManaged': False, 'S3Input': {'S3Uri': <sagemaker.workflow.properties.Properties object at 0x7f5185287790>, 'LocalPath': '/opt/ml/processing/model', 'S3DataType': 'S3Prefix', 'S3InputMode': 'File', 'S3DataDistributionType': 'FullyReplicated', 'S3CompressionType': 'None'}}, {'InputName': 'input-2', 'AppManaged': False, 'S3Input': {'S3Uri': <sagemaker.workflow.properties.Properties object at 0x7f51850c7f70>, 'LocalPath': '/opt/ml/processing/test', 'S3DataType': 'S3Prefix', 'S3InputMode': 'File', 'S3DataDistributionType': 'FullyReplicated', 'S3CompressionType': 'None'}}, {'InputName': 'code', 'AppManaged': False, 'S3Input': {'S3Uri': 's3://sagemaker-ap-northeast-2-419974056037/evaluation/source/sourcedir.tar.gz', 'LocalPath': '/opt/ml/processing/input/code/', 'S3DataType': 'S3Prefix', 'S3InputMode': 'File', 'S3DataDistributionType': 'FullyReplicated', 'S3CompressionType': 'None'}}, {'InputName': 'entrypoint', 'AppManaged': False, 'S3Input': {'S3Uri': 's3://sagemaker-ap-northeast-2-419974056037/evaluation/source/runproc.sh', 'LocalPath': '/opt/ml/processing/input/entrypoint', 'S3DataType': 'S3Prefix', 'S3InputMode': 'File', 'S3DataDistributionType': 'FullyReplicated', 'S3CompressionType': 'None'}}]), ('ProcessingOutputConfig', {'Outputs': [{'OutputName': 'evaluation-metrics', 'AppManaged': False, 'S3Output': {'S3Uri': Join(on='/', values=['s3://sagemaker-ap-northeast-2-419974056037', 'train-pipeline-model-28', <sagemaker.workflow.execution_variables.ExecutionVariable object at 0x7f518847a3a0>, 'evaluation-metrics']), 'LocalPath': '/opt/ml/processing/evaluation', 'S3UploadMode': 'EndOfJob'}}]})])\n",
      "  \n",
      "== Registration Step ==\n"
     ]
    },
    {
     "name": "stderr",
     "output_type": "stream",
     "text": [
      "INFO:sagemaker.processing:Uploaded ./sources/ to s3://sagemaker-ap-northeast-2-419974056037/train-pipeline-model-28/code/eabace17c9345271cf901107138b46a8/sourcedir.tar.gz\n"
     ]
    },
    {
     "name": "stdout",
     "output_type": "stream",
     "text": [
      "\n",
      "Job Name:  preprocessing-model-28\n",
      "Inputs:  [{'InputName': 'input-1', 'AppManaged': False, 'S3Input': {'S3Uri': 's3://sm-pipeline-multi-models-datasets/model-28/amazon_reviews_us_Electronics_v1_00.tsv.gz', 'LocalPath': '/opt/ml/processing/input', 'S3DataType': 'S3Prefix', 'S3InputMode': 'File', 'S3DataDistributionType': 'FullyReplicated', 'S3CompressionType': 'None'}}, {'InputName': 'requirements', 'AppManaged': False, 'S3Input': {'S3Uri': 's3://sagemaker-ap-northeast-2-419974056037/preprocessing-model-28/input/requirements/requirements.txt', 'LocalPath': '/opt/ml/processing/input/requirements', 'S3DataType': 'S3Prefix', 'S3InputMode': 'File', 'S3DataDistributionType': 'FullyReplicated', 'S3CompressionType': 'None'}}, {'InputName': 'code', 'AppManaged': False, 'S3Input': {'S3Uri': 's3://sagemaker-ap-northeast-2-419974056037/train-pipeline-model-28/code/2b3c51df48188408561910efa21ddc30/preprocessing.py', 'LocalPath': '/opt/ml/processing/input/code', 'S3DataType': 'S3Prefix', 'S3InputMode': 'File', 'S3DataDistributionType': 'FullyReplicated', 'S3CompressionType': 'None'}}]\n",
      "Outputs:  [{'OutputName': 'train_data', 'AppManaged': False, 'S3Output': {'S3Uri': Join(on='/', values=['s3://sagemaker-ap-northeast-2-419974056037', 'train-pipeline-model-28', <sagemaker.workflow.execution_variables.ExecutionVariable object at 0x7f518847a3a0>, 'train_data']), 'LocalPath': '/opt/ml/processing/output/train', 'S3UploadMode': 'EndOfJob'}}, {'OutputName': 'validation_data', 'AppManaged': False, 'S3Output': {'S3Uri': Join(on='/', values=['s3://sagemaker-ap-northeast-2-419974056037', 'train-pipeline-model-28', <sagemaker.workflow.execution_variables.ExecutionVariable object at 0x7f518847a3a0>, 'validation_data']), 'LocalPath': '/opt/ml/processing/output/validation', 'S3UploadMode': 'EndOfJob'}}, {'OutputName': 'test_data', 'AppManaged': False, 'S3Output': {'S3Uri': Join(on='/', values=['s3://sagemaker-ap-northeast-2-419974056037', 'train-pipeline-model-28', <sagemaker.workflow.execution_variables.ExecutionVariable object at 0x7f518847a3a0>, 'test_data']), 'LocalPath': '/opt/ml/processing/output/test', 'S3UploadMode': 'EndOfJob'}}]\n"
     ]
    },
    {
     "name": "stderr",
     "output_type": "stream",
     "text": [
      "INFO:sagemaker.processing:runproc.sh uploaded to s3://sagemaker-ap-northeast-2-419974056037/train-pipeline-model-28/code/1071dadab36d48ed1fba97e2ff137bdf/runproc.sh\n",
      "WARNING:sagemaker.estimator:No finished training job found associated with this estimator. Please make sure this estimator is only used for building workflow config\n",
      "WARNING:sagemaker.workflow._utils:Popping out 'CertifyForMarketplace' from the pipeline definition since it will be overridden in pipeline execution time.\n"
     ]
    },
    {
     "name": "stdout",
     "output_type": "stream",
     "text": [
      "\n",
      "Job Name:  evaluation\n",
      "Inputs:  [{'InputName': 'input-1', 'AppManaged': False, 'S3Input': {'S3Uri': <sagemaker.workflow.properties.Properties object at 0x7f5185287790>, 'LocalPath': '/opt/ml/processing/model', 'S3DataType': 'S3Prefix', 'S3InputMode': 'File', 'S3DataDistributionType': 'FullyReplicated', 'S3CompressionType': 'None'}}, {'InputName': 'input-2', 'AppManaged': False, 'S3Input': {'S3Uri': <sagemaker.workflow.properties.Properties object at 0x7f51850c7f70>, 'LocalPath': '/opt/ml/processing/test', 'S3DataType': 'S3Prefix', 'S3InputMode': 'File', 'S3DataDistributionType': 'FullyReplicated', 'S3CompressionType': 'None'}}, {'InputName': 'code', 'AppManaged': False, 'S3Input': {'S3Uri': 's3://sagemaker-ap-northeast-2-419974056037/train-pipeline-model-28/code/eabace17c9345271cf901107138b46a8/sourcedir.tar.gz', 'LocalPath': '/opt/ml/processing/input/code/', 'S3DataType': 'S3Prefix', 'S3InputMode': 'File', 'S3DataDistributionType': 'FullyReplicated', 'S3CompressionType': 'None'}}, {'InputName': 'entrypoint', 'AppManaged': False, 'S3Input': {'S3Uri': 's3://sagemaker-ap-northeast-2-419974056037/train-pipeline-model-28/code/1071dadab36d48ed1fba97e2ff137bdf/runproc.sh', 'LocalPath': '/opt/ml/processing/input/entrypoint', 'S3DataType': 'S3Prefix', 'S3InputMode': 'File', 'S3DataDistributionType': 'FullyReplicated', 'S3CompressionType': 'None'}}]\n",
      "Outputs:  [{'OutputName': 'evaluation-metrics', 'AppManaged': False, 'S3Output': {'S3Uri': Join(on='/', values=['s3://sagemaker-ap-northeast-2-419974056037', 'train-pipeline-model-28', <sagemaker.workflow.execution_variables.ExecutionVariable object at 0x7f518847a3a0>, 'evaluation-metrics']), 'LocalPath': '/opt/ml/processing/evaluation', 'S3UploadMode': 'EndOfJob'}}]\n",
      "  \n",
      "== PipeLine Execution info.==\n",
      "{'PipelineArn': 'arn:aws:sagemaker:ap-northeast-2:419974056037:pipeline/train-pipeline-model-28', 'PipelineExecutionArn': 'arn:aws:sagemaker:ap-northeast-2:419974056037:pipeline/train-pipeline-model-28/execution/6gqwf1nbzntk', 'PipelineExecutionDisplayName': 'execution-1674699125149', 'PipelineExecutionStatus': 'Executing', 'CreationTime': datetime.datetime(2023, 1, 26, 2, 12, 5, 86000, tzinfo=tzlocal()), 'LastModifiedTime': datetime.datetime(2023, 1, 26, 2, 12, 5, 86000, tzinfo=tzlocal()), 'CreatedBy': {}, 'LastModifiedBy': {}, 'ResponseMetadata': {'RequestId': 'f4cbb90f-2ee1-43b5-a2ef-0123d8e9038e', 'HTTPStatusCode': 200, 'HTTPHeaders': {'x-amzn-requestid': 'f4cbb90f-2ee1-43b5-a2ef-0123d8e9038e', 'content-type': 'application/x-amz-json-1.1', 'content-length': '421', 'date': 'Thu, 26 Jan 2023 02:12:04 GMT'}, 'RetryAttempts': 0}}\n",
      "========================== \n",
      "\n"
     ]
    },
    {
     "name": "stderr",
     "output_type": "stream",
     "text": [
      "INFO:sagemaker.image_uris:Same images used for training and inference. Defaulting to image scope: inference.\n",
      "INFO:sagemaker.image_uris:Defaulting to the only supported framework/algorithm version: 1.\n",
      "INFO:sagemaker.image_uris:Ignoring unnecessary instance type: None.\n",
      "INFO:sagemaker.image_uris:Defaulting to only available Python version: py3\n"
     ]
    },
    {
     "name": "stdout",
     "output_type": "stream",
     "text": [
      "MODEL-NAME: model-29\n",
      "  Account-ID: 419974056037, \n",
      "  Region: ap-northeast-2, \n",
      "  Role: arn:aws:iam::419974056037:role/service-role/AmazonSageMaker-ExecutionRole-20221004T162466, \n",
      "  Default_bucket: sagemaker-ap-northeast-2-419974056037\n",
      "  pipeline_session: <sagemaker.workflow.pipeline_context.PipelineSession object at 0x7f5185577730>\n",
      "  \n",
      "== Preprocessing Step ==\n"
     ]
    },
    {
     "name": "stderr",
     "output_type": "stream",
     "text": [
      "INFO:sagemaker.image_uris:image_uri is not presented, retrieving image_uri based on instance_type, framework etc.\n",
      "INFO:sagemaker.processing:Uploaded ./sources/ to s3://sagemaker-ap-northeast-2-419974056037/evaluation/source/sourcedir.tar.gz\n"
     ]
    },
    {
     "name": "stdout",
     "output_type": "stream",
     "text": [
      "\n",
      "Job Name:  preprocessing-model-29\n",
      "Inputs:  [{'InputName': 'input-1', 'AppManaged': False, 'S3Input': {'S3Uri': 's3://sm-pipeline-multi-models-datasets/model-29/amazon_reviews_us_Electronics_v1_00.tsv.gz', 'LocalPath': '/opt/ml/processing/input', 'S3DataType': 'S3Prefix', 'S3InputMode': 'File', 'S3DataDistributionType': 'FullyReplicated', 'S3CompressionType': 'None'}}, {'InputName': 'requirements', 'AppManaged': False, 'S3Input': {'S3Uri': 's3://sagemaker-ap-northeast-2-419974056037/preprocessing-model-29/input/requirements/requirements.txt', 'LocalPath': '/opt/ml/processing/input/requirements', 'S3DataType': 'S3Prefix', 'S3InputMode': 'File', 'S3DataDistributionType': 'FullyReplicated', 'S3CompressionType': 'None'}}, {'InputName': 'code', 'AppManaged': False, 'S3Input': {'S3Uri': 's3://sagemaker-ap-northeast-2-419974056037/preprocessing-model-29/input/code/preprocessing.py', 'LocalPath': '/opt/ml/processing/input/code', 'S3DataType': 'S3Prefix', 'S3InputMode': 'File', 'S3DataDistributionType': 'FullyReplicated', 'S3CompressionType': 'None'}}]\n",
      "Outputs:  [{'OutputName': 'train_data', 'AppManaged': False, 'S3Output': {'S3Uri': Join(on='/', values=['s3://sagemaker-ap-northeast-2-419974056037', 'train-pipeline-model-29', <sagemaker.workflow.execution_variables.ExecutionVariable object at 0x7f518847a3a0>, 'train_data']), 'LocalPath': '/opt/ml/processing/output/train', 'S3UploadMode': 'EndOfJob'}}, {'OutputName': 'validation_data', 'AppManaged': False, 'S3Output': {'S3Uri': Join(on='/', values=['s3://sagemaker-ap-northeast-2-419974056037', 'train-pipeline-model-29', <sagemaker.workflow.execution_variables.ExecutionVariable object at 0x7f518847a3a0>, 'validation_data']), 'LocalPath': '/opt/ml/processing/output/validation', 'S3UploadMode': 'EndOfJob'}}, {'OutputName': 'test_data', 'AppManaged': False, 'S3Output': {'S3Uri': Join(on='/', values=['s3://sagemaker-ap-northeast-2-419974056037', 'train-pipeline-model-29', <sagemaker.workflow.execution_variables.ExecutionVariable object at 0x7f518847a3a0>, 'test_data']), 'LocalPath': '/opt/ml/processing/output/test', 'S3UploadMode': 'EndOfJob'}}]\n",
      "   \n",
      "Args:  dict_items([('ProcessingResources', {'ClusterConfig': {'InstanceType': 'ml.m5.xlarge', 'InstanceCount': 1, 'VolumeSizeInGB': 30}}), ('AppSpecification', {'ImageUri': '366743142698.dkr.ecr.ap-northeast-2.amazonaws.com/sagemaker-scikit-learn:0.20.0-cpu-py3', 'ContainerArguments': ['--input_name', 'amazon_reviews_us_Electronics_v1_00.tsv.gz', '--region', 'ap-northeast-2'], 'ContainerEntrypoint': ['python3', '/opt/ml/processing/input/code/preprocessing.py']}), ('RoleArn', 'arn:aws:iam::419974056037:role/service-role/AmazonSageMaker-ExecutionRole-20221004T162466'), ('ProcessingInputs', [{'InputName': 'input-1', 'AppManaged': False, 'S3Input': {'S3Uri': 's3://sm-pipeline-multi-models-datasets/model-29/amazon_reviews_us_Electronics_v1_00.tsv.gz', 'LocalPath': '/opt/ml/processing/input', 'S3DataType': 'S3Prefix', 'S3InputMode': 'File', 'S3DataDistributionType': 'FullyReplicated', 'S3CompressionType': 'None'}}, {'InputName': 'requirements', 'AppManaged': False, 'S3Input': {'S3Uri': 's3://sagemaker-ap-northeast-2-419974056037/preprocessing-model-29/input/requirements/requirements.txt', 'LocalPath': '/opt/ml/processing/input/requirements', 'S3DataType': 'S3Prefix', 'S3InputMode': 'File', 'S3DataDistributionType': 'FullyReplicated', 'S3CompressionType': 'None'}}, {'InputName': 'code', 'AppManaged': False, 'S3Input': {'S3Uri': 's3://sagemaker-ap-northeast-2-419974056037/preprocessing-model-29/input/code/preprocessing.py', 'LocalPath': '/opt/ml/processing/input/code', 'S3DataType': 'S3Prefix', 'S3InputMode': 'File', 'S3DataDistributionType': 'FullyReplicated', 'S3CompressionType': 'None'}}]), ('ProcessingOutputConfig', {'Outputs': [{'OutputName': 'train_data', 'AppManaged': False, 'S3Output': {'S3Uri': Join(on='/', values=['s3://sagemaker-ap-northeast-2-419974056037', 'train-pipeline-model-29', <sagemaker.workflow.execution_variables.ExecutionVariable object at 0x7f518847a3a0>, 'train_data']), 'LocalPath': '/opt/ml/processing/output/train', 'S3UploadMode': 'EndOfJob'}}, {'OutputName': 'validation_data', 'AppManaged': False, 'S3Output': {'S3Uri': Join(on='/', values=['s3://sagemaker-ap-northeast-2-419974056037', 'train-pipeline-model-29', <sagemaker.workflow.execution_variables.ExecutionVariable object at 0x7f518847a3a0>, 'validation_data']), 'LocalPath': '/opt/ml/processing/output/validation', 'S3UploadMode': 'EndOfJob'}}, {'OutputName': 'test_data', 'AppManaged': False, 'S3Output': {'S3Uri': Join(on='/', values=['s3://sagemaker-ap-northeast-2-419974056037', 'train-pipeline-model-29', <sagemaker.workflow.execution_variables.ExecutionVariable object at 0x7f518847a3a0>, 'test_data']), 'LocalPath': '/opt/ml/processing/output/test', 'S3UploadMode': 'EndOfJob'}}]})])\n",
      "  \n",
      "== Training Step ==\n",
      "   \n",
      "Args:  dict_items([('AlgorithmSpecification', {'TrainingInputMode': 'File', 'TrainingImage': '306986355934.dkr.ecr.ap-northeast-2.amazonaws.com/blazingtext:1'}), ('OutputDataConfig', {'S3OutputPath': Join(on='/', values=['s3://sagemaker-ap-northeast-2-419974056037', 'train-pipeline-model-29'])}), ('StoppingCondition', {'MaxRuntimeInSeconds': 360000}), ('ResourceConfig', {'VolumeSizeInGB': 30, 'InstanceCount': 1, 'InstanceType': 'ml.m5.xlarge'}), ('RoleArn', 'arn:aws:iam::419974056037:role/service-role/AmazonSageMaker-ExecutionRole-20221004T162466'), ('InputDataConfig', [{'DataSource': {'S3DataSource': {'S3DataType': 'S3Prefix', 'S3Uri': <sagemaker.workflow.properties.Properties object at 0x7f51853fe850>, 'S3DataDistributionType': 'FullyReplicated'}}, 'ContentType': 'text/csv', 'ChannelName': 'train'}, {'DataSource': {'S3DataSource': {'S3DataType': 'S3Prefix', 'S3Uri': <sagemaker.workflow.properties.Properties object at 0x7f51853fe5e0>, 'S3DataDistributionType': 'FullyReplicated'}}, 'ContentType': 'text/csv', 'ChannelName': 'validation'}]), ('HyperParameters', {'mode': 'supervised', 'epochs': '10', 'min_epochs': '5', 'early_stopping': 'True', 'patience': '2', 'learning_rate': '0.01', 'min_count': '2', 'word_ngrams': '2', 'vector_dim': '16'}), ('DebugHookConfig', {'S3OutputPath': Join(on='/', values=['s3://sagemaker-ap-northeast-2-419974056037', 'train-pipeline-model-29']), 'CollectionConfigurations': []}), ('ProfilerConfig', {'S3OutputPath': Join(on='/', values=['s3://sagemaker-ap-northeast-2-419974056037', 'train-pipeline-model-29']), 'DisableProfiler': False})])\n",
      "  \n",
      "== Evaluation Step ==\n"
     ]
    },
    {
     "name": "stderr",
     "output_type": "stream",
     "text": [
      "INFO:sagemaker.processing:runproc.sh uploaded to s3://sagemaker-ap-northeast-2-419974056037/evaluation/source/runproc.sh\n"
     ]
    },
    {
     "name": "stdout",
     "output_type": "stream",
     "text": [
      "\n",
      "Job Name:  evaluation\n",
      "Inputs:  [{'InputName': 'input-1', 'AppManaged': False, 'S3Input': {'S3Uri': <sagemaker.workflow.properties.Properties object at 0x7f5187563190>, 'LocalPath': '/opt/ml/processing/model', 'S3DataType': 'S3Prefix', 'S3InputMode': 'File', 'S3DataDistributionType': 'FullyReplicated', 'S3CompressionType': 'None'}}, {'InputName': 'input-2', 'AppManaged': False, 'S3Input': {'S3Uri': <sagemaker.workflow.properties.Properties object at 0x7f5185573b20>, 'LocalPath': '/opt/ml/processing/test', 'S3DataType': 'S3Prefix', 'S3InputMode': 'File', 'S3DataDistributionType': 'FullyReplicated', 'S3CompressionType': 'None'}}, {'InputName': 'code', 'AppManaged': False, 'S3Input': {'S3Uri': 's3://sagemaker-ap-northeast-2-419974056037/evaluation/source/sourcedir.tar.gz', 'LocalPath': '/opt/ml/processing/input/code/', 'S3DataType': 'S3Prefix', 'S3InputMode': 'File', 'S3DataDistributionType': 'FullyReplicated', 'S3CompressionType': 'None'}}, {'InputName': 'entrypoint', 'AppManaged': False, 'S3Input': {'S3Uri': 's3://sagemaker-ap-northeast-2-419974056037/evaluation/source/runproc.sh', 'LocalPath': '/opt/ml/processing/input/entrypoint', 'S3DataType': 'S3Prefix', 'S3InputMode': 'File', 'S3DataDistributionType': 'FullyReplicated', 'S3CompressionType': 'None'}}]\n",
      "Outputs:  [{'OutputName': 'evaluation-metrics', 'AppManaged': False, 'S3Output': {'S3Uri': Join(on='/', values=['s3://sagemaker-ap-northeast-2-419974056037', 'train-pipeline-model-29', <sagemaker.workflow.execution_variables.ExecutionVariable object at 0x7f518847a3a0>, 'evaluation-metrics']), 'LocalPath': '/opt/ml/processing/evaluation', 'S3UploadMode': 'EndOfJob'}}]\n",
      "   \n",
      "Args:  dict_items([('ProcessingResources', {'ClusterConfig': {'InstanceType': 'ml.g4dn.xlarge', 'InstanceCount': 1, 'VolumeSizeInGB': 30}}), ('AppSpecification', {'ImageUri': '763104351884.dkr.ecr.ap-northeast-2.amazonaws.com/tensorflow-training:2.3-gpu-py37', 'ContainerArguments': ['--s3_model_path', <sagemaker.workflow.properties.Properties object at 0x7f5187563190>, '--region', 'ap-northeast-2', '--model_name', 'model-29'], 'ContainerEntrypoint': ['/bin/bash', '/opt/ml/processing/input/entrypoint/runproc.sh']}), ('RoleArn', 'arn:aws:iam::419974056037:role/service-role/AmazonSageMaker-ExecutionRole-20221004T162466'), ('ProcessingInputs', [{'InputName': 'input-1', 'AppManaged': False, 'S3Input': {'S3Uri': <sagemaker.workflow.properties.Properties object at 0x7f5187563190>, 'LocalPath': '/opt/ml/processing/model', 'S3DataType': 'S3Prefix', 'S3InputMode': 'File', 'S3DataDistributionType': 'FullyReplicated', 'S3CompressionType': 'None'}}, {'InputName': 'input-2', 'AppManaged': False, 'S3Input': {'S3Uri': <sagemaker.workflow.properties.Properties object at 0x7f5185573b20>, 'LocalPath': '/opt/ml/processing/test', 'S3DataType': 'S3Prefix', 'S3InputMode': 'File', 'S3DataDistributionType': 'FullyReplicated', 'S3CompressionType': 'None'}}, {'InputName': 'code', 'AppManaged': False, 'S3Input': {'S3Uri': 's3://sagemaker-ap-northeast-2-419974056037/evaluation/source/sourcedir.tar.gz', 'LocalPath': '/opt/ml/processing/input/code/', 'S3DataType': 'S3Prefix', 'S3InputMode': 'File', 'S3DataDistributionType': 'FullyReplicated', 'S3CompressionType': 'None'}}, {'InputName': 'entrypoint', 'AppManaged': False, 'S3Input': {'S3Uri': 's3://sagemaker-ap-northeast-2-419974056037/evaluation/source/runproc.sh', 'LocalPath': '/opt/ml/processing/input/entrypoint', 'S3DataType': 'S3Prefix', 'S3InputMode': 'File', 'S3DataDistributionType': 'FullyReplicated', 'S3CompressionType': 'None'}}]), ('ProcessingOutputConfig', {'Outputs': [{'OutputName': 'evaluation-metrics', 'AppManaged': False, 'S3Output': {'S3Uri': Join(on='/', values=['s3://sagemaker-ap-northeast-2-419974056037', 'train-pipeline-model-29', <sagemaker.workflow.execution_variables.ExecutionVariable object at 0x7f518847a3a0>, 'evaluation-metrics']), 'LocalPath': '/opt/ml/processing/evaluation', 'S3UploadMode': 'EndOfJob'}}]})])\n",
      "  \n",
      "== Registration Step ==\n"
     ]
    },
    {
     "name": "stderr",
     "output_type": "stream",
     "text": [
      "INFO:sagemaker.processing:Uploaded ./sources/ to s3://sagemaker-ap-northeast-2-419974056037/train-pipeline-model-29/code/eabace17c9345271cf901107138b46a8/sourcedir.tar.gz\n",
      "INFO:sagemaker.processing:runproc.sh uploaded to s3://sagemaker-ap-northeast-2-419974056037/train-pipeline-model-29/code/1071dadab36d48ed1fba97e2ff137bdf/runproc.sh\n",
      "WARNING:sagemaker.estimator:No finished training job found associated with this estimator. Please make sure this estimator is only used for building workflow config\n",
      "WARNING:sagemaker.workflow._utils:Popping out 'CertifyForMarketplace' from the pipeline definition since it will be overridden in pipeline execution time.\n"
     ]
    },
    {
     "name": "stdout",
     "output_type": "stream",
     "text": [
      "\n",
      "Job Name:  preprocessing-model-29\n",
      "Inputs:  [{'InputName': 'input-1', 'AppManaged': False, 'S3Input': {'S3Uri': 's3://sm-pipeline-multi-models-datasets/model-29/amazon_reviews_us_Electronics_v1_00.tsv.gz', 'LocalPath': '/opt/ml/processing/input', 'S3DataType': 'S3Prefix', 'S3InputMode': 'File', 'S3DataDistributionType': 'FullyReplicated', 'S3CompressionType': 'None'}}, {'InputName': 'requirements', 'AppManaged': False, 'S3Input': {'S3Uri': 's3://sagemaker-ap-northeast-2-419974056037/preprocessing-model-29/input/requirements/requirements.txt', 'LocalPath': '/opt/ml/processing/input/requirements', 'S3DataType': 'S3Prefix', 'S3InputMode': 'File', 'S3DataDistributionType': 'FullyReplicated', 'S3CompressionType': 'None'}}, {'InputName': 'code', 'AppManaged': False, 'S3Input': {'S3Uri': 's3://sagemaker-ap-northeast-2-419974056037/train-pipeline-model-29/code/2b3c51df48188408561910efa21ddc30/preprocessing.py', 'LocalPath': '/opt/ml/processing/input/code', 'S3DataType': 'S3Prefix', 'S3InputMode': 'File', 'S3DataDistributionType': 'FullyReplicated', 'S3CompressionType': 'None'}}]\n",
      "Outputs:  [{'OutputName': 'train_data', 'AppManaged': False, 'S3Output': {'S3Uri': Join(on='/', values=['s3://sagemaker-ap-northeast-2-419974056037', 'train-pipeline-model-29', <sagemaker.workflow.execution_variables.ExecutionVariable object at 0x7f518847a3a0>, 'train_data']), 'LocalPath': '/opt/ml/processing/output/train', 'S3UploadMode': 'EndOfJob'}}, {'OutputName': 'validation_data', 'AppManaged': False, 'S3Output': {'S3Uri': Join(on='/', values=['s3://sagemaker-ap-northeast-2-419974056037', 'train-pipeline-model-29', <sagemaker.workflow.execution_variables.ExecutionVariable object at 0x7f518847a3a0>, 'validation_data']), 'LocalPath': '/opt/ml/processing/output/validation', 'S3UploadMode': 'EndOfJob'}}, {'OutputName': 'test_data', 'AppManaged': False, 'S3Output': {'S3Uri': Join(on='/', values=['s3://sagemaker-ap-northeast-2-419974056037', 'train-pipeline-model-29', <sagemaker.workflow.execution_variables.ExecutionVariable object at 0x7f518847a3a0>, 'test_data']), 'LocalPath': '/opt/ml/processing/output/test', 'S3UploadMode': 'EndOfJob'}}]\n",
      "\n",
      "Job Name:  evaluation\n",
      "Inputs:  [{'InputName': 'input-1', 'AppManaged': False, 'S3Input': {'S3Uri': <sagemaker.workflow.properties.Properties object at 0x7f5187563190>, 'LocalPath': '/opt/ml/processing/model', 'S3DataType': 'S3Prefix', 'S3InputMode': 'File', 'S3DataDistributionType': 'FullyReplicated', 'S3CompressionType': 'None'}}, {'InputName': 'input-2', 'AppManaged': False, 'S3Input': {'S3Uri': <sagemaker.workflow.properties.Properties object at 0x7f5185573b20>, 'LocalPath': '/opt/ml/processing/test', 'S3DataType': 'S3Prefix', 'S3InputMode': 'File', 'S3DataDistributionType': 'FullyReplicated', 'S3CompressionType': 'None'}}, {'InputName': 'code', 'AppManaged': False, 'S3Input': {'S3Uri': 's3://sagemaker-ap-northeast-2-419974056037/train-pipeline-model-29/code/eabace17c9345271cf901107138b46a8/sourcedir.tar.gz', 'LocalPath': '/opt/ml/processing/input/code/', 'S3DataType': 'S3Prefix', 'S3InputMode': 'File', 'S3DataDistributionType': 'FullyReplicated', 'S3CompressionType': 'None'}}, {'InputName': 'entrypoint', 'AppManaged': False, 'S3Input': {'S3Uri': 's3://sagemaker-ap-northeast-2-419974056037/train-pipeline-model-29/code/1071dadab36d48ed1fba97e2ff137bdf/runproc.sh', 'LocalPath': '/opt/ml/processing/input/entrypoint', 'S3DataType': 'S3Prefix', 'S3InputMode': 'File', 'S3DataDistributionType': 'FullyReplicated', 'S3CompressionType': 'None'}}]\n",
      "Outputs:  [{'OutputName': 'evaluation-metrics', 'AppManaged': False, 'S3Output': {'S3Uri': Join(on='/', values=['s3://sagemaker-ap-northeast-2-419974056037', 'train-pipeline-model-29', <sagemaker.workflow.execution_variables.ExecutionVariable object at 0x7f518847a3a0>, 'evaluation-metrics']), 'LocalPath': '/opt/ml/processing/evaluation', 'S3UploadMode': 'EndOfJob'}}]\n",
      "  \n",
      "== PipeLine Execution info.==\n",
      "{'PipelineArn': 'arn:aws:sagemaker:ap-northeast-2:419974056037:pipeline/train-pipeline-model-29', 'PipelineExecutionArn': 'arn:aws:sagemaker:ap-northeast-2:419974056037:pipeline/train-pipeline-model-29/execution/mm7cmrra36gy', 'PipelineExecutionDisplayName': 'execution-1674699126659', 'PipelineExecutionStatus': 'Executing', 'CreationTime': datetime.datetime(2023, 1, 26, 2, 12, 6, 589000, tzinfo=tzlocal()), 'LastModifiedTime': datetime.datetime(2023, 1, 26, 2, 12, 6, 589000, tzinfo=tzlocal()), 'CreatedBy': {}, 'LastModifiedBy': {}, 'ResponseMetadata': {'RequestId': 'abfe1481-560e-4e04-901d-9241fee44a81', 'HTTPStatusCode': 200, 'HTTPHeaders': {'x-amzn-requestid': 'abfe1481-560e-4e04-901d-9241fee44a81', 'content-type': 'application/x-amz-json-1.1', 'content-length': '421', 'date': 'Thu, 26 Jan 2023 02:12:06 GMT'}, 'RetryAttempts': 0}}\n",
      "========================== \n",
      "\n"
     ]
    },
    {
     "name": "stderr",
     "output_type": "stream",
     "text": [
      "INFO:sagemaker.image_uris:Same images used for training and inference. Defaulting to image scope: inference.\n",
      "INFO:sagemaker.image_uris:Defaulting to the only supported framework/algorithm version: 1.\n",
      "INFO:sagemaker.image_uris:Ignoring unnecessary instance type: None.\n",
      "INFO:sagemaker.image_uris:Defaulting to only available Python version: py3\n"
     ]
    },
    {
     "name": "stdout",
     "output_type": "stream",
     "text": [
      "MODEL-NAME: model-30\n",
      "  Account-ID: 419974056037, \n",
      "  Region: ap-northeast-2, \n",
      "  Role: arn:aws:iam::419974056037:role/service-role/AmazonSageMaker-ExecutionRole-20221004T162466, \n",
      "  Default_bucket: sagemaker-ap-northeast-2-419974056037\n",
      "  pipeline_session: <sagemaker.workflow.pipeline_context.PipelineSession object at 0x7f518557fe20>\n",
      "  \n",
      "== Preprocessing Step ==\n"
     ]
    },
    {
     "name": "stderr",
     "output_type": "stream",
     "text": [
      "INFO:sagemaker.image_uris:image_uri is not presented, retrieving image_uri based on instance_type, framework etc.\n",
      "INFO:sagemaker.processing:Uploaded ./sources/ to s3://sagemaker-ap-northeast-2-419974056037/evaluation/source/sourcedir.tar.gz\n"
     ]
    },
    {
     "name": "stdout",
     "output_type": "stream",
     "text": [
      "\n",
      "Job Name:  preprocessing-model-30\n",
      "Inputs:  [{'InputName': 'input-1', 'AppManaged': False, 'S3Input': {'S3Uri': 's3://sm-pipeline-multi-models-datasets/model-30/amazon_reviews_us_Electronics_v1_00.tsv.gz', 'LocalPath': '/opt/ml/processing/input', 'S3DataType': 'S3Prefix', 'S3InputMode': 'File', 'S3DataDistributionType': 'FullyReplicated', 'S3CompressionType': 'None'}}, {'InputName': 'requirements', 'AppManaged': False, 'S3Input': {'S3Uri': 's3://sagemaker-ap-northeast-2-419974056037/preprocessing-model-30/input/requirements/requirements.txt', 'LocalPath': '/opt/ml/processing/input/requirements', 'S3DataType': 'S3Prefix', 'S3InputMode': 'File', 'S3DataDistributionType': 'FullyReplicated', 'S3CompressionType': 'None'}}, {'InputName': 'code', 'AppManaged': False, 'S3Input': {'S3Uri': 's3://sagemaker-ap-northeast-2-419974056037/preprocessing-model-30/input/code/preprocessing.py', 'LocalPath': '/opt/ml/processing/input/code', 'S3DataType': 'S3Prefix', 'S3InputMode': 'File', 'S3DataDistributionType': 'FullyReplicated', 'S3CompressionType': 'None'}}]\n",
      "Outputs:  [{'OutputName': 'train_data', 'AppManaged': False, 'S3Output': {'S3Uri': Join(on='/', values=['s3://sagemaker-ap-northeast-2-419974056037', 'train-pipeline-model-30', <sagemaker.workflow.execution_variables.ExecutionVariable object at 0x7f518847a3a0>, 'train_data']), 'LocalPath': '/opt/ml/processing/output/train', 'S3UploadMode': 'EndOfJob'}}, {'OutputName': 'validation_data', 'AppManaged': False, 'S3Output': {'S3Uri': Join(on='/', values=['s3://sagemaker-ap-northeast-2-419974056037', 'train-pipeline-model-30', <sagemaker.workflow.execution_variables.ExecutionVariable object at 0x7f518847a3a0>, 'validation_data']), 'LocalPath': '/opt/ml/processing/output/validation', 'S3UploadMode': 'EndOfJob'}}, {'OutputName': 'test_data', 'AppManaged': False, 'S3Output': {'S3Uri': Join(on='/', values=['s3://sagemaker-ap-northeast-2-419974056037', 'train-pipeline-model-30', <sagemaker.workflow.execution_variables.ExecutionVariable object at 0x7f518847a3a0>, 'test_data']), 'LocalPath': '/opt/ml/processing/output/test', 'S3UploadMode': 'EndOfJob'}}]\n",
      "   \n",
      "Args:  dict_items([('ProcessingResources', {'ClusterConfig': {'InstanceType': 'ml.m5.xlarge', 'InstanceCount': 1, 'VolumeSizeInGB': 30}}), ('AppSpecification', {'ImageUri': '366743142698.dkr.ecr.ap-northeast-2.amazonaws.com/sagemaker-scikit-learn:0.20.0-cpu-py3', 'ContainerArguments': ['--input_name', 'amazon_reviews_us_Electronics_v1_00.tsv.gz', '--region', 'ap-northeast-2'], 'ContainerEntrypoint': ['python3', '/opt/ml/processing/input/code/preprocessing.py']}), ('RoleArn', 'arn:aws:iam::419974056037:role/service-role/AmazonSageMaker-ExecutionRole-20221004T162466'), ('ProcessingInputs', [{'InputName': 'input-1', 'AppManaged': False, 'S3Input': {'S3Uri': 's3://sm-pipeline-multi-models-datasets/model-30/amazon_reviews_us_Electronics_v1_00.tsv.gz', 'LocalPath': '/opt/ml/processing/input', 'S3DataType': 'S3Prefix', 'S3InputMode': 'File', 'S3DataDistributionType': 'FullyReplicated', 'S3CompressionType': 'None'}}, {'InputName': 'requirements', 'AppManaged': False, 'S3Input': {'S3Uri': 's3://sagemaker-ap-northeast-2-419974056037/preprocessing-model-30/input/requirements/requirements.txt', 'LocalPath': '/opt/ml/processing/input/requirements', 'S3DataType': 'S3Prefix', 'S3InputMode': 'File', 'S3DataDistributionType': 'FullyReplicated', 'S3CompressionType': 'None'}}, {'InputName': 'code', 'AppManaged': False, 'S3Input': {'S3Uri': 's3://sagemaker-ap-northeast-2-419974056037/preprocessing-model-30/input/code/preprocessing.py', 'LocalPath': '/opt/ml/processing/input/code', 'S3DataType': 'S3Prefix', 'S3InputMode': 'File', 'S3DataDistributionType': 'FullyReplicated', 'S3CompressionType': 'None'}}]), ('ProcessingOutputConfig', {'Outputs': [{'OutputName': 'train_data', 'AppManaged': False, 'S3Output': {'S3Uri': Join(on='/', values=['s3://sagemaker-ap-northeast-2-419974056037', 'train-pipeline-model-30', <sagemaker.workflow.execution_variables.ExecutionVariable object at 0x7f518847a3a0>, 'train_data']), 'LocalPath': '/opt/ml/processing/output/train', 'S3UploadMode': 'EndOfJob'}}, {'OutputName': 'validation_data', 'AppManaged': False, 'S3Output': {'S3Uri': Join(on='/', values=['s3://sagemaker-ap-northeast-2-419974056037', 'train-pipeline-model-30', <sagemaker.workflow.execution_variables.ExecutionVariable object at 0x7f518847a3a0>, 'validation_data']), 'LocalPath': '/opt/ml/processing/output/validation', 'S3UploadMode': 'EndOfJob'}}, {'OutputName': 'test_data', 'AppManaged': False, 'S3Output': {'S3Uri': Join(on='/', values=['s3://sagemaker-ap-northeast-2-419974056037', 'train-pipeline-model-30', <sagemaker.workflow.execution_variables.ExecutionVariable object at 0x7f518847a3a0>, 'test_data']), 'LocalPath': '/opt/ml/processing/output/test', 'S3UploadMode': 'EndOfJob'}}]})])\n",
      "  \n",
      "== Training Step ==\n",
      "   \n",
      "Args:  dict_items([('AlgorithmSpecification', {'TrainingInputMode': 'File', 'TrainingImage': '306986355934.dkr.ecr.ap-northeast-2.amazonaws.com/blazingtext:1'}), ('OutputDataConfig', {'S3OutputPath': Join(on='/', values=['s3://sagemaker-ap-northeast-2-419974056037', 'train-pipeline-model-30'])}), ('StoppingCondition', {'MaxRuntimeInSeconds': 360000}), ('ResourceConfig', {'VolumeSizeInGB': 30, 'InstanceCount': 1, 'InstanceType': 'ml.m5.xlarge'}), ('RoleArn', 'arn:aws:iam::419974056037:role/service-role/AmazonSageMaker-ExecutionRole-20221004T162466'), ('InputDataConfig', [{'DataSource': {'S3DataSource': {'S3DataType': 'S3Prefix', 'S3Uri': <sagemaker.workflow.properties.Properties object at 0x7f518534a610>, 'S3DataDistributionType': 'FullyReplicated'}}, 'ContentType': 'text/csv', 'ChannelName': 'train'}, {'DataSource': {'S3DataSource': {'S3DataType': 'S3Prefix', 'S3Uri': <sagemaker.workflow.properties.Properties object at 0x7f518534a580>, 'S3DataDistributionType': 'FullyReplicated'}}, 'ContentType': 'text/csv', 'ChannelName': 'validation'}]), ('HyperParameters', {'mode': 'supervised', 'epochs': '10', 'min_epochs': '5', 'early_stopping': 'True', 'patience': '2', 'learning_rate': '0.01', 'min_count': '2', 'word_ngrams': '2', 'vector_dim': '16'}), ('DebugHookConfig', {'S3OutputPath': Join(on='/', values=['s3://sagemaker-ap-northeast-2-419974056037', 'train-pipeline-model-30']), 'CollectionConfigurations': []}), ('ProfilerConfig', {'S3OutputPath': Join(on='/', values=['s3://sagemaker-ap-northeast-2-419974056037', 'train-pipeline-model-30']), 'DisableProfiler': False})])\n",
      "  \n",
      "== Evaluation Step ==\n"
     ]
    },
    {
     "name": "stderr",
     "output_type": "stream",
     "text": [
      "INFO:sagemaker.processing:runproc.sh uploaded to s3://sagemaker-ap-northeast-2-419974056037/evaluation/source/runproc.sh\n"
     ]
    },
    {
     "name": "stdout",
     "output_type": "stream",
     "text": [
      "\n",
      "Job Name:  evaluation\n",
      "Inputs:  [{'InputName': 'input-1', 'AppManaged': False, 'S3Input': {'S3Uri': <sagemaker.workflow.properties.Properties object at 0x7f5184c925b0>, 'LocalPath': '/opt/ml/processing/model', 'S3DataType': 'S3Prefix', 'S3InputMode': 'File', 'S3DataDistributionType': 'FullyReplicated', 'S3CompressionType': 'None'}}, {'InputName': 'input-2', 'AppManaged': False, 'S3Input': {'S3Uri': <sagemaker.workflow.properties.Properties object at 0x7f5185095100>, 'LocalPath': '/opt/ml/processing/test', 'S3DataType': 'S3Prefix', 'S3InputMode': 'File', 'S3DataDistributionType': 'FullyReplicated', 'S3CompressionType': 'None'}}, {'InputName': 'code', 'AppManaged': False, 'S3Input': {'S3Uri': 's3://sagemaker-ap-northeast-2-419974056037/evaluation/source/sourcedir.tar.gz', 'LocalPath': '/opt/ml/processing/input/code/', 'S3DataType': 'S3Prefix', 'S3InputMode': 'File', 'S3DataDistributionType': 'FullyReplicated', 'S3CompressionType': 'None'}}, {'InputName': 'entrypoint', 'AppManaged': False, 'S3Input': {'S3Uri': 's3://sagemaker-ap-northeast-2-419974056037/evaluation/source/runproc.sh', 'LocalPath': '/opt/ml/processing/input/entrypoint', 'S3DataType': 'S3Prefix', 'S3InputMode': 'File', 'S3DataDistributionType': 'FullyReplicated', 'S3CompressionType': 'None'}}]\n",
      "Outputs:  [{'OutputName': 'evaluation-metrics', 'AppManaged': False, 'S3Output': {'S3Uri': Join(on='/', values=['s3://sagemaker-ap-northeast-2-419974056037', 'train-pipeline-model-30', <sagemaker.workflow.execution_variables.ExecutionVariable object at 0x7f518847a3a0>, 'evaluation-metrics']), 'LocalPath': '/opt/ml/processing/evaluation', 'S3UploadMode': 'EndOfJob'}}]\n",
      "   \n",
      "Args:  dict_items([('ProcessingResources', {'ClusterConfig': {'InstanceType': 'ml.g4dn.xlarge', 'InstanceCount': 1, 'VolumeSizeInGB': 30}}), ('AppSpecification', {'ImageUri': '763104351884.dkr.ecr.ap-northeast-2.amazonaws.com/tensorflow-training:2.3-gpu-py37', 'ContainerArguments': ['--s3_model_path', <sagemaker.workflow.properties.Properties object at 0x7f5184c925b0>, '--region', 'ap-northeast-2', '--model_name', 'model-30'], 'ContainerEntrypoint': ['/bin/bash', '/opt/ml/processing/input/entrypoint/runproc.sh']}), ('RoleArn', 'arn:aws:iam::419974056037:role/service-role/AmazonSageMaker-ExecutionRole-20221004T162466'), ('ProcessingInputs', [{'InputName': 'input-1', 'AppManaged': False, 'S3Input': {'S3Uri': <sagemaker.workflow.properties.Properties object at 0x7f5184c925b0>, 'LocalPath': '/opt/ml/processing/model', 'S3DataType': 'S3Prefix', 'S3InputMode': 'File', 'S3DataDistributionType': 'FullyReplicated', 'S3CompressionType': 'None'}}, {'InputName': 'input-2', 'AppManaged': False, 'S3Input': {'S3Uri': <sagemaker.workflow.properties.Properties object at 0x7f5185095100>, 'LocalPath': '/opt/ml/processing/test', 'S3DataType': 'S3Prefix', 'S3InputMode': 'File', 'S3DataDistributionType': 'FullyReplicated', 'S3CompressionType': 'None'}}, {'InputName': 'code', 'AppManaged': False, 'S3Input': {'S3Uri': 's3://sagemaker-ap-northeast-2-419974056037/evaluation/source/sourcedir.tar.gz', 'LocalPath': '/opt/ml/processing/input/code/', 'S3DataType': 'S3Prefix', 'S3InputMode': 'File', 'S3DataDistributionType': 'FullyReplicated', 'S3CompressionType': 'None'}}, {'InputName': 'entrypoint', 'AppManaged': False, 'S3Input': {'S3Uri': 's3://sagemaker-ap-northeast-2-419974056037/evaluation/source/runproc.sh', 'LocalPath': '/opt/ml/processing/input/entrypoint', 'S3DataType': 'S3Prefix', 'S3InputMode': 'File', 'S3DataDistributionType': 'FullyReplicated', 'S3CompressionType': 'None'}}]), ('ProcessingOutputConfig', {'Outputs': [{'OutputName': 'evaluation-metrics', 'AppManaged': False, 'S3Output': {'S3Uri': Join(on='/', values=['s3://sagemaker-ap-northeast-2-419974056037', 'train-pipeline-model-30', <sagemaker.workflow.execution_variables.ExecutionVariable object at 0x7f518847a3a0>, 'evaluation-metrics']), 'LocalPath': '/opt/ml/processing/evaluation', 'S3UploadMode': 'EndOfJob'}}]})])\n",
      "  \n",
      "== Registration Step ==\n"
     ]
    },
    {
     "name": "stderr",
     "output_type": "stream",
     "text": [
      "INFO:sagemaker.processing:Uploaded ./sources/ to s3://sagemaker-ap-northeast-2-419974056037/train-pipeline-model-30/code/eabace17c9345271cf901107138b46a8/sourcedir.tar.gz\n",
      "INFO:sagemaker.processing:runproc.sh uploaded to s3://sagemaker-ap-northeast-2-419974056037/train-pipeline-model-30/code/1071dadab36d48ed1fba97e2ff137bdf/runproc.sh\n",
      "WARNING:sagemaker.estimator:No finished training job found associated with this estimator. Please make sure this estimator is only used for building workflow config\n",
      "WARNING:sagemaker.workflow._utils:Popping out 'CertifyForMarketplace' from the pipeline definition since it will be overridden in pipeline execution time.\n"
     ]
    },
    {
     "name": "stdout",
     "output_type": "stream",
     "text": [
      "\n",
      "Job Name:  preprocessing-model-30\n",
      "Inputs:  [{'InputName': 'input-1', 'AppManaged': False, 'S3Input': {'S3Uri': 's3://sm-pipeline-multi-models-datasets/model-30/amazon_reviews_us_Electronics_v1_00.tsv.gz', 'LocalPath': '/opt/ml/processing/input', 'S3DataType': 'S3Prefix', 'S3InputMode': 'File', 'S3DataDistributionType': 'FullyReplicated', 'S3CompressionType': 'None'}}, {'InputName': 'requirements', 'AppManaged': False, 'S3Input': {'S3Uri': 's3://sagemaker-ap-northeast-2-419974056037/preprocessing-model-30/input/requirements/requirements.txt', 'LocalPath': '/opt/ml/processing/input/requirements', 'S3DataType': 'S3Prefix', 'S3InputMode': 'File', 'S3DataDistributionType': 'FullyReplicated', 'S3CompressionType': 'None'}}, {'InputName': 'code', 'AppManaged': False, 'S3Input': {'S3Uri': 's3://sagemaker-ap-northeast-2-419974056037/train-pipeline-model-30/code/2b3c51df48188408561910efa21ddc30/preprocessing.py', 'LocalPath': '/opt/ml/processing/input/code', 'S3DataType': 'S3Prefix', 'S3InputMode': 'File', 'S3DataDistributionType': 'FullyReplicated', 'S3CompressionType': 'None'}}]\n",
      "Outputs:  [{'OutputName': 'train_data', 'AppManaged': False, 'S3Output': {'S3Uri': Join(on='/', values=['s3://sagemaker-ap-northeast-2-419974056037', 'train-pipeline-model-30', <sagemaker.workflow.execution_variables.ExecutionVariable object at 0x7f518847a3a0>, 'train_data']), 'LocalPath': '/opt/ml/processing/output/train', 'S3UploadMode': 'EndOfJob'}}, {'OutputName': 'validation_data', 'AppManaged': False, 'S3Output': {'S3Uri': Join(on='/', values=['s3://sagemaker-ap-northeast-2-419974056037', 'train-pipeline-model-30', <sagemaker.workflow.execution_variables.ExecutionVariable object at 0x7f518847a3a0>, 'validation_data']), 'LocalPath': '/opt/ml/processing/output/validation', 'S3UploadMode': 'EndOfJob'}}, {'OutputName': 'test_data', 'AppManaged': False, 'S3Output': {'S3Uri': Join(on='/', values=['s3://sagemaker-ap-northeast-2-419974056037', 'train-pipeline-model-30', <sagemaker.workflow.execution_variables.ExecutionVariable object at 0x7f518847a3a0>, 'test_data']), 'LocalPath': '/opt/ml/processing/output/test', 'S3UploadMode': 'EndOfJob'}}]\n",
      "\n",
      "Job Name:  evaluation\n",
      "Inputs:  [{'InputName': 'input-1', 'AppManaged': False, 'S3Input': {'S3Uri': <sagemaker.workflow.properties.Properties object at 0x7f5184c925b0>, 'LocalPath': '/opt/ml/processing/model', 'S3DataType': 'S3Prefix', 'S3InputMode': 'File', 'S3DataDistributionType': 'FullyReplicated', 'S3CompressionType': 'None'}}, {'InputName': 'input-2', 'AppManaged': False, 'S3Input': {'S3Uri': <sagemaker.workflow.properties.Properties object at 0x7f5185095100>, 'LocalPath': '/opt/ml/processing/test', 'S3DataType': 'S3Prefix', 'S3InputMode': 'File', 'S3DataDistributionType': 'FullyReplicated', 'S3CompressionType': 'None'}}, {'InputName': 'code', 'AppManaged': False, 'S3Input': {'S3Uri': 's3://sagemaker-ap-northeast-2-419974056037/train-pipeline-model-30/code/eabace17c9345271cf901107138b46a8/sourcedir.tar.gz', 'LocalPath': '/opt/ml/processing/input/code/', 'S3DataType': 'S3Prefix', 'S3InputMode': 'File', 'S3DataDistributionType': 'FullyReplicated', 'S3CompressionType': 'None'}}, {'InputName': 'entrypoint', 'AppManaged': False, 'S3Input': {'S3Uri': 's3://sagemaker-ap-northeast-2-419974056037/train-pipeline-model-30/code/1071dadab36d48ed1fba97e2ff137bdf/runproc.sh', 'LocalPath': '/opt/ml/processing/input/entrypoint', 'S3DataType': 'S3Prefix', 'S3InputMode': 'File', 'S3DataDistributionType': 'FullyReplicated', 'S3CompressionType': 'None'}}]\n",
      "Outputs:  [{'OutputName': 'evaluation-metrics', 'AppManaged': False, 'S3Output': {'S3Uri': Join(on='/', values=['s3://sagemaker-ap-northeast-2-419974056037', 'train-pipeline-model-30', <sagemaker.workflow.execution_variables.ExecutionVariable object at 0x7f518847a3a0>, 'evaluation-metrics']), 'LocalPath': '/opt/ml/processing/evaluation', 'S3UploadMode': 'EndOfJob'}}]\n",
      "  \n",
      "== PipeLine Execution info.==\n",
      "{'PipelineArn': 'arn:aws:sagemaker:ap-northeast-2:419974056037:pipeline/train-pipeline-model-30', 'PipelineExecutionArn': 'arn:aws:sagemaker:ap-northeast-2:419974056037:pipeline/train-pipeline-model-30/execution/uzlamz5ejdzw', 'PipelineExecutionDisplayName': 'execution-1674699128304', 'PipelineExecutionStatus': 'Executing', 'CreationTime': datetime.datetime(2023, 1, 26, 2, 12, 8, 193000, tzinfo=tzlocal()), 'LastModifiedTime': datetime.datetime(2023, 1, 26, 2, 12, 8, 193000, tzinfo=tzlocal()), 'CreatedBy': {}, 'LastModifiedBy': {}, 'ResponseMetadata': {'RequestId': '29ac9d59-09c1-4237-b7b9-b587a5950a59', 'HTTPStatusCode': 200, 'HTTPHeaders': {'x-amzn-requestid': '29ac9d59-09c1-4237-b7b9-b587a5950a59', 'content-type': 'application/x-amz-json-1.1', 'content-length': '421', 'date': 'Thu, 26 Jan 2023 02:12:07 GMT'}, 'RetryAttempts': 0}}\n",
      "========================== \n",
      "\n"
     ]
    }
   ],
   "source": [
    "for nModelIdx in range(nModels):\n",
    "    strModelName = f\"model-{nModelIdx+1}\"\n",
    "    pipe = train_pipeline(model_name=strModelName)\n",
    "    pipe.execution()"
   ]
  },
  {
   "cell_type": "markdown",
   "id": "ee54649c-981a-434a-80f7-a24b3f7f30fb",
   "metadata": {},
   "source": [
    "## Appendix - model card"
   ]
  },
  {
   "cell_type": "markdown",
   "id": "b684c335-2248-4ba5-83bf-15b52ba42b76",
   "metadata": {},
   "source": [
    "sagemaker model card\n",
    "* https://aws.amazon.com/ko/blogs/machine-learning/improve-governance-of-your-machine-learning-models-with-amazon-sagemaker/\n",
    "* deep dive: https://aws.amazon.com/ko/blogs/aws/new-ml-governance-tools-for-amazon-sagemaker-simplify-access-control-and-enhance-transparency-over-your-ml-projects/\n",
    "* https://docs.aws.amazon.com/sagemaker/latest/dg/model-cards-sdk.html\n",
    "* https://sagemaker.readthedocs.io/en/stable/api/governance/model_card.html\n",
    "* example: https://sagemaker-examples.readthedocs.io/en/latest/sagemaker_model_governance/model_card.html\n",
    "\n",
    "pip install sagemaker --upgrade 해주기"
   ]
  }
 ],
 "metadata": {
  "kernelspec": {
   "display_name": "conda_python3",
   "language": "python",
   "name": "conda_python3"
  },
  "language_info": {
   "codemirror_mode": {
    "name": "ipython",
    "version": 3
   },
   "file_extension": ".py",
   "mimetype": "text/x-python",
   "name": "python",
   "nbconvert_exporter": "python",
   "pygments_lexer": "ipython3",
   "version": "3.8.12"
  }
 },
 "nbformat": 4,
 "nbformat_minor": 5
}
